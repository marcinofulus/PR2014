{
 "cells": [
  {
   "cell_type": "markdown",
   "metadata": {},
   "source": [
    "# Projekty zaliczeniowe 2014\n",
    "\n",
    "## MPI\n",
    "\n",
    "- całkowanie 1d\n",
    "- równanie dyfuzji 1d\n",
    "- $\\pi$ metodą Monte Carlo\n",
    "- zbiór Julii\n",
    "\n",
    "## CUDA\n",
    "\n",
    " 1. Całkowanie funkcji z wykorzystaniem równoległej redukcji\n",
    "    \n",
    "    Mamy daną funkcje wzorem analitycznym. Program powinien przeprowadzić próbkowanie funkcji z podziałem pracy 1 wątek = 1 punkt oraz wykonać odpowiednią sumę stosując równoległą redukcję na CUDA.\n",
    " \n",
    " 2. Równanie falowe w 1d. \n",
    "    \n",
    "    Napisać program rozwiązujący równanie falowe w 1d na GPU. Niech 1 pkt siatki będzie obliczany przez 1 wątek.\n",
    " \n",
    " 3. Równanie falowe w 2d\n",
    " \n",
    "    Napisać program rozwiązujący równanie falowe w 2d na GPU. Niech 1 pkt siatki będzie obliczany przez 1 wątek. Zaimplementować różne warunki brzegowe.\n",
    "    \n",
    " 4. Zaimplementować wersję kernel'a `logistic_iterations` z iCSE_PR_Rownanie_Logistyczne, która zamiast tablicy wartości parametru pobiera, podobnie jak `np.linspace` $a_1,a_2$ oraz liczbę punktów i w zależności od wartości `idx` oblicza iteracje dla innego parametru $a$. Porównać wydajność obliczeniową obu kerneli. \n",
    " \n",
    "### Jupyter, wizualizacja\n",
    "\n",
    "Wykorzystując przykłady z Interactive Widgets (katalog examples), napisać prosty interact rysujący diagram bifurkacyjny w zależności od $a_1$ $a_2$ i liczby iteracji.\n",
    "\n",
    " \n",
    "  \n",
    "  "
   ]
  },
  {
   "cell_type": "code",
   "execution_count": null,
   "metadata": {
    "collapsed": false
   },
   "outputs": [],
   "source": []
  },
  {
   "cell_type": "code",
   "execution_count": null,
   "metadata": {
    "collapsed": false
   },
   "outputs": [],
   "source": []
  }
 ],
 "metadata": {
  "kernelspec": {
   "display_name": "Python 3",
   "language": "python",
   "name": "python3"
  },
  "language_info": {
   "codemirror_mode": {
    "name": "ipython",
    "version": 3
   },
   "file_extension": ".py",
   "mimetype": "text/x-python",
   "name": "python",
   "nbconvert_exporter": "python",
   "pygments_lexer": "ipython3",
   "version": "3.5.2"
  }
 },
 "nbformat": 4,
 "nbformat_minor": 0
}
