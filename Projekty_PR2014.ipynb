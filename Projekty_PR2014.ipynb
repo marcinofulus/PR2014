{
 "metadata": {
  "name": "",
  "signature": "sha256:327675c3dd36892ce9413797840be7a41561be1f3f091e4774534afb6ae3b74c"
 },
 "nbformat": 3,
 "nbformat_minor": 0,
 "worksheets": [
  {
   "cells": [
    {
     "cell_type": "markdown",
     "metadata": {},
     "source": [
      "# Projekty zaliczeniowe 2014\n",
      "\n",
      "## MPI\n",
      "\n",
      "- ca\u0142kowanie 1d\n",
      "- r\u00f3wnanie dyfuzji 1d\n",
      "- $\\pi$ metod\u0105 Monte Carlo\n",
      "- zbi\u00f3r Julii\n",
      "\n",
      "## CUDA\n",
      "\n",
      " 1. Ca\u0142kowanie funkcji z wykorzystaniem r\u00f3wnoleg\u0142ej redukcji\n",
      "    \n",
      "    Mamy dan\u0105 funkcje wzorem analitycznym. Program powinien przeprowadzi\u0107 pr\u00f3bkowanie funkcji z podzia\u0142em pracy 1 w\u0105tek = 1 punkt oraz wykona\u0107 odpowiedni\u0105 sum\u0119 stosuj\u0105c r\u00f3wnoleg\u0142\u0105 redukcj\u0119 na CUDA.\n",
      "    \n",
      " 2. R\u00f3wnanie falowe w 1d. \n",
      "    \n",
      "    Napisa\u0107 program rozwi\u0105zuj\u0105cy r\u00f3wnanie falowe w 1d na GPU. Niech 1 pkt siatki b\u0119dzie obliczany przez 1 w\u0105tek.\n",
      " \n",
      " 3. R\u00f3wnanie falowe w 2d\n",
      " \n",
      "    Napisa\u0107 program rozwi\u0105zuj\u0105cy r\u00f3wnanie falowe w 2d na GPU. Niech 1 pkt siatki b\u0119dzie obliczany przez 1 w\u0105tek. Zaimplementowa\u0107 r\u00f3\u017cne warunki brzegowe.\n",
      " \n",
      "  \n",
      "  "
     ]
    },
    {
     "cell_type": "code",
     "collapsed": false,
     "input": [],
     "language": "python",
     "metadata": {},
     "outputs": []
    },
    {
     "cell_type": "code",
     "collapsed": false,
     "input": [],
     "language": "python",
     "metadata": {},
     "outputs": []
    }
   ],
   "metadata": {}
  }
 ]
}