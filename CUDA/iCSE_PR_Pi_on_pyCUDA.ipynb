{
 "metadata": {
  "name": "",
  "signature": "sha256:621098ea6b61734d9b3cd71f0a4ac446319ea19e99d643b77c647ce0d4cdac78"
 },
 "nbformat": 3,
 "nbformat_minor": 0,
 "worksheets": [
  {
   "cells": [
    {
     "cell_type": "markdown",
     "metadata": {},
     "source": [
      "# Obliczamy $\\pi$ metod\u0105 Monte-Carlo w CUDA.\n",
      "\n",
      "Pierwszy program wykorzystuj\u0105cy CUDA, b\u0119dzie oblicza\u0142 $\\pi$ metod\u0105 statystyczn\u0105. \n",
      "\n",
      "Opis metody\n",
      "-----------\n",
      "\n",
      "Jedn\u0105 z metod obliczania przybli\u017conej warto\u015bci liczby $\\pi$ jest metoda polegaj\u0105ca na pomiarze prawdopodobie\u0144stwa trafiena o obszar, b\u0119d\u0105cy ko\u0142em. \n",
      "Za\u0142\u00f3\u017cmy, \u017ce mamy mo\u017cliwo\u015b\u0107 wylosowania z rozk\u0142adem jednostajnym punktu w kwadracie o jednostkowym boku. Je\u017celi teraz zliczymy ilo\u015bc punkt\u00f3w zawartych w dowolnej figurze wewn\u0105trz tego kwadratu, to liczba ta b\u0119dzie proporcjonalna do powierzfchni tej figury. Zastosujmy t\u0105 obserwacj\u0119 do ko\u0142a o promieniu $r = \\frac{1}{2}$ wpisanego w nasz kwadrat. Powierznia takiego ko\u0142a wynosi $P=\\pi r^2 = \\frac{\\pi}{4}$. Obliczaj\u0105c wi\u0119c stosunek liczby punkt\u00f3w zawartych w tym kole do wszystkich punkt\u00f3w otrzymamy $\\frac{\\pi}{4}$. \n",
      "\n",
      "0. Kiepska metoda obliczania $\\pi$\n",
      "1. U\u017cycie curand oraz r\u00f3wnoleg\u0142ej redukcji w pycuda\n",
      "2. Ile czasu zajmuje posumowanie 4GB RAM ;-)"
     ]
    },
    {
     "cell_type": "markdown",
     "metadata": {},
     "source": [
      "## Implementacja\n",
      "\n",
      "\n",
      "Wykorzystamy bibliotek\u0119 pyCUDA  w w szczeg\u00f3lnosci funkcjonalno\u015b\u0107 gpuarray. Ponadto b\u0119dziemy korzysta\u0107 z wbudowanych generator\u00f3w liczb losowych. \n",
      "\n",
      "Wykorzystanie gpuarray nie wymaga zbyt obszernej wiedzy o architekturze CUDA. Nie b\u0119dziemy musieli pisa\u0107 w\u0142asnego \"kernela\". Pomino tego gpuaray oferuje niezwykle du\u017co mo\u017cliwo\u015bci, kt\u00f3re mog\u0105 by\u0107 przydatne do rozwi\u0105zywania problem\u00f3w napotkanych w naukach \u015bcis\u0142ych lub in\u017cynierii.\n",
      "\n",
      "### Redukcja r\u00f3wnoleg\u0142a\n",
      "\n",
      "\n",
      "Wysumowanie warto\u015bci w wektorze wykonane z wykorzystaniem procesora r\u00f3wnoleglego jest zwane problemem redukcji r\u00f3wnoleg\u0142ej. Efektywna implementacja redukcji r\u00f3wnoleg\u0142ej na CUDA wymaga mistrzowskiej znajomo\u015bci architektury. Naiwne implementacje z regu\u0142y zani\u017caj\u0105potencjaln\u0105 wydajno\u015b\u0107 kilka lub kilkadziesi\u0105t razy. W bibliotece pycuda mamy zaimplementowany szablo j\u0105dra redukcji, kt\u00f3ry mo\u017cemy wykorzyta\u0107, nie wnikaj\u0105c w szczeg\u00f3\u0142y jego implementacji. \n",
      "\n",
      "### Struktura programu\n",
      "\n",
      "\n",
      "Nasz program b\u0119dzie sk\u0142ada\u0142 si\u0119 z nast\u0119puj\u0105cych element\u00f3w:\n",
      "\n",
      "1. Zainicjalizujemy kontekst na wybranym urz\u0105dzeniu\n",
      "2. Definiujemy j\u0105dro redukcji z szablonu w pyCUDA. Operatorem redukcji b\u0119dzie suma, a przed wykonaniem operacji wywolujemy funkcj\u0119 kt\u00f3ra daje jedynk\u0119 jesli punkt nale\u017cy do naszego ko\u0142a\n",
      "3. Generujemy losowe liczby z przedzia\u0142u $(0,1)$ bezpo\u015brednio w pami\u0119ci urz\u0105dzenia.\n",
      "4. Wykonujemy j\u0105dro na liczbach losowych i dzielimy otrzyman\u0105 warto\u015b\u0107 przez $4$. Powinni\u015bmy otrzyma\u0107  przybli\u017con\u0105 warto\u015b\u0107 $\\pi$."
     ]
    },
    {
     "cell_type": "markdown",
     "metadata": {},
     "source": [
      "## Co jest ciekawego w tym algorytmie?\n",
      "\n",
      "Nale\u017ce podkre\u015bli\u0107, \u017ce taka metoda obliczania liczby $\\pi$ jest wyj\u0105tkowo kiepska. Dlateczogo wi\u0119c chcemy ja zaimplementowa\u0107 i to do tego na GPU?\n",
      "\n",
      "Poni\u017csza implementacja ma nast\u0119puj\u0105ce walory dydaktyczne:\n",
      "\n",
      "1. Pokazuje naocznie jak szybko przebiegaj\u0105 operacje - np. zape\u0142nienia 1GB pami\u0119ci liczbami losowymi\n",
      "2. Korzysta z kernela redukcji r\u00f3wnoleg\u0142ej. Jest to niezwykle po\u017cyteczny kernel. Warto zauwa\u017cy\u0107, \u017ce wykonuje on *de facto* operacje identyczn\u0105 do tej, kt\u00f3ra wyst\u0119puje w ca\u0142kowanie numerycznym - czyli liczeniu kwadratury. Innymi s\u0142owy mamy szablon programu ca\u0142kuj\u0105cego!\n"
     ]
    },
    {
     "cell_type": "markdown",
     "metadata": {},
     "source": [
      "## Inicjalizacja"
     ]
    },
    {
     "cell_type": "code",
     "collapsed": false,
     "input": [
      "import pycuda.gpuarray as gpuarray\n",
      "\n",
      "import numpy\n",
      "from pycuda.curandom import rand as curand\n",
      "from pycuda.compiler import SourceModule\n",
      "import pycuda.driver as cuda\n",
      "\n",
      "try:\n",
      "    ctx.pop()\n",
      "    ctx.detach()\n",
      "except:\n",
      "\n",
      "    print \"No CTX!\"\n",
      "\n",
      "cuda.init()\n",
      "device = cuda.Device(0)\n",
      "ctx = device.make_context()\n",
      "print device.name(), device.compute_capability(),device.total_memory()/1024.**3,\"GB\"\n",
      "print \"W systemie mamy :\",cuda.Device.count(), \" urz\u0105dzenia\"\n"
     ],
     "language": "python",
     "metadata": {},
     "outputs": []
    },
    {
     "cell_type": "markdown",
     "metadata": {},
     "source": [
      "# J\u0105dro redukcji\n",
      "\n",
      "Kod operacji wykonanej na ka\u017cdej parze liczb przed redukcj\u0105:\n",
      "\n",
      "    signbit( (powf(x[i]-0.5f,2.0f)+powf(y[i]-0.5f,2.0f))-0.25f )\n",
      "    \n",
      "Zauwa\u017cmy:\n",
      "\n",
      "1. U\u017cywamy funkcji i zmiennych o pojedy\u0144czej precyzji\n",
      "2. Funkcja signbit zwraca znak wyra\u017cenia jako liczb\u0119 ca\u0142kowit\u0105\n",
      "\n",
      "\n"
     ]
    },
    {
     "cell_type": "code",
     "collapsed": false,
     "input": [
      "from pycuda.reduction import ReductionKernel\n",
      "\n",
      "krnl = ReductionKernel(numpy.dtype(numpy.int32), neutral=\"0\",\n",
      "        reduce_expr=\"a+b\", \n",
      "        map_expr=\"signbit( (powf(x[i]-0.5f,2.0f)+powf(y[i]-0.5f,2.0f))-0.25f )\",\n",
      "        arguments=\"float *x, float *y\")"
     ],
     "language": "python",
     "metadata": {},
     "outputs": []
    },
    {
     "cell_type": "markdown",
     "metadata": {},
     "source": [
      "# Generacja liczb losowych na urz\u0105dzeniu\n",
      "\n",
      "Funkcja curand pozwala nam skorzysta\u0107 z wbudowanego generatora liczb losowych w CUDA. Mo\u017cemy z jej pomoc\u0105 zape\u0142ni\u0107 ca\u0142\u0105 pami\u0119\u0107 liczbami losowymi z przedzia\u0142u $(0,1)$. Sprawd\u017amy najpiew ile mamy na GPU pami\u0119ci:"
     ]
    },
    {
     "cell_type": "code",
     "collapsed": false,
     "input": [
      "(free,total)=cuda.mem_get_info()\n",
      "free,total"
     ],
     "language": "python",
     "metadata": {},
     "outputs": []
    },
    {
     "cell_type": "markdown",
     "metadata": {},
     "source": [
      "Poniewa\u017c chcemy zapisywa\u0107 liczny w pojedynczej prezycji, to mamy mo\u017cliwo\u015b\u0107 zaalokowania pami\u0119ci na: "
     ]
    },
    {
     "cell_type": "code",
     "collapsed": false,
     "input": [
      "free/4"
     ],
     "language": "python",
     "metadata": {},
     "outputs": []
    },
    {
     "cell_type": "markdown",
     "metadata": {},
     "source": [
      "liczb 4 bajtowych."
     ]
    },
    {
     "cell_type": "code",
     "collapsed": false,
     "input": [
      "%%time \n",
      "print cuda.mem_get_info()[0]/1024**2\n",
      "N = 10000000\n",
      "a = curand((N/2,))\n",
      "b = curand((N/2,))\n",
      "ctx.synchronize()\n",
      "print cuda.mem_get_info()[0]/1024**2"
     ],
     "language": "python",
     "metadata": {},
     "outputs": []
    },
    {
     "cell_type": "markdown",
     "metadata": {},
     "source": [
      "### Zadanie\n",
      "\n",
      "Poeksperymentuj ze zwalnianiem pami\u0119ci wykonuj\u0105c np. takie operacje:\n",
      "\n",
      "    del a\n",
      "    print cuda.mem_get_info()[0]/1024**2\n",
      "    del b\n",
      "    print cuda.mem_get_info()[0]/1024**2"
     ]
    },
    {
     "cell_type": "code",
     "collapsed": false,
     "input": [
      "%%time \n",
      "for i in range(10):\n",
      "    a1= a.get()"
     ],
     "language": "python",
     "metadata": {},
     "outputs": []
    },
    {
     "cell_type": "code",
     "collapsed": false,
     "input": [
      "cuda.mem_get_info()[0]/1024.**3"
     ],
     "language": "python",
     "metadata": {},
     "outputs": []
    },
    {
     "cell_type": "code",
     "collapsed": false,
     "input": [
      "%%time \n",
      "pole = float(krnl(a, b).get())/(N/2)\n",
      "ctx.synchronize()\n",
      "\n",
      "print \"OK\""
     ],
     "language": "python",
     "metadata": {},
     "outputs": []
    },
    {
     "cell_type": "code",
     "collapsed": false,
     "input": [
      "print 4*pole,\"Pi z %d milion\u00f3w losowa\u0144!\"%(N/2/1e6)\n",
      "print np.pi"
     ],
     "language": "python",
     "metadata": {},
     "outputs": []
    },
    {
     "cell_type": "code",
     "collapsed": false,
     "input": [],
     "language": "python",
     "metadata": {},
     "outputs": []
    },
    {
     "cell_type": "code",
     "collapsed": false,
     "input": [
      "try:\n",
      "    ctx.pop()\n",
      "    ctx.detach()\n",
      "    print \"OK!\"\n",
      "except:\n",
      "    print \"No CTX!\"\n"
     ],
     "language": "python",
     "metadata": {},
     "outputs": []
    },
    {
     "cell_type": "markdown",
     "metadata": {},
     "source": [
      "## Wykres \n",
      "\n",
      "*... warto uwa\u017ca\u0107 ile punkt\u00f3w si\u0119 rysuje...*"
     ]
    },
    {
     "cell_type": "code",
     "collapsed": false,
     "input": [
      "x,y = a.get()[::10000],b.get()[::10000]\n",
      "plot(x,y,'.')\n",
      "c = (x-0.5)**2+(y-0.5)**2<0.25\n",
      "plot(x[c],y[c],'.')\n",
      "    "
     ],
     "language": "python",
     "metadata": {},
     "outputs": []
    },
    {
     "cell_type": "code",
     "collapsed": false,
     "input": [],
     "language": "python",
     "metadata": {},
     "outputs": []
    },
    {
     "cell_type": "markdown",
     "metadata": {},
     "source": [
      "## CPU\n",
      "\n",
      "Aby si\u0119 przekona\u0107, czy GPU rzeczywi\u015bcie wykona\u0142 powy\u017csze operacje szybciej ni\u017c CPU, sprawd\u017amy jak szybko wykona si\u0119 kod skompilowany przez cythona. Cython daje wyniki nie gorsze od czystego \"C\"."
     ]
    },
    {
     "cell_type": "code",
     "collapsed": false,
     "input": [
      "%load_ext cythonmagic"
     ],
     "language": "python",
     "metadata": {},
     "outputs": []
    },
    {
     "cell_type": "code",
     "collapsed": false,
     "input": [
      "%%cython\n",
      "\n",
      "cdef extern from \"stdlib.h\":\n",
      "    int RAND_MAX\n",
      "\n",
      "from libc.stdlib cimport rand\n",
      "from libc.math cimport pow\n",
      "\n",
      "def cpu_rand():\n",
      "\n",
      "    cdef double a,b\n",
      "    cdef long n=0\n",
      "    for i in range(5000000):\n",
      "        a = float(rand())/RAND_MAX\n",
      "        b = float(rand())/RAND_MAX\n",
      "        if pow(a-0.5,2.0)+pow(b-0.5,2.0)-0.25<0:\n",
      "            n=n+1\n",
      "            \n",
      "    return n"
     ],
     "language": "python",
     "metadata": {},
     "outputs": []
    },
    {
     "cell_type": "code",
     "collapsed": false,
     "input": [
      "%%time \n",
      "cpu_rand()"
     ],
     "language": "python",
     "metadata": {},
     "outputs": []
    },
    {
     "cell_type": "markdown",
     "metadata": {},
     "source": [
      "Mamy wi\u0119c ok 30s na CPU i ok 300ms na GPU - czyli ok 100x !\n",
      "Nale\u017cy jednak zauwa\u017cy\u0107, \u017ce na GPU wykonywali\u015bmy alokacj\u0119 wszystkich liczb w pami\u0119ci a potem ich r\u00f3wnoleg\u0142\u0105 redukcj\u0119. Jest to niezbyt optymalne i mo\u017cna by si\u0119 spodziewa\u0107 dalszego wzrostu wzgl\u0119dnej wydajno\u015bci jesli by por\u00f3wnywa\u0107 dok\u0142adnie te same algorytmy.\n",
      "\n",
      "Zobaczmy jeszcze czy na CPU $\\pi=3.14$:"
     ]
    },
    {
     "cell_type": "code",
     "collapsed": false,
     "input": [
      "628317563/800000000.*4"
     ],
     "language": "python",
     "metadata": {},
     "outputs": []
    },
    {
     "cell_type": "markdown",
     "metadata": {},
     "source": [
      "## Zadania\n",
      "\n",
      "### Szybsze obliczanie $\\pi$ na GPU\n",
      "\n",
      "Czy mo\u017cna zmodyfikowa\u0107 algorytm tak by obicza\u0142 $\\pi$ jeszcze szybciej? (oczywi\u015bcie t\u0105 sam\u0105 metod\u0105). Mo\u017ce warto by z pomoc\u0105 jednego w\u0105tku generowa\u0107 nie jedn\u0105 liczb\u0119 losow\u0105 ale np 10, lub 100 i oblicza\u0107 sum\u0119 cz\u0119\u015bciow\u0105?\n",
      "\n",
      "### Algorytm na CPU z alokacj\u0105 pami\u0119ci.\n",
      "\n",
      "Wykona\u0107 identyczny funkcjonalnie algorytm na CPU. U\u017cy\u0107 C/C++ lub cythona."
     ]
    },
    {
     "cell_type": "code",
     "collapsed": false,
     "input": [],
     "language": "python",
     "metadata": {},
     "outputs": []
    }
   ],
   "metadata": {}
  }
 ]
}