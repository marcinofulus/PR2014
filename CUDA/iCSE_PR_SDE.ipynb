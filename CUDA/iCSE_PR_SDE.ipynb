{
 "metadata": {
  "name": "",
  "signature": "sha256:a1b7db7d16b55cf009b9d10f95d2480474f377ba5f169d7b8d67e012051e7a8e"
 },
 "nbformat": 3,
 "nbformat_minor": 0,
 "worksheets": [
  {
   "cells": [
    {
     "cell_type": "markdown",
     "metadata": {},
     "source": [
      "# Rozwi\u0105zywanie stochastycznych r\u00f3wna\u0144 r\u00f3\u017cniczkowych z CUDA\n",
      "\n",
      "R\u00f3wnania stochastyczne s\u0105 niezwykle po\u017cytecznym narz\u0119dziem w modelowaniu zar\u00f3wno proces\u00f3w fizycznych, biolgicznych czy chemicznych a nawet ekonomicznych (wycena instrument\u00f3w pochodnych).\n",
      "\n",
      "Klasycznym przyk\u0142adem problemu z jakim si\u0119 spotykami przy numerycznym rozwi\u0105zywaniu r\u00f3wna\u0144 stochastycznych jest konieczno\u015b\u0107 u\u015brednienia po wielu niezale\u017cnych od siebie realizacjach procesu losowego. M\u00f3wi\u0105c wprost musimy rozwi\u0105za\u0107 numerycznie wiele razy to samo r\u00f3wnanie r\u00f3\u017cniczkowe, za ka\u017cdym razem zmieniaj\u0105c \"seed\" generatora liczb losowych. Jest to idealny problem dla urz\u0105dzenia GPU, gdzie generacja niezale\u017cnych trajektorii wielu kopii tego samego uk\u0142adu jest w stanie wykorzysta\u0107 maksymalnie jego mo\u017cliwo\u015bci obliczeniowe.\n",
      "\n",
      "Poni\u017cej przedstawiamy implementacj\u0119 algorytmu, wg. pierwszego przyk\u0142adu z pracy: http://arxiv.org/abs/0903.3852 \n",
      "\n",
      "R\u00f3\u017anic\u0105 b\u0119dzie skorzystanie z pycuda, zamiast C. Co ciekawe, taka modyfikacja jest w stanie przy\u015bpieszy\u0107 kernel obliczniowe o ok 25%. Spowodowane jest to zastosowaniem metoprogramowania. Pewne parametry, kt\u00f3re nie zmieniaj\u0105 si\u0119 podczas wykonywania kodu s\u0105 \"klejane\" do \u017ar\u00f3d\u0142a jako konkrente warto\u015bci liczbowe, co u\u0142atwia kompilatorowi `nvcc` optymalizacje.\n",
      "\n",
      "W tym przyk\u0142adzie wykorzystamy w\u0142asny generator liczb losowych i transformacj\u0119 Boxa-Mullera (zamiast np. curand). \n",
      "\n",
      "Przyk\u0142ad ten mo\u017ce by\u0107 z \u0142atwo\u015bci\u0105 zmodyfikowany na dowolny uk\u0142ad SDE, dlatego mo\u017cna do traktowa\u0107 jako szablon dla w\u0142asnych zagadnie\u0144.\n",
      "\n"
     ]
    },
    {
     "cell_type": "markdown",
     "metadata": {},
     "source": [
      "## Struktura programu\n",
      "\n",
      "### Szablony \n",
      "\n",
      "Niezwykle pomocne w programowaniu w pycuda jest zastosowanie metaprogramowania - to jest - piszemy program pisz\u0105cy nasz kernel. Tutaj mamy najprostszy wariant, po prostu pewne parametry r\u00f3wna\u0144, wpisujemy automatycznie do tekstu j\u0105dra. W pythonie jest przydatne formatowanie \"string\u00f3w\" np.:\n",
      "\n",
      "\n"
     ]
    },
    {
     "cell_type": "code",
     "collapsed": false,
     "input": [
      "print '%(language)04d a nawiasy {} ' % {\"language\": 1234, \"number\": 2}"
     ],
     "language": "python",
     "metadata": {},
     "outputs": [
      {
       "output_type": "stream",
       "stream": "stdout",
       "text": [
        "1234 a nawiasy {} \n"
       ]
      }
     ],
     "prompt_number": 6
    },
    {
     "cell_type": "markdown",
     "metadata": {},
     "source": [
      "lub:"
     ]
    },
    {
     "cell_type": "code",
     "collapsed": false,
     "input": [
      "print '{zmienna} a nawiasy: {{}}'.format( **{\"zmienna\": 123} )"
     ],
     "language": "python",
     "metadata": {},
     "outputs": [
      {
       "output_type": "stream",
       "stream": "stdout",
       "text": [
        "123 a nawiasy: {}\n"
       ]
      }
     ],
     "prompt_number": 4
    },
    {
     "cell_type": "markdown",
     "metadata": {},
     "source": [
      "W pewnych bardziej zaawansowanych przypadkach, mo\u017cna zastosowa\u0107 system szablon\u00f3w np. mako templates (w projekcie http://sailfish.us.edu.pl). \n"
     ]
    },
    {
     "cell_type": "markdown",
     "metadata": {},
     "source": [
      "### Struktura kernela\n",
      "\n",
      "J\u0105dro:\n",
      "\n",
      "    __global__ void SDE(float *cx,float *cv,unsigned int *rng_state, float ct)\n",
      "\n",
      "jest funkcj\u0105 CUDA typu `__global__`, jako parametry przyjmuje tablice `cx` i `cv`, b\u0119d\u0105ce zmiennymi stanu uk\u0142adu dw\u00f3ch r\u00f3wna\u0144 r\u00f3\u017cniczkowch:\n",
      "\n",
      "$$ \\dot x = v$$\n",
      "$$ \\dot v = -2\\pi \\cos(2.0\\pi x) + A \\cos(\\omega t) + F - \\gamma v$$\n",
      "\n",
      "Ponadto w wywo\u0142aniu przekazujemy czas (przez warto\u015b\u0107) oraz wska\u017anik do stanu generatora liczb losowych na GPU.\n",
      "\n",
      "Funkje dost\u0119pne dla j\u0105dra z GPU to:\n",
      "\n",
      "generator liczb losowych o rozk\u0142adzie jednostajnym:\n",
      "\n",
      "     __device__ float rng_uni(unsigned int *state)\n",
      "\n",
      "transformacja Boxa-Mullera:\n",
      "\n",
      "     __device__ void bm_trans(float& u1, float& u2)\n",
      "\n",
      "i wreszczcie funkcja obliczaj\u0105ca prawe strony uk\u0142adu r\u00f3wna\u0144:\n",
      "\n",
      "     __device__ inline void diffEq(float &nx, float &nv, float x, float v, float t)\n",
      "\n",
      "\n",
      "Zauwa\u017cmy, \u017ce dla poprawienia wydajno\u015bci, ka\u017cde wywo\u0142anie kernela, powoduje wielokrotne (okre\u015blone przez parametr `spp`) wykonanie p\u0119tli iteracyjnej. \n",
      "\n",
      "\n"
     ]
    },
    {
     "cell_type": "code",
     "collapsed": false,
     "input": [
      "import pycuda.gpuarray as gpuarray\n",
      "\n",
      "import numpy\n",
      "from pycuda.curandom import rand as curand\n",
      "from pycuda.compiler import SourceModule\n",
      "import pycuda.driver as cuda\n",
      "\n",
      "\n",
      "cuda.init()\n",
      "device = cuda.Device(0)\n",
      "ctx = device.make_context()\n",
      "print device.name(), device.compute_capability(),device.total_memory()/1024.**3,\"GB\"\n",
      "\n",
      "\n",
      "blocks = 2**11\n",
      "block_size = 2**8\n",
      "N = blocks*block_size\n",
      "\n",
      "omega = 4.9\n",
      "spp = 100\n",
      "dt = 2.0*np.pi/omega/spp\n",
      "pars = {'samples':spp,'N':N,'dt':dt,'gam':0.9,'d0':0.001,'omega':omega,'force':0.1,'amp':4.2}\n",
      "\n",
      "rng_src = \"\"\"\n",
      "#define PI 3.14159265358979f\n",
      "/*\n",
      " * Return a uniformly distributed random number from the\n",
      " * [0;1] range.\n",
      " */\n",
      "__device__ float rng_uni(unsigned int *state)\n",
      "{\n",
      "\tunsigned int x = *state;\n",
      "\n",
      "\tx = x ^ (x >> 13);\n",
      "\tx = x ^ (x << 17);\n",
      "\tx = x ^ (x >> 5);\n",
      "\n",
      "\t*state = x;\n",
      "\n",
      "\treturn x / 4294967296.0f;\n",
      "}\n",
      "/*\n",
      " * Generate two normal variates given two uniform variates.\n",
      " */\n",
      "__device__ void bm_trans(float& u1, float& u2)\n",
      "{\n",
      "\tfloat r = sqrtf(-2.0f * logf(u1));\n",
      "\tfloat phi = 2.0f * PI * u2;\n",
      "\tu1 = r * cosf(phi);\n",
      "\tu2 = r * sinf(phi);\n",
      "}\n",
      "\n",
      "\"\"\"\n",
      "\n",
      "src = \"\"\"\n",
      "  __device__ inline void diffEq(float &nx, float &nv, float x, float v, float t)\n",
      "{{\n",
      "\tnx = v;\n",
      "\tnv = -2.0f * PI * cosf(2.0f * PI * x) + {amp}f * cosf({omega}f * t) + {force}f - {gam}f * v;\n",
      "}}\n",
      "\n",
      "__global__ void SDE(float *cx,float *cv,unsigned int *rng_state, float ct)\n",
      "    {{\n",
      "      int idx = blockDim.x*blockIdx.x + threadIdx.x;\n",
      "      float n1, n2; \t\n",
      "      unsigned int lrng_state;\n",
      "      float xim, vim, xt1, vt1, xt2, vt2,t,x,v;\n",
      "      lrng_state = rng_state[idx]; \n",
      "      t = ct;\n",
      "      x = cx[idx];\n",
      "\t  v = cv[idx]; \n",
      "    \n",
      "      for (int i=1;i<={samples};i++)  {{\n",
      "      \tn1 = rng_uni(&lrng_state);\n",
      "\t\tn2 = rng_uni(&lrng_state);\n",
      "\t\tbm_trans(n1, n2);\n",
      "\tdiffEq(xt1, vt1, x, v, t);\n",
      "\t\txim = x + xt1 * {dt}f;\n",
      "\t\tvim = v + vt1 * {dt}f + sqrtf({dt}f * {gam}f * {d0}f * 2.0f) * n1;\n",
      "\t\tt = ct + i * {dt}f;\n",
      "\tdiffEq(xt2, vt2, xim, vim, t);\n",
      "\t\tx += 0.5f * {dt}f * (xt1 + xt2);\n",
      "\t\tv += 0.5f * {dt}f * (vt1 + vt2) + sqrtf(2.0f * {dt}f * {gam}f * {d0}f) * n2;\n",
      "      }}\n",
      "       cx[idx] = x;\n",
      "\t   cv[idx] = v;\n",
      "\n",
      "\t   rng_state[idx] = lrng_state;;\n",
      "       \n",
      "    }}\n",
      "    \"\"\".format(**pars)\n",
      "\n",
      "mod = SourceModule(rng_src + src,options=[\"--use_fast_math\"])\n",
      "SDE = mod.get_function(\"SDE\")\n",
      "\n",
      "print \"kernel ready for \",block_size,\"N =\",N,N/1e6"
     ],
     "language": "python",
     "metadata": {},
     "outputs": [
      {
       "output_type": "stream",
       "stream": "stdout",
       "text": [
        "GeForce GTX 680 (3, 0) 3.99932861328 GB\n",
        "kernel ready for "
       ]
      },
      {
       "output_type": "stream",
       "stream": "stdout",
       "text": [
        " 256 N = 524288 0.524288\n"
       ]
      }
     ],
     "prompt_number": 1
    },
    {
     "cell_type": "code",
     "collapsed": false,
     "input": [
      "print spp,N"
     ],
     "language": "python",
     "metadata": {},
     "outputs": [
      {
       "output_type": "stream",
       "stream": "stdout",
       "text": [
        "100 524288\n"
       ]
      }
     ],
     "prompt_number": 2
    },
    {
     "cell_type": "markdown",
     "metadata": {},
     "source": [
      "Maj\u0105c gotowe j\u0105dro, mo\u017cna wykonac testowe uruchomienie:"
     ]
    },
    {
     "cell_type": "code",
     "collapsed": false,
     "input": [
      "import time\n",
      "\n",
      "x  = np.zeros(N,dtype=np.float32)\n",
      "v  = np.ones(N,dtype=np.float32)\n",
      "rng_state = np.array(np.random.randint(1,2147483648,size=N),dtype=np.uint32)\n",
      "\n",
      "x_g = gpuarray.to_gpu(x)\n",
      "v_g = gpuarray.to_gpu(v)\n",
      "rng_state_g = gpuarray.to_gpu(rng_state)\n",
      "\n",
      "start = time.time()\n",
      "for i in range(0,200000,spp):\n",
      "    t = i * 2.0 * np.pi /omega /spp;\n",
      "    SDE(x_g, v_g, rng_state_g, np.float32(t), block=(block_size,1,1), grid=(blocks,1))\n",
      "\n",
      "ctx.synchronize()\n",
      "elapsed = (time.time() - start)\n",
      "x=x_g.get()\n",
      "print elapsed,N/1e6, 200000*N/elapsed/1024.**3,\"Giter/sek\""
     ],
     "language": "python",
     "metadata": {},
     "outputs": [
      {
       "output_type": "stream",
       "stream": "stdout",
       "text": [
        "4.31622004509 0.524288 22.6254104239 Giter/sek\n"
       ]
      }
     ],
     "prompt_number": 3
    },
    {
     "cell_type": "markdown",
     "metadata": {},
     "source": [
      "Wynikiem dzia\u0142ania programu jest $N$ liczb okre\u015blaj\u0105cych ko\u0144cowe po\u0142o\u017cenie cz\u0105stki. Mo\u017cemy zwizualizowa\u0107 je wykorzystuj\u0105c np. hostogram:"
     ]
    },
    {
     "cell_type": "code",
     "collapsed": false,
     "input": [
      "h=histogram(x,bins=50,range=(-150, 100) ) \n",
      "figsize(8,4)\n",
      "plot(h[1][1:],h[0])"
     ],
     "language": "python",
     "metadata": {},
     "outputs": [
      {
       "metadata": {},
       "output_type": "pyout",
       "prompt_number": 4,
       "text": [
        "[<matplotlib.lines.Line2D at 0x3f22f90>]"
       ]
      },
      {
       "metadata": {},
       "output_type": "display_data",
       "png": "[encoded data removed]",
       "text": [
        "<matplotlib.figure.Figure at 0x3984f10>"
       ]
      }
     ],
     "prompt_number": 4
    },
    {
     "cell_type": "code",
     "collapsed": false,
     "input": [],
     "language": "python",
     "metadata": {},
     "outputs": []
    },
    {
     "cell_type": "markdown",
     "metadata": {},
     "source": [
      "### Dane referencyjne dla walidacji\n",
      "\n",
      "W tablicy `hist_ref` znajduj\u0105 si\u0119 dane referencyjne dla cel\u00f3w walidacji. Mo\u017cemy sprawdzi\u0107 czy program dzia\u0142a tak jak ten w pracy referencyjnej:"
     ]
    },
    {
     "cell_type": "code",
     "collapsed": false,
     "input": [
      "hist_ref = (array([   46,    72,   134,   224,   341,   588,   917,  1504,  2235,\\\n",
      "        3319,  4692,  6620,  8788, 11700, 15139, 18702, 22881, 26195,\\\n",
      "       29852, 32700, 35289, 36232, 36541, 35561, 33386, 30638, 27267,\\\n",
      "       23533, 19229, 16002, 12646,  9501,  7111,  5079,  3405,  2313,\\\n",
      "        1515,   958,   573,   370,   213,   103,    81,    28,    15,\\\n",
      "           7,     3,     2,     0,     0]),\\\n",
      " array([-150., -145., -140., -135., -130., -125., -120., -115., -110.,\\\n",
      "       -105., -100.,  -95.,  -90.,  -85.,  -80.,  -75.,  -70.,  -65.,\\\n",
      "        -60.,  -55.,  -50.,  -45.,  -40.,  -35.,  -30.,  -25.,  -20.,\\\n",
      "        -15.,  -10.,   -5.,    0.,    5.,   10.,   15.,   20.,   25.,\\\n",
      "         30.,   35.,   40.,   45.,   50.,   55.,   60.,   65.,   70.,\\\n",
      "         75.,   80.,   85.,   90.,   95.,  100.]) )\n",
      "\n",
      "\n",
      "\n",
      "hist(x,bins=50,range=(-150, 100) ) \n",
      "plot((hist_ref[1][1:]+hist_ref[1][:-1])/2.0,hist_ref[0],'r')"
     ],
     "language": "python",
     "metadata": {},
     "outputs": [
      {
       "metadata": {},
       "output_type": "pyout",
       "prompt_number": 18,
       "text": [
        "[<matplotlib.lines.Line2D at 0x4ce9c90>]"
       ]
      },
      {
       "metadata": {},
       "output_type": "display_data",
       "png": "[encoded data removed]",
       "text": [
        "<matplotlib.figure.Figure at 0x4ce9b50>"
       ]
      }
     ],
     "prompt_number": 18
    },
    {
     "cell_type": "code",
     "collapsed": false,
     "input": [],
     "language": "python",
     "metadata": {},
     "outputs": [],
     "prompt_number": 18
    },
    {
     "cell_type": "code",
     "collapsed": false,
     "input": [],
     "language": "python",
     "metadata": {},
     "outputs": [],
     "prompt_number": 18
    },
    {
     "cell_type": "code",
     "collapsed": false,
     "input": [],
     "language": "python",
     "metadata": {},
     "outputs": [],
     "prompt_number": 18
    },
    {
     "cell_type": "code",
     "collapsed": false,
     "input": [],
     "language": "python",
     "metadata": {},
     "outputs": [],
     "prompt_number": 18
    },
    {
     "cell_type": "markdown",
     "metadata": {},
     "source": [
      "## Zadania\n",
      "\n",
      "### ElementwiseKernel\n",
      "\n",
      "Napisa\u0107 program ca\u0142kuj\u0105cy r\u00f3wnanie stochastyczne, wykorzystuj\u0105ce `ElementwiseKernel`"
     ]
    },
    {
     "cell_type": "code",
     "collapsed": false,
     "input": [
      "from pycuda.elementwise import ElementwiseKernel\n",
      "SDE2 = ElementwiseKernel(\n",
      "        \"float *x,unsigned int  *rng_state\",\n",
      "        \"x[i] = x[i]+0.01*f(x[i]) + sqrtf(0.01*0.1)*rng_uni( &(rng_state[i]) ) \",\n",
      "        \"SDE\",\n",
      "        preamble=\"\"\"\n",
      "        __device__ float f(float x)\n",
      "        { \n",
      "          return sin(x)+0.1;\n",
      "        }\n",
      "        \"\"\"+rng_src)\n"
     ],
     "language": "python",
     "metadata": {},
     "outputs": []
    },
    {
     "cell_type": "markdown",
     "metadata": {},
     "source": [
      "### Wydajno\u015b\u0107\n",
      "\n",
      "Zbada\u0107 jak zmienia si\u0119 wydajno\u015b\u0107 programu w zale\u017cno\u015bci od wielko\u015bci bloku"
     ]
    },
    {
     "cell_type": "markdown",
     "metadata": {},
     "source": [
      "### R\u00f3wnanie dyfuzji 2d\n",
      "\n",
      "Napisa\u0107 program rozwi\u0105zuj\u0105cy r\u00f3wnanie dyfuzji 2d metod\u0105 symulacji odpowiedniego SDE."
     ]
    },
    {
     "cell_type": "code",
     "collapsed": false,
     "input": [],
     "language": "python",
     "metadata": {},
     "outputs": []
    }
   ],
   "metadata": {}
  }
 ]
}