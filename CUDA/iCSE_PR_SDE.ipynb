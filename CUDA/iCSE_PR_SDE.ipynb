{
 "cells": [
  {
   "cell_type": "markdown",
   "metadata": {},
   "source": [
    "# Rozwiązywanie stochastycznych równań różniczkowych z CUDA\n",
    "\n",
    "Równania stochastyczne są niezwykle pożytecznym narzędziem w modelowaniu zarówno procesów fizycznych, biolgicznych czy chemicznych a nawet ekonomicznych (wycena instrumentów pochodnych).\n",
    "\n",
    "Klasycznym przykładem problemu z jakim się spotykami przy numerycznym rozwiązywaniu równań stochastycznych jest konieczność uśrednienia po wielu niezależnych od siebie realizacjach procesu losowego. Mówiąc wprost musimy rozwiązać numerycznie wiele razy to samo równanie różniczkowe, za każdym razem zmieniając \"seed\" generatora liczb losowych. Jest to idealny problem dla urządzenia GPU, gdzie generacja niezależnych trajektorii wielu kopii tego samego układu jest w stanie wykorzystać maksymalnie jego możliwości obliczeniowe.\n",
    "\n",
    "Poniżej przedstawiamy implementację algorytmu, wg. pierwszego przykładu z pracy: http://arxiv.org/abs/0903.3852 \n",
    "\n",
    "Róźnicą będzie skorzystanie z pycuda, zamiast C. Co ciekawe, taka modyfikacja jest w stanie przyśpieszyć kernel obliczniowe o ok 25%. Spowodowane jest to zastosowaniem metoprogramowania. Pewne parametry, które nie zmieniają się podczas wykonywania kodu są \"klejane\" do źródła jako konkrente wartości liczbowe, co ułatwia kompilatorowi `nvcc` optymalizacje.\n",
    "\n",
    "W tym przykładzie wykorzystamy własny generator liczb losowych i transformację Boxa-Mullera (zamiast np. curand). \n",
    "\n",
    "Przykład ten może być z łatwością zmodyfikowany na dowolny układ SDE, dlatego można do traktować jako szablon dla własnych zagadnień.\n",
    "\n"
   ]
  },
  {
   "cell_type": "markdown",
   "metadata": {},
   "source": [
    "## Struktura programu\n",
    "\n",
    "### Szablony \n",
    "\n",
    "Niezwykle pomocne w programowaniu w pycuda jest zastosowanie metaprogramowania - to jest - piszemy program piszący nasz kernel. Tutaj mamy najprostszy wariant, po prostu pewne parametry równań, wpisujemy automatycznie do tekstu jądra. W pythonie jest przydatne formatowanie \"stringów\" np.:\n",
    "\n",
    "\n"
   ]
  },
  {
   "cell_type": "code",
   "execution_count": 1,
   "metadata": {
    "collapsed": false
   },
   "outputs": [
    {
     "name": "stdout",
     "output_type": "stream",
     "text": [
      "1234 a nawiasy {} \n"
     ]
    }
   ],
   "source": [
    "print '%(language)04d a nawiasy {} ' % {\"language\": 1234, \"number\": 2}"
   ]
  },
  {
   "cell_type": "markdown",
   "metadata": {},
   "source": [
    "lub:"
   ]
  },
  {
   "cell_type": "code",
   "execution_count": 2,
   "metadata": {
    "collapsed": false
   },
   "outputs": [
    {
     "name": "stdout",
     "output_type": "stream",
     "text": [
      "123 a nawiasy: {}\n"
     ]
    }
   ],
   "source": [
    "print '{zmienna} a nawiasy: {{}}'.format( **{\"zmienna\": 123} )"
   ]
  },
  {
   "cell_type": "markdown",
   "metadata": {},
   "source": [
    "W pewnych bardziej zaawansowanych przypadkach, można zastosować system szablonów np. mako templates (w projekcie http://sailfish.us.edu.pl). \n"
   ]
  },
  {
   "cell_type": "markdown",
   "metadata": {},
   "source": [
    "### Struktura kernela\n",
    "\n",
    "Jądro:\n",
    "\n",
    "    __global__ void SDE(float *cx,float *cv,unsigned int *rng_state, float ct)\n",
    "\n",
    "jest funkcją CUDA typu `__global__`, jako parametry przyjmuje tablice `cx` i `cv`, będące zmiennymi stanu układu dwóch równań różniczkowch:\n",
    "\n",
    "$$ \\dot x = v$$\n",
    "$$ \\dot v = -2\\pi \\cos(2.0\\pi x) + A \\cos(\\omega t) + F - \\gamma v$$\n",
    "\n",
    "Ponadto w wywołaniu przekazujemy czas (przez wartość) oraz wskaźnik do stanu generatora liczb losowych na GPU.\n",
    "\n",
    "Funkje dostępne dla jądra z GPU to:\n",
    "\n",
    "generator liczb losowych o rozkładzie jednostajnym:\n",
    "\n",
    "     __device__ float rng_uni(unsigned int *state)\n",
    "\n",
    "transformacja Boxa-Mullera:\n",
    "\n",
    "     __device__ void bm_trans(float& u1, float& u2)\n",
    "\n",
    "i wreszczcie funkcja obliczająca prawe strony układu równań:\n",
    "\n",
    "     __device__ inline void diffEq(float &nx, float &nv, float x, float v, float t)\n",
    "\n",
    "\n",
    "Zauważmy, że dla poprawienia wydajności, każde wywołanie kernela, powoduje wielokrotne (określone przez parametr `spp`) wykonanie pętli iteracyjnej. \n",
    "\n",
    "\n"
   ]
  },
  {
   "cell_type": "code",
   "execution_count": 9,
   "metadata": {
    "collapsed": true
   },
   "outputs": [],
   "source": [
    "%matplotlib inline\n",
    "import matplotlib.pyplot as plt\n",
    "import numpy as np"
   ]
  },
  {
   "cell_type": "code",
   "execution_count": 5,
   "metadata": {
    "collapsed": false
   },
   "outputs": [
    {
     "name": "stdout",
     "output_type": "stream",
     "text": [
      "GeForce GTX TITAN Black (3, 5) 5.99981689453 GB\n",
      "kernel ready for  256 N = 524288 0.524288\n"
     ]
    }
   ],
   "source": [
    "import pycuda.gpuarray as gpuarray\n",
    "\n",
    "from pycuda.curandom import rand as curand\n",
    "from pycuda.compiler import SourceModule\n",
    "import pycuda.driver as cuda\n",
    "\n",
    "\n",
    "cuda.init()\n",
    "device = cuda.Device(0)\n",
    "ctx = device.make_context()\n",
    "print device.name(), device.compute_capability(),device.total_memory()/1024.**3,\"GB\"\n",
    "\n",
    "\n",
    "blocks = 2**11\n",
    "block_size = 2**8\n",
    "N = blocks*block_size\n",
    "\n",
    "omega = 4.9\n",
    "spp = 100\n",
    "dt = 2.0*np.pi/omega/spp\n",
    "pars = {'samples':spp,'N':N,'dt':dt,'gam':0.9,'d0':0.001,'omega':omega,'force':0.1,'amp':4.2}\n",
    "\n",
    "rng_src = \"\"\"\n",
    "#define PI 3.14159265358979f\n",
    "/*\n",
    " * Return a uniformly distributed random number from the\n",
    " * [0;1] range.\n",
    " */\n",
    "__device__ float rng_uni(unsigned int *state)\n",
    "{\n",
    "\tunsigned int x = *state;\n",
    "\n",
    "\tx = x ^ (x >> 13);\n",
    "\tx = x ^ (x << 17);\n",
    "\tx = x ^ (x >> 5);\n",
    "\n",
    "\t*state = x;\n",
    "\n",
    "\treturn x / 4294967296.0f;\n",
    "}\n",
    "/*\n",
    " * Generate two normal variates given two uniform variates.\n",
    " */\n",
    "__device__ void bm_trans(float& u1, float& u2)\n",
    "{\n",
    "\tfloat r = sqrtf(-2.0f * logf(u1));\n",
    "\tfloat phi = 2.0f * PI * u2;\n",
    "\tu1 = r * cosf(phi);\n",
    "\tu2 = r * sinf(phi);\n",
    "}\n",
    "\n",
    "\"\"\"\n",
    "\n",
    "src = \"\"\"\n",
    "  __device__ inline void diffEq(float &nx, float &nv, float x, float v, float t)\n",
    "{{\n",
    "\tnx = v;\n",
    "\tnv = -2.0f * PI * cosf(2.0f * PI * x) + {amp}f * cosf({omega}f * t) + {force}f - {gam}f * v;\n",
    "}}\n",
    "\n",
    "__global__ void SDE(float *cx,float *cv,unsigned int *rng_state, float ct)\n",
    "    {{\n",
    "      int idx = blockDim.x*blockIdx.x + threadIdx.x;\n",
    "      float n1, n2; \t\n",
    "      unsigned int lrng_state;\n",
    "      float xim, vim, xt1, vt1, xt2, vt2,t,x,v;\n",
    "      lrng_state = rng_state[idx]; \n",
    "      t = ct;\n",
    "      x = cx[idx];\n",
    "\t  v = cv[idx]; \n",
    "    \n",
    "      for (int i=1;i<={samples};i++)  {{\n",
    "      \tn1 = rng_uni(&lrng_state);\n",
    "\t\tn2 = rng_uni(&lrng_state);\n",
    "\t\tbm_trans(n1, n2);\n",
    "\tdiffEq(xt1, vt1, x, v, t);\n",
    "\t\txim = x + xt1 * {dt}f;\n",
    "\t\tvim = v + vt1 * {dt}f + sqrtf({dt}f * {gam}f * {d0}f * 2.0f) * n1;\n",
    "\t\tt = ct + i * {dt}f;\n",
    "\tdiffEq(xt2, vt2, xim, vim, t);\n",
    "\t\tx += 0.5f * {dt}f * (xt1 + xt2);\n",
    "\t\tv += 0.5f * {dt}f * (vt1 + vt2) + sqrtf(2.0f * {dt}f * {gam}f * {d0}f) * n2;\n",
    "      }}\n",
    "       cx[idx] = x;\n",
    "\t   cv[idx] = v;\n",
    "\n",
    "\t   rng_state[idx] = lrng_state;;\n",
    "       \n",
    "    }}\n",
    "    \"\"\".format(**pars)\n",
    "\n",
    "mod = SourceModule(rng_src + src,options=[\"--use_fast_math\"])\n",
    "SDE = mod.get_function(\"SDE\")\n",
    "\n",
    "print \"kernel ready for \",block_size,\"N =\",N,N/1e6"
   ]
  },
  {
   "cell_type": "code",
   "execution_count": 6,
   "metadata": {
    "collapsed": false
   },
   "outputs": [
    {
     "name": "stdout",
     "output_type": "stream",
     "text": [
      "100 524288\n"
     ]
    }
   ],
   "source": [
    "print spp,N"
   ]
  },
  {
   "cell_type": "markdown",
   "metadata": {},
   "source": [
    "Mając gotowe jądro, można wykonac testowe uruchomienie:"
   ]
  },
  {
   "cell_type": "code",
   "execution_count": 7,
   "metadata": {
    "collapsed": false
   },
   "outputs": [
    {
     "name": "stdout",
     "output_type": "stream",
     "text": [
      "2.69631791115 0.524288 36.2183738039 Giter/sek\n"
     ]
    }
   ],
   "source": [
    "import time\n",
    "\n",
    "x  = np.zeros(N,dtype=np.float32)\n",
    "v  = np.ones(N,dtype=np.float32)\n",
    "rng_state = np.array(np.random.randint(1,2147483648,size=N),dtype=np.uint32)\n",
    "\n",
    "x_g = gpuarray.to_gpu(x)\n",
    "v_g = gpuarray.to_gpu(v)\n",
    "rng_state_g = gpuarray.to_gpu(rng_state)\n",
    "\n",
    "start = time.time()\n",
    "for i in range(0,200000,spp):\n",
    "    t = i * 2.0 * np.pi /omega /spp;\n",
    "    SDE(x_g, v_g, rng_state_g, np.float32(t), block=(block_size,1,1), grid=(blocks,1))\n",
    "\n",
    "ctx.synchronize()\n",
    "elapsed = (time.time() - start)\n",
    "x=x_g.get()\n",
    "print elapsed,N/1e6, 200000*N/elapsed/1024.**3,\"Giter/sek\""
   ]
  },
  {
   "cell_type": "markdown",
   "metadata": {},
   "source": [
    "Wynikiem działania programu jest $N$ liczb określających końcowe położenie cząstki. Możemy zwizualizować je wykorzystując np. hostogram:"
   ]
  },
  {
   "cell_type": "code",
   "execution_count": 11,
   "metadata": {
    "collapsed": false
   },
   "outputs": [
    {
     "data": {
      "text/plain": [
       "[<matplotlib.lines.Line2D at 0x7f01f9256e10>]"
      ]
     },
     "execution_count": 11,
     "metadata": {},
     "output_type": "execute_result"
    },
    {
     "data": {
      "image/png": "[encoded data removed]",
      "text/plain": [
       "<matplotlib.figure.Figure at 0x7f022449c250>"
      ]
     },
     "metadata": {},
     "output_type": "display_data"
    }
   ],
   "source": [
    "h = np.histogram(x,bins=50,range=(-150, 100) ) \n",
    "plt.plot(h[1][1:],h[0])"
   ]
  },
  {
   "cell_type": "code",
   "execution_count": null,
   "metadata": {
    "collapsed": false
   },
   "outputs": [],
   "source": []
  },
  {
   "cell_type": "markdown",
   "metadata": {},
   "source": [
    "### Dane referencyjne dla walidacji\n",
    "\n",
    "W tablicy `hist_ref` znajdują się dane referencyjne dla celów walidacji. Możemy sprawdzić czy program działa tak jak ten w pracy referencyjnej:"
   ]
  },
  {
   "cell_type": "code",
   "execution_count": 13,
   "metadata": {
    "collapsed": false
   },
   "outputs": [
    {
     "data": {
      "text/plain": [
       "[<matplotlib.lines.Line2D at 0x7f01f92ef390>]"
      ]
     },
     "execution_count": 13,
     "metadata": {},
     "output_type": "execute_result"
    },
    {
     "data": {
      "image/png": "[encoded data removed]",
      "text/plain": [
       "<matplotlib.figure.Figure at 0x7f01f92ef350>"
      ]
     },
     "metadata": {},
     "output_type": "display_data"
    }
   ],
   "source": [
    "hist_ref = (np.array([   46,    72,   134,   224,   341,   588,   917,  1504,  2235,\\\n",
    "        3319,  4692,  6620,  8788, 11700, 15139, 18702, 22881, 26195,\\\n",
    "       29852, 32700, 35289, 36232, 36541, 35561, 33386, 30638, 27267,\\\n",
    "       23533, 19229, 16002, 12646,  9501,  7111,  5079,  3405,  2313,\\\n",
    "        1515,   958,   573,   370,   213,   103,    81,    28,    15,\\\n",
    "           7,     3,     2,     0,     0]),\\\n",
    " np.array([-150., -145., -140., -135., -130., -125., -120., -115., -110.,\\\n",
    "       -105., -100.,  -95.,  -90.,  -85.,  -80.,  -75.,  -70.,  -65.,\\\n",
    "        -60.,  -55.,  -50.,  -45.,  -40.,  -35.,  -30.,  -25.,  -20.,\\\n",
    "        -15.,  -10.,   -5.,    0.,    5.,   10.,   15.,   20.,   25.,\\\n",
    "         30.,   35.,   40.,   45.,   50.,   55.,   60.,   65.,   70.,\\\n",
    "         75.,   80.,   85.,   90.,   95.,  100.]) )\n",
    "\n",
    "\n",
    "\n",
    "plt.hist(x,bins=50,range=(-150, 100) ) \n",
    "plt.plot((hist_ref[1][1:]+hist_ref[1][:-1])/2.0,hist_ref[0],'r')"
   ]
  },
  {
   "cell_type": "code",
   "execution_count": 18,
   "metadata": {
    "collapsed": false
   },
   "outputs": [],
   "source": []
  },
  {
   "cell_type": "code",
   "execution_count": 18,
   "metadata": {
    "collapsed": false
   },
   "outputs": [],
   "source": []
  },
  {
   "cell_type": "code",
   "execution_count": 18,
   "metadata": {
    "collapsed": false
   },
   "outputs": [],
   "source": []
  },
  {
   "cell_type": "code",
   "execution_count": 18,
   "metadata": {
    "collapsed": false
   },
   "outputs": [],
   "source": []
  },
  {
   "cell_type": "markdown",
   "metadata": {},
   "source": [
    "## Zadania\n",
    "\n",
    "### ElementwiseKernel\n",
    "\n",
    "Napisać program całkujący równanie stochastyczne, wykorzystujące `ElementwiseKernel`"
   ]
  },
  {
   "cell_type": "code",
   "execution_count": 14,
   "metadata": {
    "collapsed": false
   },
   "outputs": [],
   "source": [
    "from pycuda.elementwise import ElementwiseKernel\n",
    "SDE2 = ElementwiseKernel(\n",
    "        \"float *x,unsigned int  *rng_state\",\n",
    "        \"x[i] = x[i]+0.01*f(x[i]) + sqrtf(0.01*0.1)*rng_uni( &(rng_state[i]) ) \",\n",
    "        \"SDE\",\n",
    "        preamble=\"\"\"\n",
    "        __device__ float f(float x)\n",
    "        { \n",
    "          return sin(x)+0.1;\n",
    "        }\n",
    "        \"\"\"+rng_src)\n"
   ]
  },
  {
   "cell_type": "markdown",
   "metadata": {},
   "source": [
    "### Wydajność\n",
    "\n",
    "Zbadać jak zmienia się wydajność programu w zależności od wielkości bloku"
   ]
  },
  {
   "cell_type": "markdown",
   "metadata": {},
   "source": [
    "### Równanie dyfuzji 2d\n",
    "\n",
    "Napisać program rozwiązujący równanie dyfuzji 2d metodą symulacji odpowiedniego SDE."
   ]
  },
  {
   "cell_type": "code",
   "execution_count": null,
   "metadata": {
    "collapsed": false
   },
   "outputs": [],
   "source": []
  }
 ],
 "metadata": {
  "kernelspec": {
   "display_name": "Titan, Python 2",
   "language": "python2",
   "name": "titan"
  },
  "language_info": {
   "codemirror_mode": {
    "name": "ipython",
    "version": 2
   },
   "file_extension": ".py",
   "mimetype": "text/x-python",
   "name": "python",
   "nbconvert_exporter": "python",
   "pygments_lexer": "ipython2",
   "version": "2.7.6"
  }
 },
 "nbformat": 4,
 "nbformat_minor": 0
}
