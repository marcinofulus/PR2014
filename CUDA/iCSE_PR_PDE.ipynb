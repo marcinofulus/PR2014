{
 "metadata": {
  "name": "",
  "signature": "sha256:7b38faf27be76f58f9fbb4c1937fa034cabba839c4984588bad05c54b56fb40a"
 },
 "nbformat": 3,
 "nbformat_minor": 0,
 "worksheets": [
  {
   "cells": [
    {
     "cell_type": "markdown",
     "metadata": {},
     "source": [
      "# Proste schematy rozwi\u0105zywanie r\u00f3wna\u0144 r\u00f3\u017cniczkowych cz\u0105stkowych na GPU\n",
      "\n",
      "\n",
      "Cz\u0105stkowe r\u00f3wnania r\u00f3\u017aniczkowe s\u0105 chyba najbardziej popularnym przedmiotem oblicze\u0144 naukowych (licz\u0105c popularno\u015b\u0107 czasem procesora). Ich implementacja na architekrurach r\u00f3wnoleg\u0142ych jest nieco mniej trywialna ni\u017c np. r\u00f3wnania stochatycznego. \n",
      "\n",
      "Poni\u017cszy materia\u0142 prezentuje prosty schemat ca\u0142kowania r\u00f3wna\u0144 typu parabolicznego. Wykorzystana zostanie siatka regularna i metoda r\u00f3\u017anic sko\u0144czonych. Pomimo tego schemat podany w tym materiale mo\u017ce po nieznacznych rozszerzeniu pos\u0142u\u017cy\u0107 do rozwi\u0105zywania szeregu problem\u00f3w z fizyki."
     ]
    },
    {
     "cell_type": "code",
     "collapsed": false,
     "input": [
      "import pycuda.gpuarray as gpuarray\n",
      "\n",
      "import numpy\n",
      "from pycuda.compiler import SourceModule\n",
      "import pycuda.driver as cuda\n",
      "\n",
      "try:\n",
      "    ctx.pop()\n",
      "    ctx.detach()\n",
      "except:\n",
      "    print \"No CTX!\"\n",
      "\n",
      "cuda.init()\n",
      "device = cuda.Device(0)\n",
      "ctx = device.make_context()\n",
      "print device.name(), device.compute_capability(),device.total_memory()/1024.**3,\"GB\"\n"
     ],
     "language": "python",
     "metadata": {},
     "outputs": [
      {
       "output_type": "stream",
       "stream": "stdout",
       "text": [
        "No CTX!\n",
        "GeForce GTX 680 (3, 0) 3.99932861328 GB\n"
       ]
      }
     ],
     "prompt_number": 1
    },
    {
     "cell_type": "markdown",
     "metadata": {},
     "source": [
      "## The Laplace operator in 1d, example\n",
      "\n",
      "\n",
      "Zobaczmy jak mo\u017cna zaimplementowac operator Laplace'a na CUDA:\n"
     ]
    },
    {
     "cell_type": "code",
     "collapsed": false,
     "input": [
      "u = np.array([1,1,1,2,1,1,1],dtype=np.float32)\n",
      "u_g = gpuarray.to_gpu(u)\n",
      "du_g = gpuarray.empty_like(u_g)"
     ],
     "language": "python",
     "metadata": {},
     "outputs": [],
     "prompt_number": 2
    },
    {
     "cell_type": "code",
     "collapsed": false,
     "input": [
      "print u"
     ],
     "language": "python",
     "metadata": {},
     "outputs": [
      {
       "output_type": "stream",
       "stream": "stdout",
       "text": [
        "[ 1.  1.  1.  2.  1.  1.  1.]\n"
       ]
      }
     ],
     "prompt_number": 3
    },
    {
     "cell_type": "code",
     "collapsed": false,
     "input": [
      "from pycuda.compiler import SourceModule\n",
      "\n",
      "nx = 7\n",
      "ny = 7 \n",
      "mod = SourceModule(\"\"\"\n",
      "    __global__ void laplace1d(float *a,float *da)\n",
      "    {\n",
      "      int idx = threadIdx.x + threadIdx.y*4;\n",
      "\n",
      "      float fe,fw;\n",
      "      int nx=%d;\n",
      "      //int ny=%d;\n",
      "      int i = idx;\n",
      "      \n",
      "      if(i>0) {\n",
      "           fw = a[i-1]; \n",
      "        }\n",
      "      else{\n",
      "          fw = a[nx-1];\n",
      "      }\n",
      "\n",
      "      if(i<(nx-1)) {\n",
      "           fe = a[i+1]; \n",
      "        }\n",
      "      else{\n",
      "          fe = a[0];\n",
      "      }\n",
      "\n",
      "     da[idx] = fw+fe - 2.0f*a[idx];\n",
      "\n",
      "    }\n",
      "    \"\"\" % (nx,ny) )\n"
     ],
     "language": "python",
     "metadata": {},
     "outputs": [],
     "prompt_number": 4
    },
    {
     "cell_type": "code",
     "collapsed": false,
     "input": [
      "func = mod.get_function(\"laplace1d\")"
     ],
     "language": "python",
     "metadata": {},
     "outputs": [],
     "prompt_number": 5
    },
    {
     "cell_type": "code",
     "collapsed": false,
     "input": [
      "func(u_g,du_g, block=(4,4,1), grid=(1,1))"
     ],
     "language": "python",
     "metadata": {},
     "outputs": [],
     "prompt_number": 6
    },
    {
     "cell_type": "code",
     "collapsed": false,
     "input": [
      "du_g.get()"
     ],
     "language": "python",
     "metadata": {},
     "outputs": [
      {
       "metadata": {},
       "output_type": "pyout",
       "prompt_number": 7,
       "text": [
        "array([ 0.,  0.,  1., -2.,  1.,  0.,  0.], dtype=float32)"
       ]
      }
     ],
     "prompt_number": 7
    },
    {
     "cell_type": "markdown",
     "metadata": {},
     "source": [
      "Wynik jest zgodny z oczekiwaniem, maj\u0105c zadany wektor wej\u015bciowy mo\u017cna by\u0142o si\u0119 tego spodziewa\u0107.\n",
      "(patrz np. https://sage2.icse.us.edu.pl/home/pub/225/)"
     ]
    },
    {
     "cell_type": "markdown",
     "metadata": {},
     "source": [
      "## The 1d reaction diffusion equation\n",
      "\n",
      "Zaimplementujemy teraz r\u00f3wnanie Fisher Kologomorowa w jednym wymiarze:"
     ]
    },
    {
     "cell_type": "code",
     "collapsed": false,
     "input": [
      "import pycuda.gpuarray as gpuarray\n",
      "import pycuda.autoinit\n",
      "from pycuda.compiler import SourceModule\n",
      "from string import Template\n",
      "\n",
      "blocks = 64\n",
      "block_size = 64\n",
      "nx = blocks*block_size\n",
      "print \"Nx = \",nx\n",
      "l = 100\n",
      "#dt = 0.00008\n",
      "\n",
      "\n",
      "Dyf = 1.0\n",
      "dt = 0.2/(Dyf*(nx-1)**2/l**2) # 0.2 z warunku CFL, krok nie moze byc mniejszy\n",
      "print \"dt=\",dt\n",
      "pars = {'nx':nx,'C':Dyf*(nx-1)**2/l**2,'r':1.0,'dt':dt}\n",
      "\n",
      "src = \"\"\"\n",
      "    __device__ float laplace1d(float *a)\n",
      "    {{\n",
      "      int idx = blockDim.x*blockIdx.x + threadIdx.x;\n",
      "\n",
      "      float fe,fw;\n",
      "      int nx={nx};\n",
      "      \n",
      "      int i = idx;\n",
      "      \n",
      "      if(i>0) {{\n",
      "           fw = a[i-1]; \n",
      "        }}\n",
      "      else{{\n",
      "          fw = a[nx-1];\n",
      "      }}\n",
      "\n",
      "      if(i<(nx-1)) {{\n",
      "           fe = a[i+1]; \n",
      "        }}\n",
      "      else{{\n",
      "          fe = a[0];\n",
      "      }}\n",
      "\n",
      "     return(  fw+fe - 2.0f * a[idx] );\n",
      "\n",
      "    }}\n",
      "\n",
      "\n",
      "    __global__ void iterate_RDS(float *a,float *da)\n",
      "    {{\n",
      "      int idx = blockDim.x*blockIdx.x + threadIdx.x;\n",
      "      float u;\n",
      "       \n",
      "      u = a[idx]; \n",
      "           \n",
      "      da[idx] = u + {dt}*( {r}*u*(1-u) + {C}*laplace1d(a) );\n",
      "    }}\n",
      "    \"\"\".format(**pars)\n",
      "\n",
      "mod = SourceModule(src)\n",
      "RDS = mod.get_function(\"iterate_RDS\")"
     ],
     "language": "python",
     "metadata": {},
     "outputs": [
      {
       "output_type": "stream",
       "stream": "stdout",
       "text": [
        "Nx =  4096\n",
        "dt= 0.000119267518535\n"
       ]
      }
     ],
     "prompt_number": 8
    },
    {
     "cell_type": "code",
     "collapsed": false,
     "input": [
      "u = np.zeros(nx,dtype=np.float32)\n",
      "u[int(nx/2)-20:int(nx/2)+20]=1.0\n",
      "\n",
      "u_g = gpuarray.to_gpu(u)\n",
      "du_g = gpuarray.empty_like(u_g)\n"
     ],
     "language": "python",
     "metadata": {},
     "outputs": [],
     "prompt_number": 13
    },
    {
     "cell_type": "markdown",
     "metadata": {},
     "source": [
      "Calling this many times will plot solution and IC:"
     ]
    },
    {
     "cell_type": "code",
     "collapsed": false,
     "input": [
      "for i in range(12111):\n",
      "    RDS(u_g,du_g, block=(block_size,1,1), grid=(blocks,1))\n",
      "    RDS(du_g,u_g, block=(block_size,1,1), grid=(blocks,1))\n",
      "clf()\n",
      "plot(u)\n",
      "plot(u_g.get(),color='red')\n",
      "figsize(12,3)"
     ],
     "language": "python",
     "metadata": {},
     "outputs": [
      {
       "metadata": {},
       "output_type": "display_data",
       "png": "[encoded data removed]",
       "text": [
        "<matplotlib.figure.Figure at 0x7fb54b7457d0>"
       ]
      }
     ],
     "prompt_number": 14
    },
    {
     "cell_type": "code",
     "collapsed": false,
     "input": [
      "from IPython.core.display import clear_output\n",
      "\n",
      "f, ax = plt.subplots()\n",
      "ax.set_title(\"Fisher Kologomorow\")\n",
      "for i in range(192111):\n",
      "    RDS(u_g,du_g, block=(block_size,1,1), grid=(blocks,1))\n",
      "    RDS(du_g,u_g, block=(block_size,1,1), grid=(blocks,1))\n",
      "    if not i%15000:\n",
      "        ax.cla()\n",
      "        ax.plot(u)\n",
      "        ax.plot(u_g.get(),color='red')\n",
      "        clear_output(wait=True)\n",
      "        display(f)\n",
      "plt.close()"
     ],
     "language": "python",
     "metadata": {},
     "outputs": [
      {
       "metadata": {},
       "output_type": "display_data",
       "png": "[encoded data removed]",
       "text": [
        "<matplotlib.figure.Figure at 0x7fb549ae48d0>"
       ]
      }
     ],
     "prompt_number": 15
    },
    {
     "cell_type": "code",
     "collapsed": false,
     "input": [],
     "language": "python",
     "metadata": {},
     "outputs": []
    },
    {
     "cell_type": "markdown",
     "metadata": {},
     "source": [
      "## 2D reaction diffusion equation, Fisher Kologomorow\n",
      "\n",
      "Podobnie do Laplasjanu jednowymiarowego, implementujemy dwuwymiarwy."
     ]
    },
    {
     "cell_type": "code",
     "collapsed": false,
     "input": [
      "# 2d RDS system\n",
      "from pycuda.compiler import SourceModule\n",
      "from string import Template\n",
      "\n",
      "\n",
      "block_size = 64\n",
      "nx = 10*block_size\n",
      "ny = nx\n",
      "blocks = nx*ny/block_size\n",
      "\n",
      "\n",
      "print \"Nx = \",nx,\"Ny = \",ny\n",
      "l = 100.\n",
      "\n",
      "Dyf = 1.0\n",
      "dt = 0.2/(Dyf*(nx-1)**2/l**2) # 0.2 z warunku CFL, krok nie moze byc mniejszy\n",
      "\n",
      "pars = {'nx':nx,'ny':ny,'C':Dyf*(nx-1)**2/l**2,'r':1.0,'dt':dt}\n",
      "\n",
      "print \"dt=\",dt\n",
      "src = \"\"\"\n",
      "    __device__ float laplace2d(float *a)\n",
      "    {{\n",
      "      int idx = blockDim.x*blockIdx.x + threadIdx.x;\n",
      "\n",
      "      float fe,fw,fs,fn;\n",
      "      int nx={nx};\n",
      "      int ny={ny};\n",
      "    \n",
      "      int x=idx%nx;\n",
      "      int y=idx/nx;\n",
      "\n",
      "\n",
      "      if(x>0) {{\n",
      "           fw = a[idx-1]; \n",
      "        }}\n",
      "      else{{\n",
      "          fw = a[idx+nx-1];\n",
      "      }}\n",
      "\n",
      "      if(x<(nx-1)) {{\n",
      "           fe = a[idx+1]; \n",
      "        }}\n",
      "      else{{\n",
      "          fe = a[idx-nx+1];\n",
      "      }}\n",
      "\n",
      "      if(y>0) {{\n",
      "           fn = a[idx-nx]; \n",
      "        }}\n",
      "      else{{\n",
      "          fn = a[idx+nx*(ny-1)];\n",
      "      }}\n",
      "\n",
      "      if(y<(ny-1)) {{\n",
      "           fs = a[idx+nx]; \n",
      "        }}\n",
      "      else{{\n",
      "          fs = a[idx-nx*(ny-1)];\n",
      "      }}\n",
      "        \n",
      "    \n",
      "     return(  fw+fe+fs+fn - 4.0f * a[idx] );\n",
      "\n",
      "    }}\n",
      "\n",
      "\n",
      "    __global__ void iterate_RDS(float *a,float *da)\n",
      "    {{\n",
      "      int idx = blockDim.x*blockIdx.x + threadIdx.x;\n",
      "      float u;\n",
      "       \n",
      "      u = a[idx]; \n",
      "           \n",
      "      da[idx] = u + {dt}*( {r}*u*(1-u) + {C}*laplace2d(a) );\n",
      "    }}\n",
      "    \"\"\".format(**pars)\n",
      "\n",
      "mod = SourceModule(src)\n",
      "RDS = mod.get_function(\"iterate_RDS\")"
     ],
     "language": "python",
     "metadata": {},
     "outputs": []
    },
    {
     "cell_type": "code",
     "collapsed": false,
     "input": [
      "u = 0.00*np.ones((nx,ny),dtype=np.float32)\n",
      "u[int(nx/2)-20:int(nx/2)+20,int(ny/2)-20:int(ny/2)+20]=1.0\n",
      "\n",
      "u_g = gpuarray.to_gpu(u)\n",
      "du_g = gpuarray.empty_like(u_g)\n",
      "imshow(u_g.get(),origin='top',vmin=0,vmax=1)"
     ],
     "language": "python",
     "metadata": {},
     "outputs": []
    },
    {
     "cell_type": "code",
     "collapsed": false,
     "input": [
      "for i in range(251):\n",
      "    RDS(u_g,du_g, block=(block_size,1,1), grid=(blocks,1))\n",
      "    RDS(du_g,u_g, block=(block_size,1,1), grid=(blocks,1))\n",
      "clf()\n",
      "imshow(u_g.get(),origin='top',vmin=0,vmax=1)\n",
      "colorbar()"
     ],
     "language": "python",
     "metadata": {},
     "outputs": []
    },
    {
     "cell_type": "code",
     "collapsed": false,
     "input": [
      "from IPython.core.display import clear_output\n",
      "\n",
      "f, ax = plt.subplots()\n",
      "ax.set_title(\"Fisher Kologomorow 2d\")\n",
      "for i in range(2111):\n",
      "    RDS(u_g,du_g, block=(block_size,1,1), grid=(blocks,1))\n",
      "    RDS(du_g,u_g, block=(block_size,1,1), grid=(blocks,1))\n",
      "    if not i%150:\n",
      "        ax.cla()\n",
      "        \n",
      "        ax.imshow(u_g.get(),origin='top',vmin=0,vmax=1)\n",
      "        clear_output(wait=True)\n",
      "        display(f)\n",
      "plt.close()"
     ],
     "language": "python",
     "metadata": {},
     "outputs": []
    },
    {
     "cell_type": "markdown",
     "metadata": {},
     "source": [
      "Wizualiacja danych jako wykres powierzchni w 3d:"
     ]
    },
    {
     "cell_type": "code",
     "collapsed": false,
     "input": [
      "from mpl_toolkits.mplot3d import Axes3D\n",
      "from matplotlib import cm\n",
      "from matplotlib.ticker import LinearLocator, FormatStrFormatter\n",
      "import matplotlib.pyplot as plt\n",
      "import numpy as np\n",
      "\n",
      "fig = plt.figure(figsize=(8,4))\n",
      "ax = fig.gca(projection='3d')\n",
      "X = np.linspace(-l/2, l/2,num=nx/8)\n",
      "Y = np.linspace(-l/2, l/2,num=ny/8)\n",
      "X, Y = np.meshgrid(X, Y)\n",
      "\n",
      "Z = u_g.get()[::8,::8]\n",
      "surf = ax.plot_surface(X, Y, Z, rstride=1, cstride=1, cmap=cm.coolwarm,\n",
      "        linewidth=0, antialiased=False)\n",
      "ax.set_zlim(0, 1)\n",
      "ax.set_xlim(-l/2,l/2)\n",
      "ax.set_ylim(-l/2,l/2)\n",
      "\n",
      "plt.show()\n",
      "\n",
      "\n"
     ],
     "language": "python",
     "metadata": {},
     "outputs": []
    },
    {
     "cell_type": "code",
     "collapsed": false,
     "input": [],
     "language": "python",
     "metadata": {},
     "outputs": []
    },
    {
     "cell_type": "markdown",
     "metadata": {},
     "source": [
      "## 2d Bielusov Zabotynski RDS system\n",
      "\n",
      "\n",
      "Fascynuj\u0105cym uk\u0142adem jest uk\u0142ad reakcji Bielusowa Zabotynskiego, w ktorym w pewnych przypadkach, po\u0142aczenie pobudliwej dynamiki z dyfuzj\u0105 daje niezwykle efekty w postaci fal chemicznych.\n"
     ]
    },
    {
     "cell_type": "code",
     "collapsed": false,
     "input": [
      "# 2d Bielusov Zabotynski RDS system\n",
      "import pycuda.gpuarray as gpuarray\n",
      "import pycuda.driver as cuda\n",
      "import pycuda.autoinit\n",
      "from pycuda.compiler import SourceModule\n",
      "\n",
      "try:\n",
      "    ctx.pop()\n",
      "    ctx.detach()\n",
      "except:\n",
      "    print \"No CTX!\"\n",
      "\n",
      "cuda.init()\n",
      "dev=cuda.Device(0)\n",
      "dev.make_context()\n",
      "\n",
      "\n",
      "block_size = 64\n",
      "nx = 8*block_size\n",
      "ny = nx\n",
      "blocks = nx*ny/block_size\n",
      "\n",
      "\n",
      "print \"Nx = \",nx,\"Ny = \",ny\n",
      "l = 160\n",
      "\n",
      "Dyf = 1.0\n",
      "dt = 0.2/(Dyf*(nx-1)**2/l**2) # 0.2 z warunku CFL, krok nie moze byc mniejszy\n",
      "a = 0.75 \n",
      "b = 0.0006\n",
      "eps = 0.05#72\n",
      "\n",
      "pars = {'nx':nx,'ny':ny,'C':Dyf*(nx-1)**2/l**2,'a':a,'b':b,'1_eps':1.0/eps,'dt':dt}\n",
      "\n",
      "print \"dt=\",dt\n",
      "src = \"\"\"\n",
      "    __device__ float laplace2d(float *a)\n",
      "    {{\n",
      "      int idx = blockDim.x*blockIdx.x + threadIdx.x;\n",
      "\n",
      "      float fe,fw,fs,fn;\n",
      "      int nx={nx};\n",
      "      int ny={ny};\n",
      "    \n",
      "      int x=idx%nx;\n",
      "      int y=idx/nx;\n",
      "\n",
      "      if(x>0) {{\n",
      "           fw = a[idx-1]; \n",
      "        }}\n",
      "      else{{\n",
      "          fw = a[idx+nx-1];\n",
      "      }}\n",
      "\n",
      "      if(x<(nx-1)) {{\n",
      "           fe = a[idx+1]; \n",
      "        }}\n",
      "      else{{\n",
      "          fe = a[idx-nx+1];\n",
      "      }}\n",
      "\n",
      "      if(y>0) {{\n",
      "           fn = a[idx-nx]; \n",
      "        }}\n",
      "      else{{\n",
      "          fn = a[idx+nx*(ny-1)];\n",
      "      }}\n",
      "\n",
      "      if(y<(ny-1)) {{\n",
      "           fs = a[idx+nx]; \n",
      "        }}\n",
      "      else{{\n",
      "          fs = a[idx-nx*(ny-1)];\n",
      "      }}\n",
      "        \n",
      "     return(  fw+fe+fs+fn - 4.0f * a[idx] );\n",
      "\n",
      "    }}\n",
      "\n",
      "    __device__ float f(float x)\n",
      "    {{ \n",
      "\n",
      "      return ( signbit(1.0f/3.0f - x )*(1-6.75*x*(1-x)*(1-x)) );\n",
      "\n",
      "    }}\n",
      "    __global__ void iterate_RDS(float *a,float *da,float *b,float *db,float epsilon)\n",
      "    {{\n",
      "      int idx = blockDim.x*blockIdx.x + threadIdx.x;\n",
      "      float u,v;\n",
      "       \n",
      "      u = a[idx]; \n",
      "      v = b[idx]; \n",
      "          \n",
      "      da[idx] = u + {dt}*(  (1.0f/epsilon)*u*(1-u)*(u-(v-{b})/{a}) + {C}*laplace2d(a) );\n",
      "      db[idx] = v + {dt}*(  f(u)-v );\n",
      "    }}\n",
      "    \"\"\".format(**pars)\n",
      "\n",
      "mod = SourceModule(src)\n",
      "RDS = mod.get_function(\"iterate_RDS\")\n",
      "print \"Kernel Ready\""
     ],
     "language": "python",
     "metadata": {},
     "outputs": []
    },
    {
     "cell_type": "markdown",
     "metadata": {},
     "source": [
      "Zadajemy warunki pocz\u0105tkowe:"
     ]
    },
    {
     "cell_type": "code",
     "collapsed": false,
     "input": [
      "u = np.zeros((nx,ny),dtype=np.float32)\n",
      "v = np.zeros((nx,ny),dtype=np.float32)\n",
      "\n",
      "u[int(nx/4):int(3*nx/4),int(ny/2)-15:int(ny/2)+15]=1.0\n",
      "v[int(nx/4):int(3*nx/4),int(ny/2)-17:int(ny/2)+3]=1.0\n",
      "u_g = gpuarray.to_gpu(u)\n",
      "du_g = gpuarray.empty_like(u_g)\n",
      "\n",
      "v_g = gpuarray.to_gpu(v)\n",
      "dv_g = gpuarray.empty_like(v_g)\n",
      "#imshow(u_g.get(),origin='top',vmin=0,vmax=1)\n",
      "print 'IC set:',u.shape"
     ],
     "language": "python",
     "metadata": {},
     "outputs": []
    },
    {
     "cell_type": "code",
     "collapsed": false,
     "input": [
      "def transition(a0,a1,n,i):\n",
      "    return a0+(a1-a0)*0.5*(np.tanh(-5+10*i/float(n))+1.0)\n"
     ],
     "language": "python",
     "metadata": {},
     "outputs": []
    },
    {
     "cell_type": "code",
     "collapsed": false,
     "input": [
      "newparams = { 'savefig.dpi': 150/2, 'figure.figsize': (5., 5.) }\n",
      "plt.rcParams.update(newparams)\n"
     ],
     "language": "python",
     "metadata": {},
     "outputs": []
    },
    {
     "cell_type": "markdown",
     "metadata": {},
     "source": [
      "## Animacja na \u017cywo\n",
      "\n",
      "Z pomoc\u0105 funkcji ipython-a mo\u017cemy podczas symulacji wy\u015bwietla\u0107 stan pola inhibitora. Zbadajmy w ten spos\u00f3b przej\u015bcie do chaosu:"
     ]
    },
    {
     "cell_type": "code",
     "collapsed": false,
     "input": [
      "from IPython.core.display import clear_output\n",
      "import time\n",
      "f, ax = plt.subplots()\n",
      "ax.set_title(\"Bielousow Zabotynski z dyfuzj\u0105 2d\")\n",
      "figsize(7,7)\n",
      "\n",
      "for i in range(5001):\n",
      "    epsilon = np.float32( transition(0.05,0.0741,1000,i) ) \n",
      "    RDS(u_g,du_g,v_g,dv_g,epsilon, block=(block_size,1,1), grid=(blocks,1))\n",
      "    RDS(du_g,u_g,dv_g,v_g,epsilon, block=(block_size,1,1), grid=(blocks,1))   \n",
      "    if not i%25:\n",
      "        #time.sleep(1) # CUDA works too fast ;-)\n",
      "        ax.cla()\n",
      "        #ax.plot(u)\n",
      "        ax.set_title(\"epsilon = %03f, %d\"%(epsilon,i))\n",
      "\n",
      "        ax.imshow(v_g.get(),origin='top')   \n",
      "        savefig(\"1.png\")\n",
      "        clear_output(wait=True)\n",
      "        display(f)\n",
      "plt.close()"
     ],
     "language": "python",
     "metadata": {},
     "outputs": []
    },
    {
     "cell_type": "code",
     "collapsed": false,
     "input": [],
     "language": "python",
     "metadata": {},
     "outputs": []
    },
    {
     "cell_type": "code",
     "collapsed": false,
     "input": [],
     "language": "python",
     "metadata": {},
     "outputs": []
    },
    {
     "cell_type": "code",
     "collapsed": false,
     "input": [],
     "language": "python",
     "metadata": {},
     "outputs": []
    },
    {
     "cell_type": "markdown",
     "metadata": {},
     "source": [
      "## Zadania\n",
      "\n",
      "### R\u00f3wnanie falowe\n",
      "\n",
      "Zaimplementuj r\u00f3wnanie falowe w dw\u00f3ch wymiarach.\n",
      "\n",
      "\n"
     ]
    },
    {
     "cell_type": "code",
     "collapsed": false,
     "input": [],
     "language": "python",
     "metadata": {},
     "outputs": []
    }
   ],
   "metadata": {}
  }
 ]
}