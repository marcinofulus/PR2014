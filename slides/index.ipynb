{
 "metadata": {
  "name": "",
  "signature": "sha256:3a8576cd879e32678ccc7d0f8ee346393eb2dc53806f7cc5bb7625797f2aeddd"
 },
 "nbformat": 3,
 "nbformat_minor": 0,
 "worksheets": [
  {
   "cells": [
    {
     "cell_type": "code",
     "collapsed": false,
     "input": [
      "from IPython.display import FileLinks"
     ],
     "language": "python",
     "metadata": {},
     "outputs": [],
     "prompt_number": 10
    },
    {
     "cell_type": "code",
     "collapsed": false,
     "input": [
      "FileLinks(\"./\",included_suffixes=[\".pdf\"])"
     ],
     "language": "python",
     "metadata": {},
     "outputs": [
      {
       "html": [
        "./<br>\n",
        "&nbsp;&nbsp;<a href='./PR2014_Numpy_Laplace+.pdf' target='_blank'>PR2014_Numpy_Laplace+.pdf</a><br>\n",
        "&nbsp;&nbsp;<a href='./PR2014_MPI.pdf' target='_blank'>PR2014_MPI.pdf</a><br>"
       ],
       "metadata": {},
       "output_type": "pyout",
       "prompt_number": 11,
       "text": [
        "./\n",
        "  PR2014_Numpy_Laplace+.pdf\n",
        "  PR2014_MPI.pdf"
       ]
      }
     ],
     "prompt_number": 11
    },
    {
     "cell_type": "code",
     "collapsed": false,
     "input": [],
     "language": "python",
     "metadata": {},
     "outputs": []
    }
   ],
   "metadata": {}
  }
 ]
}