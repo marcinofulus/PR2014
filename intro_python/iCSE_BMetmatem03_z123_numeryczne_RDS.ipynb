{
 "cells": [
  {
   "cell_type": "markdown",
   "metadata": {},
   "source": [
    "<h2>Równanie dyfuzji (1d)</h2>\n",
    "<p>Równanie dyfuzji w jednym wymiarze przyjmuje następującą postać:</p>\n",
    "<p>$$ \\frac{\\partial u}{\\partial t}= D \\frac{\\partial^2u}{\\partial x^2}$$</p>\n",
    "<p> </p>\n",
    "<p>Aby określić funkcje $u(x,t)$ musimy znać stan początkowy i warunku brzegowe.</p>\n",
    "<p>$$ u(x=a,t=0)=u_a \\textbf{ oraz } u(x=b,t=0)=u_b$$  </p>\n",
    "<p>lub</p>\n",
    "<p>$$ u'(x=a,t=0)=J_a \\textbf{ oraz } u'(x=b,t=0)=J_b$$</p>"
   ]
  },
  {
   "cell_type": "code",
   "execution_count": 157,
   "metadata": {
    "collapsed": false
   },
   "outputs": [
    {
     "data": {
      "text/plain": []
     },
     "execution_count": 157,
     "metadata": {},
     "output_type": "execute_result"
    }
   ],
   "source": []
  },
  {
   "cell_type": "markdown",
   "metadata": {},
   "source": [
    "<h2>Dyskretny operator Laplace'a</h2>\n",
    "<p>Zaczynamy od dyskretnej postaci operatora Laplace'a:</p>\n",
    "<p>Można przestawić go jako złożenie dwóch operatorów różnic skończonych, najlepiej w przód i w tył, tak by efekt był symetryczny.</p>"
   ]
  },
  {
   "cell_type": "code",
   "execution_count": 2,
   "metadata": {
    "collapsed": false
   },
   "outputs": [
    {
     "data": {
      "text/html": [
       "<div class=\"notruncate\">\n",
       "<table  class=\"table_form\">\n",
       "<tbody>\n",
       "<tr class =\"row-a\">\n",
       "<td><script type=\"math/tex\">\\left(\\begin{array}{rrrrrrr}\n",
       "-1 & 1 & 0 & 0 & 0 & 0 & 0 \\\\\n",
       "0 & -1 & 1 & 0 & 0 & 0 & 0 \\\\\n",
       "0 & 0 & -1 & 1 & 0 & 0 & 0 \\\\\n",
       "0 & 0 & 0 & -1 & 1 & 0 & 0 \\\\\n",
       "0 & 0 & 0 & 0 & -1 & 1 & 0 \\\\\n",
       "0 & 0 & 0 & 0 & 0 & -1 & 1 \\\\\n",
       "0 & 0 & 0 & 0 & 0 & 0 & -1\n",
       "\\end{array}\\right)</script></td>\n",
       "<td><script type=\"math/tex\">\\left(\\begin{array}{rrrrrrr}\n",
       "1 & 0 & 0 & 0 & 0 & 0 & 0 \\\\\n",
       "-1 & 1 & 0 & 0 & 0 & 0 & 0 \\\\\n",
       "0 & -1 & 1 & 0 & 0 & 0 & 0 \\\\\n",
       "0 & 0 & -1 & 1 & 0 & 0 & 0 \\\\\n",
       "0 & 0 & 0 & -1 & 1 & 0 & 0 \\\\\n",
       "0 & 0 & 0 & 0 & -1 & 1 & 0 \\\\\n",
       "0 & 0 & 0 & 0 & 0 & -1 & 1\n",
       "\\end{array}\\right)</script></td>\n",
       "<td>=</td>\n",
       "<td><script type=\"math/tex\">\\left(\\begin{array}{rrrrrrr}\n",
       "-2 & 1 & 0 & 0 & 0 & 0 & 0 \\\\\n",
       "1 & -2 & 1 & 0 & 0 & 0 & 0 \\\\\n",
       "0 & 1 & -2 & 1 & 0 & 0 & 0 \\\\\n",
       "0 & 0 & 1 & -2 & 1 & 0 & 0 \\\\\n",
       "0 & 0 & 0 & 1 & -2 & 1 & 0 \\\\\n",
       "0 & 0 & 0 & 0 & 1 & -2 & 1 \\\\\n",
       "0 & 0 & 0 & 0 & 0 & 1 & -1\n",
       "\\end{array}\\right)</script></td>\n",
       "</tr>\n",
       "</tbody>\n",
       "</table>\n",
       "</div>"
      ],
      "text/plain": [
       "  [-1  1  0  0  0  0  0]\n",
       "[ 0 -1  1  0  0  0  0]\n",
       "[ 0  0 -1  1  0  0  0]\n",
       "[ 0  0  0 -1  1  0  0]\n",
       "[ 0  0  0  0 -1  1  0]\n",
       "[ 0  0  0  0  0 -1  1]\n",
       "[ 0  0  0  0  0  0 -1]   [ 1  0  0  0  0  0  0]\n",
       "[-1  1  0  0  0  0  0]\n",
       "[ 0 -1  1  0  0  0  0]\n",
       "[ 0  0 -1  1  0  0  0]\n",
       "[ 0  0  0 -1  1  0  0]\n",
       "[ 0  0  0  0 -1  1  0]\n",
       "[ 0  0  0  0  0 -1  1]   =   [-2  1  0  0  0  0  0]\n",
       "[ 1 -2  1  0  0  0  0]\n",
       "[ 0  1 -2  1  0  0  0]\n",
       "[ 0  0  1 -2  1  0  0]\n",
       "[ 0  0  0  1 -2  1  0]\n",
       "[ 0  0  0  0  1 -2  1]\n",
       "[ 0  0  0  0  0  1 -1]"
      ]
     },
     "execution_count": 2,
     "metadata": {},
     "output_type": "execute_result"
    }
   ],
   "source": [
    "N=7\n",
    "B=-identity_matrix(N)\n",
    "for i in range(1,B.ncols()):\n",
    "    B[i-1,i]=1\n",
    "A=identity_matrix(N)\n",
    "for i in range(1,A.ncols()):\n",
    "    A[i,i-1]=-1\n",
    "table([[B,A,\"=\",B*A]])"
   ]
  },
  {
   "cell_type": "code",
   "execution_count": 4,
   "metadata": {
    "collapsed": false
   },
   "outputs": [
    {
     "data": {
      "text/html": [
       "<div class=\"notruncate\">\n",
       "<table  class=\"table_form\">\n",
       "<tbody>\n",
       "<tr class =\"row-a\">\n",
       "<td><script type=\"math/tex\">\\left(\\begin{array}{rrrrrrr}\n",
       "-1 & 1 & 0 & 0 & 0 & 0 & 0 \\\\\n",
       "0 & -1 & 1 & 0 & 0 & 0 & 0 \\\\\n",
       "0 & 0 & -1 & 1 & 0 & 0 & 0 \\\\\n",
       "0 & 0 & 0 & -1 & 1 & 0 & 0 \\\\\n",
       "0 & 0 & 0 & 0 & -1 & 1 & 0 \\\\\n",
       "0 & 0 & 0 & 0 & 0 & -1 & 1 \\\\\n",
       "0 & 0 & 0 & 0 & 0 & 0 & -1\n",
       "\\end{array}\\right)</script></td>\n",
       "<td><script type=\"math/tex\">\\left(\\begin{array}{r}\n",
       "f_{0} \\\\\n",
       "f_{1} \\\\\n",
       "f_{2} \\\\\n",
       "f_{3} \\\\\n",
       "f_{4} \\\\\n",
       "f_{5} \\\\\n",
       "f_{6}\n",
       "\\end{array}\\right)</script></td>\n",
       "<td><script type=\"math/tex\">\\left(\\begin{array}{r}\n",
       "-f_{0} + f_{1} \\\\\n",
       "-f_{1} + f_{2} \\\\\n",
       "-f_{2} + f_{3} \\\\\n",
       "-f_{3} + f_{4} \\\\\n",
       "-f_{4} + f_{5} \\\\\n",
       "-f_{5} + f_{6} \\\\\n",
       "-f_{6}\n",
       "\\end{array}\\right)</script></td>\n",
       "</tr>\n",
       "</tbody>\n",
       "</table>\n",
       "</div>"
      ],
      "text/plain": [
       "  [-1  1  0  0  0  0  0]\n",
       "[ 0 -1  1  0  0  0  0]\n",
       "[ 0  0 -1  1  0  0  0]\n",
       "[ 0  0  0 -1  1  0  0]\n",
       "[ 0  0  0  0 -1  1  0]\n",
       "[ 0  0  0  0  0 -1  1]\n",
       "[ 0  0  0  0  0  0 -1]   [f0]\n",
       "[f1]\n",
       "[f2]\n",
       "[f3]\n",
       "[f4]\n",
       "[f5]\n",
       "[f6]   [-f0 + f1]\n",
       "[-f1 + f2]\n",
       "[-f2 + f3]\n",
       "[-f3 + f4]\n",
       "[-f4 + f5]\n",
       "[-f5 + f6]\n",
       "[     -f6]"
      ]
     },
     "execution_count": 4,
     "metadata": {},
     "output_type": "execute_result"
    }
   ],
   "source": [
    "f = vector( [var('f%d'%i) for i in range(N)])\n",
    "\n",
    "table([[B,f.column(),(B*f).column()]])"
   ]
  },
  {
   "cell_type": "code",
   "execution_count": 6,
   "metadata": {
    "collapsed": false
   },
   "outputs": [
    {
     "data": {
      "text/html": [
       "<div class=\"notruncate\">\n",
       "<table  class=\"table_form\">\n",
       "<tbody>\n",
       "<tr class =\"row-a\">\n",
       "<td><script type=\"math/tex\">\\left(\\begin{array}{rrrrrrr}\n",
       "1 & 0 & 0 & 0 & 0 & 0 & 0 \\\\\n",
       "-1 & 1 & 0 & 0 & 0 & 0 & 0 \\\\\n",
       "0 & -1 & 1 & 0 & 0 & 0 & 0 \\\\\n",
       "0 & 0 & -1 & 1 & 0 & 0 & 0 \\\\\n",
       "0 & 0 & 0 & -1 & 1 & 0 & 0 \\\\\n",
       "0 & 0 & 0 & 0 & -1 & 1 & 0 \\\\\n",
       "0 & 0 & 0 & 0 & 0 & -1 & 1\n",
       "\\end{array}\\right)</script></td>\n",
       "<td><script type=\"math/tex\">\\left(\\begin{array}{r}\n",
       "f_{0} \\\\\n",
       "f_{1} \\\\\n",
       "f_{2} \\\\\n",
       "f_{3} \\\\\n",
       "f_{4} \\\\\n",
       "f_{5} \\\\\n",
       "f_{6}\n",
       "\\end{array}\\right)</script></td>\n",
       "<td><script type=\"math/tex\">\\left(\\begin{array}{r}\n",
       "f_{0} \\\\\n",
       "-f_{0} + f_{1} \\\\\n",
       "-f_{1} + f_{2} \\\\\n",
       "-f_{2} + f_{3} \\\\\n",
       "-f_{3} + f_{4} \\\\\n",
       "-f_{4} + f_{5} \\\\\n",
       "-f_{5} + f_{6}\n",
       "\\end{array}\\right)</script></td>\n",
       "</tr>\n",
       "</tbody>\n",
       "</table>\n",
       "</div>"
      ],
      "text/plain": [
       "  [ 1  0  0  0  0  0  0]\n",
       "[-1  1  0  0  0  0  0]\n",
       "[ 0 -1  1  0  0  0  0]\n",
       "[ 0  0 -1  1  0  0  0]\n",
       "[ 0  0  0 -1  1  0  0]\n",
       "[ 0  0  0  0 -1  1  0]\n",
       "[ 0  0  0  0  0 -1  1]   [f0]\n",
       "[f1]\n",
       "[f2]\n",
       "[f3]\n",
       "[f4]\n",
       "[f5]\n",
       "[f6]   [      f0]\n",
       "[-f0 + f1]\n",
       "[-f1 + f2]\n",
       "[-f2 + f3]\n",
       "[-f3 + f4]\n",
       "[-f4 + f5]\n",
       "[-f5 + f6]"
      ]
     },
     "execution_count": 6,
     "metadata": {},
     "output_type": "execute_result"
    }
   ],
   "source": [
    "table([[A,f.column(),(A*f).column()]],frame=False)"
   ]
  },
  {
   "cell_type": "code",
   "execution_count": 11,
   "metadata": {
    "collapsed": false
   },
   "outputs": [
    {
     "data": {
      "text/html": [
       "<div class=\"notruncate\">\n",
       "<table  class=\"table_form\">\n",
       "<tbody>\n",
       "<tr class =\"row-a\">\n",
       "<td><script type=\"math/tex\">\\left(\\begin{array}{rrrrrrr}\n",
       "-1 & 1 & 0 & 0 & 0 & 0 & 0 \\\\\n",
       "1 & -2 & 1 & 0 & 0 & 0 & 0 \\\\\n",
       "0 & 1 & -2 & 1 & 0 & 0 & 0 \\\\\n",
       "0 & 0 & 1 & -2 & 1 & 0 & 0 \\\\\n",
       "0 & 0 & 0 & 1 & -2 & 1 & 0 \\\\\n",
       "0 & 0 & 0 & 0 & 1 & -2 & 1 \\\\\n",
       "0 & 0 & 0 & 0 & 0 & 1 & -2\n",
       "\\end{array}\\right)</script></td>\n",
       "<td><script type=\"math/tex\">\\left(\\begin{array}{r}\n",
       "f_{0} \\\\\n",
       "f_{1} \\\\\n",
       "f_{2} \\\\\n",
       "f_{3} \\\\\n",
       "f_{4} \\\\\n",
       "f_{5} \\\\\n",
       "f_{6}\n",
       "\\end{array}\\right)</script></td>\n",
       "<td><script type=\"math/tex\">\\left(\\begin{array}{r}\n",
       "-f_{0} + f_{1} \\\\\n",
       "f_{0} - 2 \\, f_{1} + f_{2} \\\\\n",
       "f_{1} - 2 \\, f_{2} + f_{3} \\\\\n",
       "f_{2} - 2 \\, f_{3} + f_{4} \\\\\n",
       "f_{3} - 2 \\, f_{4} + f_{5} \\\\\n",
       "f_{4} - 2 \\, f_{5} + f_{6} \\\\\n",
       "f_{5} - 2 \\, f_{6}\n",
       "\\end{array}\\right)</script></td>\n",
       "</tr>\n",
       "</tbody>\n",
       "</table>\n",
       "</div>"
      ],
      "text/plain": [
       "  [-1  1  0  0  0  0  0]\n",
       "[ 1 -2  1  0  0  0  0]\n",
       "[ 0  1 -2  1  0  0  0]\n",
       "[ 0  0  1 -2  1  0  0]\n",
       "[ 0  0  0  1 -2  1  0]\n",
       "[ 0  0  0  0  1 -2  1]\n",
       "[ 0  0  0  0  0  1 -2]   [f0]\n",
       "[f1]\n",
       "[f2]\n",
       "[f3]\n",
       "[f4]\n",
       "[f5]\n",
       "[f6]   [      -f0 + f1]\n",
       "[f0 - 2*f1 + f2]\n",
       "[f1 - 2*f2 + f3]\n",
       "[f2 - 2*f3 + f4]\n",
       "[f3 - 2*f4 + f5]\n",
       "[f4 - 2*f5 + f6]\n",
       "[     f5 - 2*f6]"
      ]
     },
     "execution_count": 11,
     "metadata": {},
     "output_type": "execute_result"
    }
   ],
   "source": [
    "table([[A*B,f.column(),(A*B*f).column()]])"
   ]
  },
  {
   "cell_type": "code",
   "execution_count": 274,
   "metadata": {
    "collapsed": false
   },
   "outputs": [
    {
     "data": {
      "text/plain": []
     },
     "execution_count": 274,
     "metadata": {},
     "output_type": "execute_result"
    }
   ],
   "source": []
  },
  {
   "cell_type": "markdown",
   "metadata": {},
   "source": [
    "<p>Można też wykonać bezpośrednią konstrukcję korzystając z przybliżenia drugiej pochodnej:</p>\n",
    "<p>$$ \\displaystyle \\frac{f(x_{i+1})-2 f(x_i)+f(x_{i-1}) }{h^2}\\simeq  \\frac{\\partial^2f(x)}{\\partial x^2}(x_i)$$</p>\n",
    "<p>Możemy napisać:</p>\n",
    "<p>$$\\nabla^2 f(x) = \\frac{1}{h^2} L \\mathbf{f},  $$</p>\n",
    "<p>gdzie:</p>\n",
    "<p>$$ L = \\left(\\begin{array}{rrrr} -2.0 & 1.0 & 0.0 & 0.0 \\\\ 1.0 & -2.0 & 1.0 & 0.0 \\\\ 0.0 & 1.0 & -2.0 & 1.0 \\\\ 0.0 & 0.0 & 1.0 & -2.0 \\end{array}\\right)$$</p>\n",
    "<p>a $\\mathbf{f}$ jest wektorem wartości funkcji wypróbkowanym na dziedzinie.</p>\n",
    "<p> </p>\n",
    "<p> </p>"
   ]
  },
  {
   "cell_type": "code",
   "execution_count": 12,
   "metadata": {
    "collapsed": false
   },
   "outputs": [
    {
     "data": {
      "text/html": [
       "<html><script type=\"math/tex; mode=display\">\\newcommand{\\Bold}[1]{\\mathbf{#1}}\\left(\\begin{array}{rrrrrrr}\n",
       "-2.0 & 1.0 & 0.0 & 0.0 & 0.0 & 0.0 & 1.0 \\\\\n",
       "1.0 & -2.0 & 1.0 & 0.0 & 0.0 & 0.0 & 0.0 \\\\\n",
       "0.0 & 1.0 & -2.0 & 1.0 & 0.0 & 0.0 & 0.0 \\\\\n",
       "0.0 & 0.0 & 1.0 & -2.0 & 1.0 & 0.0 & 0.0 \\\\\n",
       "0.0 & 0.0 & 0.0 & 1.0 & -2.0 & 1.0 & 0.0 \\\\\n",
       "0.0 & 0.0 & 0.0 & 0.0 & 1.0 & -2.0 & 1.0 \\\\\n",
       "1.0 & 0.0 & 0.0 & 0.0 & 0.0 & 1.0 & -2.0\n",
       "\\end{array}\\right)</script></html>"
      ],
      "text/plain": [
       "[-2.0  1.0  0.0  0.0  0.0  0.0  1.0]\n",
       "[ 1.0 -2.0  1.0  0.0  0.0  0.0  0.0]\n",
       "[ 0.0  1.0 -2.0  1.0  0.0  0.0  0.0]\n",
       "[ 0.0  0.0  1.0 -2.0  1.0  0.0  0.0]\n",
       "[ 0.0  0.0  0.0  1.0 -2.0  1.0  0.0]\n",
       "[ 0.0  0.0  0.0  0.0  1.0 -2.0  1.0]\n",
       "[ 1.0  0.0  0.0  0.0  0.0  1.0 -2.0]"
      ]
     },
     "metadata": {},
     "output_type": "display_data"
    }
   ],
   "source": [
    "N=7\n",
    "L = matrix(RDF,N)\n",
    "for i in range(1,N-1):\n",
    "    L[i,i-1],L[i,i],L[i,i+1] = 1,-2, 1\n",
    "L[0,0],L[0,1],L[0,-1] = -2, 1, 1\n",
    "L[-1,-1],L[-1,-2],L[-1,0] = -2, 1, 1    \n",
    "show(L[:10,:10])"
   ]
  },
  {
   "cell_type": "markdown",
   "metadata": {},
   "source": [
    "<p>Można też skorzystać z definicji i obliczyć przybliżenie pochodnej stosując technikę \"array slicing\". Na przykład używając wydajnych numerycznie tablic numpy mamy:</p>"
   ]
  },
  {
   "cell_type": "code",
   "execution_count": 14,
   "metadata": {
    "collapsed": false
   },
   "outputs": [
    {
     "data": {
      "text/html": [
       "<div class=\"notruncate\">\n",
       "<table  class=\"table_form\">\n",
       "<tbody>\n",
       "<tr class =\"row-a\">\n",
       "<td><script type=\"math/tex\">\\text{\\texttt{[{ }1.{ }{ }1.{ }{ }2.{ }{ }1.{ }{ }1.{ }{ }4.{ }{ }3.{ }{ }4.{ }{ }3.{ }{ }2.]}}</script></td>\n",
       "</tr>\n",
       "<tr class =\"row-b\">\n",
       "<td><script type=\"math/tex\">\\text{\\texttt{[{ }0.{ }{ }1.{ }{ }1.{ }{ }2.{ }{ }1.{ }{ }1.{ }{ }4.{ }{ }3.{ }{ }4.{ }{ }0.]}}</script></td>\n",
       "</tr>\n",
       "<tr class =\"row-a\">\n",
       "<td><script type=\"math/tex\">\\text{\\texttt{[{ }0.{ }{ }2.{ }{ }1.{ }{ }1.{ }{ }4.{ }{ }3.{ }{ }4.{ }{ }3.{ }{ }2.{ }{ }0.]}}</script></td>\n",
       "</tr>\n",
       "<tr class =\"row-b\">\n",
       "<td><script type=\"math/tex\">\\text{\\texttt{[{ }0.{ }{-}2.{ }{-}4.{ }{-}2.{ }{-}2.{ }{-}8.{ }{-}6.{ }{-}8.{ }{-}6.{ }{ }0.]}}</script></td>\n",
       "</tr>\n",
       "<tr class =\"row-a\">\n",
       "<td>=</td>\n",
       "</tr>\n",
       "<tr class =\"row-b\">\n",
       "<td><script type=\"math/tex\">\\text{\\texttt{[{ }0.{ }{ }1.{ }{-}2.{ }{ }1.{ }{ }3.{ }{-}4.{ }{ }2.{ }{-}2.{ }{ }0.{ }{ }0.]}}</script></td>\n",
       "</tr>\n",
       "</tbody>\n",
       "</table>\n",
       "</div>"
      ],
      "text/plain": [
       "  [ 1.  1.  2.  1.  1.  4.  3.  4.  3.  2.]\n",
       "  [ 0.  1.  1.  2.  1.  1.  4.  3.  4.  0.]\n",
       "  [ 0.  2.  1.  1.  4.  3.  4.  3.  2.  0.]\n",
       "  [ 0. -2. -4. -2. -2. -8. -6. -8. -6.  0.]\n",
       "  =\n",
       "  [ 0.  1. -2.  1.  3. -4.  2. -2.  0.  0.]"
      ]
     },
     "execution_count": 14,
     "metadata": {},
     "output_type": "execute_result"
    }
   ],
   "source": [
    "import numpy as np\n",
    "u = np.random.randint(5,size=10)*1.0\n",
    "a = np.zeros_like(u)\n",
    "b = np.zeros_like(u)\n",
    "c = np.zeros_like(u)\n",
    "d = np.zeros_like(u)\n",
    "a[1:-1]=u[2:]-2.0*u[1:-1]+u[:-2]\n",
    "b[1:-1]=u[2:]\n",
    "c[1:-1]=-2.0*u[1:-1]\n",
    "d[1:-1]=u[:-2]\n",
    "table([[u],[d],[b],[c],'=',[a]])"
   ]
  },
  {
   "cell_type": "markdown",
   "metadata": {},
   "source": [
    "<p>Dalej, będziemy dla wygody stosować skonczony operator liniowy $L$.  Zobaczny jak działa taki operator na dolowlną funkcję wypróbkowaną na równoodległych punktach</p>"
   ]
  },
  {
   "cell_type": "code",
   "execution_count": 16,
   "metadata": {
    "collapsed": false
   },
   "outputs": [
    {
     "data": {
      "text/html": [
       "<div class=\"notruncate\">\n",
       "<table  class=\"table_form\">\n",
       "<tbody>\n",
       "<tr class =\"row-a\">\n",
       "<td><script type=\"math/tex\">\\left(\\begin{array}{rrrrrrr}\n",
       "-2.0 & 1.0 & 0.0 & 0.0 & 0.0 & 0.0 & 1.0 \\\\\n",
       "1.0 & -2.0 & 1.0 & 0.0 & 0.0 & 0.0 & 0.0 \\\\\n",
       "0.0 & 1.0 & -2.0 & 1.0 & 0.0 & 0.0 & 0.0 \\\\\n",
       "0.0 & 0.0 & 1.0 & -2.0 & 1.0 & 0.0 & 0.0 \\\\\n",
       "0.0 & 0.0 & 0.0 & 1.0 & -2.0 & 1.0 & 0.0 \\\\\n",
       "0.0 & 0.0 & 0.0 & 0.0 & 1.0 & -2.0 & 1.0 \\\\\n",
       "1.0 & 0.0 & 0.0 & 0.0 & 0.0 & 1.0 & -2.0\n",
       "\\end{array}\\right)</script></td>\n",
       "<td><script type=\"math/tex\">\\cdot</script></td>\n",
       "<td><script type=\"math/tex\">\\left(\\begin{array}{r}\n",
       "f_{0} \\\\\n",
       "f_{1} \\\\\n",
       "f_{2} \\\\\n",
       "f_{3} \\\\\n",
       "f_{4} \\\\\n",
       "f_{5} \\\\\n",
       "f_{6}\n",
       "\\end{array}\\right)</script></td>\n",
       "<td><script type=\"math/tex\">=</script></td>\n",
       "<td><script type=\"math/tex\">\\left(\\begin{array}{r}\n",
       "-2.0 \\, f_{0} + 1.0 \\, f_{1} + 1.0 \\, f_{6} \\\\\n",
       "f_{0} - 2.0 \\, f_{1} + 1.0 \\, f_{2} \\\\\n",
       "f_{1} - 2.0 \\, f_{2} + 1.0 \\, f_{3} \\\\\n",
       "f_{2} - 2.0 \\, f_{3} + 1.0 \\, f_{4} \\\\\n",
       "f_{3} - 2.0 \\, f_{4} + 1.0 \\, f_{5} \\\\\n",
       "f_{4} - 2.0 \\, f_{5} + 1.0 \\, f_{6} \\\\\n",
       "f_{0} + 1.0 \\, f_{5} - 2.0 \\, f_{6}\n",
       "\\end{array}\\right)</script></td>\n",
       "</tr>\n",
       "</tbody>\n",
       "</table>\n",
       "</div>"
      ],
      "text/plain": [
       "  [-2.0  1.0  0.0  0.0  0.0  0.0  1.0]\n",
       "[ 1.0 -2.0  1.0  0.0  0.0  0.0  0.0]\n",
       "[ 0.0  1.0 -2.0  1.0  0.0  0.0  0.0]\n",
       "[ 0.0  0.0  1.0 -2.0  1.0  0.0  0.0]\n",
       "[ 0.0  0.0  0.0  1.0 -2.0  1.0  0.0]\n",
       "[ 0.0  0.0  0.0  0.0  1.0 -2.0  1.0]\n",
       "[ 1.0  0.0  0.0  0.0  0.0  1.0 -2.0]   $\\cdot$   [f0]\n",
       "[f1]\n",
       "[f2]\n",
       "[f3]\n",
       "[f4]\n",
       "[f5]\n",
       "[f6]   $=$   [-2.0*f0 + 1.0*f1 + 1.0*f6]\n",
       "[     f0 - 2.0*f1 + 1.0*f2]\n",
       "[     f1 - 2.0*f2 + 1.0*f3]\n",
       "[     f2 - 2.0*f3 + 1.0*f4]\n",
       "[     f3 - 2.0*f4 + 1.0*f5]\n",
       "[     f4 - 2.0*f5 + 1.0*f6]\n",
       "[     f0 + 1.0*f5 - 2.0*f6]"
      ]
     },
     "execution_count": 16,
     "metadata": {},
     "output_type": "execute_result"
    }
   ],
   "source": [
    "f = vector( [var('f%d'%i) for i in range(N)])\n",
    "table([[L,'$\\cdot$',f.column() ,'$=$',  (L*f).column() ]])"
   ]
  },
  {
   "cell_type": "code",
   "execution_count": 176,
   "metadata": {
    "collapsed": false
   },
   "outputs": [
    {
     "data": {
      "text/plain": []
     },
     "execution_count": 176,
     "metadata": {},
     "output_type": "execute_result"
    }
   ],
   "source": [
    "#print  latex(L), latex(f.column()), latex((L*f).column() )\n",
    "#var('dt,D')\n",
    "#f = vector( [var('u_i%d'%i) for i in range(N)])\n",
    "#print latex(identity_matrix(N)),latex(dt*D), latex(L), latex(f.column()), latex((L*f).column() )"
   ]
  },
  {
   "cell_type": "code",
   "execution_count": 178,
   "metadata": {
    "collapsed": false
   },
   "outputs": [
    {
     "data": {
      "text/plain": []
     },
     "execution_count": 178,
     "metadata": {},
     "output_type": "execute_result"
    }
   ],
   "source": []
  },
  {
   "cell_type": "markdown",
   "metadata": {},
   "source": [
    "<h2>Numeryczne rozwiązywanie jednowymiarowego równania dyfuzji</h2>\n",
    "<p>Równanie dyfuzji możemy zdyskretyzować w dziedzinie czasowej stosując  jawny lub niejawny schemat Eulera i zastępując Laplace'an jego dyskretnym odpowiednikiem:</p>\n",
    "<p>$$u^{i+1}  = u^i + \\left[ \\frac{D dt}{h^2} \\right] Lu^i.$$</p>\n",
    "<p>Schemat, jak i jego zbieżność zależą od jednej stałej $\\frac{D dt}{h^2}$, zwanej też <a title=\"CFL\" href=\"http://pl.wikipedia.org/wiki/Warunek_Couranta-Friedrichsa-Lewy'ego\" target=\"_blank\">liczbą Couranta</a>, w której tkwią zarówno wielkości fizyczne jak i dyskretyzacja układu. Dalej, zapisując układ iteracji jako:</p>\n",
    "<p>$$u^{i+1}  = \\left( I + L\\frac{D dt}{h^2}  \\right) u^i,$$</p>\n",
    "<p>widzimy, że rozwiązanie jest potęgami $L_t^1,L_t^2,L_t^3,\\dots,L_t^n$ operatora</p>\n",
    "<p>$$L_t= I +  \\frac{D dt}{h^2}  L.$$</p>\n",
    "<p>Schemat niejawny zawiera wartość $u$ w  chwili $i+1$ po prawej stronie:</p>\n",
    "<p>$$u^{i+1}  = u^i + \\left[ \\frac{D dt}{h^2} \\right] Lu^{i+1},$$</p>\n",
    "<p>co przepisując szukaną $u_{i+1}$ na prawą stronę daje nam niejednorodny układ rówń liniowych:</p>\n",
    "<p>$$ \\left( I - \\frac{D dt}{h^2} L \\right) u^{i+1}= u^{i}.$$</p>\n",
    "<p>W przypadku małego $dt$ schematy te są równoważne. Korzystając z twierdzenia o macierzowym szeregu geometrycznym, lub rozwinięcia  w szereg Taylora funkcji  macierzowej (<a href=\"http://en.wikipedia.org/wiki/Matrix_function\">link</a>) mamy:</p>\n",
    "<p>$$ \\left({I -\\epsilon A}\\right)^{-1} = I+\\epsilon A+ \\epsilon^2 A^2 \\dots $$</p>\n",
    "<p>Widzimy, że formalnie rozwiązując układ równań liniowych ze schematu niejawnego, biorąc wyrazy liniowe w $dt$ dostajemy schemat jawny.</p>\n",
    "<p> </p>\n",
    "<p> </p>"
   ]
  },
  {
   "cell_type": "code",
   "execution_count": 17,
   "metadata": {
    "collapsed": false
   },
   "outputs": [
    {
     "name": "stdout",
     "output_type": "stream",
     "text": [
      "(0.0, 0.0, 0.0, 1.0, 0.0, 0.0, 0.0)\n",
      "(0.0, 0.0, 1.0, -2.0, 1.0, 0.0, 0.0)\n"
     ]
    }
   ],
   "source": [
    "u = vector(RDF,[0,0,0,1,0,0,0])\n",
    "print u\n",
    "print L*u"
   ]
  },
  {
   "cell_type": "code",
   "execution_count": 228,
   "metadata": {
    "collapsed": false
   },
   "outputs": [
    {
     "data": {
      "text/plain": []
     },
     "execution_count": 228,
     "metadata": {},
     "output_type": "execute_result"
    }
   ],
   "source": []
  },
  {
   "cell_type": "markdown",
   "metadata": {},
   "source": [
    "<h2>Warunki brzegowe.</h2>\n",
    "<p>Dyskretny operator Laplace'a w 1d potrzebuje wartości funkcji z dwóch węzłów sąsiadujących z węzłem w którym obliczamy wartosc laplasjanu. Jeśli punkt ten znajduje się na brzegu obszaru to brakuje informacji by obliczyć poprawny operator. Informację tą trzeba dostarczyc w postaci warunku brzegowego by problem miał jednoznaczne rozwiązanie. Przykładem warunku brzegowego może być:</p>\n",
    "<ol>\n",
    "<li>Warunek Dirichleta: $u(0)=u_0$. Np. wartość koncentracji na brzegu. Jeśli wartość ta jest zero to taka sytuacja jest zwana warunkiem pochłaniającym.</li>\n",
    "<li>Warunek von Neumanna: $J(0) =( \\partial_x u)(0)=J_0$. Np. wielkość strumienia na brzegu. Jeśli dla równania adwekcji-dyfuzji strumień przez ściankę wynosi zero to warunek jest nazywany odbijającym. </li>\n",
    "<li>Okresowy warunek brzegowy: efektywne pozbycie się brzegu przez wprowadzenie innej topologii. Każdy węzeł ma identyczną wartość jak węzeł po drugiej stronie układu, którym jest najczęściej kostka n-wymiarowa. W przypadku odcinka, warunek efektywnie rozwiązuje badanie równanie na okręgu. </li>\n",
    "</ol>"
   ]
  },
  {
   "cell_type": "code",
   "execution_count": 183,
   "metadata": {
    "collapsed": false
   },
   "outputs": [
    {
     "data": {
      "text/plain": []
     },
     "execution_count": 183,
     "metadata": {},
     "output_type": "execute_result"
    }
   ],
   "source": []
  },
  {
   "cell_type": "markdown",
   "metadata": {},
   "source": [
    "<h2>Warunki Dirichleta</h2>\n",
    "<p>Załóżmy, że nakładamy warunek Dirichleta na końcach przedziału: $u_0=1$ i $u_{N-1}=2$. Oznacza to, że w ewolucji czasonej wektora $u$, wartości na brzegu będą zawsze utrzymywane \"zewnetrznie\" na zadanych wartościach. Biorąc jawny schemat mamy:</p>\n",
    "<p>$$</p>\n",
    "<p>\\left(\\begin{array}{r}\\mathbf{u_0^{i+1}}\\\\u_1^{i+1}\\\\u_2^{i+1}\\\\u_3^{i+1}\\\\\\mathbf{u_4^{i+1}}\\end{array}\\right) =</p>\n",
    "<p>\\underbrace{</p>\n",
    "<p>\\left[    \\left(\\begin{array}{rrrrr}\\mathbf{ 1 }& 0 & 0 & 0 & 0 \\\\ 0 & 1 & 0 & 0 & 0 \\\\ 0 & 0 & 1 & 0 & 0 \\\\ 0 & 0 & 0 & 1 & 0 \\\\ 0 & 0 & 0 & 0 & 1 \\end{array}\\right) +\\frac{dt  D}{h^2}  \\left(\\begin{array}{rrrrr} -2.0 & 1.0 & 0.0 & 0.0 & 0.0 \\\\ 1.0 & -2.0 & 1.0 & 0.0 & 0.0 \\\\ 0.0 & 1.0 & -2.0 & 1.0 & 0.0 \\\\ 0.0 & 0.0 & 1.0 & -2.0 & 1.0 \\\\ 0.0 & 0.0 & 0.0 & 1.0 & -2.0 \\end{array}\\right)\\right]</p>\n",
    "<p>}_{L_t}</p>\n",
    "<p>\\left(\\begin{array}{r}\\mathbf{u_0^i}\\\\u_1^i\\\\u_2^i\\\\u_3^i\\\\\\mathbf{u_4^i}\\end{array}\\right) </p>\n",
    "<p> $$</p>\n",
    "<p> </p>\n",
    "<p>otrzymamy po każdym kroku wartości $u_0^{i+1}$ i $u_4^{i+1}$, które nie będą spełniały dokładnie warunku brzegowego. Należy wieć po każdym kroku wymusić wartości:</p>\n",
    "<p>$$</p>\n",
    "<p>u_0^{i+1}=1 \\quad u_4^{i+1}=2</p>\n",
    "<p>$$ </p>\n",
    "<p>Zauważmy, że wtedy w kolejnym kroku wartościami krańcowymi wektora $u$ będą wielkości zgodne z warunkami i będą dawały poprawny przyczynek do swoich sąsiadów.</p>\n",
    "<p>Warunki Dirichleta, są zwane \"istotnymi warunkami brzegowymi\" (essential boundary conditions). Nie da się tak zmodyfikować dyskretnego operatora $L$ by automatycznie spełniał te warunki i muszą być dołączone dodatkowo w schemacie numerycznym.</p>\n",
    "<p> </p>\n",
    "<p> </p>\n",
    "<p> </p>"
   ]
  },
  {
   "cell_type": "code",
   "execution_count": 18,
   "metadata": {
    "collapsed": false
   },
   "outputs": [
    {
     "data": {
      "text/html": [
       "<html><script type=\"math/tex; mode=display\">\\newcommand{\\Bold}[1]{\\mathbf{#1}}\\left(\\begin{array}{rrrrrrr}\n",
       "1.0 & 0.0 & 0.0 & 0.0 & 0.0 & 0.0 & 0.0 \\\\\n",
       "1.0 & -2.0 & 1.0 & 0.0 & 0.0 & 0.0 & 0.0 \\\\\n",
       "0.0 & 1.0 & -2.0 & 1.0 & 0.0 & 0.0 & 0.0 \\\\\n",
       "0.0 & 0.0 & 1.0 & -2.0 & 1.0 & 0.0 & 0.0 \\\\\n",
       "0.0 & 0.0 & 0.0 & 1.0 & -2.0 & 1.0 & 0.0 \\\\\n",
       "0.0 & 0.0 & 0.0 & 0.0 & 1.0 & -2.0 & 1.0 \\\\\n",
       "0.0 & 0.0 & 0.0 & 0.0 & 0.0 & 0.0 & 1.0\n",
       "\\end{array}\\right)</script></html>"
      ],
      "text/plain": [
       "[ 1.0  0.0  0.0  0.0  0.0  0.0  0.0]\n",
       "[ 1.0 -2.0  1.0  0.0  0.0  0.0  0.0]\n",
       "[ 0.0  1.0 -2.0  1.0  0.0  0.0  0.0]\n",
       "[ 0.0  0.0  1.0 -2.0  1.0  0.0  0.0]\n",
       "[ 0.0  0.0  0.0  1.0 -2.0  1.0  0.0]\n",
       "[ 0.0  0.0  0.0  0.0  1.0 -2.0  1.0]\n",
       "[ 0.0  0.0  0.0  0.0  0.0  0.0  1.0]"
      ]
     },
     "metadata": {},
     "output_type": "display_data"
    }
   ],
   "source": [
    "# Dirichlet\n",
    "def init_L(N=7):\n",
    "\n",
    "    L = matrix(RDF,N)\n",
    "    for i in range(1,N-1):\n",
    "        L[i,i-1],L[i,i],L[i,i+1] = 1,-2, 1\n",
    "    L[0,0],L[-1,-1] = 1, 1\n",
    "    return L\n",
    "    \n",
    "def essential_boundary_conditions(u):\n",
    "    u[0] = 1.2\n",
    "    u[-1] = 2.1\n",
    "\n",
    "L = init_L(7)\n",
    "\n",
    "show(L[:10,:10])"
   ]
  },
  {
   "cell_type": "markdown",
   "metadata": {},
   "source": [
    "<h2>Okresowy warunek brzegowy</h2>\n",
    "<p>Okresowy warunek brzegowy w przypadku jednowymiarowym polega na utożsamieniu $u_0=u_{N}$. Obszar na którym rozwiązywane jest równanie jest topologicznie równoważny okręgowi. Okrąg nie posiada brzegu więc problem jest dobrze określony - nie ma gdzie zadawać warunku brzegowego. </p>\n",
    "<p>Warunek ten można zaimplementowac modyfikująć dyskretny operator Laplace'a $L$ tak by:</p>\n",
    "<p>$L_{0,N-1}=1$ i $L_{N-1,0}=1$. Niech $N=5$, mamy:</p>\n",
    "<p>$$  \\left(\\begin{array}{rrrrr} -2.0 & 1.0 & 0.0 & 0.0 & 1.0 \\\\ 1.0 & -2.0 & 1.0 & 0.0 & 0.0 \\\\ 0.0 & 1.0 & -2.0 & 1.0 & 0.0 \\\\ 0.0 & 0.0 & 1.0 & -2.0 & 1.0 \\\\ 1.0 & 0.0 & 0.0 & 1.0 & -2.0 \\end{array}\\right) \\left(\\begin{array}{r} f_{0} \\\\ f_{1} \\\\ f_{2} \\\\ f_{3} \\\\ f_{4} \\end{array}\\right) \\left(\\begin{array}{r} -2.0 \\, f_{0} + f_{1} + f_{4} \\\\ f_{0} - 2.0 \\, f_{1} + f_{2} \\\\ f_{1} - 2.0 \\, f_{2} + f_{3} \\\\ f_{2} - 2.0 \\, f_{3} + f_{4} \\\\ f_{0} + f_{3} - 2.0 \\, f_{4} \\end{array}\\right)   $$</p>\n",
    "<p>Widać, że taki operator oblicza poprawnie Laplacjan dla punktów skrajcym, biarąc za brakujące punkty $u_{-1}$ i  $u_5$, odpowiednio: $u_{4}$ oraz  $u_0$.</p>\n",
    "<p> </p>"
   ]
  },
  {
   "cell_type": "code",
   "execution_count": 19,
   "metadata": {
    "collapsed": false
   },
   "outputs": [
    {
     "data": {
      "text/html": [
       "<html><script type=\"math/tex; mode=display\">\\newcommand{\\Bold}[1]{\\mathbf{#1}}\\left(\\begin{array}{rrrrrrr}\n",
       "-2.0 & 1.0 & 0.0 & 0.0 & 0.0 & 0.0 & 1.0 \\\\\n",
       "1.0 & -2.0 & 1.0 & 0.0 & 0.0 & 0.0 & 0.0 \\\\\n",
       "0.0 & 1.0 & -2.0 & 1.0 & 0.0 & 0.0 & 0.0 \\\\\n",
       "0.0 & 0.0 & 1.0 & -2.0 & 1.0 & 0.0 & 0.0 \\\\\n",
       "0.0 & 0.0 & 0.0 & 1.0 & -2.0 & 1.0 & 0.0 \\\\\n",
       "0.0 & 0.0 & 0.0 & 0.0 & 1.0 & -2.0 & 1.0 \\\\\n",
       "1.0 & 0.0 & 0.0 & 0.0 & 0.0 & 1.0 & -2.0\n",
       "\\end{array}\\right)</script></html>"
      ],
      "text/plain": [
       "[-2.0  1.0  0.0  0.0  0.0  0.0  1.0]\n",
       "[ 1.0 -2.0  1.0  0.0  0.0  0.0  0.0]\n",
       "[ 0.0  1.0 -2.0  1.0  0.0  0.0  0.0]\n",
       "[ 0.0  0.0  1.0 -2.0  1.0  0.0  0.0]\n",
       "[ 0.0  0.0  0.0  1.0 -2.0  1.0  0.0]\n",
       "[ 0.0  0.0  0.0  0.0  1.0 -2.0  1.0]\n",
       "[ 1.0  0.0  0.0  0.0  0.0  1.0 -2.0]"
      ]
     },
     "metadata": {},
     "output_type": "display_data"
    }
   ],
   "source": [
    "# PBC\n",
    "def init_L_pbc(N=7):\n",
    "    L = matrix(RDF,N)\n",
    "    for i in range(1,N-1):\n",
    "        L[i,i-1],L[i,i],L[i,i+1] = 1,-2, 1\n",
    "    L[0,0],L[0,1],L[0,-1] = -2, 1, 1\n",
    "    L[-1,-1],L[-1,-2],L[-1,0] = -2, 1, 1    \n",
    "    return L    \n",
    "def essential_boundary_conditions(u):\n",
    "    pass\n",
    "\n",
    "L  = init_L_pbc(7)\n",
    "show(L[:10,:10])"
   ]
  },
  {
   "cell_type": "code",
   "execution_count": 225,
   "metadata": {
    "collapsed": false
   },
   "outputs": [
    {
     "data": {
      "text/plain": [
       "7"
      ]
     },
     "execution_count": 225,
     "metadata": {},
     "output_type": "execute_result"
    }
   ],
   "source": [
    "L.rank()"
   ]
  },
  {
   "cell_type": "code",
   "execution_count": 231,
   "metadata": {
    "collapsed": false
   },
   "outputs": [
    {
     "data": {
      "text/plain": []
     },
     "execution_count": 231,
     "metadata": {},
     "output_type": "execute_result"
    }
   ],
   "source": []
  },
  {
   "cell_type": "markdown",
   "metadata": {},
   "source": [
    "<h2>Warunek von Neumanna</h2>\n",
    "<p>W przypadku ogólnym, rozważmy  równania dające się zapisać w postaci prawa zachowania:</p>\n",
    "<p>$$\\frac{\\partial u}{\\partial t} = -  \\nabla \\cdot \\vec J,$$</p>\n",
    "<p>gdzie $J$ to strumień pola $u$. Równanie dyfuzji można przedstawić z tej postaci przy założeniu że:</p>\n",
    "<p>$$\\vec J = - \\vec\\nabla u$$</p>\n",
    "<p>Jeśli równanie zawiera człon adwekcyjny (tzn proporcjonalny do pierwszej pochodnej) to strumień będzie zawierał dodatkowe człony.</p>\n",
    "<p>Widać, że przypadku jednowymiarowego równania dyfizji warunek von Neumanna jest efektywnie  warunkiem na pochodną funkcji na brzegu:</p>\n",
    "<p>$$\\frac{u_1-u_0}{h}=-J$$</p>\n",
    "<p>Przypadkiem szczególnym warunku Neumanna jest bariera odbijająca, w której zakładamy że strumień cząstek opisywanych gęstością lub stężeniem $u$ przez barierę wynosi zero. W takim przypadku można napisać operator Laplace'a, który będzie konsystentny z tym warunkiem:</p>\n",
    "<p>$$</p>\n",
    "<p>\\left(\\begin{array}{rrrrr} -1.0 & 1.0 & 0.0 & 0.0 & 0.0 \\\\ 1.0 & -2.0 & 1.0 & 0.0 & 0.0 \\\\ 0.0 & 1.0 & -2.0 & 1.0 & 0.0 \\\\ 0.0 & 0.0 & 1.0 & -2.0 & 1.0 \\\\ 0.0 & 0.0 & 0.0 & 1.0 & -1.0 \\end{array}\\right) \\left(\\begin{array}{r} f_{0} \\\\ f_{1} \\\\ f_{2} \\\\ f_{3} \\\\ f_{4} \\end{array}\\right)</p>\n",
    "<p>= \\left(\\begin{array}{r} -f_{0} + f_{1} \\\\ f_{0} - 2.0 \\, f_{1} + f_{2} \\\\ f_{1} - 2.0 \\, f_{2} + f_{3} \\\\ f_{2} - 2.0 \\, f_{3} + f_{4} \\\\ f_{3} - f_{4} \\end{array}\\right) $$</p>\n",
    "<p>Widać, że taki operator, zamiast drugiej pochodnej w punktach skrajnych oblicza pierwszą pochodną. Intuicyjnie,  działanie operatora ewolucji  na dowolny wektor będzie poprawiało wartość w pierwszym i ostatnim węźle tak długo aż pierwsze pochodne będą zero. </p>\n",
    "<p>Warto odnotować, że taki operator ma rząd o jednej mniejszy od wymiaru. Wynika z tego, że rozwiązanie zerowe spełnia takie równanie. Rzeczywiście: równanie dyfuzji na obszarze z odbijającymi scianami jest spełnione jeśli w układzie nie ma cząstek! Ponadto widać, że jesli rozwiązanie jest określone co do wartości stałej multyplikatywnej.</p>\n",
    "<p> </p>"
   ]
  },
  {
   "cell_type": "code",
   "execution_count": 20,
   "metadata": {
    "collapsed": false
   },
   "outputs": [
    {
     "data": {
      "text/html": [
       "<html><script type=\"math/tex; mode=display\">\\newcommand{\\Bold}[1]{\\mathbf{#1}}\\left(\\begin{array}{rrrrrrr}\n",
       "-1.0 & 1.0 & 0.0 & 0.0 & 0.0 & 0.0 & 0.0 \\\\\n",
       "1.0 & -2.0 & 1.0 & 0.0 & 0.0 & 0.0 & 0.0 \\\\\n",
       "0.0 & 1.0 & -2.0 & 1.0 & 0.0 & 0.0 & 0.0 \\\\\n",
       "0.0 & 0.0 & 1.0 & -2.0 & 1.0 & 0.0 & 0.0 \\\\\n",
       "0.0 & 0.0 & 0.0 & 1.0 & -2.0 & 1.0 & 0.0 \\\\\n",
       "0.0 & 0.0 & 0.0 & 0.0 & 1.0 & -2.0 & 1.0 \\\\\n",
       "0.0 & 0.0 & 0.0 & 0.0 & 0.0 & 1.0 & -1.0\n",
       "\\end{array}\\right)</script></html>"
      ],
      "text/plain": [
       "[-1.0  1.0  0.0  0.0  0.0  0.0  0.0]\n",
       "[ 1.0 -2.0  1.0  0.0  0.0  0.0  0.0]\n",
       "[ 0.0  1.0 -2.0  1.0  0.0  0.0  0.0]\n",
       "[ 0.0  0.0  1.0 -2.0  1.0  0.0  0.0]\n",
       "[ 0.0  0.0  0.0  1.0 -2.0  1.0  0.0]\n",
       "[ 0.0  0.0  0.0  0.0  1.0 -2.0  1.0]\n",
       "[ 0.0  0.0  0.0  0.0  0.0  1.0 -1.0]"
      ]
     },
     "metadata": {},
     "output_type": "display_data"
    }
   ],
   "source": [
    "# von Neumann/reflecting BC\n",
    "def init_L_ref(N=7):\n",
    "    L = matrix(RDF,N)\n",
    "    for i in range(1,N-1):\n",
    "        L[i,i-1],L[i,i],L[i,i+1] = 1,-2, 1\n",
    "    L[0,0],L[0,1] = -1, 1\n",
    "    L[-1,-1],L[-1,-2] = -1, 1\n",
    "    return L\n",
    "    \n",
    "def essential_boundary_conditions(u):\n",
    "    pass\n",
    "\n",
    "L = init_L_ref(7)\n",
    "\n",
    "show(L[:10,:10])"
   ]
  },
  {
   "cell_type": "code",
   "execution_count": 226,
   "metadata": {
    "collapsed": false
   },
   "outputs": [
    {
     "data": {
      "text/plain": [
       "6"
      ]
     },
     "execution_count": 226,
     "metadata": {},
     "output_type": "execute_result"
    }
   ],
   "source": [
    "L.rank()"
   ]
  },
  {
   "cell_type": "code",
   "execution_count": 168,
   "metadata": {
    "collapsed": false
   },
   "outputs": [
    {
     "data": {
      "text/plain": []
     },
     "execution_count": 168,
     "metadata": {},
     "output_type": "execute_result"
    }
   ],
   "source": []
  },
  {
   "cell_type": "code",
   "execution_count": 21,
   "metadata": {
    "collapsed": false
   },
   "outputs": [
    {
     "data": {
      "text/html": [
       "<html><script type=\"math/tex; mode=display\">\\newcommand{\\Bold}[1]{\\mathbf{#1}}\\left[-0.521, -0.299, 0.0220, 0.378, 0.699, 0.921, 1.00\\right]</script></html>"
      ],
      "text/plain": [
       "[-0.521, -0.299, 0.0220, 0.378, 0.699, 0.921, 1.00]"
      ]
     },
     "metadata": {},
     "output_type": "display_data"
    }
   ],
   "source": [
    "Lt=identity_matrix(N)+0.40*L\n",
    "eig = list(Lt.eigenvalues())\n",
    "eig_s = sorted(map(lambda x:x.n(digits=3),map(real,eig)))\n",
    "show(eig_s)"
   ]
  },
  {
   "cell_type": "markdown",
   "metadata": {},
   "source": [
    "<h2>Stabilność i własności operatora $L_t$</h2>\n",
    "<p> </p>\n",
    "<p>Sprawdźmy wartości własne operatora $L_t=I+\\frac{D dt}{h^2}L$, dla różnych wartości stałej $C=\\frac{D dt}{h^2}$. Zacznijmy od małej wartości np: $C=0.2$. Dla $N=5$ i operatora z okresowymi warunkami brzegowymi otrzymujemy:</p>\n",
    "<p>$$\\left[0.240, 0.240, 0.511, 0.511, 0.849, 0.849, 1.00\\right].$$</p>\n",
    "<p>Widać, że wartości własne są rzeczywiste, dodatnie, mniejsze od jednego z wyjątkiem jednej. Ewolucja czasowa układu jest dana przez potęgi operatora $L_t$: $$L_t^1,L_t^2,L_t^3,\\dots,L_t^n.$$ Oznacza to, że kolejne iteracje będą wygaszać składowe wektora wzdłuż wszystkich wektorów własnych, z wyjątkiem tego należącego do wartości jeden, która to będzie stanem stacjonarnym.</p>\n",
    "<p>Niech $C=0.4$, otrzymujemy wtedy:</p>\n",
    "<p>$$\\left[-0.521, -0.521, 0.0220, 0.0220, 0.699, 0.699, 1.00\\right]$$</p>\n",
    "<p> Pojawiają  się ujemne wartości własnych, co oznacza oscylacje pomiędzy dodatnimi i ujemnymi wartościami np. stężenia w czasie. Nie jest to efekt fizyczny i jawny algorytm Eulera dla równaia dyfuzji dla $C=0.4$ jest robieżny.</p>\n",
    "<p>Warto odnotować, że stała od której zależy stabilnośc zawiera w liczniku  krok czasowu a w mianowniku kwadrat kroku przestrzennego. Oznacza to, że zmniejszając dyskretyzacje przestrzeni musimy jednocześnie używać mniejszego kroku czasowego, by schemat był stabilny.   </p>"
   ]
  },
  {
   "cell_type": "code",
   "execution_count": 22,
   "metadata": {
    "collapsed": false
   },
   "outputs": [
    {
     "ename": "NameError",
     "evalue": "name 'slider' is not defined",
     "output_type": "error",
     "traceback": [
      "\u001b[1;31m---------------------------------------------------------------------------\u001b[0m",
      "\u001b[1;31mNameError\u001b[0m                                 Traceback (most recent call last)",
      "\u001b[1;32m<ipython-input-22-04c4efacddc5>\u001b[0m in \u001b[0;36m<module>\u001b[1;34m()\u001b[0m\n\u001b[0;32m      7\u001b[0m \u001b[1;33m\u001b[0m\u001b[0m\n\u001b[0;32m      8\u001b[0m \u001b[1;33m@\u001b[0m\u001b[0minteract\u001b[0m\u001b[1;33m\u001b[0m\u001b[0m\n\u001b[1;32m----> 9\u001b[1;33m \u001b[1;32mdef\u001b[0m \u001b[0m_\u001b[0m\u001b[1;33m(\u001b[0m\u001b[0mC\u001b[0m\u001b[1;33m=\u001b[0m\u001b[0mslider\u001b[0m\u001b[1;33m(\u001b[0m\u001b[0mRealNumber\u001b[0m\u001b[1;33m(\u001b[0m\u001b[1;34m'0.01'\u001b[0m\u001b[1;33m)\u001b[0m\u001b[1;33m,\u001b[0m\u001b[0mRealNumber\u001b[0m\u001b[1;33m(\u001b[0m\u001b[1;34m'1.0'\u001b[0m\u001b[1;33m)\u001b[0m\u001b[1;33m,\u001b[0m\u001b[0mRealNumber\u001b[0m\u001b[1;33m(\u001b[0m\u001b[1;34m'0.01'\u001b[0m\u001b[1;33m)\u001b[0m\u001b[1;33m)\u001b[0m\u001b[1;33m)\u001b[0m\u001b[1;33m:\u001b[0m\u001b[1;33m\u001b[0m\u001b[0m\n\u001b[0m\u001b[0;32m     10\u001b[0m \u001b[1;33m\u001b[0m\u001b[0m\n\u001b[0;32m     11\u001b[0m     \u001b[0mLt\u001b[0m\u001b[1;33m=\u001b[0m\u001b[0mmatrix\u001b[0m\u001b[1;33m(\u001b[0m\u001b[0mRDF\u001b[0m\u001b[1;33m,\u001b[0m\u001b[0midentity_matrix\u001b[0m\u001b[1;33m(\u001b[0m\u001b[0mN\u001b[0m\u001b[1;33m)\u001b[0m\u001b[1;33m+\u001b[0m\u001b[0mC\u001b[0m\u001b[1;33m*\u001b[0m\u001b[0mL\u001b[0m\u001b[1;33m)\u001b[0m\u001b[1;33m\u001b[0m\u001b[0m\n",
      "\u001b[1;31mNameError\u001b[0m: name 'slider' is not defined"
     ]
    }
   ],
   "source": [
    "N=7\n",
    "L = matrix(RDF,N)\n",
    "for i in range(1,N-1):\n",
    "    L[i,i-1],L[i,i],L[i,i+1] = 1,-2, 1\n",
    "L[0,0],L[0,1],L[0,-1] = -2, 1, 1\n",
    "L[-1,-1],L[-1,-2],L[-1,0] = -2, 1, 1    \n",
    "\n",
    "@interact\n",
    "def _(C=slider(0.01,1.0,0.01)):\n",
    "    \n",
    "    Lt=matrix(RDF,identity_matrix(N)+C*L)\n",
    "    eig = list(Lt.eigenvalues())\n",
    "    l = sorted(map(lambda x:x.n(digits=3),map(real,eig)))\n",
    "    \n",
    "    print l[0:6],\"...\",l[-1]"
   ]
  },
  {
   "cell_type": "code",
   "execution_count": 182,
   "metadata": {
    "collapsed": false
   },
   "outputs": [
    {
     "data": {
      "text/plain": []
     },
     "execution_count": 182,
     "metadata": {},
     "output_type": "execute_result"
    }
   ],
   "source": []
  },
  {
   "cell_type": "markdown",
   "metadata": {},
   "source": [
    "<p>Mając juz wszystkie składniki można napisać algorytm który będzie rozwiązywał numerycznie równanie dyfuzji przy zadanych warunkach brzegowych i początkowych.</p>"
   ]
  },
  {
   "cell_type": "code",
   "execution_count": 181,
   "metadata": {
    "collapsed": false
   },
   "outputs": [
    {
     "data": {
      "text/plain": []
     },
     "execution_count": 181,
     "metadata": {},
     "output_type": "execute_result"
    }
   ],
   "source": []
  },
  {
   "cell_type": "code",
   "execution_count": 180,
   "metadata": {
    "collapsed": false
   },
   "outputs": [
    {
     "data": {
      "text/plain": [
       "(7, 7)"
      ]
     },
     "execution_count": 180,
     "metadata": {},
     "output_type": "execute_result"
    }
   ],
   "source": [
    "L.ncols(),L.rank()"
   ]
  },
  {
   "cell_type": "code",
   "execution_count": 232,
   "metadata": {
    "collapsed": false
   },
   "outputs": [
    {
     "data": {
      "text/plain": []
     },
     "execution_count": 232,
     "metadata": {},
     "output_type": "execute_result"
    }
   ],
   "source": []
  },
  {
   "cell_type": "code",
   "execution_count": 162,
   "metadata": {
    "collapsed": false
   },
   "outputs": [
    {
     "data": {
      "text/plain": [
       "<html><!--notruncate--><div padding=6 id=\"div-interact-162\"> <table width=800px height=20px bgcolor=\"#c5c5c5\"\n",
       "                 cellpadding=15><tr><td bgcolor=\"#f9f9f9\" valign=top align=left><table>\n",
       "<tr><td colspan=3><table><tr><td align=right><font color=\"black\">ti </font></td><td><table><tr><td>\n",
       "        <div id=\"slider-ti-162\" style=\"margin:0px; margin-left: 1.0em; margin-right: 1.0em; width: 15.0em;\"></div>\n",
       "        </td><td><font color=\"black\" id=\"slider-ti-162-lbl\"></font></td></tr></table><script>(function(){ var values = [\"0\",\"1\",\"2\",\"3\",\"4\",\"5\",\"6\",\"7\",\"8\",\"9\",\"10\",\"11\",\"12\",\"13\",\"14\",\"15\",\"16\",\"17\",\"18\",\"19\",\"20\",\"21\",\"22\",\"23\",\"24\",\"25\",\"26\",\"27\",\"28\",\"29\",\"30\",\"31\",\"32\",\"33\",\"34\",\"35\",\"36\",\"37\",\"38\",\"39\",\"40\",\"41\",\"42\",\"43\",\"44\",\"45\",\"46\",\"47\",\"48\",\"49\",\"50\",\"51\",\"52\",\"53\",\"54\",\"55\",\"56\",\"57\",\"58\",\"59\",\"60\",\"61\",\"62\",\"63\",\"64\",\"65\",\"66\",\"67\",\"68\",\"69\",\"70\",\"71\",\"72\",\"73\",\"74\",\"75\",\"76\",\"77\",\"78\",\"79\",\"80\",\"81\",\"82\",\"83\",\"84\",\"85\",\"86\",\"87\",\"88\",\"89\",\"90\",\"91\",\"92\",\"93\",\"94\",\"95\",\"96\",\"97\",\"98\",\"99\",\"100\",\"101\",\"102\",\"103\",\"104\",\"105\",\"106\",\"107\",\"108\",\"109\",\"110\",\"111\",\"112\",\"113\",\"114\",\"115\",\"116\",\"117\",\"118\",\"119\",\"120\",\"121\",\"122\",\"123\",\"124\",\"125\",\"126\",\"127\",\"128\",\"129\",\"130\",\"131\",\"132\",\"133\",\"134\",\"135\",\"136\",\"137\",\"138\",\"139\",\"140\",\"141\",\"142\",\"143\",\"144\",\"145\",\"146\",\"147\",\"148\",\"149\"]; setTimeout(function() {\n",
       "    $('#slider-ti-162').slider({\n",
       "        step: 1, min: 0, max: 149, value: 0,\n",
       "        change: function (e,ui) { var position = ui.value; if(values!=null) $('#slider-ti-162-lbl').text(values[position]); interact(162, '_interact_.update(\\'162\\', \\'ti\\', 9, _interact_.standard_b64decode(\\''+encode64(position)+'\\'), globals()); _interact_.recompute(\\'162\\');'); },\n",
       "        slide: function(e,ui) { if(values!=null) $('#slider-ti-162-lbl').text(values[ui.value]); }\n",
       "    });\n",
       "    if(values != null) $('#slider-ti-162-lbl').text(values[$('#slider-ti-162').slider('value')]);\n",
       "    }, 1); })();</script></td>\n",
       "</tr></table></td></tr>\n",
       "<tr><td></td><td style='width: 100%;'><div id=\"cell-interact-162\"><?__SAGE__START>\n",
       "        <table border=0 bgcolor=\"white\" width=100%>\n",
       "        <tr><td bgcolor=\"white\" align=left valign=top><pre><?__SAGE__TEXT></pre></td></tr>\n",
       "        <tr><td  align=left valign=top><?__SAGE__HTML></td></tr>\n",
       "        </table><?__SAGE__END></div></td><td></td></tr>\n",
       "<tr><td colspan=3></td></tr>\n",
       "</table></td>\n",
       "                 </tr></table></div>\n",
       "                 </html>"
      ]
     },
     "execution_count": 162,
     "metadata": {},
     "output_type": "execute_result"
    }
   ],
   "source": [
    "L = init_L_ref(45)\n",
    "def essential_boundary_conditions(u):\n",
    "    pass\n",
    "    \n",
    "Tlst=[]\n",
    "\n",
    "Lt=matrix(RDF,identity_matrix(L.ncols())+0.2*L)\n",
    "u = zero_vector(RDF,L.ncols())\n",
    "u[ int(L.ncols()/2) ] = 1.0\n",
    "\n",
    "essential_boundary_conditions(u)\n",
    "\n",
    "for i in range(150):\n",
    "    Tlst.append(u)\n",
    "    u = Lt*u # schemat jawny\n",
    "    essential_boundary_conditions(u)\n",
    "@interact\n",
    "def _(ti=slider(range(len(Tlst)))):\n",
    "    p =  list_plot(Tlst[ti],plotjoined=True)\n",
    "    p += list_plot(Tlst[-1],plotjoined=True,color='gray',ymin=-0.2,ymax=1.0)\n",
    "    p += list_plot(Tlst[0],plotjoined=True,color='gray')\n",
    "    p.show(figsize=(9,3))"
   ]
  },
  {
   "cell_type": "markdown",
   "metadata": {},
   "source": [
    "<p>Warunek unormowania:</p>"
   ]
  },
  {
   "cell_type": "code",
   "execution_count": 161,
   "metadata": {
    "collapsed": false
   },
   "outputs": [
    {
     "data": {
      "text/plain": [
       "[1.0, 1.0, 1.0, 1.0, 1.0, 1.0, 1.0, 1.0, 1.0, 1.0, 1.0, 1.0, 1.0, 1.0, 1.0, 1.0, 1.0, 1.0, 1.0, 1.0, 1.0, 1.0, 1.0, 1.0, 1.0, 1.0, 1.0, 1.0, 1.0, 1.0, 1.0, 1.0, 1.0, 1.0, 1.0, 1.0, 1.0, 1.0, 1.0, 1.0, 1.0, 1.0, 1.0, 1.0, 1.0, 1.0, 1.0, 1.0, 1.0, 1.0, 1.0, 1.0, 1.0, 1.0, 1.0, 1.0, 1.0, 1.0, 1.0, 1.0, 1.0, 1.0, 1.0, 1.0, 1.0, 1.0, 1.0, 1.0, 1.0, 1.0, 1.0, 1.0, 1.0, 1.0, 1.0, 1.0, 1.0, 1.0, 1.0, 1.0, 1.0, 1.0, 1.0, 1.0, 1.0, 1.0, 1.0, 1.0, 1.0, 1.0, 1.0, 1.0, 1.0, 1.0, 1.0, 1.0, 1.0, 1.0, 1.0, 1.0, 1.0, 1.0, 1.0, 1.0, 1.0, 1.0, 1.0, 1.0, 1.0, 1.0, 1.0, 1.0, 1.0, 1.0, 1.0, 1.0, 1.0, 1.0, 1.0, 1.0, 1.0, 1.0, 1.0, 1.0, 1.0, 1.0, 1.0, 1.0, 1.0, 1.0, 1.0, 1.0, 1.0, 1.0, 1.0, 1.0, 1.0, 1.0, 1.0, 1.0, 1.0, 1.0, 1.0, 1.0, 1.0, 1.0, 1.0, 1.0, 1.0, 1.0]"
      ]
     },
     "execution_count": 161,
     "metadata": {},
     "output_type": "execute_result"
    }
   ],
   "source": [
    "[sum(T_) for T_ in Tlst]"
   ]
  },
  {
   "cell_type": "markdown",
   "metadata": {},
   "source": [
    "<h2>Numeryczne rozwiązanie równanie dyfuzji - porównanie z rozwiązaniem dokładnym.</h2>\n",
    "<p>Rozważmy równanie:</p>\n",
    "<p>$$ \\frac{\\partial u}{\\partial t}= D \\frac{\\partial^2u}{\\partial x^2}$$</p>\n",
    "<p>na odcinku $(0,l)$ z odbijającymi warunkami brzegowymi. W tym celu stosujemy jawny schemat Eulera. Krok przestrzenny $h$ jest równy:</p>\n",
    "<p>$$h  = \\frac{l^2}{(N-1)^2}.$$</p>\n",
    "<p>Wobec tego mamy następujący infinitezymalny operator ewolucji</p>\n",
    "<p>$$L_t= I +  dt\\frac{D  (N-1)^2}{l^2}  L u^i,$$</p>\n",
    "<p>przy czym maksymalny krok czasowy zależy od parametrów układu i jest ograniczony przez:</p>\n",
    "<p>$$dt_{max}<0.25 \\frac{l^2}{(N-1)^2 D}. $$</p>\n",
    "<p> </p>"
   ]
  },
  {
   "cell_type": "code",
   "execution_count": 259,
   "metadata": {
    "collapsed": false
   },
   "outputs": [
    {
     "data": {
      "text/plain": [
       "0.100000000000000 0.342935528120713 1.85185185185185"
      ]
     },
     "execution_count": 259,
     "metadata": {},
     "output_type": "execute_result"
    }
   ],
   "source": [
    "N = 55\n",
    "Dyf = 1.0\n",
    "l = 100.\n",
    "dx = l/(N-1)\n",
    "\n",
    "dt_max = 0.2*dx^2/Dyf\n",
    "dt = dt_max/2.0\n",
    "C = dt*Dyf/dx^2\n",
    "\n",
    "Nsteps = 1200\n",
    "\n",
    "print C,dt,dx"
   ]
  },
  {
   "cell_type": "code",
   "execution_count": 276,
   "metadata": {
    "collapsed": false
   },
   "outputs": [
    {
     "data": {
      "text/plain": [
       "Czas dyfuzyjny: 29160.0000000000"
      ]
     },
     "execution_count": 276,
     "metadata": {},
     "output_type": "execute_result"
    }
   ],
   "source": [
    "print \"Czas dyfuzyjny:\",l^2/Dyf/dt"
   ]
  },
  {
   "cell_type": "code",
   "execution_count": 277,
   "metadata": {
    "collapsed": false
   },
   "outputs": [
    {
     "data": {
      "text/plain": []
     },
     "execution_count": 277,
     "metadata": {},
     "output_type": "execute_result"
    }
   ],
   "source": [
    "Nsteps = int(l^2/Dyf/dt)"
   ]
  },
  {
   "cell_type": "code",
   "execution_count": 154,
   "metadata": {
    "collapsed": false
   },
   "outputs": [
    {
     "data": {
      "text/plain": [
       "<html><!--notruncate--><div padding=6 id=\"div-interact-154\"> <table width=800px height=20px bgcolor=\"#c5c5c5\"\n",
       "                 cellpadding=15><tr><td bgcolor=\"#f9f9f9\" valign=top align=left><table>\n",
       "<tr><td colspan=3><table><tr><td align=right><font color=\"black\">ti </font></td><td><table><tr><td>\n",
       "        <div id=\"slider-ti-154\" style=\"margin:0px; margin-left: 1.0em; margin-right: 1.0em; width: 15.0em;\"></div>\n",
       "        </td><td><font color=\"black\" id=\"slider-ti-154-lbl\"></font></td></tr></table><script>(function(){ var values = [\"0\",\"58\",\"116\",\"175\",\"233\",\"292\",\"350\",\"409\",\"467\",\"525\",\"584\",\"642\",\"701\",\"759\",\"818\",\"876\",\"934\",\"993\",\"1051\",\"1110\",\"1168\",\"1227\",\"1285\",\"1343\",\"1402\",\"1460\",\"1519\",\"1577\",\"1636\",\"1694\",\"1752\",\"1811\",\"1869\",\"1928\",\"1986\",\"2045\",\"2103\",\"2162\",\"2220\",\"2278\",\"2337\",\"2395\",\"2454\",\"2512\",\"2571\",\"2629\",\"2687\",\"2746\",\"2804\",\"2863\",\"2921\",\"2980\",\"3038\",\"3096\",\"3155\",\"3213\",\"3272\",\"3330\",\"3389\",\"3447\",\"3505\",\"3564\",\"3622\",\"3681\",\"3739\",\"3798\",\"3856\",\"3915\",\"3973\",\"4031\",\"4090\",\"4148\",\"4207\",\"4265\",\"4324\",\"4382\",\"4440\",\"4499\",\"4557\",\"4616\",\"4674\",\"4733\",\"4791\",\"4849\",\"4908\",\"4966\",\"5025\",\"5083\",\"5142\",\"5200\",\"5258\",\"5317\",\"5375\",\"5434\",\"5492\",\"5551\",\"5609\",\"5667\",\"5726\",\"5784\",\"5843\",\"5901\",\"5960\",\"6018\",\"6077\",\"6135\",\"6193\",\"6252\",\"6310\",\"6369\",\"6427\",\"6486\",\"6544\",\"6602\",\"6661\",\"6719\",\"6778\",\"6836\",\"6895\",\"6953\",\"7011\",\"7070\",\"7128\",\"7187\",\"7245\",\"7304\",\"7362\",\"7420\",\"7479\",\"7537\",\"7596\",\"7654\",\"7713\",\"7771\",\"7830\",\"7888\",\"7946\",\"8005\",\"8063\",\"8122\",\"8180\",\"8239\",\"8297\",\"8355\",\"8414\",\"8472\",\"8531\",\"8589\",\"8648\",\"8706\",\"8764\",\"8823\",\"8881\",\"8940\",\"8998\",\"9057\",\"9115\",\"9173\",\"9232\",\"9290\",\"9349\",\"9407\",\"9466\",\"9524\",\"9582\",\"9641\",\"9699\",\"9758\",\"9816\",\"9875\",\"9933\",\"9992\",\"10050\",\"10108\",\"10167\",\"10225\",\"10284\",\"10342\",\"10401\",\"10459\",\"10517\",\"10576\",\"10634\",\"10693\",\"10751\",\"10810\",\"10868\",\"10926\",\"10985\",\"11043\",\"11102\",\"11160\",\"11219\",\"11277\",\"11335\",\"11394\",\"11452\",\"11511\",\"11569\",\"11628\",\"11686\",\"11745\",\"11803\",\"11861\",\"11920\",\"11978\",\"12037\",\"12095\",\"12154\",\"12212\",\"12270\",\"12329\",\"12387\",\"12446\",\"12504\",\"12563\",\"12621\",\"12679\",\"12738\",\"12796\",\"12855\",\"12913\",\"12972\",\"13030\",\"13088\",\"13147\",\"13205\",\"13264\",\"13322\",\"13381\",\"13439\",\"13497\",\"13556\",\"13614\",\"13673\",\"13731\",\"13790\",\"13848\",\"13907\",\"13965\",\"14023\",\"14082\",\"14140\",\"14199\",\"14257\",\"14316\",\"14374\",\"14432\",\"14491\",\"14549\",\"14608\",\"14666\",\"14725\",\"14783\",\"14841\",\"14900\",\"14958\",\"15017\",\"15075\",\"15134\",\"15192\",\"15250\",\"15309\",\"15367\",\"15426\",\"15484\",\"15543\",\"15601\",\"15660\",\"15718\",\"15776\",\"15835\",\"15893\",\"15952\",\"16010\",\"16069\",\"16127\",\"16185\",\"16244\",\"16302\",\"16361\",\"16419\",\"16478\",\"16536\",\"16594\",\"16653\",\"16711\",\"16770\",\"16828\",\"16887\",\"16945\",\"17003\",\"17062\",\"17120\",\"17179\",\"17237\",\"17296\",\"17354\",\"17412\",\"17471\",\"17529\",\"17588\",\"17646\",\"17705\",\"17763\",\"17822\",\"17880\",\"17938\",\"17997\",\"18055\",\"18114\",\"18172\",\"18231\",\"18289\",\"18347\",\"18406\",\"18464\",\"18523\",\"18581\",\"18640\",\"18698\",\"18756\",\"18815\",\"18873\",\"18932\",\"18990\",\"19049\",\"19107\",\"19165\",\"19224\",\"19282\",\"19341\",\"19399\",\"19458\",\"19516\",\"19575\",\"19633\",\"19691\",\"19750\",\"19808\",\"19867\",\"19925\",\"19984\",\"20042\",\"20100\",\"20159\",\"20217\",\"20276\",\"20334\",\"20393\",\"20451\",\"20509\",\"20568\",\"20626\",\"20685\",\"20743\",\"20802\",\"20860\",\"20918\",\"20977\",\"21035\",\"21094\",\"21152\",\"21211\",\"21269\",\"21327\",\"21386\",\"21444\",\"21503\",\"21561\",\"21620\",\"21678\",\"21737\",\"21795\",\"21853\",\"21912\",\"21970\",\"22029\",\"22087\",\"22146\",\"22204\",\"22262\",\"22321\",\"22379\",\"22438\",\"22496\",\"22555\",\"22613\",\"22671\",\"22730\",\"22788\",\"22847\",\"22905\",\"22964\",\"23022\",\"23080\",\"23139\",\"23197\",\"23256\",\"23314\",\"23373\",\"23431\",\"23490\",\"23548\",\"23606\",\"23665\",\"23723\",\"23782\",\"23840\",\"23899\",\"23957\",\"24015\",\"24074\",\"24132\",\"24191\",\"24249\",\"24308\",\"24366\",\"24424\",\"24483\",\"24541\",\"24600\",\"24658\",\"24717\",\"24775\",\"24833\",\"24892\",\"24950\",\"25009\",\"25067\",\"25126\",\"25184\",\"25242\",\"25301\",\"25359\",\"25418\",\"25476\",\"25535\",\"25593\",\"25652\",\"25710\",\"25768\",\"25827\",\"25885\",\"25944\",\"26002\",\"26061\",\"26119\",\"26177\",\"26236\",\"26294\",\"26353\",\"26411\",\"26470\",\"26528\",\"26586\",\"26645\",\"26703\",\"26762\",\"26820\",\"26879\",\"26937\",\"26995\",\"27054\",\"27112\",\"27171\",\"27229\",\"27288\",\"27346\",\"27405\",\"27463\",\"27521\",\"27580\",\"27638\",\"27697\",\"27755\",\"27814\",\"27872\",\"27930\",\"27989\",\"28047\",\"28106\",\"28164\",\"28223\",\"28281\",\"28339\",\"28398\",\"28456\",\"28515\",\"28573\",\"28632\",\"28690\",\"28748\",\"28807\",\"28865\",\"28924\",\"28982\",\"29041\",\"29099\",\"29158\"]; setTimeout(function() {\n",
       "    $('#slider-ti-154').slider({\n",
       "        step: 1, min: 0, max: 499, value: 0,\n",
       "        change: function (e,ui) { var position = ui.value; if(values!=null) $('#slider-ti-154-lbl').text(values[position]); interact(154, '_interact_.update(\\'154\\', \\'ti\\', 20, _interact_.standard_b64decode(\\''+encode64(position)+'\\'), globals()); _interact_.recompute(\\'154\\');'); },\n",
       "        slide: function(e,ui) { if(values!=null) $('#slider-ti-154-lbl').text(values[ui.value]); }\n",
       "    });\n",
       "    if(values != null) $('#slider-ti-154-lbl').text(values[$('#slider-ti-154').slider('value')]);\n",
       "    }, 1); })();</script></td>\n",
       "</tr></table></td></tr>\n",
       "<tr><td></td><td style='width: 100%;'><div id=\"cell-interact-154\"><?__SAGE__START>\n",
       "        <table border=0 bgcolor=\"white\" width=100%>\n",
       "        <tr><td bgcolor=\"white\" align=left valign=top><pre><?__SAGE__TEXT></pre></td></tr>\n",
       "        <tr><td  align=left valign=top><?__SAGE__HTML></td></tr>\n",
       "        </table><?__SAGE__END></div></td><td></td></tr>\n",
       "<tr><td colspan=3></td></tr>\n",
       "</table></td>\n",
       "                 </tr></table></div>\n",
       "                 </html>"
      ]
     },
     "execution_count": 154,
     "metadata": {},
     "output_type": "execute_result"
    }
   ],
   "source": [
    "L = init_L_ref(N)\n",
    "def essential_boundary_conditions(u):\n",
    "    pass\n",
    "    \n",
    "Tlst=[]\n",
    "\n",
    "\n",
    "Lt=matrix(RDF,identity_matrix(L.ncols())+C*L)\n",
    "u = zero_vector(RDF,L.ncols())\n",
    "u[ int(L.ncols()/5) ] = 1.0/dx\n",
    "\n",
    "essential_boundary_conditions(u)\n",
    "\n",
    "for i in range(Nsteps):\n",
    "    Tlst.append(u)\n",
    "    u = Lt*u # schemat jawny\n",
    "    essential_boundary_conditions(u)\n",
    "@interact\n",
    "def _(ti=slider(range(len(Tlst)))):\n",
    "    p =  list_plot(Tlst[ti],plotjoined=True)\n",
    "    p += list_plot(Tlst[-1],plotjoined=True,color='gray',ymin=-0.2,ymax=0.5)\n",
    "    p += list_plot(Tlst[0],plotjoined=True,color='gray')\n",
    "    p.show(figsize=(9,3))"
   ]
  },
  {
   "cell_type": "code",
   "execution_count": 261,
   "metadata": {
    "collapsed": false
   },
   "outputs": [
    {
     "data": {
      "text/plain": []
     },
     "execution_count": 261,
     "metadata": {},
     "output_type": "execute_result"
    }
   ],
   "source": []
  },
  {
   "cell_type": "code",
   "execution_count": 262,
   "metadata": {
    "collapsed": false
   },
   "outputs": [
    {
     "data": {
      "text/plain": [
       "Unormowanie wzoru analitycznego: 1.0\n",
       "<html><!--notruncate--><div padding=6 id=\"div-interact-262\"> <table width=800px height=20px bgcolor=\"#c5c5c5\"\n",
       "                 cellpadding=15><tr><td bgcolor=\"#f9f9f9\" valign=top align=left><table>\n",
       "<tr><td colspan=3><table><tr><td align=right><font color=\"black\">ti </font></td><td><table><tr><td>\n",
       "        <div id=\"slider-ti-262\" style=\"margin:0px; margin-left: 1.0em; margin-right: 1.0em; width: 15.0em;\"></div>\n",
       "        </td><td><font color=\"black\" id=\"slider-ti-262-lbl\"></font></td></tr></table><script>(function(){ var values = [\"1\",\"3\",\"5\",\"8\",\"10\",\"13\",\"15\",\"17\",\"20\",\"22\",\"25\",\"27\",\"29\",\"32\",\"34\",\"37\",\"39\",\"41\",\"44\",\"46\",\"49\",\"51\",\"53\",\"56\",\"58\",\"61\",\"63\",\"65\",\"68\",\"70\",\"73\",\"75\",\"77\",\"80\",\"82\",\"85\",\"87\",\"89\",\"92\",\"94\",\"97\",\"99\",\"101\",\"104\",\"106\",\"109\",\"111\",\"113\",\"116\",\"118\",\"121\",\"123\",\"125\",\"128\",\"130\",\"133\",\"135\",\"137\",\"140\",\"142\",\"145\",\"147\",\"149\",\"152\",\"154\",\"157\",\"159\",\"161\",\"164\",\"166\",\"169\",\"171\",\"173\",\"176\",\"178\",\"181\",\"183\",\"185\",\"188\",\"190\",\"193\",\"195\",\"197\",\"200\",\"202\",\"205\",\"207\",\"209\",\"212\",\"214\",\"217\",\"219\",\"221\",\"224\",\"226\",\"229\",\"231\",\"233\",\"236\",\"238\",\"241\",\"243\",\"245\",\"248\",\"250\",\"253\",\"255\",\"257\",\"260\",\"262\",\"265\",\"267\",\"269\",\"272\",\"274\",\"277\",\"279\",\"281\",\"284\",\"286\",\"289\",\"291\",\"293\",\"296\",\"298\",\"301\",\"303\",\"305\",\"308\",\"310\",\"313\",\"315\",\"317\",\"320\",\"322\",\"325\",\"327\",\"329\",\"332\",\"334\",\"337\",\"339\",\"341\",\"344\",\"346\",\"349\",\"351\",\"353\",\"356\",\"358\",\"361\",\"363\",\"365\",\"368\",\"370\",\"373\",\"375\",\"377\",\"380\",\"382\",\"385\",\"387\",\"389\",\"392\",\"394\",\"397\",\"399\",\"401\",\"404\",\"406\",\"409\",\"411\",\"413\",\"416\",\"418\",\"421\",\"423\",\"425\",\"428\",\"430\",\"433\",\"435\",\"437\",\"440\",\"442\",\"445\",\"447\",\"449\",\"452\",\"454\",\"457\",\"459\",\"461\",\"464\",\"466\",\"469\",\"471\",\"473\",\"476\",\"478\",\"481\",\"483\",\"485\",\"488\",\"490\",\"493\",\"495\",\"497\",\"500\",\"502\",\"505\",\"507\",\"509\",\"512\",\"514\",\"517\",\"519\",\"521\",\"524\",\"526\",\"529\",\"531\",\"533\",\"536\",\"538\",\"541\",\"543\",\"545\",\"548\",\"550\",\"553\",\"555\",\"557\",\"560\",\"562\",\"565\",\"567\",\"569\",\"572\",\"574\",\"577\",\"579\",\"581\",\"584\",\"586\",\"589\",\"591\",\"593\",\"596\",\"598\",\"601\",\"603\",\"606\",\"608\",\"610\",\"613\",\"615\",\"618\",\"620\",\"622\",\"625\",\"627\",\"630\",\"632\",\"634\",\"637\",\"639\",\"642\",\"644\",\"646\",\"649\",\"651\",\"654\",\"656\",\"658\",\"661\",\"663\",\"666\",\"668\",\"670\",\"673\",\"675\",\"678\",\"680\",\"682\",\"685\",\"687\",\"690\",\"692\",\"694\",\"697\",\"699\",\"702\",\"704\",\"706\",\"709\",\"711\",\"714\",\"716\",\"718\",\"721\",\"723\",\"726\",\"728\",\"730\",\"733\",\"735\",\"738\",\"740\",\"742\",\"745\",\"747\",\"750\",\"752\",\"754\",\"757\",\"759\",\"762\",\"764\",\"766\",\"769\",\"771\",\"774\",\"776\",\"778\",\"781\",\"783\",\"786\",\"788\",\"790\",\"793\",\"795\",\"798\",\"800\",\"802\",\"805\",\"807\",\"810\",\"812\",\"814\",\"817\",\"819\",\"822\",\"824\",\"826\",\"829\",\"831\",\"834\",\"836\",\"838\",\"841\",\"843\",\"846\",\"848\",\"850\",\"853\",\"855\",\"858\",\"860\",\"862\",\"865\",\"867\",\"870\",\"872\",\"874\",\"877\",\"879\",\"882\",\"884\",\"886\",\"889\",\"891\",\"894\",\"896\",\"898\",\"901\",\"903\",\"906\",\"908\",\"910\",\"913\",\"915\",\"918\",\"920\",\"922\",\"925\",\"927\",\"930\",\"932\",\"934\",\"937\",\"939\",\"942\",\"944\",\"946\",\"949\",\"951\",\"954\",\"956\",\"958\",\"961\",\"963\",\"966\",\"968\",\"970\",\"973\",\"975\",\"978\",\"980\",\"982\",\"985\",\"987\",\"990\",\"992\",\"994\",\"997\",\"999\",\"1002\",\"1004\",\"1006\",\"1009\",\"1011\",\"1014\",\"1016\",\"1018\",\"1021\",\"1023\",\"1026\",\"1028\",\"1030\",\"1033\",\"1035\",\"1038\",\"1040\",\"1042\",\"1045\",\"1047\",\"1050\",\"1052\",\"1054\",\"1057\",\"1059\",\"1062\",\"1064\",\"1066\",\"1069\",\"1071\",\"1074\",\"1076\",\"1078\",\"1081\",\"1083\",\"1086\",\"1088\",\"1090\",\"1093\",\"1095\",\"1098\",\"1100\",\"1102\",\"1105\",\"1107\",\"1110\",\"1112\",\"1114\",\"1117\",\"1119\",\"1122\",\"1124\",\"1126\",\"1129\",\"1131\",\"1134\",\"1136\",\"1138\",\"1141\",\"1143\",\"1146\",\"1148\",\"1150\",\"1153\",\"1155\",\"1158\",\"1160\",\"1162\",\"1165\",\"1167\",\"1170\",\"1172\",\"1174\",\"1177\",\"1179\",\"1182\",\"1184\",\"1186\",\"1189\",\"1191\",\"1194\",\"1196\",\"1199\"]; setTimeout(function() {\n",
       "    $('#slider-ti-262').slider({\n",
       "        step: 1, min: 0, max: 499, value: 0,\n",
       "        change: function (e,ui) { var position = ui.value; if(values!=null) $('#slider-ti-262-lbl').text(values[position]); interact(262, '_interact_.update(\\'262\\', \\'ti\\', 19, _interact_.standard_b64decode(\\''+encode64(position)+'\\'), globals()); _interact_.recompute(\\'262\\');'); },\n",
       "        slide: function(e,ui) { if(values!=null) $('#slider-ti-262-lbl').text(values[ui.value]); }\n",
       "    });\n",
       "    if(values != null) $('#slider-ti-262-lbl').text(values[$('#slider-ti-262').slider('value')]);\n",
       "    }, 1); })();</script></td>\n",
       "</tr></table></td></tr>\n",
       "<tr><td></td><td style='width: 100%;'><div id=\"cell-interact-262\"><?__SAGE__START>\n",
       "        <table border=0 bgcolor=\"white\" width=100%>\n",
       "        <tr><td bgcolor=\"white\" align=left valign=top><pre><?__SAGE__TEXT></pre></td></tr>\n",
       "        <tr><td  align=left valign=top><?__SAGE__HTML></td></tr>\n",
       "        </table><?__SAGE__END></div></td><td></td></tr>\n",
       "<tr><td colspan=3></td></tr>\n",
       "</table></td>\n",
       "                 </tr></table></div>\n",
       "                 </html>"
      ]
     },
     "execution_count": 262,
     "metadata": {},
     "output_type": "execute_result"
    }
   ],
   "source": [
    "c(x,t)=1/sqrt(4*pi*Dyf*t)*exp(-(x^2)/(4*Dyf*t) )\n",
    "\n",
    "print \"Unormowanie wzoru analitycznego:\",integrate(c(x,0.23),(x,-oo,oo))\n",
    "\n",
    "T = [i*dt for i in range(150)] \n",
    "X = [ (-l/5. + i*dx).n() for i in range(N)]\n",
    "\n",
    "@interact\n",
    "def _(ti=slider(range(1,len(Tlst)))):\n",
    "    print \"t=\",dt*ti,\"Norma=\",sum(Tlst[ti])*(l/(N-1))\n",
    "    plt = point(zip(X,Tlst[ti]),figsize=(7,3),color='red') \n",
    "    plt +=  plot(c(x,dt*ti),(x,-l/2,l/2))\n",
    "    plt.show(figsize=(8,3))"
   ]
  },
  {
   "cell_type": "code",
   "execution_count": 132,
   "metadata": {
    "collapsed": false
   },
   "outputs": [
    {
     "data": {
      "text/plain": []
     },
     "execution_count": 132,
     "metadata": {},
     "output_type": "execute_result"
    }
   ],
   "source": []
  },
  {
   "cell_type": "code",
   "execution_count": 70,
   "metadata": {
    "collapsed": false
   },
   "outputs": [
    {
     "data": {
      "text/plain": []
     },
     "execution_count": 70,
     "metadata": {},
     "output_type": "execute_result"
    }
   ],
   "source": []
  },
  {
   "cell_type": "markdown",
   "metadata": {},
   "source": [
    "<h2>Układ reakcji-dyfuzji: Model Fishera Kołogomorowa</h2>\n",
    "<p> </p>"
   ]
  },
  {
   "cell_type": "code",
   "execution_count": 210,
   "metadata": {
    "collapsed": false
   },
   "outputs": [
    {
     "data": {
      "text/plain": []
     },
     "execution_count": 210,
     "metadata": {},
     "output_type": "execute_result"
    }
   ],
   "source": [
    "import numpy as np \n",
    "from scipy.sparse import dia_matrix"
   ]
  },
  {
   "cell_type": "code",
   "execution_count": 211,
   "metadata": {
    "collapsed": false
   },
   "outputs": [
    {
     "data": {
      "text/plain": [
       "sps= 119 dt= 0.00838696150062096 Nsteps= 11900\n",
       "Traceback (most recent call last):    t_end = 100 # czas symulacje\n",
       "  File \"\", line 1, in <module>\n",
       "    \n",
       "  File \"/tmp/tmptU54wL/___code___.py\", line 21, in <module>\n",
       "    L = dia_matrix( (np.array([N*[-_sage_const_2p ],N*[_sage_const_1p ],N*[_sage_const_1p ]]),np.array([_sage_const_0 ,-_sage_const_1 ,_sage_const_1 ])), shape=(N,N))\n",
       "NameError: name 'dia_matrix' is not defined"
      ]
     },
     "execution_count": 211,
     "metadata": {},
     "output_type": "execute_result"
    }
   ],
   "source": [
    "%timeit \n",
    "sparse = True\n",
    "slicing = False\n",
    "\n",
    "Dyf = 1.0\n",
    "r = 1.0\n",
    "l = 100.0 # dlugosc ukladu\n",
    "t_end = 100 # czas symulacje\n",
    "\n",
    "N = 250 # dyskretyzacja przestrzeni\n",
    "h = l/(N-1) \n",
    "dt = 0.052/(Dyf*(N-1)**2/l**2) # 0.2 z warunku CFL, krok nie moze byc wiekszy\n",
    "\n",
    "sps = int(1/dt) # liczba krokow na jednostke czasu\n",
    "Nsteps=sps*t_end  # calkowita liczba krotkow \n",
    "\n",
    "print \"sps=\",sps,\"dt=\",dt,'Nsteps=',Nsteps\n",
    "\n",
    "if sparse:\n",
    "    L = dia_matrix( (np.array([N*[-2.],N*[1.],N*[1.]]),np.array([0,-1,1])), shape=(N,N))\n",
    "if slicing:\n",
    "    one = np.identity(N)\n",
    "    L=np.roll(one,-1)+np.roll(one,1)-2*one\n",
    "    L[0,0]=1.\n",
    "    L[-1,-1]=1.\n",
    "\n",
    "\n",
    "\n",
    "\n",
    "# warunek poczatkowy\n",
    "u = np.zeros(N)\n",
    "#u[int(N/2)-20:int(N/2)+20]=1 # step\n",
    "\n",
    "\n",
    "#for i in range(1,3):\n",
    "#    u[i] = 1.0 - i/3.0\n",
    "u[:int(N/2)]=1\n",
    "\n",
    "def essential_boundary_conditions(u):\n",
    "    u[0] = 1.0\n",
    "    u[-1] = 0.0\n",
    "\n",
    "Tlst=[]\n",
    "essential_boundary_conditions(u)\n",
    "\n",
    "for i in range(Nsteps):\n",
    "    if not i%sps:\n",
    "        Tlst.append(list(u))\n",
    "    if slicing:\n",
    "        u[1:-1] = u[1:-1] + dt*(r*u[1:-1]*(1-u[1:-1]) + Dyf*(N-1)**2/l**2*np.diff(u,2))\n",
    "    else:    \n",
    "        u = u + dt*(r*u*(1-u)  + Dyf*(N-1)**2/l**2*L.dot(u))\n",
    "    \n",
    "    essential_boundary_conditions(u)\n",
    "print \"Saved \",len(Tlst), \" from \", Nsteps"
   ]
  },
  {
   "cell_type": "code",
   "execution_count": 266,
   "metadata": {
    "collapsed": false
   },
   "outputs": [
    {
     "data": {
      "text/plain": []
     },
     "execution_count": 266,
     "metadata": {},
     "output_type": "execute_result"
    }
   ],
   "source": [
    "pos_lst = []\n",
    "for T_ in Tlst:\n",
    "    for (i,a),b in zip(enumerate(T_),T_[1:]):\n",
    "        if a>=0.5 and b<=0.5:\n",
    "            pos_lst.append( i+(a-0.5)/(a-b) ) \n",
    "        \n",
    "list_plot( [l/(N-1)*(b-a)/(sps*dt) for a,b in zip(pos_lst,pos_lst[1:])] , figsize=(7,3),gridlines=[[],[2]],ymax=2)"
   ]
  },
  {
   "cell_type": "code",
   "execution_count": 235,
   "metadata": {
    "collapsed": false
   },
   "outputs": [
    {
     "data": {
      "text/plain": []
     },
     "execution_count": 235,
     "metadata": {},
     "output_type": "execute_result"
    }
   ],
   "source": [
    "@interact\n",
    "def _(ti=slider(range(len(Tlst)))):\n",
    "    print r\"t=\",dt*ti\n",
    "    p =  list_plot(Tlst[ti],plotjoined=True)\n",
    "    p += list_plot(Tlst[-1],plotjoined=True,color='red',ymin=0,ymax=1.5)\n",
    "    p += list_plot(Tlst[0],plotjoined=True,color='gray')\n",
    "    p.show(figsize=(8,3))"
   ]
  },
  {
   "cell_type": "code",
   "execution_count": 237,
   "metadata": {
    "collapsed": false
   },
   "outputs": [
    {
     "data": {
      "text/plain": [
       "sps= 18 dt= 0.0530558106315682 Nsteps= 1800\n",
       "Saved  100  from  1800\n",
       "CPU time: 1.58 s,  Wall time: 1.58 s"
      ]
     },
     "execution_count": 237,
     "metadata": {},
     "output_type": "execute_result"
    }
   ],
   "source": [
    "%timeit \n",
    "\n",
    "Dyf = 1.0\n",
    "r = 1.0\n",
    "l = 100.0 # dlugosc ukladu\n",
    "t_end = 100 # czas symulacje\n",
    "\n",
    "N = 100 # dyskretyzacja przestrzeni\n",
    "h = l/(N-1) \n",
    "dt = 0.052/(Dyf*(N-1)**2/l**2) # 0.2 z warunku CFL, krok nie moze byc wiekszy\n",
    "\n",
    "sps = int(1/dt) # liczba krokow na jednostke czasu\n",
    "Nsteps=sps*t_end  # calkowita liczba krotkow \n",
    "\n",
    "print \"sps=\",sps,\"dt=\",dt,'Nsteps=',Nsteps\n",
    "\n",
    "# warunek poczatkowy\n",
    "u = np.zeros((N,N))\n",
    "\n",
    "#u[int(N/2)-5:int(N/2)+5,int(N/2)-5:int(N/2)+5]=1 # step\n",
    "\n",
    "#u[:int(N/2)+5,:]=1.0 # step\n",
    "u[int(N/2),int(N/2)]=1.0\n",
    "\n",
    "\n",
    "def essential_boundary_conditions(u):\n",
    "    u[:,0] = 0.0\n",
    "    u[:,-1] = 0.0\n",
    "    u[-1,:] = 0.0\n",
    "    u[0,:] = 0.0\n",
    "\n",
    "Tlst=[]\n",
    "essential_boundary_conditions(u)\n",
    "\n",
    "for i in range(Nsteps):\n",
    "    if not i%sps:\n",
    "        Tlst.append(u.copy())\n",
    "    \n",
    "    u[1:-1,1:-1] = u[1:-1,1:-1] + dt*(r*u[1:-1,1:-1]*(1-u[1:-1,1:-1]) + \\\n",
    "     Dyf*(N-1)**2/l**2*(np.diff(u,2,axis=0)[:,1:-1]+np.diff(u,2,axis=1)[1:-1,:]))\n",
    "    \n",
    "    essential_boundary_conditions(u)\n",
    "\n",
    "print \"Saved \",len(Tlst), \" from \", Nsteps"
   ]
  },
  {
   "cell_type": "code",
   "execution_count": 215,
   "metadata": {
    "collapsed": false
   },
   "outputs": [
    {
     "data": {
      "text/plain": []
     },
     "execution_count": 215,
     "metadata": {},
     "output_type": "execute_result"
    }
   ],
   "source": [
    "import pylab\n",
    "\n",
    "@interact\n",
    "def _(ti=slider(range(len(Tlst)))):\n",
    "    print r\"t=\",dt*ti\n",
    "    if True: \n",
    "        pylab.clf()   \n",
    "        pylab.imshow(Tlst[ti],origin='top')\n",
    "        pylab.savefig('1.png',dpi=70)\n",
    "    else:\n",
    "        p =  matrix_plot(Tlst[ti])\n",
    "        p.show(figsize=(4,4))"
   ]
  },
  {
   "cell_type": "markdown",
   "metadata": {},
   "source": [
    "<h2>Rozwiązania spiralne w układzie reakcji z dyfuzją (Bielousow-Zabotyński)</h2>\n",
    "<p><img style=\"vertical-align: middle;\" src=\"data/spiral.gif\" alt=\"\" /></p>\n",
    "<p> </p>"
   ]
  },
  {
   "cell_type": "code",
   "execution_count": 268,
   "metadata": {
    "collapsed": false
   },
   "outputs": [
    {
     "data": {
      "text/plain": []
     },
     "execution_count": 268,
     "metadata": {},
     "output_type": "execute_result"
    }
   ],
   "source": []
  },
  {
   "cell_type": "markdown",
   "metadata": {},
   "source": [
    "<p>Dynamika modelu bez dyfuzji.</p>"
   ]
  },
  {
   "cell_type": "code",
   "execution_count": 267,
   "metadata": {
    "collapsed": false
   },
   "outputs": [
    {
     "data": {
      "text/plain": []
     },
     "execution_count": 267,
     "metadata": {},
     "output_type": "execute_result"
    }
   ],
   "source": [
    "a=1.0\n",
    "b=0.1\n",
    "eps=0.1\n",
    "\n",
    "a = 0.75\n",
    "b = 0.0006\n",
    "eps = 0.072\n",
    "\n",
    "var('u v')\n",
    "f(u,v) = u*(1-u)*(u-(v-b)/a)\n",
    "g(u,v) = u-v\n",
    "V = vector( (1/eps*f,g))\n",
    "V=V/V.norm()\n",
    "vfield=plot_vector_field(V,(u,0,1),(v,0,1))+implicit_plot(g,(u,0,1),(v,0,1))\n",
    "t = srange(0,4/eps,0.01)\n",
    "sol = desolve_odeint([19*f,g], [0.5,0.0], t, [u,v])  \n",
    "plt_phase = vfield+line(sol,color='red',figsize=5)\n",
    "plt_time = line(zip(t,sol[:,0]),figsize=5)\n",
    "html.table([[plt_phase,plt_time]])"
   ]
  },
  {
   "cell_type": "code",
   "execution_count": 270,
   "metadata": {
    "collapsed": false
   },
   "outputs": [
    {
     "data": {
      "text/plain": []
     },
     "execution_count": 270,
     "metadata": {},
     "output_type": "execute_result"
    }
   ],
   "source": []
  },
  {
   "cell_type": "code",
   "execution_count": 218,
   "metadata": {
    "collapsed": false
   },
   "outputs": [
    {
     "data": {
      "text/plain": [
       "dt,dt_dyn 0.0205688066136624 0.111111111111111\n",
       "sps= 48 dt= 0.0205688066136624 Nsteps= 4800\n",
       "Saved  100  from  4800\n",
       "CPU time: 9.66 s,  Wall time: 9.66 s"
      ]
     },
     "execution_count": 218,
     "metadata": {},
     "output_type": "execute_result"
    }
   ],
   "source": [
    "%timeit \n",
    "import numpy as np\n",
    "sparse = True\n",
    "slicing = True\n",
    "\n",
    "Dyf_u = 1.0\n",
    "Dyf_v = 0.052\n",
    "Dyf = max(Dyf_u,Dyf_v)\n",
    "\n",
    "a = 1.0 \n",
    "b = 0.001\n",
    "eps = 0.072\n",
    "\n",
    "l = 100.0 # dlugosc ukladu\n",
    "t_end = 100 # czas symulacje\n",
    "\n",
    "N = 160 # dyskretyzacja przestrzeni\n",
    "h = l/(N-1) \n",
    "dt = 0.052/(Dyf*(N-1)**2/l**2) # 0.2 z warunku CFL, krok nie moze byc wiekszy\n",
    "\n",
    "dt_dyn = (1.0/eps)/125.0\n",
    "\n",
    "sps = int(1/dt) # liczba krokow na jednostke czasu\n",
    "Nsteps=sps*t_end  # calkowita liczba krotkow \n",
    "\n",
    "print \"dt,dt_dyn\",dt,dt_dyn\n",
    "dt = min(dt,dt_dyn)\n",
    "print \"sps=\",sps,\"dt=\",dt,'Nsteps=',Nsteps\n",
    "\n",
    "# warunek poczatkowy\n",
    "u = np.zeros((N,N))\n",
    "v = np.zeros((N,N))\n",
    "\n",
    "#u[int(N/2)-5:int(N/2)+5,int(N/2)-5:int(N/2)+5]=1 # step\n",
    "\n",
    "#u[:int(N/2)+5,:]=1.0 # step\n",
    "\n",
    "#u[int(N/2)-5:int(N/2)+5,int(N/2)-20:int(N/2)+20]=1.0\n",
    "#v[int(N/2)-5:int(N/2)+3,int(N/2)-20:int(N/2)+20]=1.0\n",
    "\n",
    "#u[int(N/2)-5:int(N/2)+5,int(N/2)-20:int(N/2)+20]=1.0\n",
    "#v[int(N/2)-5:int(N/2)+5,int(N/2)-22:int(N/2)+18]=1.0\n",
    "\n",
    "#u[-20:-1,int(N/2)-5:int(N/2)+5]=1.0\n",
    "#v[-20:-1,int(N/2)-6:int(N/2)+4]=1.0\n",
    "\n",
    "#u[:5,:]=1.0\n",
    "#v[:4,:]=1.0\n",
    "\n",
    "#u[-10:,:]=1.0\n",
    "#v[-4:,:]=1.0\n",
    "\n",
    "\n",
    "u[:int(N/2),int(N/2)-5:int(N/2)+5]=1.0\n",
    "v[:int(N/2),int(N/2)-6:int(N/2)+4]=1.0\n",
    "# aby wymusic ruch falowy, przesuwamy u wzgledem v\n",
    "\n",
    "def essential_boundary_conditions(u):\n",
    "    u[:,0] = 0.0\n",
    "    u[:,-1] = 0.0\n",
    "    u[-1,:] = 0.0\n",
    "    u[0,:] = 0.0\n",
    "    v[:,0] = 0.0\n",
    "    v[:,-1] = 0.0\n",
    "    v[-1,:] = 0.0\n",
    "    v[0,:] = 0.0\n",
    "    \n",
    "\n",
    "Tlst=[]\n",
    "Tvlst=[]\n",
    "essential_boundary_conditions(u)\n",
    "\n",
    "for i in range(Nsteps):\n",
    "    if not i%sps:\n",
    "        Tlst.append(u.copy())\n",
    "        Tvlst.append(v.copy())\n",
    "    \n",
    "    u[1:-1,1:-1] = u[1:-1,1:-1] + dt*(1.0/eps*u[1:-1,1:-1]*(1-u[1:-1,1:-1])*( u[1:-1,1:-1]-(v[1:-1,1:-1]+b)/a ) + \\\n",
    "     Dyf_u*(N-1)**2/l**2*(np.diff(u,2,axis=0)[:,1:-1]+np.diff(u,2,axis=1)[1:-1,:]))\n",
    "\n",
    "    v[1:-1,1:-1] = v[1:-1,1:-1] + dt*( (u[1:-1,1:-1]-v[1:-1,1:-1]) )\n",
    "    # + \\\n",
    "    # Dyf*(N-1)**2/l**2*(np.diff(v,2,axis=0)[:,1:-1]+np.diff(v,2,axis=1)[1:-1,:]))\n",
    "    essential_boundary_conditions(u)\n",
    "    \n",
    "print \"Saved \",len(Tlst), \" from \", Nsteps"
   ]
  },
  {
   "cell_type": "code",
   "execution_count": 250,
   "metadata": {
    "collapsed": false
   },
   "outputs": [
    {
     "data": {
      "text/plain": []
     },
     "execution_count": 250,
     "metadata": {},
     "output_type": "execute_result"
    }
   ],
   "source": [
    "anim=animate([matrix_plot(u,cmap='jet',figsize=(2,2)) for u in Tlst[:35]])\n",
    "anim.show()"
   ]
  },
  {
   "cell_type": "code",
   "execution_count": 221,
   "metadata": {
    "collapsed": false
   },
   "outputs": [
    {
     "data": {
      "text/plain": []
     },
     "execution_count": 221,
     "metadata": {},
     "output_type": "execute_result"
    }
   ],
   "source": [
    "import pylab\n",
    "\n",
    "@interact\n",
    "def _(ti=slider(range(len(Tlst)))):\n",
    "    print r\"t=\",dt*ti*sps\n",
    "    if True: \n",
    "        pylab.subplot(1,2,1)   \n",
    "        pylab.imshow(Tlst[ti],vmin=0,vmax=1,origin='top')\n",
    "        pylab.subplot(1,2,2) \n",
    "        pylab.imshow(Tvlst[ti],vmin=0,vmax=1,origin='top') \n",
    "        pylab.savefig('1.png',dpi=70)\n",
    "    else:\n",
    "        p =  matrix_plot(Tlst[ti])\n",
    "        p.show(figsize=(4,4))"
   ]
  },
  {
   "cell_type": "code",
   "execution_count": 244,
   "metadata": {
    "collapsed": false
   },
   "outputs": [
    {
     "data": {
      "text/plain": []
     },
     "execution_count": 244,
     "metadata": {},
     "output_type": "execute_result"
    }
   ],
   "source": [
    "anim=animate([matrix_plot(u,cmap='jet',figsize=(2,2)) for u in Tlst[40:72:2]])\n",
    "anim.show()"
   ]
  },
  {
   "cell_type": "code",
   "execution_count": 247,
   "metadata": {
    "collapsed": false
   },
   "outputs": [
    {
     "data": {
      "text/plain": []
     },
     "execution_count": 247,
     "metadata": {},
     "output_type": "execute_result"
    }
   ],
   "source": []
  },
  {
   "cell_type": "code",
   "execution_count": 271,
   "metadata": {
    "collapsed": false
   },
   "outputs": [
    {
     "data": {
      "text/plain": []
     },
     "execution_count": 271,
     "metadata": {},
     "output_type": "execute_result"
    }
   ],
   "source": []
  },
  {
   "cell_type": "code",
   "execution_count": 245,
   "metadata": {
    "collapsed": false
   },
   "outputs": [
    {
     "data": {
      "text/plain": []
     },
     "execution_count": 245,
     "metadata": {},
     "output_type": "execute_result"
    }
   ],
   "source": []
  },
  {
   "cell_type": "code",
   "execution_count": 248,
   "metadata": {
    "collapsed": false
   },
   "outputs": [
    {
     "data": {
      "text/plain": [
       "0.26456124029465322"
      ]
     },
     "execution_count": 248,
     "metadata": {},
     "output_type": "execute_result"
    }
   ],
   "source": []
  },
  {
   "cell_type": "code",
   "execution_count": 242,
   "metadata": {
    "collapsed": false
   },
   "outputs": [
    {
     "data": {
      "text/plain": []
     },
     "execution_count": 242,
     "metadata": {},
     "output_type": "execute_result"
    }
   ],
   "source": []
  },
  {
   "cell_type": "markdown",
   "metadata": {},
   "source": [
    "<h2>Gray Scott model</h2>\n",
    "<div id=\"_mcePaste\" style=\"position: absolute; left: -10000px; top: 0px; width: 1px; height: 1px; overflow: hidden;\">a=1.0</div>\n",
    "<div id=\"_mcePaste\" style=\"position: absolute; left: -10000px; top: 0px; width: 1px; height: 1px; overflow: hidden;\">b=0.1</div>\n",
    "<div id=\"_mcePaste\" style=\"position: absolute; left: -10000px; top: 0px; width: 1px; height: 1px; overflow: hidden;\">eps=0.1</div>\n",
    "<div id=\"_mcePaste\" style=\"position: absolute; left: -10000px; top: 0px; width: 1px; height: 1px; overflow: hidden;\">a = 0.75</div>\n",
    "<div id=\"_mcePaste\" style=\"position: absolute; left: -10000px; top: 0px; width: 1px; height: 1px; overflow: hidden;\">b = 0.0006</div>\n",
    "<div id=\"_mcePaste\" style=\"position: absolute; left: -10000px; top: 0px; width: 1px; height: 1px; overflow: hidden;\">eps = 0.072</div>\n",
    "<div id=\"_mcePaste\" style=\"position: absolute; left: -10000px; top: 0px; width: 1px; height: 1px; overflow: hidden;\">var('u v')</div>\n",
    "<div id=\"_mcePaste\" style=\"position: absolute; left: -10000px; top: 0px; width: 1px; height: 1px; overflow: hidden;\">f(u,v) = u*(1-u)*(u-(v-b)/a)</div>\n",
    "<div id=\"_mcePaste\" style=\"position: absolute; left: -10000px; top: 0px; width: 1px; height: 1px; overflow: hidden;\">g(u,v) = u-v</div>\n",
    "<div id=\"_mcePaste\" style=\"position: absolute; left: -10000px; top: 0px; width: 1px; height: 1px; overflow: hidden;\">V = vector( (1/eps*f,g))</div>\n",
    "<div id=\"_mcePaste\" style=\"position: absolute; left: -10000px; top: 0px; width: 1px; height: 1px; overflow: hidden;\">V=V/V.norm()</div>\n",
    "<div id=\"_mcePaste\" style=\"position: absolute; left: -10000px; top: 0px; width: 1px; height: 1px; overflow: hidden;\">vfield=plot_vector_field(V,(u,0,1),(v,0,1))+implicit_plot(g,(u,0,1),(v,0,1))</div>\n",
    "<div id=\"_mcePaste\" style=\"position: absolute; left: -10000px; top: 0px; width: 1px; height: 1px; overflow: hidden;\">t = srange(0,4/eps,0.01)</div>\n",
    "<div id=\"_mcePaste\" style=\"position: absolute; left: -10000px; top: 0px; width: 1px; height: 1px; overflow: hidden;\">sol = desolve_odeint([19*f,g], [0.5,0.0], t, [u,v])  </div>\n",
    "<div id=\"_mcePaste\" style=\"position: absolute; left: -10000px; top: 0px; width: 1px; height: 1px; overflow: hidden;\">plt_phase = vfield+line(sol,color='red',figsize=5)</div>\n",
    "<div id=\"_mcePaste\" style=\"position: absolute; left: -10000px; top: 0px; width: 1px; height: 1px; overflow: hidden;\">plt_time = line(zip(t,sol[:,0]),figsize=5)</div>\n",
    "<div id=\"_mcePaste\" style=\"position: absolute; left: -10000px; top: 0px; width: 1px; height: 1px; overflow: hidden;\">html.table([[plt_phase,plt_time]])</div>\n",
    "<p>Dynamika modelu (bez dyfuzji)</p>\n",
    "<p> </p>"
   ]
  },
  {
   "cell_type": "code",
   "execution_count": 251,
   "metadata": {
    "collapsed": false
   },
   "outputs": [
    {
     "data": {
      "text/plain": [
       "<html>\n",
       "<div class=\"notruncate\">\n",
       "<table class=\"table_form\">\n",
       "<tbody>\n",
       "<tr class =\"row-a\">\n",
       "<td><img src='cell://sage0.png'></td>\n",
       "<td><img src='cell://sage1.png'></td>\n",
       "</tr>\n",
       "</tbody>\n",
       "</table>\n",
       "</div>\n",
       "</html>"
      ]
     },
     "execution_count": 251,
     "metadata": {},
     "output_type": "execute_result"
    }
   ],
   "source": [
    "F = 0.1\n",
    "k = 0.04\n",
    "\n",
    "F = 0.04\n",
    "k = 0.062\n",
    "\n",
    "var('u v')\n",
    "f(u,v) = -u*v^2+ F*(1-u)\n",
    "g(u,v) = u*v^2-(F+k)*v\n",
    "V = vector( (f,g))\n",
    "V=V/V.norm()\n",
    "vfield=plot_vector_field(V,(u,-0.1,1.2),(v,-0.1,1.2))\n",
    "nullclines=implicit_plot(f,(u,-0.1,1.2), (v,-0.1,1.2),color='red')+implicit_plot(g,(u,-0.1,1.2),(v,-0.1,1.2),color='green')\n",
    "t = srange(0,226,0.01)\n",
    "plt_phase = vfield+nullclines\n",
    "sol = desolve_odeint([f,g], [1,0.25], t, [u,v])  \n",
    "plt_phase += line(sol,color='blue',figsize=5)\n",
    "plt_time = line(zip(t,sol[:,0]),figsize=5) + line(zip(t,sol[:,1]),color='green')\n",
    "html.table([[plt_phase,plt_time]])"
   ]
  },
  {
   "cell_type": "code",
   "execution_count": 258,
   "metadata": {
    "collapsed": false
   },
   "outputs": [
    {
     "data": {
      "text/plain": []
     },
     "execution_count": 258,
     "metadata": {},
     "output_type": "execute_result"
    }
   ],
   "source": []
  },
  {
   "cell_type": "code",
   "execution_count": 243,
   "metadata": {
    "collapsed": false
   },
   "outputs": [
    {
     "data": {
      "text/plain": [
       "dt,dt_dyn 1.00000000000000 0.00800000000000000\n",
       "sps= 10 dt= 1.00000000000000 Nsteps= 20000\n",
       "Saved  2000  from  20000\n",
       "CPU time: 88.02 s,  Wall time: 88.02 s"
      ]
     },
     "execution_count": 243,
     "metadata": {},
     "output_type": "execute_result"
    }
   ],
   "source": [
    "%timeit \n",
    "\n",
    "\n",
    "Dyf_u = 2e-5\n",
    "Dyf_v = 2e-5\n",
    "Dyf = max(Dyf_u,Dyf_v)\n",
    "F = 0.04\n",
    "k = 0.0562\n",
    "l = 2.5 # dlugosc ukladu\n",
    "t_end = 100 # czas symulacje\n",
    "\n",
    "N = 256 # dyskretyzacja przestrzeni\n",
    "h = l/(N-1) \n",
    "dt = 0.052/(Dyf*(N-1)**2/l**2) # 0.2 z warunku CFL, krok nie moze byc wiekszy\n",
    "\n",
    "#dt_dyn = (1.0)/125.0\n",
    "#dt = min(dt,dt_dyn)\n",
    "\n",
    "\n",
    "#sps = int(1/dt) # liczba krokow na jednostke czasu\n",
    "#Nsteps=sps*t_end  # calkowita liczba krotkow\n",
    "\n",
    "n=1\n",
    "dt = 1.0/n\n",
    "Nsteps = 20000*n\n",
    "sps = n*10\n",
    "\n",
    "print \"dt,dt_dyn\",dt,dt_dyn\n",
    "print \"sps=\",sps,\"dt=\",dt,'Nsteps=',Nsteps\n",
    "\n",
    "# warunek poczatkowy\n",
    "u = np.ones((N,N))\n",
    "v = np.zeros((N,N))\n",
    "\n",
    "\n",
    "u[int(N/2)-10:int(N/2)+20,int(N/2)-10:int(N/2)+10]=.5\n",
    "v[int(N/2)-10:int(N/2)+10,int(N/2)-20:int(N/2)+10]=.24\n",
    "\n",
    "\n",
    "u = u + np.random.uniform(low=0,high=0.01,size=(N,N))\n",
    "v = v + np.random.uniform(low=0,high=0.01,size=(N,N))\n",
    "\n",
    "\n",
    "\n",
    "def essential_boundary_conditions(u):\n",
    "    u[:,0] = 1.0\n",
    "    u[:,-1] = 1.0\n",
    "    u[-1,:] = 1.0\n",
    "    u[0,:] = 1.0\n",
    "    v[:,0] = 0.0\n",
    "    v[:,-1] = 0.0\n",
    "    v[-1,:] = 0.0\n",
    "    v[0,:] = 0.0\n",
    "\n",
    "Tlst=[]\n",
    "Tvlst=[]\n",
    "essential_boundary_conditions(u)\n",
    "\n",
    "for i in range(Nsteps):\n",
    "    if not i%sps:\n",
    "        Tlst.append(u.copy())\n",
    "        Tvlst.append(v.copy())\n",
    "    \n",
    "    u[1:-1,1:-1] = u[1:-1,1:-1] + dt*(-u[1:-1,1:-1]*v[1:-1,1:-1]**2 + F*(1.0r-u[1:-1,1:-1])  + \\\n",
    "     Dyf_u*(N-1)**2/l**2*(np.diff(u,2,axis=0)[:,1:-1]+np.diff(u,2,axis=1)[1:-1,:]))\n",
    "\n",
    "    v[1:-1,1:-1] = v[1:-1,1:-1] + dt*( u[1:-1,1:-1]*v[1:-1,1:-1]**2 - (F+k)*v[1:-1,1:-1]+ \\\n",
    "     Dyf_v*(N-1)**2/l**2*(np.diff(v,2,axis=0)[:,1:-1]+np.diff(v,2,axis=1)[1:-1,:]))\n",
    "    essential_boundary_conditions(u)\n",
    "    \n",
    "print \"Saved \",len(Tlst), \" from \", Nsteps\n",
    "pylab.clf()\n",
    "pylab.imshow(u,vmin=0.2,vmax=1,origin='top') \n",
    "pylab.colorbar()\n",
    "pylab.savefig('1.png',dpi=70)"
   ]
  },
  {
   "cell_type": "code",
   "execution_count": 257,
   "metadata": {
    "collapsed": false
   },
   "outputs": [
    {
     "data": {
      "text/plain": []
     },
     "execution_count": 257,
     "metadata": {},
     "output_type": "execute_result"
    }
   ],
   "source": [
    "import pylab\n",
    "\n",
    "@interact\n",
    "def _(ti=slider(range(len(Tlst)))):\n",
    "    print r\"t=\",dt*ti*sps\n",
    "    pylab.clf() \n",
    "    pylab.subplot(1,2,1)   \n",
    "    pylab.imshow(Tlst[ti],vmin=0,vmax=1,origin='top')\n",
    "    pylab.subplot(1,2,2) \n",
    "    pylab.imshow(Tvlst[ti],vmin=0,vmax=1,origin='top') \n",
    "    pylab.colorbar()\n",
    "    pylab.savefig('1.png',dpi=70)"
   ]
  },
  {
   "cell_type": "code",
   "execution_count": 256,
   "metadata": {
    "collapsed": false
   },
   "outputs": [
    {
     "data": {
      "text/plain": []
     },
     "execution_count": 256,
     "metadata": {},
     "output_type": "execute_result"
    }
   ],
   "source": []
  },
  {
   "cell_type": "code",
   "execution_count": 255,
   "metadata": {
    "collapsed": false
   },
   "outputs": [
    {
     "data": {
      "text/plain": []
     },
     "execution_count": 255,
     "metadata": {},
     "output_type": "execute_result"
    }
   ],
   "source": []
  },
  {
   "cell_type": "code",
   "execution_count": 254,
   "metadata": {
    "collapsed": false
   },
   "outputs": [
    {
     "data": {
      "text/plain": []
     },
     "execution_count": 254,
     "metadata": {},
     "output_type": "execute_result"
    }
   ],
   "source": []
  },
  {
   "cell_type": "code",
   "execution_count": 216,
   "metadata": {
    "collapsed": false
   },
   "outputs": [
    {
     "data": {
      "text/plain": []
     },
     "execution_count": 216,
     "metadata": {},
     "output_type": "execute_result"
    }
   ],
   "source": []
  },
  {
   "cell_type": "code",
   "execution_count": 214,
   "metadata": {
    "collapsed": false
   },
   "outputs": [
    {
     "data": {
      "text/plain": []
     },
     "execution_count": 214,
     "metadata": {},
     "output_type": "execute_result"
    }
   ],
   "source": []
  },
  {
   "cell_type": "code",
   "execution_count": 208,
   "metadata": {
    "collapsed": false
   },
   "outputs": [
    {
     "data": {
      "text/plain": []
     },
     "execution_count": 208,
     "metadata": {},
     "output_type": "execute_result"
    }
   ],
   "source": []
  },
  {
   "cell_type": "code",
   "execution_count": 212,
   "metadata": {
    "collapsed": false
   },
   "outputs": [
    {
     "data": {
      "text/plain": []
     },
     "execution_count": 212,
     "metadata": {},
     "output_type": "execute_result"
    }
   ],
   "source": []
  },
  {
   "cell_type": "code",
   "execution_count": 201,
   "metadata": {
    "collapsed": false
   },
   "outputs": [
    {
     "data": {
      "text/plain": []
     },
     "execution_count": 201,
     "metadata": {},
     "output_type": "execute_result"
    }
   ],
   "source": []
  },
  {
   "cell_type": "code",
   "execution_count": 203,
   "metadata": {
    "collapsed": false
   },
   "outputs": [
    {
     "data": {
      "text/plain": []
     },
     "execution_count": 203,
     "metadata": {},
     "output_type": "execute_result"
    }
   ],
   "source": []
  },
  {
   "cell_type": "code",
   "execution_count": 200,
   "metadata": {
    "collapsed": false
   },
   "outputs": [
    {
     "data": {
      "text/plain": []
     },
     "execution_count": 200,
     "metadata": {},
     "output_type": "execute_result"
    }
   ],
   "source": []
  },
  {
   "cell_type": "code",
   "execution_count": 202,
   "metadata": {
    "collapsed": false
   },
   "outputs": [
    {
     "data": {
      "text/plain": []
     },
     "execution_count": 202,
     "metadata": {},
     "output_type": "execute_result"
    }
   ],
   "source": []
  }
 ],
 "metadata": {
  "kernelspec": {
   "display_name": "SageMath 7.3",
   "language": "",
   "name": "sagemath"
  },
  "language": "python",
  "language_info": {
   "codemirror_mode": {
    "name": "ipython",
    "version": 2
   },
   "file_extension": ".py",
   "mimetype": "text/x-python",
   "name": "python",
   "nbconvert_exporter": "python",
   "pygments_lexer": "ipython2",
   "version": "2.7.10"
  }
 },
 "nbformat": 4,
 "nbformat_minor": 1
}
