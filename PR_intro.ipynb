{
 "cells": [
  {
   "cell_type": "markdown",
   "metadata": {},
   "source": [
    "# Programowanie równoległe\n",
    "\n",
    " Fizyka Techniczna III rok,\n",
    "\n",
    "## Plan wykładu\n",
    "\n",
    "### Wstęp do narzędzi numpy/scipy\n",
    " - zapis wektorowy operacji\n",
    " - praca z siatkami regularnymi\n",
    " - przyklad: równanie logistyczne\n",
    " - przykład: równanie dyfuzji \n",
    " \n",
    "### Programowanie równoległe - gruboziarniste Message Passing Interface (MPI) - \n",
    "- wstęp do MPI\n",
    "- operacje punktowe i zbiorowe (Point-to-Point, collective)\n",
    "- przykład: równanie logistyczne\n",
    "- przykład: równanie dyfuzji na klastrze, zbadanie skalowania słabego i mocnego\n",
    "\n",
    "#### Literatura\n",
    "\n",
    " - http://mpi4py.readthedocs.io/en/stable/\n",
    " - http://materials.jeremybejarano.com/MPIwithPython/\n",
    " - [MPI.The.Complete.Reference](https://www.google.pl/url?sa=t&rct=j&q=&esrc=s&source=web&cd=1&cad=rja&uact=8&ved=0ahUKEwjgiKvrsYzQAhUJCSwKHaN0BH4QFggkMAA&url=https%3A%2F%2Fwww.cs.utah.edu%2F~hari%2Fteaching%2Fbigdata%2Fbook96-Dongarra-MPI.The.Complete.Reference.pdf&usg=AFQjCNEVvjeItri-98dGO5B7Uw2Qy8_m7Q)\n",
    "\n",
    "### Programowanie drobnoziarniste - CUDA\n",
    "- wstęp do CUDA\n",
    "- przykład - równanie dyfuzji w CUDA\n",
    "- Przykłady użycia  klastrów z GPU - tzw. multi-GPU.\n",
    "- dostępne systemy w ramach plGrid\n",
    "\n",
    "\n"
   ]
  },
  {
   "cell_type": "code",
   "execution_count": null,
   "metadata": {
    "collapsed": true
   },
   "outputs": [],
   "source": []
  },
  {
   "cell_type": "code",
   "execution_count": null,
   "metadata": {
    "collapsed": true
   },
   "outputs": [],
   "source": []
  },
  {
   "cell_type": "markdown",
   "metadata": {},
   "source": [
    "###  Zadanie 1 Funkcja pierwotna\n",
    "\n",
    "Napisz procedurę liczącą numerycznie funkcję pierwotną.\n",
    "\n",
    "      \t\n",
    "### Zadanie 2. Zera funkcji\n",
    "\n",
    "Napisz procedurę znajdującą miejsce zerowe funkcji.\n",
    "\n",
    " \n",
    "       \t\n",
    "### Zadanie 3. Pochodna funkcji\n",
    "\n",
    "Napisz procedure obliczającą numerycznie pierwszą i drugą pochodną funkcji stosując róźnice skończone. \n",
    "\n",
    "http://en.wikipedia.org/wiki/Finite_difference_coefficient\n",
    "\n",
    " \n",
    "       \t\n",
    "### Zadanie 4. \n",
    "\n",
    "Napisz pocedurę znajdującą maxima funkcji.\n",
    "\n",
    "### Zadanie 5\n",
    "\n",
    "Całkowanie funkcji danej wzorem analitycznym.\n"
   ]
  },
  {
   "cell_type": "code",
   "execution_count": 1,
   "metadata": {
    "collapsed": true
   },
   "outputs": [],
   "source": [
    "import numpy as np "
   ]
  },
  {
   "cell_type": "markdown",
   "metadata": {},
   "source": [
    " ### onedimensionalcellularautomata\n",
    " https://github.com/btbonval/onedimensionalcellularautomata"
   ]
  },
  {
   "cell_type": "code",
   "execution_count": null,
   "metadata": {
    "collapsed": false
   },
   "outputs": [],
   "source": [
    "# %load MPI/patch\n",
    "diff --git a/rules.py b/rules.py\n",
    "index 3773e15..5e5d6f8 100644\n",
    "--- a/rules.py\n",
    "+++ b/rules.py\n",
    "@@ -3,7 +3,7 @@ Example rules are defined herein. Rules are generally meant to be defined by\n",
    " the user.\n",
    " '''\n",
    " \n",
    "-from itertools import imap, repeat, izip\n",
    "+from itertools import repeat\n",
    " from utils import i2bt, bt2i\n",
    " \n",
    " # Generate Wolfram's rules for neighborhood 1 automata\n",
    "@@ -24,6 +24,6 @@ def wolfram(rulenum):\n",
    "     width = 3\n",
    "     image = i2bt(rulenum, 2**width)[::-1]\n",
    "     # for 0 to 8, run i2bt(0, width) to i2bt(8, width)\n",
    "-    preimage = imap(i2bt, range(0,2**width), repeat(width))\n",
    "+    preimage = map(i2bt, range(0,2**width), repeat(width))\n",
    "     # line up the preimages with the images and make it a dict/hashmap\n",
    "-    return dict(izip(preimage, image))\n",
    "+    return dict(zip(preimage, image))\n",
    "diff --git a/update.py b/update.py\n",
    "index 60144fc..c43d0a7 100644\n",
    "--- a/update.py\n",
    "+++ b/update.py\n",
    "@@ -9,9 +9,9 @@ import numpy\n",
    " from matplotlib import pyplot\n",
    " from matplotlib import cm\n",
    " \n",
    "-from itertools import imap\n",
    "+# from itertools import imap\n",
    " from itertools import repeat \n",
    "-from itertools import izip\n",
    "+# from itertools import izip\n",
    " \n",
    " from utils import bt2i\n",
    " \n",
    "@@ -43,7 +43,7 @@ def prepare_update(state, neighborhood, rule):\n",
    "     #return q\n",
    " \n",
    "     # comments above left for readability, all of it strung together for speed:\n",
    "-    return imap(rule.__getitem__, imap(tuple, imap(state.__getitem__, imap(neighborhood, range(0,l)))))\n",
    "+    return map(rule.__getitem__, map(tuple, map(state.__getitem__, map(neighborhood, range(0,l)))))\n",
    " \n",
    " def update(*args, **kwargs):\n",
    "     '''\n"
   ]
  },
  {
   "cell_type": "code",
   "execution_count": null,
   "metadata": {
    "collapsed": true
   },
   "outputs": [],
   "source": []
  }
 ],
 "metadata": {
  "kernelspec": {
   "display_name": "Python 2",
   "language": "python",
   "name": "python2"
  },
  "language_info": {
   "codemirror_mode": {
    "name": "ipython",
    "version": 2
   },
   "file_extension": ".py",
   "mimetype": "text/x-python",
   "name": "python",
   "nbconvert_exporter": "python",
   "pygments_lexer": "ipython2",
   "version": "2.7.12"
  }
 },
 "nbformat": 4,
 "nbformat_minor": 0
}
