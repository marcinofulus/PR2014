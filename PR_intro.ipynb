{
 "cells": [
  {
   "cell_type": "markdown",
   "metadata": {},
   "source": [
    "# Programowanie równoległe\n",
    "\n",
    " Fizyka Techniczna III rok,\n",
    "\n",
    "## Plan wykładu\n",
    "\n",
    "### Wstęp do narzędzi numpy/scipy\n",
    " - zapis wektorowy operacji\n",
    " - praca z siatkami regularnymi\n",
    " - przyklad: równanie logistyczne\n",
    " - przykład: równanie dyfuzji \n",
    " \n",
    "### Programowanie równoległe - gruboziarniste Message Passing Interface (MPI) - \n",
    "- wstęp do MPI\n",
    "- operacje punktowe i zbiorowe (Point-to-Point, collective)\n",
    "- przykład: równanie logistyczne\n",
    "- przykład: równanie dyfuzji na klastrze, zbadanie skalowania słabego i mocnego\n",
    "\n",
    "#### Literatura\n",
    "\n",
    " - http://mpi4py.readthedocs.io/en/stable/\n",
    " - http://materials.jeremybejarano.com/MPIwithPython/\n",
    " - [MPI.The.Complete.Reference](https://www.google.pl/url?sa=t&rct=j&q=&esrc=s&source=web&cd=1&cad=rja&uact=8&ved=0ahUKEwjgiKvrsYzQAhUJCSwKHaN0BH4QFggkMAA&url=https%3A%2F%2Fwww.cs.utah.edu%2F~hari%2Fteaching%2Fbigdata%2Fbook96-Dongarra-MPI.The.Complete.Reference.pdf&usg=AFQjCNEVvjeItri-98dGO5B7Uw2Qy8_m7Q)\n",
    "\n",
    "### Programowanie drobnoziarniste - CUDA\n",
    "- wstęp do CUDA\n",
    "- przykład - równanie dyfuzji w CUDA\n",
    "- Przykłady użycia  klastrów z GPU - tzw. multi-GPU.\n",
    "- dostępne systemy w ramach plGrid\n",
    "\n",
    "\n"
   ]
  },
  {
   "cell_type": "code",
   "execution_count": null,
   "metadata": {
    "collapsed": true
   },
   "outputs": [],
   "source": []
  },
  {
   "cell_type": "code",
   "execution_count": null,
   "metadata": {
    "collapsed": true
   },
   "outputs": [],
   "source": []
  },
  {
   "cell_type": "markdown",
   "metadata": {},
   "source": [
    "###  Zadanie 1 Funkcja pierwotna\n",
    "\n",
    "Napisz procedurę liczącą numerycznie funkcję pierwotną.\n",
    "\n",
    "      \t\n",
    "### Zadanie 2. Zera funkcji\n",
    "\n",
    "Napisz procedurę znajdującą miejsce zerowe funkcji.\n",
    "\n",
    " \n",
    "       \t\n",
    "### Zadanie 3. Pochodna funkcji\n",
    "\n",
    "Napisz procedure obliczającą numerycznie pierwszą i drugą pochodną funkcji stosując róźnice skończone. \n",
    "\n",
    "http://en.wikipedia.org/wiki/Finite_difference_coefficient\n",
    "\n",
    " \n",
    "       \t\n",
    "### Zadanie 4. \n",
    "\n",
    "Napisz pocedurę znajdującą maxima funkcji.\n",
    "\n"
   ]
  },
  {
   "cell_type": "code",
   "execution_count": 1,
   "metadata": {
    "collapsed": true
   },
   "outputs": [],
   "source": [
    "import numpy as np "
   ]
  },
  {
   "cell_type": "code",
   "execution_count": null,
   "metadata": {
    "collapsed": true
   },
   "outputs": [],
   "source": [
    "np.linspace"
   ]
  }
 ],
 "metadata": {
  "kernelspec": {
   "display_name": "Python 2",
   "language": "python",
   "name": "python2"
  },
  "language_info": {
   "codemirror_mode": {
    "name": "ipython",
    "version": 2
   },
   "file_extension": ".py",
   "mimetype": "text/x-python",
   "name": "python",
   "nbconvert_exporter": "python",
   "pygments_lexer": "ipython2",
   "version": "2.7.12"
  }
 },
 "nbformat": 4,
 "nbformat_minor": 0
}
