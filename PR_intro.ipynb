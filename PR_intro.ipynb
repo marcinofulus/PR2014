{
 "cells": [
  {
   "cell_type": "markdown",
   "metadata": {},
   "source": [
    "# Programowanie równoległe\n",
    "\n",
    " Fizyka Techniczna III rok,\n",
    "\n",
    "## Plan wykładu\n",
    "\n",
    "### Wstęp do narzędzi numpy/scipy\n",
    " - zapis wektorowy operacji\n",
    " - praca z siatkami regularnymi\n",
    " - przyklad: równanie logistyczne\n",
    " - przykład: równanie dyfuzji \n",
    " \n",
    "### Programowanie równoległe - gruboziarniste Message Passing Interface (MPI) - \n",
    "- wstęp do MPI\n",
    "- operacje punktowe i zbiorowe (Point-to-Point, collective)\n",
    "- przykład: równanie logistyczne\n",
    "- przykład: równanie dyfuzji na klastrze, zbadanie skalowania słabego i mocnego\n",
    "\n",
    "\n",
    "### Programowanie drobnoziarniste - CUDA\n",
    "- wstęp do CUDA\n",
    "- przykład - równanie dyfuzji w CUDA\n",
    "- Przykłady użycia  klastrów z GPU - tzw. multi-GPU.\n",
    "- dostępne systemy w ramach plGrid\n"
   ]
  },
  {
   "cell_type": "code",
   "execution_count": null,
   "metadata": {
    "collapsed": true
   },
   "outputs": [],
   "source": []
  },
  {
   "cell_type": "code",
   "execution_count": null,
   "metadata": {
    "collapsed": true
   },
   "outputs": [],
   "source": []
  },
  {
   "cell_type": "markdown",
   "metadata": {},
   "source": [
    "###  Zadanie 1 Funkcja pierwotna\n",
    "\n",
    "Napisz procedurę liczącą numerycznie funkcję pierwotną.\n",
    "\n",
    "      \t\n",
    "### Zadanie 2. Zera funkcji\n",
    "\n",
    "Napisz procedurę znajdującą miejsce zerowe funkcji.\n",
    "\n",
    " \n",
    "       \t\n",
    "### Zadanie 3. Pochodna funkcji\n",
    "\n",
    "Napisz procedure obliczającą numerycznie pierwszą i drugą pochodną funkcji stosując róźnice skończone. \n",
    "\n",
    "http://en.wikipedia.org/wiki/Finite_difference_coefficient\n",
    "\n",
    " \n",
    "       \t\n",
    "### Zadanie 4. \n",
    "\n",
    "Napisz pocedurę znajdującą maxima funkcji.\n",
    "\n"
   ]
  },
  {
   "cell_type": "code",
   "execution_count": 1,
   "metadata": {
    "collapsed": true
   },
   "outputs": [],
   "source": [
    "import numpy as np "
   ]
  },
  {
   "cell_type": "code",
   "execution_count": null,
   "metadata": {
    "collapsed": true
   },
   "outputs": [],
   "source": [
    "np.linspace"
   ]
  }
 ],
 "metadata": {
  "kernelspec": {
   "display_name": "Python 2",
   "language": "python",
   "name": "python2"
  },
  "language_info": {
   "codemirror_mode": {
    "name": "ipython",
    "version": 2
   },
   "file_extension": ".py",
   "mimetype": "text/x-python",
   "name": "python",
   "nbconvert_exporter": "python",
   "pygments_lexer": "ipython2",
   "version": "2.7.12"
  }
 },
 "nbformat": 4,
 "nbformat_minor": 0
}
