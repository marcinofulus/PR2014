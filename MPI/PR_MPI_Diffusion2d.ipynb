{
 "cells": [
  {
   "cell_type": "markdown",
   "metadata": {},
   "source": [
    "# Równanie dyfuzji - dekompozycja siatki z zastosowaniem MPI\n",
    "\n",
    "**Problem:**\n",
    "\n",
    "Chcemy rozwiązać równanie dyfuzji wykorzystując wiele procesorów. \n",
    "\n",
    "Dzielimy siatkę na obszary o w każdym obszarze rozwiązujemy równanie niezależnie. Po każdym kroku czasowym wykorzystujemy komunikację w MPI do wymiany informacji o przylegających  brzegach odpowiednich obszarów.\n"
   ]
  },
  {
   "cell_type": "code",
   "execution_count": null,
   "metadata": {
    "collapsed": false
   },
   "outputs": [],
   "source": []
  },
  {
   "cell_type": "code",
   "execution_count": 7,
   "metadata": {
    "collapsed": false
   },
   "outputs": [
    {
     "name": "stdout",
     "output_type": "stream",
     "text": [
      "/home/users/marcin.kostur\n",
      "WD is now: /home/users/marcin.kostur/mpi_tmpdir\n"
     ]
    }
   ],
   "source": [
    "%matplotlib inline\n",
    "import matplotlib.pyplot as plt\n",
    "import numpy as np\n",
    "import os \n",
    "print os.getenv(\"HOME\")\n",
    "wd = os.path.join( os.getenv(\"HOME\"),\"mpi_tmpdir\")\n",
    "if not os.path.isdir(wd):\n",
    "    os.mkdir(wd)\n",
    "os.chdir(wd)\n",
    "print \"WD is now:\",os.getcwd()"
   ]
  },
  {
   "cell_type": "code",
   "execution_count": 8,
   "metadata": {
    "collapsed": false
   },
   "outputs": [
    {
     "name": "stdout",
     "output_type": "stream",
     "text": [
      "Overwriting mpi002.py\n"
     ]
    }
   ],
   "source": [
    "%%writefile mpi002.py\n",
    "\n",
    "from mpi4py import MPI\n",
    "import numpy as np \n",
    "\n",
    "comm = MPI.COMM_WORLD\n",
    "rank = comm.Get_rank()\n",
    "\n",
    "\n",
    "def numpy_diff2d(u,dx2,dy2,c):\n",
    "\n",
    "    A = (1.0-2.0*(c/dx2+c/dy2))\n",
    "    u[1:-1,1:-1] =A*u[1:-1,1:-1] + c/dy2*(u[2:,1:-1] + u[:-2,1:-1]) + \\\n",
    "                                   c/dx2*(u[1:-1,2:] + u[1:-1,:-2])\n",
    "\n",
    "        \n",
    "N=52\n",
    "Niter=211\n",
    "dx = 0.1\n",
    "dy = 0.1\n",
    "dx2 = dx*dx\n",
    "dy2 = dy*dy\n",
    "dt = 0.01\n",
    "D = 0.1\n",
    "c = D*dt\n",
    "\n",
    "u = np.zeros([N, N])       \n",
    "\n",
    "if rank == 0:\n",
    "    u[-2,u.shape[1]/2] = 1.0/np.sqrt(dx2*dy2)\n",
    "    print \"CLF = \",c/dx2,c/dy2\n",
    "    \n",
    "for i in range(Niter):\n",
    "    \n",
    "    if rank == 0:\n",
    "                        \n",
    "        comm.Send([u[-2,:], MPI.FLOAT], dest=1)\n",
    "        comm.Recv([u[-1,:], MPI.FLOAT], source=1)     \n",
    "        \n",
    "    elif rank == 1:               \n",
    "        comm.Recv([u[0,:], MPI.FLOAT], source=0)     \n",
    "        comm.Send([u[1,:], MPI.FLOAT], dest=0)\n",
    "\n",
    "       \n",
    "    numpy_diff2d(u,dx2,dy2,c)\n",
    "        \n",
    "#np.savez(\"udata%04d\"%rank, u=u)    \n",
    "U = comm.gather(u[1:-1,1:-1])\n",
    "if rank==0:\n",
    "    np.savez(\"Udata\", U=U)    \n",
    "    "
   ]
  },
  {
   "cell_type": "code",
   "execution_count": 9,
   "metadata": {
    "collapsed": false
   },
   "outputs": [
    {
     "name": "stdout",
     "output_type": "stream",
     "text": [
      "CLF =  0.1 0.1\r\n"
     ]
    }
   ],
   "source": [
    "!mpirun -n 2 python mpi002.py"
   ]
  },
  {
   "cell_type": "code",
   "execution_count": 10,
   "metadata": {
    "collapsed": false
   },
   "outputs": [
    {
     "name": "stdout",
     "output_type": "stream",
     "text": [
      "(2, 50, 50)\n"
     ]
    },
    {
     "data": {
      "image/png": "[encoded data removed]",
      "text/plain": [
       "<matplotlib.figure.Figure at 0x7fa359fae2d0>"
      ]
     },
     "metadata": {},
     "output_type": "display_data"
    }
   ],
   "source": [
    "data = np.load(\"Udata.npz\")\n",
    "plt.imshow(np.vstack(data['U']))\n",
    "print data['U'].shape"
   ]
  },
  {
   "cell_type": "code",
   "execution_count": 12,
   "metadata": {
    "collapsed": false
   },
   "outputs": [
    {
     "name": "stdout",
     "output_type": "stream",
     "text": [
      "/home/users/marcin.kostur/mpi_tmpdir\r\n"
     ]
    }
   ],
   "source": [
    "!pwd"
   ]
  },
  {
   "cell_type": "markdown",
   "metadata": {},
   "source": [
    "## non-contigous slice"
   ]
  },
  {
   "cell_type": "code",
   "execution_count": 13,
   "metadata": {
    "collapsed": false
   },
   "outputs": [
    {
     "name": "stdout",
     "output_type": "stream",
     "text": [
      "Writing mpi003.py\n"
     ]
    }
   ],
   "source": [
    "%%writefile mpi003.py\n",
    "\n",
    "from mpi4py import MPI\n",
    "import numpy as np \n",
    "\n",
    "comm = MPI.COMM_WORLD\n",
    "rank = comm.Get_rank()\n",
    "\n",
    "\n",
    "def numpy_diff2d(u,dx2,dy2,c):\n",
    "\n",
    "    A = (1.0-2.0*(c/dx2+c/dy2))\n",
    "    u[1:-1,1:-1] =A*u[1:-1,1:-1] + c/dy2*(u[2:,1:-1] + u[:-2,1:-1]) + \\\n",
    "                                   c/dx2*(u[1:-1,2:] + u[1:-1,:-2])\n",
    "\n",
    "        \n",
    "N=52\n",
    "Niter=211\n",
    "dx = 0.1\n",
    "dy = 0.1\n",
    "dx2 = dx*dx\n",
    "dy2 = dy*dy\n",
    "dt = 0.01\n",
    "D = 0.1\n",
    "c = D*dt\n",
    "\n",
    "u = np.zeros([N, N])       \n",
    "\n",
    "if rank == 0:\n",
    "    u[u.shape[1]/2,-2] = 1.0/np.sqrt(dx2*dy2)\n",
    "    print \"CLF = \",c/dx2,c/dy2\n",
    "  \n",
    "for i in range(Niter):\n",
    "    \n",
    "    if rank == 0:\n",
    "        OUT = u[:,-2].copy()  \n",
    "        IN = np.empty_like(OUT)\n",
    "        comm.Send([OUT, MPI.FLOAT], dest=1)\n",
    "        comm.Recv([IN, MPI.FLOAT], source=1)     \n",
    "        u[:,-1] = IN\n",
    "    elif rank == 1: \n",
    "        OUT = u[:,1].copy()\n",
    "        IN = np.empty_like(OUT)               \n",
    "        comm.Recv([IN, MPI.FLOAT], source=0)     \n",
    "        comm.Send([OUT, MPI.FLOAT], dest=0)\n",
    "        u[:,0] = IN\n",
    "        \n",
    "    numpy_diff2d(u,dx2,dy2,c)\n",
    "        \n",
    "np.savez(\"udata%04d\"%rank, u=u)    \n"
   ]
  },
  {
   "cell_type": "code",
   "execution_count": 14,
   "metadata": {
    "collapsed": false
   },
   "outputs": [
    {
     "name": "stdout",
     "output_type": "stream",
     "text": [
      "CLF =  0.1 0.1\r\n"
     ]
    }
   ],
   "source": [
    "!mpirun -n 2 python mpi003.py"
   ]
  },
  {
   "cell_type": "code",
   "execution_count": 16,
   "metadata": {
    "collapsed": false
   },
   "outputs": [
    {
     "data": {
      "text/plain": [
       "<matplotlib.image.AxesImage at 0x7fa359def910>"
      ]
     },
     "execution_count": 16,
     "metadata": {},
     "output_type": "execute_result"
    },
    {
     "data": {
      "image/png": "[encoded data removed]",
      "text/plain": [
       "<matplotlib.figure.Figure at 0x7fa359fcd450>"
      ]
     },
     "metadata": {},
     "output_type": "display_data"
    }
   ],
   "source": [
    "u1 = np.load('udata0000.npz')['u']\n",
    "u2 = np.load('udata0001.npz')['u']\n",
    "plt.imshow(np.hstack([u1[:,:-1],u2[:,1:]]))"
   ]
  },
  {
   "cell_type": "markdown",
   "metadata": {},
   "source": [
    "## N - slices"
   ]
  },
  {
   "cell_type": "code",
   "execution_count": 17,
   "metadata": {
    "collapsed": false
   },
   "outputs": [
    {
     "name": "stdout",
     "output_type": "stream",
     "text": [
      "Writing mpi004.py\n"
     ]
    }
   ],
   "source": [
    "%%writefile mpi004.py\n",
    "\n",
    "from mpi4py import MPI\n",
    "  \n",
    "import numpy as np \n",
    "\n",
    "comm = MPI.COMM_WORLD\n",
    "rank = comm.Get_rank()\n",
    "Nproc = comm.size\n",
    "\n",
    "def numpy_diff2d(u,dx2,dy2,c):\n",
    "\n",
    "    A = (1.0-2.0*(c/dx2+c/dy2))\n",
    "    u[1:-1,1:-1] = A*u[1:-1,1:-1] + c/dy2*(u[2:,1:-1] + u[:-2,1:-1]) + \\\n",
    "                                    c/dx2*(u[1:-1,2:] + u[1:-1,:-2])\n",
    "\n",
    "N = 16*128        \n",
    "Nx = N\n",
    "Ny = N/Nproc\n",
    "\n",
    "Niter=200\n",
    "dx = 0.1\n",
    "dy = 0.1\n",
    "dx2 = dx*dx\n",
    "dy2 = dy*dy\n",
    "dt = 0.01\n",
    "D = 0.2\n",
    "c = D*dt\n",
    "\n",
    "u = np.zeros([Ny, Nx])       \n",
    "\n",
    "if rank == 0:\n",
    "    u[-2,u.shape[1]/2] = 1.0/np.sqrt(dx2*dy2)\n",
    "    print \"CLF = \",c/dx2,c/dy2\n",
    "\n",
    "t0 = MPI.Wtime()\n",
    "\n",
    "for i in range(Niter):\n",
    "    \n",
    "    if Nproc>1:\n",
    "        if rank == 0:       \n",
    "            comm.Send([u[-2,:], MPI.FLOAT], dest=1)\n",
    "        if rank >0  and rank < Nproc-1:\n",
    "            comm.Recv([u[0,:], MPI.FLOAT], source=rank-1)\n",
    "            comm.Send([u[-2,:], MPI.FLOAT], dest=rank+1)    \n",
    "        if rank == Nproc - 1:               \n",
    "            comm.Recv([u[0,:], MPI.FLOAT], source=Nproc-2)     \n",
    "            comm.Send([u[1,:], MPI.FLOAT], dest=Nproc-2)\n",
    "        if rank >0  and rank < Nproc-1:\n",
    "            comm.Recv([u[-1,:], MPI.FLOAT], source=rank+1)\n",
    "            comm.Send([u[1,:], MPI.FLOAT], dest=rank-1)\n",
    "        if rank == 0:\n",
    "            comm.Recv([u[-1,:], MPI.FLOAT], source=1)   \n",
    "    \n",
    "    #print rank\n",
    "    \n",
    "    comm.Barrier()\n",
    "    numpy_diff2d(u,dx2,dy2,c)\n",
    "\n",
    "t1 = MPI.Wtime()    \n",
    "print rank,t1-t0\n",
    "    \n",
    "#np.savez(\"udata%04d\"%rank, u=u)    \n",
    "if Nproc>1:\n",
    "    U = comm.gather(u[1:-1,1:-1])\n",
    "\n",
    "    if rank==0:\n",
    "         np.savez(\"Udata\", U=U)    \n",
    "    "
   ]
  },
  {
   "cell_type": "code",
   "execution_count": null,
   "metadata": {
    "collapsed": false
   },
   "outputs": [],
   "source": []
  },
  {
   "cell_type": "code",
   "execution_count": 18,
   "metadata": {
    "collapsed": false
   },
   "outputs": [
    {
     "name": "stdout",
     "output_type": "stream",
     "text": [
      "/usr/bin/ssh: /opt/puppetlabs/puppet/lib/libcrypto.so.1.0.0: no version information available (required by /usr/bin/ssh)\n",
      "/usr/bin/ssh: /opt/puppetlabs/puppet/lib/libcrypto.so.1.0.0: no version information available (required by /usr/bin/ssh)\n",
      "CLF =  0.2 0.2\n",
      "0 6.95832514763\n",
      "1 6.93596291542\n"
     ]
    }
   ],
   "source": [
    "!mpirun -H gpu2,gpu3 python mpi004.py"
   ]
  },
  {
   "cell_type": "code",
   "execution_count": 19,
   "metadata": {
    "collapsed": false
   },
   "outputs": [
    {
     "name": "stdout",
     "output_type": "stream",
     "text": [
      "CLF =  0.2 0.2\n",
      "0 4.19562888145\n",
      "1 4.18583106995\n",
      "2 4.19542193413\n",
      "3 4.22370481491\n"
     ]
    }
   ],
   "source": [
    "!mpirun -n 4 python mpi004.py"
   ]
  },
  {
   "cell_type": "code",
   "execution_count": 21,
   "metadata": {
    "collapsed": false
   },
   "outputs": [
    {
     "name": "stdout",
     "output_type": "stream",
     "text": [
      "(4, 510, 2046)\n"
     ]
    },
    {
     "data": {
      "image/png": "[encoded data removed]",
      "text/plain": [
       "<matplotlib.figure.Figure at 0x7fa359e68350>"
      ]
     },
     "metadata": {},
     "output_type": "display_data"
    }
   ],
   "source": [
    "data = np.load(\"Udata.npz\")\n",
    "plt.imshow(np.vstack(data['U']))\n",
    "print data['U'].shape"
   ]
  },
  {
   "cell_type": "code",
   "execution_count": 22,
   "metadata": {
    "collapsed": false
   },
   "outputs": [],
   "source": [
    "a = np.arange(0,16).reshape(4,4)"
   ]
  },
  {
   "cell_type": "code",
   "execution_count": 23,
   "metadata": {
    "collapsed": false
   },
   "outputs": [],
   "source": [
    "b = a[:,2]\n",
    "c = a[2,:]"
   ]
  },
  {
   "cell_type": "code",
   "execution_count": 24,
   "metadata": {
    "collapsed": false
   },
   "outputs": [
    {
     "data": {
      "text/plain": [
       "(True, True)"
      ]
     },
     "execution_count": 24,
     "metadata": {},
     "output_type": "execute_result"
    }
   ],
   "source": [
    "np.may_share_memory(a,b),np.may_share_memory(a,c)"
   ]
  },
  {
   "cell_type": "code",
   "execution_count": 25,
   "metadata": {
    "collapsed": false
   },
   "outputs": [
    {
     "data": {
      "text/plain": [
       "  C_CONTIGUOUS : True\n",
       "  F_CONTIGUOUS : False\n",
       "  OWNDATA : False\n",
       "  WRITEABLE : True\n",
       "  ALIGNED : True\n",
       "  UPDATEIFCOPY : False"
      ]
     },
     "execution_count": 25,
     "metadata": {},
     "output_type": "execute_result"
    }
   ],
   "source": [
    "a.flags"
   ]
  },
  {
   "cell_type": "code",
   "execution_count": 26,
   "metadata": {
    "collapsed": false
   },
   "outputs": [
    {
     "data": {
      "text/plain": [
       "  C_CONTIGUOUS : False\n",
       "  F_CONTIGUOUS : False\n",
       "  OWNDATA : False\n",
       "  WRITEABLE : True\n",
       "  ALIGNED : True\n",
       "  UPDATEIFCOPY : False"
      ]
     },
     "execution_count": 26,
     "metadata": {},
     "output_type": "execute_result"
    }
   ],
   "source": [
    "b.flags"
   ]
  },
  {
   "cell_type": "code",
   "execution_count": 27,
   "metadata": {
    "collapsed": false
   },
   "outputs": [
    {
     "data": {
      "text/plain": [
       "  C_CONTIGUOUS : True\n",
       "  F_CONTIGUOUS : True\n",
       "  OWNDATA : False\n",
       "  WRITEABLE : True\n",
       "  ALIGNED : True\n",
       "  UPDATEIFCOPY : False"
      ]
     },
     "execution_count": 27,
     "metadata": {},
     "output_type": "execute_result"
    }
   ],
   "source": [
    "c.flags"
   ]
  },
  {
   "cell_type": "code",
   "execution_count": 28,
   "metadata": {
    "collapsed": false
   },
   "outputs": [],
   "source": [
    "a=np.array(range(6))"
   ]
  },
  {
   "cell_type": "code",
   "execution_count": null,
   "metadata": {
    "collapsed": false
   },
   "outputs": [],
   "source": []
  },
  {
   "cell_type": "code",
   "execution_count": 29,
   "metadata": {
    "collapsed": false
   },
   "outputs": [],
   "source": [
    "b = a[2:4]"
   ]
  },
  {
   "cell_type": "code",
   "execution_count": 30,
   "metadata": {
    "collapsed": false
   },
   "outputs": [],
   "source": [
    "b=666\n"
   ]
  },
  {
   "cell_type": "code",
   "execution_count": 32,
   "metadata": {
    "collapsed": false
   },
   "outputs": [
    {
     "name": "stdout",
     "output_type": "stream",
     "text": [
      "[0 1 2 3 4 5]\n"
     ]
    }
   ],
   "source": [
    "print a"
   ]
  },
  {
   "cell_type": "code",
   "execution_count": 60,
   "metadata": {
    "collapsed": false
   },
   "outputs": [],
   "source": [
    "np.may_share_memory?\n"
   ]
  },
  {
   "cell_type": "code",
   "execution_count": null,
   "metadata": {
    "collapsed": false
   },
   "outputs": [],
   "source": []
  }
 ],
 "metadata": {
  "kernelspec": {
   "display_name": "Python 3",
   "language": "python",
   "name": "python3"
  },
  "language_info": {
   "codemirror_mode": {
    "name": "ipython",
    "version": 3
   },
   "file_extension": ".py",
   "mimetype": "text/x-python",
   "name": "python",
   "nbconvert_exporter": "python",
   "pygments_lexer": "ipython3",
   "version": "3.5.2"
  }
 },
 "nbformat": 4,
 "nbformat_minor": 0
}
