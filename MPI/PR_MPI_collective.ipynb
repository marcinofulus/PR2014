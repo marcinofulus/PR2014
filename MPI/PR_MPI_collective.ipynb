{
 "cells": [
  {
   "cell_type": "markdown",
   "metadata": {
    "slideshow": {
     "slide_type": "slide"
    }
   },
   "source": [
    "# Collective communications"
   ]
  },
  {
   "cell_type": "code",
   "execution_count": 4,
   "metadata": {
    "collapsed": false,
    "slideshow": {
     "slide_type": "-"
    }
   },
   "outputs": [
    {
     "name": "stdout",
     "output_type": "stream",
     "text": [
      "[0, 1, 2, 3]\n"
     ]
    }
   ],
   "source": [
    "import numpy as np\n",
    "import ipyparallel as ipp\n",
    "c = ipp.Client(profile='mpi')\n",
    "print(c.ids)\n",
    "view = c[:]\n",
    "view.activate()"
   ]
  },
  {
   "cell_type": "markdown",
   "metadata": {
    "slideshow": {
     "slide_type": "slide"
    }
   },
   "source": [
    "## Bcast/bcast - przykład"
   ]
  },
  {
   "cell_type": "code",
   "execution_count": 25,
   "metadata": {
    "collapsed": false,
    "slideshow": {
     "slide_type": "subslide"
    }
   },
   "outputs": [
    {
     "name": "stdout",
     "output_type": "stream",
     "text": [
      "[stdout:0] \n",
      "0.0\n",
      "12.0\n",
      "[stdout:1] \n",
      "0.0\n",
      "12.0\n",
      "[stdout:2] \n",
      "0.0\n",
      "12.0\n"
     ]
    }
   ],
   "source": [
    "%%px --block \n",
    "\n",
    "from mpi4py import MPI\n",
    "import numpy as np\n",
    "\n",
    "comm = MPI.COMM_WORLD\n",
    "rank = comm.Get_rank()\n",
    "\n",
    "if rank == 0:\n",
    "    a = 12.\n",
    "else:\n",
    "    a = 0.0\n",
    "\n",
    "if rank>0:\n",
    "    print(a)\n",
    "    \n",
    "a = comm.bcast(a, root=0)\n",
    "\n",
    "if rank>0:\n",
    "    print(a)"
   ]
  },
  {
   "cell_type": "code",
   "execution_count": 27,
   "metadata": {
    "collapsed": false,
    "slideshow": {
     "slide_type": "subslide"
    }
   },
   "outputs": [
    {
     "name": "stdout",
     "output_type": "stream",
     "text": [
      "[stdout:0] \n",
      "[ 0.]\n",
      "[ 12.]\n",
      "[stdout:1] \n",
      "[ 0.]\n",
      "[ 12.]\n",
      "[stdout:2] \n",
      "[ 0.]\n",
      "[ 12.]\n"
     ]
    }
   ],
   "source": [
    "%%px --block \n",
    "\n",
    "from mpi4py import MPI\n",
    "import numpy as np\n",
    "\n",
    "comm = MPI.COMM_WORLD \n",
    "rank = comm.rank\n",
    "\n",
    "if rank == 0:\n",
    "    a = np.array([12.],dtype=np.float32)    \n",
    "else:\n",
    "    a = np.zeros(1,dtype=np.float32)    \n",
    "\n",
    "if rank>0:\n",
    "    print(a)\n",
    "    \n",
    "comm.Bcast(a, root=0)\n",
    "\n",
    "if rank>0:\n",
    "    print(a)"
   ]
  },
  {
   "cell_type": "markdown",
   "metadata": {
    "slideshow": {
     "slide_type": "slide"
    }
   },
   "source": [
    "## Gather/scatter - przykład"
   ]
  },
  {
   "cell_type": "code",
   "execution_count": 5,
   "metadata": {
    "collapsed": false,
    "slideshow": {
     "slide_type": "subslide"
    }
   },
   "outputs": [
    {
     "name": "stdout",
     "output_type": "stream",
     "text": [
      "[stdout:3] \n",
      "[ 100.  101.  102.  103.  104.  105.  106.  107.  108.  109.  110.  111.\n",
      "  112.  113.  114.  115.  116.  117.  118.  119.]\n"
     ]
    }
   ],
   "source": [
    "%%px --block \n",
    "\n",
    "from mpi4py import MPI\n",
    "import numpy as np\n",
    "\n",
    "comm = MPI.COMM_WORLD\n",
    "rank = comm.rank\n",
    "\n",
    "N_local = 5\n",
    "N = N_local*comm.size\n",
    "\n",
    "if rank == 0:\n",
    "    A = np.arange(N, dtype=np.float64)\n",
    "else:\n",
    "    A = None\n",
    "\n",
    "A_local = np.empty(N_local)\n",
    "\n",
    "comm.Scatter( A, A_local )\n",
    "A_local = A_local+100.0\n",
    "comm.Gather( A_local, A)\n",
    "\n",
    "if rank==0:\n",
    "    print(A)\n",
    "    \n"
   ]
  },
  {
   "cell_type": "code",
   "execution_count": 7,
   "metadata": {
    "collapsed": false
   },
   "outputs": [
    {
     "data": {
      "text/plain": [
       "[array([ 110.,  111.,  112.,  113.,  114.]),\n",
       " array([ 105.,  106.,  107.,  108.,  109.]),\n",
       " array([ 115.,  116.,  117.,  118.,  119.]),\n",
       " array([ 100.,  101.,  102.,  103.,  104.])]"
      ]
     },
     "execution_count": 7,
     "metadata": {},
     "output_type": "execute_result"
    }
   ],
   "source": [
    "view['A_local']"
   ]
  },
  {
   "cell_type": "markdown",
   "metadata": {
    "slideshow": {
     "slide_type": "slide"
    }
   },
   "source": [
    "## Reduce - przykład"
   ]
  },
  {
   "cell_type": "code",
   "execution_count": 17,
   "metadata": {
    "collapsed": false,
    "slideshow": {
     "slide_type": "subslide"
    }
   },
   "outputs": [
    {
     "name": "stdout",
     "output_type": "stream",
     "text": [
      "[stdout:3] [ 6.]\n"
     ]
    }
   ],
   "source": [
    "%%px --block \n",
    "\n",
    "from mpi4py import MPI\n",
    "import numpy as np\n",
    "\n",
    "comm = MPI.COMM_WORLD\n",
    "rank = comm.rank\n",
    "\n",
    "A = rank*np.ones(1,dtype=np.float)\n",
    "\n",
    "suma = np.zeros(1)\n",
    "comm.Reduce(A,suma, op = MPI.SUM)\n",
    "if rank==0:\n",
    "    print(suma)\n"
   ]
  },
  {
   "cell_type": "code",
   "execution_count": 18,
   "metadata": {
    "collapsed": false,
    "slideshow": {
     "slide_type": "-"
    }
   },
   "outputs": [
    {
     "data": {
      "text/plain": [
       "6"
      ]
     },
     "execution_count": 18,
     "metadata": {},
     "output_type": "execute_result"
    }
   ],
   "source": [
    "0+1+2+3"
   ]
  },
  {
   "cell_type": "code",
   "execution_count": 19,
   "metadata": {
    "collapsed": false
   },
   "outputs": [
    {
     "data": {
      "text/plain": [
       "[array([ 0.]), array([ 0.]), array([ 0.]), array([ 6.])]"
      ]
     },
     "execution_count": 19,
     "metadata": {},
     "output_type": "execute_result"
    }
   ],
   "source": [
    "view['suma']"
   ]
  },
  {
   "cell_type": "code",
   "execution_count": 20,
   "metadata": {
    "collapsed": false,
    "slideshow": {
     "slide_type": "subslide"
    }
   },
   "outputs": [
    {
     "name": "stdout",
     "output_type": "stream",
     "text": [
      "[stdout:3] [ 6.]\n"
     ]
    }
   ],
   "source": [
    "%%px --block \n",
    "\n",
    "import numpy\n",
    "from mpi4py import MPI\n",
    "comm = MPI.COMM_WORLD\n",
    "\n",
    "rank = comm.Get_rank()\n",
    "rankF = numpy.array(rank,dtype=np.float)\n",
    "total = numpy.zeros(1)\n",
    "comm.Reduce(rankF,total, op=MPI.SUM)\n",
    "if rank==0:\n",
    "    print(total)"
   ]
  },
  {
   "cell_type": "code",
   "execution_count": null,
   "metadata": {
    "collapsed": false
   },
   "outputs": [],
   "source": []
  },
  {
   "cell_type": "code",
   "execution_count": null,
   "metadata": {
    "collapsed": false
   },
   "outputs": [],
   "source": []
  },
  {
   "cell_type": "code",
   "execution_count": null,
   "metadata": {
    "collapsed": false
   },
   "outputs": [],
   "source": []
  }
 ],
 "metadata": {
  "celltoolbar": "Slideshow",
  "kernelspec": {
   "display_name": "Python 3",
   "language": "python",
   "name": "python3"
  },
  "language_info": {
   "codemirror_mode": {
    "name": "ipython",
    "version": 3
   },
   "file_extension": ".py",
   "mimetype": "text/x-python",
   "name": "python",
   "nbconvert_exporter": "python",
   "pygments_lexer": "ipython3",
   "version": "3.5.2"
  }
 },
 "nbformat": 4,
 "nbformat_minor": 0
}
