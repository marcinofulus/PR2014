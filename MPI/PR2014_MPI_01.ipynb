{
 "cells": [
  {
   "cell_type": "markdown",
   "metadata": {},
   "source": [
    "# MPI - operacje punktowe (point to point)\n",
    "\n",
    "Stosując inferface `mpi4py` "
   ]
  },
  {
   "cell_type": "code",
   "execution_count": 1,
   "metadata": {
    "collapsed": false
   },
   "outputs": [
    {
     "name": "stdout",
     "output_type": "stream",
     "text": [
      "/home/users/marcin.kostur\n",
      "WD is now: /home/users/marcin.kostur/mpi_tmpdir\n"
     ]
    }
   ],
   "source": [
    "import numpy as np\n",
    "import os \n",
    "print os.getenv(\"HOME\")\n",
    "wd = os.path.join( os.getenv(\"HOME\"),\"mpi_tmpdir\")\n",
    "if not os.path.isdir(wd):\n",
    "    os.mkdir(wd)\n",
    "os.chdir(wd)\n",
    "print \"WD is now:\",os.getcwd()"
   ]
  },
  {
   "cell_type": "code",
   "execution_count": 29,
   "metadata": {
    "collapsed": false
   },
   "outputs": [
    {
     "name": "stdout",
     "output_type": "stream",
     "text": [
      "Writing mpi001.py\n"
     ]
    }
   ],
   "source": [
    "%%writefile mpi001.py\n",
    "\n",
    "from mpi4py import MPI\n",
    "\n",
    "comm = MPI.COMM_WORLD\n",
    "rank = comm.Get_rank()\n",
    "size = comm.Get_size()\n",
    "print \"OK, rank= \",rank,size"
   ]
  },
  {
   "cell_type": "code",
   "execution_count": 30,
   "metadata": {
    "collapsed": false
   },
   "outputs": [
    {
     "name": "stdout",
     "output_type": "stream",
     "text": [
      "OK, rank=  2 3\r\n",
      "OK, rank=  1 3\r\n",
      "OK, rank=  0 3\r\n"
     ]
    }
   ],
   "source": [
    "!mpirun -n 3 python mpi001.py\n",
    "\n"
   ]
  },
  {
   "cell_type": "code",
   "execution_count": 31,
   "metadata": {
    "collapsed": false
   },
   "outputs": [
    {
     "name": "stdout",
     "output_type": "stream",
     "text": [
      "/usr/bin/ssh: /opt/puppetlabs/puppet/lib/libcrypto.so.1.0.0: no version information available (required by /usr/bin/ssh)\n",
      "/usr/bin/ssh: /opt/puppetlabs/puppet/lib/libcrypto.so.1.0.0: no version information available (required by /usr/bin/ssh)\n",
      "OK, rank=  0 2\n",
      "OK, rank=  1 2\n"
     ]
    }
   ],
   "source": [
    "!mpirun -H gpu2,gpu3  python mpi001.py\n",
    "\n"
   ]
  },
  {
   "cell_type": "code",
   "execution_count": 5,
   "metadata": {
    "collapsed": false
   },
   "outputs": [],
   "source": []
  },
  {
   "cell_type": "code",
   "execution_count": 32,
   "metadata": {
    "collapsed": false
   },
   "outputs": [
    {
     "name": "stdout",
     "output_type": "stream",
     "text": [
      "Overwriting mpi001.py\n"
     ]
    }
   ],
   "source": [
    "%%writefile mpi001.py\n",
    "\n",
    "from mpi4py import MPI\n",
    "\n",
    "comm = MPI.COMM_WORLD\n",
    "rank = comm.Get_rank()\n",
    "\n",
    "if rank == 0:\n",
    "   data = {'a': 7, 'b': 3.14}\n",
    "   comm.send(data, dest=1, tag=11)\n",
    "   \n",
    "elif rank == 1:\n",
    "   data = comm.recv(source=0, tag=11)\n",
    "   print \"OK, rank= \",rank,\"dane: \",data"
   ]
  },
  {
   "cell_type": "code",
   "execution_count": 33,
   "metadata": {
    "collapsed": false
   },
   "outputs": [
    {
     "name": "stdout",
     "output_type": "stream",
     "text": [
      "OK, rank=  1 dane:  {'a': 7, 'b': 3.14}\r\n"
     ]
    }
   ],
   "source": [
    "!mpirun -n 2 python mpi001.py"
   ]
  },
  {
   "cell_type": "code",
   "execution_count": 14,
   "metadata": {
    "collapsed": false
   },
   "outputs": [
    {
     "name": "stdout",
     "output_type": "stream",
     "text": [
      "Overwriting mpi001.py\n"
     ]
    }
   ],
   "source": [
    "%%writefile mpi001.py\n",
    "import numpy as np\n",
    "from mpi4py import MPI\n",
    "\n",
    "comm = MPI.COMM_WORLD\n",
    "rank = comm.Get_rank()\n",
    "\n",
    "a = np.zeros((2,2))\n",
    "if rank == 0:\n",
    "   a[:] = 2\n",
    "   comm.send(a[0,:], dest=1)\n",
    "   \n",
    "elif rank == 1:\n",
    "   a[0,:] = comm.recv(source=0)\n",
    "   print \"OK,\",np.sum(a)\n"
   ]
  },
  {
   "cell_type": "code",
   "execution_count": 15,
   "metadata": {
    "collapsed": false
   },
   "outputs": [
    {
     "name": "stdout",
     "output_type": "stream",
     "text": [
      "OK, 4.0\r\n"
     ]
    }
   ],
   "source": [
    "!mpirun -n 2 python mpi001.py"
   ]
  },
  {
   "cell_type": "code",
   "execution_count": 16,
   "metadata": {
    "collapsed": false
   },
   "outputs": [
    {
     "name": "stdout",
     "output_type": "stream",
     "text": [
      "Overwriting mpi001.py\n"
     ]
    }
   ],
   "source": [
    "%%writefile mpi001.py\n",
    "import numpy as np\n",
    "from mpi4py import MPI\n",
    "\n",
    "comm = MPI.COMM_WORLD\n",
    "rank = comm.Get_rank()\n",
    "\n",
    "a = np.zeros((2,2))\n",
    "if rank == 0:\n",
    "   a[:] = 2\n",
    "   comm.send(a[:,0], dest=1)\n",
    "   \n",
    "elif rank == 1:\n",
    "   a[:,0] = comm.recv(source=0)\n",
    "   print \"OK,\",np.sum(a)"
   ]
  },
  {
   "cell_type": "code",
   "execution_count": 17,
   "metadata": {
    "collapsed": false
   },
   "outputs": [
    {
     "name": "stdout",
     "output_type": "stream",
     "text": [
      "OK, 4.0\r\n"
     ]
    }
   ],
   "source": [
    "!mpirun -n 2 python mpi001.py"
   ]
  },
  {
   "cell_type": "code",
   "execution_count": 18,
   "metadata": {
    "collapsed": false
   },
   "outputs": [
    {
     "name": "stdout",
     "output_type": "stream",
     "text": [
      "Overwriting mpi001.py\n"
     ]
    }
   ],
   "source": [
    "%%writefile mpi001.py\n",
    "import numpy as np\n",
    "from mpi4py import MPI\n",
    "\n",
    "comm = MPI.COMM_WORLD\n",
    "rank = comm.Get_rank()\n",
    "\n",
    "a = np.zeros((2,2))\n",
    "if rank == 0:\n",
    "   a[:] = 2\n",
    "   comm.Send(a[0,:], dest=1)\n",
    "   \n",
    "elif rank == 1:\n",
    "   comm.Recv(a[0,:], source=0)\n",
    "   print \"OK,\",np.sum(a)\n"
   ]
  },
  {
   "cell_type": "code",
   "execution_count": 19,
   "metadata": {
    "collapsed": false
   },
   "outputs": [
    {
     "name": "stdout",
     "output_type": "stream",
     "text": [
      "OK, 4.0\r\n"
     ]
    }
   ],
   "source": [
    "!mpirun -n 2 python mpi001.py"
   ]
  },
  {
   "cell_type": "code",
   "execution_count": 20,
   "metadata": {
    "collapsed": false
   },
   "outputs": [
    {
     "name": "stdout",
     "output_type": "stream",
     "text": [
      "Overwriting mpi001.py\n"
     ]
    }
   ],
   "source": [
    "%%writefile mpi001.py\n",
    "import numpy as np\n",
    "from mpi4py import MPI\n",
    "\n",
    "comm = MPI.COMM_WORLD\n",
    "rank = comm.Get_rank()\n",
    "\n",
    "a = np.zeros((2,2))\n",
    "if rank == 0:\n",
    "   a[:] = 2\n",
    "   comm.Send(a[:,0], dest=1)\n",
    "   \n",
    "elif rank == 1:\n",
    "   comm.Recv(a[:,0], source=0)\n",
    "   print \"OK,\",np.sum(a)\n"
   ]
  },
  {
   "cell_type": "code",
   "execution_count": 21,
   "metadata": {
    "collapsed": false
   },
   "outputs": [
    {
     "name": "stdout",
     "output_type": "stream",
     "text": [
      "Traceback (most recent call last):\n",
      "  File \"mpi001.py\", line 10, in <module>\n",
      "    comm.Send(a[:,0], dest=1)\n",
      "  File \"MPI/Comm.pyx\", line 272, in mpi4py.MPI.Comm.Send (src/mpi4py.MPI.c:92870)\n",
      "Traceback (most recent call last):\n",
      "  File \"mpi001.py\", line 13, in <module>\n",
      "    comm.Recv(a[:,0], source=0)\n",
      "  File \"MPI/Comm.pyx\", line 284, in mpi4py.MPI.Comm.Recv (src/mpi4py.MPI.c:93084)\n",
      "  File \"MPI/msgbuffer.pxi\", line 406, in mpi4py.MPI.message_p2p_send (src/mpi4py.MPI.c:33688)\n",
      "  File \"MPI/msgbuffer.pxi\", line 411, in mpi4py.MPI.message_p2p_recv (src/mpi4py.MPI.c:33765)\n",
      "  File \"MPI/msgbuffer.pxi\", line 389, in mpi4py.MPI._p_msg_p2p.for_send (src/mpi4py.MPI.c:33550)\n",
      "  File \"MPI/msgbuffer.pxi\", line 148, in mpi4py.MPI.message_simple (src/mpi4py.MPI.c:30349)\n",
      "  File \"MPI/msgbuffer.pxi\", line 86, in mpi4py.MPI.message_basic (src/mpi4py.MPI.c:29359)\n",
      "  File \"MPI/asbuffer.pxi\", line 200, in mpi4py.MPI.getbuffer (src/mpi4py.MPI.c:9310)\n",
      "  File \"MPI/msgbuffer.pxi\", line 397, in mpi4py.MPI._p_msg_p2p.for_recv (src/mpi4py.MPI.c:33610)\n",
      "  File \"MPI/msgbuffer.pxi\", line 148, in mpi4py.MPI.message_simple (src/mpi4py.MPI.c:30349)\n",
      "  File \"MPI/msgbuffer.pxi\", line 86, in mpi4py.MPI.message_basic (src/mpi4py.MPI.c:29359)\n",
      "  File \"MPI/asbuffer.pxi\", line 200, in mpi4py.MPI.getbuffer (src/mpi4py.MPI.c:9310)\n",
      "  File \"MPI/asbuffer.pxi\", line 113, in mpi4py.MPI.PyObject_GetBufferEx (src/mpi4py.MPI.c:8070)\n",
      "ValueError: ndarray is not contiguous\n",
      "  File \"MPI/asbuffer.pxi\", line 113, in mpi4py.MPI.PyObject_GetBufferEx (src/mpi4py.MPI.c:8070)\n",
      "ValueError: ndarray is not contiguous\n",
      "--------------------------------------------------------------------------\n",
      "mpirun noticed that the job aborted, but has no info as to the process\n",
      "that caused that situation.\n",
      "--------------------------------------------------------------------------\n"
     ]
    }
   ],
   "source": [
    "!mpirun -n 2 python mpi001.py"
   ]
  },
  {
   "cell_type": "code",
   "execution_count": 22,
   "metadata": {
    "collapsed": false
   },
   "outputs": [
    {
     "name": "stdout",
     "output_type": "stream",
     "text": [
      "Overwriting mpi001.py\n"
     ]
    }
   ],
   "source": [
    "%%writefile mpi001.py\n",
    "import numpy as np\n",
    "from mpi4py import MPI\n",
    "\n",
    "comm = MPI.COMM_WORLD\n",
    "rank = comm.Get_rank()\n",
    "\n",
    "a = np.zeros((2,2))\n",
    "if rank == 0:\n",
    "   a[:] = 2\n",
    "   buf = a[:,0].copy()\n",
    "   comm.Send(buf, dest=1)\n",
    "   \n",
    "elif rank == 1:\n",
    "   buf = np.empty(2)\n",
    "   comm.Recv(buf, source=0)\n",
    "   a[:,0] = buf \n",
    "   print \"OK,\",np.sum(a)\n"
   ]
  },
  {
   "cell_type": "code",
   "execution_count": 23,
   "metadata": {
    "collapsed": false
   },
   "outputs": [
    {
     "name": "stdout",
     "output_type": "stream",
     "text": [
      "OK, 4.0\r\n"
     ]
    }
   ],
   "source": [
    "!mpirun -n 2 python mpi001.py"
   ]
  },
  {
   "cell_type": "code",
   "execution_count": 64,
   "metadata": {
    "collapsed": false
   },
   "outputs": [],
   "source": []
  },
  {
   "cell_type": "code",
   "execution_count": null,
   "metadata": {
    "collapsed": false
   },
   "outputs": [],
   "source": []
  },
  {
   "cell_type": "markdown",
   "metadata": {
    "collapsed": false
   },
   "source": [
    "### execnet of NFS is not present\n",
    "        \n",
    "    import os\n",
    "    import tempfile\n",
    "    import execnet\n",
    "    wd = tempfile.mkdtemp()\n",
    "    os.chdir(wd)\n",
    "    os.getcwd()\n",
    "    rsync = execnet.RSync(wd)\n",
    "    group= [execnet.makegateway('ssh=gpu2')]\n",
    "    \n",
    "    \n",
    "    for gw in group:\n",
    "        rsync.add_target(gw, wd)\n",
    "        rsync.send()\n",
    "\n"
   ]
  },
  {
   "cell_type": "code",
   "execution_count": null,
   "metadata": {
    "collapsed": true
   },
   "outputs": [],
   "source": []
  }
 ],
 "metadata": {
  "kernelspec": {
   "display_name": "GPU2, Python 2",
   "language": "python2",
   "name": "gpu2"
  },
  "language_info": {
   "codemirror_mode": {
    "name": "ipython",
    "version": 2
   },
   "file_extension": ".py",
   "mimetype": "text/x-python",
   "name": "python",
   "nbconvert_exporter": "python",
   "pygments_lexer": "ipython2",
   "version": "2.7.6"
  }
 },
 "nbformat": 4,
 "nbformat_minor": 0
}
