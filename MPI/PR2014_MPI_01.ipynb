{
 "metadata": {
  "name": "",
  "signature": "sha256:0acc4a8445a13ea65d4d7d2332659c9d14cb98206155f9e9220bea58b9df8af8"
 },
 "nbformat": 3,
 "nbformat_minor": 0,
 "worksheets": [
  {
   "cells": [
    {
     "cell_type": "markdown",
     "metadata": {},
     "source": [
      "# MPI - operacje punktowe (point to point)\n",
      "\n",
      "Stosuj\u0105c inferface `mpi4py` "
     ]
    },
    {
     "cell_type": "code",
     "collapsed": false,
     "input": [],
     "language": "python",
     "metadata": {},
     "outputs": [],
     "prompt_number": 14
    },
    {
     "cell_type": "code",
     "collapsed": false,
     "input": [
      "import os\n",
      "import tempfile\n",
      "import execnet\n",
      "wd = tempfile.mkdtemp()\n",
      "os.chdir(wd)\n",
      "os.getcwd()\n",
      "rsync = execnet.RSync(wd)\n",
      "group= [execnet.makegateway('ssh=nimbus'),execnet.makegateway('ssh=fermi')]\n"
     ],
     "language": "python",
     "metadata": {},
     "outputs": [],
     "prompt_number": 4
    },
    {
     "cell_type": "code",
     "collapsed": false,
     "input": [
      "%%writefile $wd/mpi001.py\n",
      "\n",
      "from mpi4py import MPI\n",
      "\n",
      "comm = MPI.COMM_WORLD\n",
      "rank = comm.Get_rank()\n",
      "size = comm.Get_size()\n",
      "print \"OK, rank= \",rank,size"
     ],
     "language": "python",
     "metadata": {},
     "outputs": [
      {
       "output_type": "stream",
       "stream": "stdout",
       "text": [
        "Writing /tmp/tmpdxQ6jV/mpi001.py\n"
       ]
      }
     ],
     "prompt_number": 5
    },
    {
     "cell_type": "code",
     "collapsed": false,
     "input": [
      "for gw in group:\n",
      "    rsync.add_target(gw, wd)\n",
      "    rsync.send()"
     ],
     "language": "python",
     "metadata": {},
     "outputs": [
      {
       "output_type": "stream",
       "stream": "stdout",
       "text": [
        "<SshGateway id='gw1' receive-live, 1 active channels> <= mpi001.py\n",
        "<SshGateway id='gw2' receive-live, 1 active channels> <= mpi001.py\n"
       ]
      }
     ],
     "prompt_number": 6
    },
    {
     "cell_type": "code",
     "collapsed": false,
     "input": [
      "!mpirun -H stratus,fermi,nimbus python mpi001.py\n",
      "\n"
     ],
     "language": "python",
     "metadata": {},
     "outputs": [
      {
       "output_type": "stream",
       "stream": "stdout",
       "text": [
        "OK, rank=  1 3\r\n",
        "OK, rank=  2 3\r\n",
        "OK, rank=  0 3\r\n"
       ]
      }
     ],
     "prompt_number": 8
    },
    {
     "cell_type": "code",
     "collapsed": false,
     "input": [],
     "language": "python",
     "metadata": {},
     "outputs": [],
     "prompt_number": 5
    },
    {
     "cell_type": "code",
     "collapsed": false,
     "input": [
      "%%writefile mpi001.py\n",
      "\n",
      "from mpi4py import MPI\n",
      "\n",
      "comm = MPI.COMM_WORLD\n",
      "rank = comm.Get_rank()\n",
      "\n",
      "if rank == 0:\n",
      "   data = {'a': 7, 'b': 3.14}\n",
      "   comm.send(data, dest=1, tag=11)\n",
      "   \n",
      "elif rank == 1:\n",
      "   data = comm.recv(source=0, tag=11)\n",
      "   print \"OK, rank= \",rank,\"dane: \",data"
     ],
     "language": "python",
     "metadata": {},
     "outputs": [
      {
       "output_type": "stream",
       "stream": "stdout",
       "text": [
        "Overwriting mpi001.py\n"
       ]
      }
     ],
     "prompt_number": 12
    },
    {
     "cell_type": "code",
     "collapsed": false,
     "input": [
      "!mpirun -n 2 python mpi001.py"
     ],
     "language": "python",
     "metadata": {},
     "outputs": [
      {
       "output_type": "stream",
       "stream": "stdout",
       "text": [
        "OK, rank=  1 dane:  {'a': 7, 'b': 3.14}\r\n"
       ]
      }
     ],
     "prompt_number": 13
    },
    {
     "cell_type": "code",
     "collapsed": false,
     "input": [
      "%%writefile mpi001.py\n",
      "import numpy as np\n",
      "from mpi4py import MPI\n",
      "\n",
      "comm = MPI.COMM_WORLD\n",
      "rank = comm.Get_rank()\n",
      "\n",
      "a = np.zeros((2,2))\n",
      "if rank == 0:\n",
      "   a[:] = 2\n",
      "   comm.send(a[0,:], dest=1)\n",
      "   \n",
      "elif rank == 1:\n",
      "   a[0,:] = comm.recv(source=0)\n",
      "   print \"OK,\",np.sum(a)\n"
     ],
     "language": "python",
     "metadata": {},
     "outputs": [
      {
       "output_type": "stream",
       "stream": "stdout",
       "text": [
        "Overwriting mpi001.py\n"
       ]
      }
     ],
     "prompt_number": 38
    },
    {
     "cell_type": "code",
     "collapsed": false,
     "input": [
      "!mpirun -n 2 python mpi001.py"
     ],
     "language": "python",
     "metadata": {},
     "outputs": [
      {
       "output_type": "stream",
       "stream": "stdout",
       "text": [
        "OK, 4.0\r\n"
       ]
      }
     ],
     "prompt_number": 39
    },
    {
     "cell_type": "code",
     "collapsed": false,
     "input": [
      "%%writefile mpi001.py\n",
      "import numpy as np\n",
      "from mpi4py import MPI\n",
      "\n",
      "comm = MPI.COMM_WORLD\n",
      "rank = comm.Get_rank()\n",
      "\n",
      "a = np.zeros((2,2))\n",
      "if rank == 0:\n",
      "   a[:] = 2\n",
      "   comm.send(a[:,0], dest=1)\n",
      "   \n",
      "elif rank == 1:\n",
      "   a[:,0] = comm.recv(source=0)\n",
      "   print \"OK,\",np.sum(a)"
     ],
     "language": "python",
     "metadata": {},
     "outputs": [
      {
       "output_type": "stream",
       "stream": "stdout",
       "text": [
        "Overwriting mpi001.py\n"
       ]
      }
     ],
     "prompt_number": 40
    },
    {
     "cell_type": "code",
     "collapsed": false,
     "input": [
      "!mpirun -n 2 python mpi001.py"
     ],
     "language": "python",
     "metadata": {},
     "outputs": [
      {
       "output_type": "stream",
       "stream": "stdout",
       "text": [
        "OK, 4.0\r\n"
       ]
      }
     ],
     "prompt_number": 41
    },
    {
     "cell_type": "code",
     "collapsed": false,
     "input": [
      "%%writefile mpi001.py\n",
      "import numpy as np\n",
      "from mpi4py import MPI\n",
      "\n",
      "comm = MPI.COMM_WORLD\n",
      "rank = comm.Get_rank()\n",
      "\n",
      "a = np.zeros((2,2))\n",
      "if rank == 0:\n",
      "   a[:] = 2\n",
      "   comm.Send(a[0,:], dest=1)\n",
      "   \n",
      "elif rank == 1:\n",
      "   comm.Recv(a[0,:], source=0)\n",
      "   print \"OK,\",np.sum(a)\n"
     ],
     "language": "python",
     "metadata": {},
     "outputs": [
      {
       "output_type": "stream",
       "stream": "stdout",
       "text": [
        "Overwriting mpi001.py\n"
       ]
      }
     ],
     "prompt_number": 42
    },
    {
     "cell_type": "code",
     "collapsed": false,
     "input": [
      "!mpirun -n 2 python mpi001.py"
     ],
     "language": "python",
     "metadata": {},
     "outputs": [
      {
       "output_type": "stream",
       "stream": "stdout",
       "text": [
        "OK, 4.0\r\n"
       ]
      }
     ],
     "prompt_number": 43
    },
    {
     "cell_type": "code",
     "collapsed": false,
     "input": [
      "%%writefile mpi001.py\n",
      "import numpy as np\n",
      "from mpi4py import MPI\n",
      "\n",
      "comm = MPI.COMM_WORLD\n",
      "rank = comm.Get_rank()\n",
      "\n",
      "a = np.zeros((2,2))\n",
      "if rank == 0:\n",
      "   a[:] = 2\n",
      "   comm.Send(a[:,0], dest=1)\n",
      "   \n",
      "elif rank == 1:\n",
      "   comm.Recv(a[:,0], source=0)\n",
      "   print \"OK,\",np.sum(a)\n"
     ],
     "language": "python",
     "metadata": {},
     "outputs": [
      {
       "output_type": "stream",
       "stream": "stdout",
       "text": [
        "Overwriting mpi001.py\n"
       ]
      }
     ],
     "prompt_number": 44
    },
    {
     "cell_type": "code",
     "collapsed": false,
     "input": [
      "!mpirun -n 2 python mpi001.py"
     ],
     "language": "python",
     "metadata": {},
     "outputs": [
      {
       "output_type": "stream",
       "stream": "stdout",
       "text": [
        "Traceback (most recent call last):\r\n",
        "  File \"mpi001.py\", line 13, in <module>\r\n",
        "    comm.Recv(a[:,0], source=0)\r\n",
        "  File \"Comm.pyx\", line 143, in mpi4py.MPI.Comm.Recv (src/mpi4py.MPI.c:61865)\r\n",
        "Traceback (most recent call last):\r\n",
        "  File \"mpi001.py\", line 10, in <module>\r\n",
        "    comm.Send(a[:,0], dest=1)\r\n",
        "  File \"message.pxi\", line 323, in mpi4py.MPI.message_p2p_recv (src/mpi4py.MPI.c:22363)\r\n",
        "  File \"Comm.pyx\", line 132, in mpi4py.MPI.Comm.Send (src/mpi4py.MPI.c:61677)\r\n",
        "  File \"message.pxi\", line 318, in mpi4py.MPI.message_p2p_send (src/mpi4py.MPI.c:22297)\r\n",
        "  File \"message.pxi\", line 309, in mpi4py.MPI._p_msg_p2p.for_recv (src/mpi4py.MPI.c:22221)\r\n",
        "  File \"message.pxi\", line 301, in mpi4py.MPI._p_msg_p2p.for_send (src/mpi4py.MPI.c:22160)\r\n",
        "  File \"message.pxi\", line 111, in mpi4py.MPI.message_simple (src/mpi4py.MPI.c:20121)\r\n",
        "  File \"message.pxi\", line 111, in mpi4py.MPI.message_simple (src/mpi4py.MPI.c:20121)\r\n",
        "  File \"message.pxi\", line 51, in mpi4py.MPI.message_basic (src/mpi4py.MPI.c:19298)\r\n",
        "  File \"message.pxi\", line 51, in mpi4py.MPI.message_basic (src/mpi4py.MPI.c:19298)\r\n",
        "  File \"asbuffer.pxi\", line 108, in mpi4py.MPI.getbuffer (src/mpi4py.MPI.c:6588)\r\n",
        "  File \"asbuffer.pxi\", line 108, in mpi4py.MPI.getbuffer (src/mpi4py.MPI.c:6588)\r\n",
        "  File \"asbuffer.pxi\", line 45, in mpi4py.MPI.PyObject_GetBufferEx (src/mpi4py.MPI.c:5885)\r\n",
        "  File \"asbuffer.pxi\", line 45, in mpi4py.MPI.PyObject_GetBufferEx (src/mpi4py.MPI.c:5885)\r\n",
        "ValueError: ndarray is not contiguous\r\n",
        "ValueError: ndarray is not contiguous\r\n"
       ]
      }
     ],
     "prompt_number": 45
    },
    {
     "cell_type": "code",
     "collapsed": false,
     "input": [
      "%%writefile mpi001.py\n",
      "import numpy as np\n",
      "from mpi4py import MPI\n",
      "\n",
      "comm = MPI.COMM_WORLD\n",
      "rank = comm.Get_rank()\n",
      "\n",
      "a = np.zeros((2,2))\n",
      "if rank == 0:\n",
      "   a[:] = 2\n",
      "   buf = a[:,0].copy()\n",
      "   comm.Send(buf, dest=1)\n",
      "   \n",
      "elif rank == 1:\n",
      "   buf = np.empty(2)\n",
      "   comm.Recv(buf, source=0)\n",
      "   a[:,0] = buf \n",
      "   print \"OK,\",np.sum(a)\n"
     ],
     "language": "python",
     "metadata": {},
     "outputs": [
      {
       "output_type": "stream",
       "stream": "stdout",
       "text": [
        "Overwriting mpi001.py\n"
       ]
      }
     ],
     "prompt_number": 76
    },
    {
     "cell_type": "code",
     "collapsed": false,
     "input": [
      "!mpirun -n 2 python mpi001.py"
     ],
     "language": "python",
     "metadata": {},
     "outputs": [
      {
       "output_type": "stream",
       "stream": "stdout",
       "text": [
        "OK, 4.0\r\n"
       ]
      }
     ],
     "prompt_number": 77
    },
    {
     "cell_type": "code",
     "collapsed": false,
     "input": [],
     "language": "python",
     "metadata": {},
     "outputs": [],
     "prompt_number": 64
    },
    {
     "cell_type": "code",
     "collapsed": false,
     "input": [],
     "language": "python",
     "metadata": {},
     "outputs": []
    }
   ],
   "metadata": {}
  }
 ]
}