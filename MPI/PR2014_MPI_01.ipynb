{
 "cells": [
  {
   "cell_type": "markdown",
   "metadata": {},
   "source": [
    "# MPI - operacje punktowe (point to point)\n",
    "\n",
    "Stosując inferface `mpi4py` "
   ]
  },
  {
   "cell_type": "code",
   "execution_count": null,
   "metadata": {
    "collapsed": false
   },
   "outputs": [],
   "source": []
  },
  {
   "cell_type": "code",
   "execution_count": 4,
   "metadata": {
    "collapsed": false
   },
   "outputs": [],
   "source": [
    "import os\n",
    "import tempfile\n",
    "import execnet\n",
    "wd = tempfile.mkdtemp()\n",
    "os.chdir(wd)\n",
    "os.getcwd()\n",
    "rsync = execnet.RSync(wd)\n",
    "group= [execnet.makegateway('ssh=fermi')]\n"
   ]
  },
  {
   "cell_type": "code",
   "execution_count": 5,
   "metadata": {
    "collapsed": false
   },
   "outputs": [
    {
     "name": "stdout",
     "output_type": "stream",
     "text": [
      "Writing /tmp/tmpdxQ6jV/mpi001.py\n"
     ]
    }
   ],
   "source": [
    "%%writefile $wd/mpi001.py\n",
    "\n",
    "from mpi4py import MPI\n",
    "\n",
    "comm = MPI.COMM_WORLD\n",
    "rank = comm.Get_rank()\n",
    "size = comm.Get_size()\n",
    "print \"OK, rank= \",rank,size"
   ]
  },
  {
   "cell_type": "code",
   "execution_count": 6,
   "metadata": {
    "collapsed": false
   },
   "outputs": [
    {
     "name": "stdout",
     "output_type": "stream",
     "text": [
      "<SshGateway id='gw1' receive-live, 1 active channels> <= mpi001.py\n",
      "<SshGateway id='gw2' receive-live, 1 active channels> <= mpi001.py\n"
     ]
    }
   ],
   "source": [
    "for gw in group:\n",
    "    rsync.add_target(gw, wd)\n",
    "    rsync.send()"
   ]
  },
  {
   "cell_type": "code",
   "execution_count": 8,
   "metadata": {
    "collapsed": false
   },
   "outputs": [
    {
     "name": "stdout",
     "output_type": "stream",
     "text": [
      "OK, rank=  1 3\r\n",
      "OK, rank=  2 3\r\n",
      "OK, rank=  0 3\r\n"
     ]
    }
   ],
   "source": [
    "!mpirun -H stratus,fermi,nimbus python mpi001.py\n",
    "\n"
   ]
  },
  {
   "cell_type": "code",
   "execution_count": 5,
   "metadata": {
    "collapsed": false
   },
   "outputs": [],
   "source": []
  },
  {
   "cell_type": "code",
   "execution_count": 12,
   "metadata": {
    "collapsed": false
   },
   "outputs": [
    {
     "name": "stdout",
     "output_type": "stream",
     "text": [
      "Overwriting mpi001.py\n"
     ]
    }
   ],
   "source": [
    "%%writefile mpi001.py\n",
    "\n",
    "from mpi4py import MPI\n",
    "\n",
    "comm = MPI.COMM_WORLD\n",
    "rank = comm.Get_rank()\n",
    "\n",
    "if rank == 0:\n",
    "   data = {'a': 7, 'b': 3.14}\n",
    "   comm.send(data, dest=1, tag=11)\n",
    "   \n",
    "elif rank == 1:\n",
    "   data = comm.recv(source=0, tag=11)\n",
    "   print \"OK, rank= \",rank,\"dane: \",data"
   ]
  },
  {
   "cell_type": "code",
   "execution_count": 13,
   "metadata": {
    "collapsed": false
   },
   "outputs": [
    {
     "name": "stdout",
     "output_type": "stream",
     "text": [
      "OK, rank=  1 dane:  {'a': 7, 'b': 3.14}\r\n"
     ]
    }
   ],
   "source": [
    "!mpirun -n 2 python mpi001.py"
   ]
  },
  {
   "cell_type": "code",
   "execution_count": 38,
   "metadata": {
    "collapsed": false
   },
   "outputs": [
    {
     "name": "stdout",
     "output_type": "stream",
     "text": [
      "Overwriting mpi001.py\n"
     ]
    }
   ],
   "source": [
    "%%writefile mpi001.py\n",
    "import numpy as np\n",
    "from mpi4py import MPI\n",
    "\n",
    "comm = MPI.COMM_WORLD\n",
    "rank = comm.Get_rank()\n",
    "\n",
    "a = np.zeros((2,2))\n",
    "if rank == 0:\n",
    "   a[:] = 2\n",
    "   comm.send(a[0,:], dest=1)\n",
    "   \n",
    "elif rank == 1:\n",
    "   a[0,:] = comm.recv(source=0)\n",
    "   print \"OK,\",np.sum(a)\n"
   ]
  },
  {
   "cell_type": "code",
   "execution_count": 39,
   "metadata": {
    "collapsed": false
   },
   "outputs": [
    {
     "name": "stdout",
     "output_type": "stream",
     "text": [
      "OK, 4.0\r\n"
     ]
    }
   ],
   "source": [
    "!mpirun -n 2 python mpi001.py"
   ]
  },
  {
   "cell_type": "code",
   "execution_count": 40,
   "metadata": {
    "collapsed": false
   },
   "outputs": [
    {
     "name": "stdout",
     "output_type": "stream",
     "text": [
      "Overwriting mpi001.py\n"
     ]
    }
   ],
   "source": [
    "%%writefile mpi001.py\n",
    "import numpy as np\n",
    "from mpi4py import MPI\n",
    "\n",
    "comm = MPI.COMM_WORLD\n",
    "rank = comm.Get_rank()\n",
    "\n",
    "a = np.zeros((2,2))\n",
    "if rank == 0:\n",
    "   a[:] = 2\n",
    "   comm.send(a[:,0], dest=1)\n",
    "   \n",
    "elif rank == 1:\n",
    "   a[:,0] = comm.recv(source=0)\n",
    "   print \"OK,\",np.sum(a)"
   ]
  },
  {
   "cell_type": "code",
   "execution_count": 41,
   "metadata": {
    "collapsed": false
   },
   "outputs": [
    {
     "name": "stdout",
     "output_type": "stream",
     "text": [
      "OK, 4.0\r\n"
     ]
    }
   ],
   "source": [
    "!mpirun -n 2 python mpi001.py"
   ]
  },
  {
   "cell_type": "code",
   "execution_count": 42,
   "metadata": {
    "collapsed": false
   },
   "outputs": [
    {
     "name": "stdout",
     "output_type": "stream",
     "text": [
      "Overwriting mpi001.py\n"
     ]
    }
   ],
   "source": [
    "%%writefile mpi001.py\n",
    "import numpy as np\n",
    "from mpi4py import MPI\n",
    "\n",
    "comm = MPI.COMM_WORLD\n",
    "rank = comm.Get_rank()\n",
    "\n",
    "a = np.zeros((2,2))\n",
    "if rank == 0:\n",
    "   a[:] = 2\n",
    "   comm.Send(a[0,:], dest=1)\n",
    "   \n",
    "elif rank == 1:\n",
    "   comm.Recv(a[0,:], source=0)\n",
    "   print \"OK,\",np.sum(a)\n"
   ]
  },
  {
   "cell_type": "code",
   "execution_count": 43,
   "metadata": {
    "collapsed": false
   },
   "outputs": [
    {
     "name": "stdout",
     "output_type": "stream",
     "text": [
      "OK, 4.0\r\n"
     ]
    }
   ],
   "source": [
    "!mpirun -n 2 python mpi001.py"
   ]
  },
  {
   "cell_type": "code",
   "execution_count": 44,
   "metadata": {
    "collapsed": false
   },
   "outputs": [
    {
     "name": "stdout",
     "output_type": "stream",
     "text": [
      "Overwriting mpi001.py\n"
     ]
    }
   ],
   "source": [
    "%%writefile mpi001.py\n",
    "import numpy as np\n",
    "from mpi4py import MPI\n",
    "\n",
    "comm = MPI.COMM_WORLD\n",
    "rank = comm.Get_rank()\n",
    "\n",
    "a = np.zeros((2,2))\n",
    "if rank == 0:\n",
    "   a[:] = 2\n",
    "   comm.Send(a[:,0], dest=1)\n",
    "   \n",
    "elif rank == 1:\n",
    "   comm.Recv(a[:,0], source=0)\n",
    "   print \"OK,\",np.sum(a)\n"
   ]
  },
  {
   "cell_type": "code",
   "execution_count": 45,
   "metadata": {
    "collapsed": false
   },
   "outputs": [
    {
     "name": "stdout",
     "output_type": "stream",
     "text": [
      "Traceback (most recent call last):\r\n",
      "  File \"mpi001.py\", line 13, in <module>\r\n",
      "    comm.Recv(a[:,0], source=0)\r\n",
      "  File \"Comm.pyx\", line 143, in mpi4py.MPI.Comm.Recv (src/mpi4py.MPI.c:61865)\r\n",
      "Traceback (most recent call last):\r\n",
      "  File \"mpi001.py\", line 10, in <module>\r\n",
      "    comm.Send(a[:,0], dest=1)\r\n",
      "  File \"message.pxi\", line 323, in mpi4py.MPI.message_p2p_recv (src/mpi4py.MPI.c:22363)\r\n",
      "  File \"Comm.pyx\", line 132, in mpi4py.MPI.Comm.Send (src/mpi4py.MPI.c:61677)\r\n",
      "  File \"message.pxi\", line 318, in mpi4py.MPI.message_p2p_send (src/mpi4py.MPI.c:22297)\r\n",
      "  File \"message.pxi\", line 309, in mpi4py.MPI._p_msg_p2p.for_recv (src/mpi4py.MPI.c:22221)\r\n",
      "  File \"message.pxi\", line 301, in mpi4py.MPI._p_msg_p2p.for_send (src/mpi4py.MPI.c:22160)\r\n",
      "  File \"message.pxi\", line 111, in mpi4py.MPI.message_simple (src/mpi4py.MPI.c:20121)\r\n",
      "  File \"message.pxi\", line 111, in mpi4py.MPI.message_simple (src/mpi4py.MPI.c:20121)\r\n",
      "  File \"message.pxi\", line 51, in mpi4py.MPI.message_basic (src/mpi4py.MPI.c:19298)\r\n",
      "  File \"message.pxi\", line 51, in mpi4py.MPI.message_basic (src/mpi4py.MPI.c:19298)\r\n",
      "  File \"asbuffer.pxi\", line 108, in mpi4py.MPI.getbuffer (src/mpi4py.MPI.c:6588)\r\n",
      "  File \"asbuffer.pxi\", line 108, in mpi4py.MPI.getbuffer (src/mpi4py.MPI.c:6588)\r\n",
      "  File \"asbuffer.pxi\", line 45, in mpi4py.MPI.PyObject_GetBufferEx (src/mpi4py.MPI.c:5885)\r\n",
      "  File \"asbuffer.pxi\", line 45, in mpi4py.MPI.PyObject_GetBufferEx (src/mpi4py.MPI.c:5885)\r\n",
      "ValueError: ndarray is not contiguous\r\n",
      "ValueError: ndarray is not contiguous\r\n"
     ]
    }
   ],
   "source": [
    "!mpirun -n 2 python mpi001.py"
   ]
  },
  {
   "cell_type": "code",
   "execution_count": 76,
   "metadata": {
    "collapsed": false
   },
   "outputs": [
    {
     "name": "stdout",
     "output_type": "stream",
     "text": [
      "Overwriting mpi001.py\n"
     ]
    }
   ],
   "source": [
    "%%writefile mpi001.py\n",
    "import numpy as np\n",
    "from mpi4py import MPI\n",
    "\n",
    "comm = MPI.COMM_WORLD\n",
    "rank = comm.Get_rank()\n",
    "\n",
    "a = np.zeros((2,2))\n",
    "if rank == 0:\n",
    "   a[:] = 2\n",
    "   buf = a[:,0].copy()\n",
    "   comm.Send(buf, dest=1)\n",
    "   \n",
    "elif rank == 1:\n",
    "   buf = np.empty(2)\n",
    "   comm.Recv(buf, source=0)\n",
    "   a[:,0] = buf \n",
    "   print \"OK,\",np.sum(a)\n"
   ]
  },
  {
   "cell_type": "code",
   "execution_count": 77,
   "metadata": {
    "collapsed": false
   },
   "outputs": [
    {
     "name": "stdout",
     "output_type": "stream",
     "text": [
      "OK, 4.0\r\n"
     ]
    }
   ],
   "source": [
    "!mpirun -n 2 python mpi001.py"
   ]
  },
  {
   "cell_type": "code",
   "execution_count": 64,
   "metadata": {
    "collapsed": false
   },
   "outputs": [],
   "source": []
  },
  {
   "cell_type": "code",
   "execution_count": null,
   "metadata": {
    "collapsed": false
   },
   "outputs": [],
   "source": []
  }
 ],
 "metadata": {
  "kernelspec": {
   "display_name": "Python 2",
   "language": "python",
   "name": "python2"
  },
  "language_info": {
   "codemirror_mode": {
    "name": "ipython",
    "version": 2
   },
   "file_extension": ".py",
   "mimetype": "text/x-python",
   "name": "python",
   "nbconvert_exporter": "python",
   "pygments_lexer": "ipython2",
   "version": "2.7.6"
  }
 },
 "nbformat": 4,
 "nbformat_minor": 0
}
