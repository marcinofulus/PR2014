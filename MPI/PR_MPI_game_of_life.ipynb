{
 "cells": [
  {
   "cell_type": "code",
   "execution_count": 10,
   "metadata": {
    "collapsed": true
   },
   "outputs": [],
   "source": [
    "%matplotlib inline\n",
    "import matplotlib.pyplot as plt\n",
    "import numpy as np\n",
    "\n",
    "from IPython.display import display,clear_output\n",
    "from PIL import Image as Im\n",
    "import time"
   ]
  },
  {
   "cell_type": "markdown",
   "metadata": {},
   "source": [
    "# Game of life - serial version\n",
    "\n",
    "## bulk update\n",
    "\n",
    "\n",
    "Here, certain initial conditions as well as update single process `life_step_2` procedure are defined.\n",
    "\n",
    "Note, that update is periodic in both spatial directions"
   ]
  },
  {
   "cell_type": "code",
   "execution_count": 2,
   "metadata": {
    "collapsed": false
   },
   "outputs": [
    {
     "name": "stdout",
     "output_type": "stream",
     "text": [
      "Overwriting game_of_life_utils.py\n"
     ]
    }
   ],
   "source": [
    "%%writefile game_of_life_utils.py\n",
    "\n",
    "import numpy as np\n",
    "from scipy.signal import convolve2d\n",
    "\n",
    "def life_step_1(X):\n",
    "    \"\"\"Game of life step using generator expressions\"\"\"\n",
    "    nbrs_count = sum(np.roll(np.roll(X, i, 0), j, 1)\n",
    "                     for i in (-1, 0, 1) for j in (-1, 0, 1)\n",
    "                     if (i != 0 or j != 0))\n",
    "    return (nbrs_count == 3) | (X & (nbrs_count == 2))\n",
    "\n",
    "def life_step_2(X):\n",
    "    \"\"\"Game of life step using scipy tools\"\"\"\n",
    "    nbrs_count = convolve2d(X, np.ones((3, 3)), mode='same', boundary='wrap') - X\n",
    "    return (nbrs_count == 3) | (X & (nbrs_count == 2))\n",
    "\n",
    "def set_ic(X,ic,offset=(0,0)):\n",
    "    Ni,Nj = X.shape\n",
    "    ni,nj = np.array(ic).shape\n",
    "    assert(offset[0]+ni<Ni)\n",
    "    assert(offset[1]+nj<Nj)\n",
    "    X[offset[0]:offset[0]+ni, offset[1]:offset[1]+nj] = ic     \n",
    "    \n",
    "\n",
    "unbounded = [[1, 1, 1, 0, 1],\n",
    "             [1, 0, 0, 0, 0],\n",
    "             [0, 0, 0, 1, 1],\n",
    "             [0, 1, 1, 0, 1],\n",
    "             [1, 0, 1, 0, 1]]\n",
    "\n",
    "diehard = [[0, 0, 0, 0, 0, 0, 1, 0],\n",
    "           [1, 1, 0, 0, 0, 0, 0, 0],\n",
    "           [0, 1, 0, 0, 0, 1, 1, 1]]\n",
    "\n",
    "boat = [[1, 1, 0],\n",
    "        [1, 0, 1],\n",
    "        [0, 1, 0]]\n",
    "\n",
    "r_pentomino = [[0, 1, 1],\n",
    "               [1, 1, 0],\n",
    "               [0, 1, 0]]\n",
    "\n",
    "beacon = [[0, 0, 1, 1],\n",
    "          [0, 0, 1, 1],\n",
    "          [1, 1, 0, 0],\n",
    "          [1, 1, 0, 0]]\n",
    "\n",
    "acorn = [[0, 1, 0, 0, 0, 0, 0],\n",
    "         [0, 0, 0, 1, 0, 0, 0],\n",
    "         [1, 1, 0, 0, 1, 1, 1]]\n",
    "\n",
    "spaceship = [[0, 0, 1, 1, 0],\n",
    "             [1, 1, 0, 1, 1],\n",
    "             [1, 1, 1, 1, 0],\n",
    "             [0, 1, 1, 0, 0]]\n",
    "\n",
    "block_switch_engine = [[0, 0, 0, 0, 0, 0, 1, 0],\n",
    "                       [0, 0, 0, 0, 1, 0, 1, 1],\n",
    "                       [0, 0, 0, 0, 1, 0, 1, 0],\n",
    "                       [0, 0, 0, 0, 1, 0, 0, 0],\n",
    "                       [0, 0, 1, 0, 0, 0, 0, 0],\n",
    "                       [1, 0, 1, 0, 0, 0, 0, 0]]\n",
    "glider_gun =\\\n",
    "[[0,0,0,0,0,0,0,0,0,0,0,0,0,0,0,0,0,0,0,0,0,0,0,0,1,0,0,0,0,0,0,0,0,0,0,0],\n",
    " [0,0,0,0,0,0,0,0,0,0,0,0,0,0,0,0,0,0,0,0,0,0,1,0,1,0,0,0,0,0,0,0,0,0,0,0],\n",
    " [0,0,0,0,0,0,0,0,0,0,0,0,1,1,0,0,0,0,0,0,1,1,0,0,0,0,0,0,0,0,0,0,0,0,1,1],\n",
    " [0,0,0,0,0,0,0,0,0,0,0,1,0,0,0,1,0,0,0,0,1,1,0,0,0,0,0,0,0,0,0,0,0,0,1,1],\n",
    " [1,1,0,0,0,0,0,0,0,0,1,0,0,0,0,0,1,0,0,0,1,1,0,0,0,0,0,0,0,0,0,0,0,0,0,0],\n",
    " [1,1,0,0,0,0,0,0,0,0,1,0,0,0,1,0,1,1,0,0,0,0,1,0,1,0,0,0,0,0,0,0,0,0,0,0],\n",
    " [0,0,0,0,0,0,0,0,0,0,1,0,0,0,0,0,1,0,0,0,0,0,0,0,1,0,0,0,0,0,0,0,0,0,0,0],\n",
    " [0,0,0,0,0,0,0,0,0,0,0,1,0,0,0,1,0,0,0,0,0,0,0,0,0,0,0,0,0,0,0,0,0,0,0,0],\n",
    " [0,0,0,0,0,0,0,0,0,0,0,0,1,1,0,0,0,0,0,0,0,0,0,0,0,0,0,0,0,0,0,0,0,0,0,0]]\n",
    "\n",
    "all_ics = [diehard,boat,r_pentomino,beacon,acorn,spaceship,block_switch_engine,glider_gun,unbounded]\n"
   ]
  },
  {
   "cell_type": "markdown",
   "metadata": {},
   "source": [
    "## Initial conditions\n",
    "\n",
    "`set_ic` - makes a stamp of initial condition on the domain `X`"
   ]
  },
  {
   "cell_type": "code",
   "execution_count": 47,
   "metadata": {
    "collapsed": false
   },
   "outputs": [
    {
     "data": {
      "text/plain": [
       "<matplotlib.image.AxesImage at 0x7f5c84e23f60>"
      ]
     },
     "execution_count": 47,
     "metadata": {},
     "output_type": "execute_result"
    },
    {
     "data": {
      "image/png": "[encoded data removed]",
      "text/plain": [
       "<matplotlib.figure.Figure at 0x7f5c84d6a860>"
      ]
     },
     "metadata": {},
     "output_type": "display_data"
    }
   ],
   "source": [
    "from game_of_life_utils import *\n",
    "\n",
    "Ni,Nj = 60,40\n",
    "X = np.zeros((Ni,Nj),dtype=np.bool)\n",
    "set_ic(X,unbounded,offset = (25,28))\n",
    "plt.imshow(X,interpolation='nearest',cmap='gray')"
   ]
  },
  {
   "cell_type": "markdown",
   "metadata": {
    "collapsed": true
   },
   "source": [
    "Different example:\n",
    "\n",
    "```python\n",
    "Ni,Nj = 299,299\n",
    "X = np.zeros((Ni,Nj),dtype=np.bool)\n",
    "r = np.random.random((Ni,Nj))\n",
    "X[:,:] = (r > 0.625)\n",
    "```"
   ]
  },
  {
   "cell_type": "markdown",
   "metadata": {},
   "source": [
    "## Running a simulation - single process"
   ]
  },
  {
   "cell_type": "code",
   "execution_count": 48,
   "metadata": {
    "collapsed": false,
    "scrolled": false
   },
   "outputs": [
    {
     "name": "stdout",
     "output_type": "stream",
     "text": [
      "CPU times: user 32 ms, sys: 0 ns, total: 32 ms\n",
      "Wall time: 30.1 ms\n"
     ]
    }
   ],
   "source": [
    "%%time \n",
    "Xtime=[]\n",
    "for s in range(225):\n",
    "    X = life_step_2(X)\n",
    "    Xtime.append(X.copy())\n",
    "   "
   ]
  },
  {
   "cell_type": "markdown",
   "metadata": {},
   "source": [
    "## Visualization"
   ]
  },
  {
   "cell_type": "code",
   "execution_count": 30,
   "metadata": {
    "collapsed": false,
    "scrolled": false
   },
   "outputs": [
    {
     "data": {
      "image/png": "[encoded data removed]",
      "text/plain": [
       "<PIL.Image.Image image mode=L size=320x480 at 0x7F5C84E0F278>"
      ]
     },
     "metadata": {},
     "output_type": "display_data"
    },
    {
     "name": "stdout",
     "output_type": "stream",
     "text": [
      "224\n"
     ]
    }
   ],
   "source": [
    "n = max(Ni,Nj)\n",
    "if n<100:\n",
    "    scale = 500//n\n",
    "else:\n",
    "    scale = 1\n",
    "    \n",
    "for i,X_ in enumerate(Xtime[::]):\n",
    "    clear_output(wait=True)\n",
    "    time.sleep(0.05)\n",
    "    display(Im.fromarray(240*X_.astype(np.uint8)).resize((scale*Nj,scale*Ni)))\n",
    "    print(s)\n",
    "   "
   ]
  },
  {
   "cell_type": "code",
   "execution_count": null,
   "metadata": {
    "collapsed": false
   },
   "outputs": [],
   "source": []
  },
  {
   "cell_type": "markdown",
   "metadata": {},
   "source": [
    "# Parallel game of life\n",
    "\n",
    "We use 1d partitioning in first index, this will ensure that buffers are contigous in memory (if domain i row major array)."
   ]
  },
  {
   "cell_type": "code",
   "execution_count": 49,
   "metadata": {
    "collapsed": false
   },
   "outputs": [
    {
     "name": "stdout",
     "output_type": "stream",
     "text": [
      "[0, 1, 2, 3, 4, 5]\n"
     ]
    }
   ],
   "source": [
    "import ipyparallel as ipp\n",
    "c = ipp.Client(profile='mpi')\n",
    "print(c.ids)\n",
    "view = c[:]\n",
    "view.activate()\n"
   ]
  },
  {
   "cell_type": "markdown",
   "metadata": {},
   "source": [
    "### setting proper working directory\n",
    "\n",
    "Engines started by ipyparallel have by default $HOME as working directory, since we import a file we might change it to current working directory of the project."
   ]
  },
  {
   "cell_type": "code",
   "execution_count": 52,
   "metadata": {
    "collapsed": false
   },
   "outputs": [],
   "source": [
    "import os\n",
    "notebook_wd = os.getcwd()"
   ]
  },
  {
   "cell_type": "code",
   "execution_count": 53,
   "metadata": {
    "collapsed": false
   },
   "outputs": [
    {
     "name": "stdout",
     "output_type": "stream",
     "text": [
      "['/home/users/marcin.kostur/ProgramowanieRownolegle/MPI', '/home/users/marcin.kostur/ProgramowanieRownolegle/MPI', '/home/users/marcin.kostur/ProgramowanieRownolegle/MPI', '/home/users/marcin.kostur/ProgramowanieRownolegle/MPI', '/home/users/marcin.kostur/ProgramowanieRownolegle/MPI', '/home/users/marcin.kostur/ProgramowanieRownolegle/MPI']\n"
     ]
    }
   ],
   "source": [
    "import os\n",
    "print(view.apply_sync(os.getcwd))"
   ]
  },
  {
   "cell_type": "code",
   "execution_count": 55,
   "metadata": {
    "collapsed": false
   },
   "outputs": [
    {
     "name": "stdout",
     "output_type": "stream",
     "text": [
      "['/home/users/marcin.kostur/ProgramowanieRownolegle/MPI', '/home/users/marcin.kostur/ProgramowanieRownolegle/MPI', '/home/users/marcin.kostur/ProgramowanieRownolegle/MPI', '/home/users/marcin.kostur/ProgramowanieRownolegle/MPI', '/home/users/marcin.kostur/ProgramowanieRownolegle/MPI', '/home/users/marcin.kostur/ProgramowanieRownolegle/MPI']\n"
     ]
    }
   ],
   "source": [
    "view.map(os.chdir, [notebook_wd]*len(c.ids))\n",
    "print(view.apply_sync(os.getcwd))"
   ]
  },
  {
   "cell_type": "markdown",
   "metadata": {},
   "source": [
    "### first version \n",
    "\n",
    "subdomains on the left write to those on the right\n",
    "note that periodic boundary condision is not globally set."
   ]
  },
  {
   "cell_type": "code",
   "execution_count": 61,
   "metadata": {
    "collapsed": false,
    "scrolled": true
   },
   "outputs": [],
   "source": [
    "%%px --block\n",
    "\n",
    "\n",
    "from mpi4py import MPI \n",
    "import numpy as np\n",
    "\n",
    "\n",
    "from game_of_life_utils import *\n",
    "\n",
    "#number of procesess:\n",
    "\n",
    "comm = MPI.COMM_WORLD\n",
    "No_processes = comm.Get_size()\n",
    "rank = comm.Get_rank()\n",
    "\n",
    "#constants\n",
    "\n",
    "Ni,Nj = No_processes*10,40\n",
    "Niter = 225\n",
    "\n",
    "#area:\n",
    "\n",
    "if rank==0:    \n",
    "   \n",
    "    X = np.zeros((Ni,Nj),dtype=np.bool)\n",
    "    set_ic(X,unbounded,offset = (25,28))\n",
    "    \n",
    "else: \n",
    "    X = None\n",
    "\n",
    "# subdomains:\n",
    "buf = np.empty((Ni//No_processes,Nj),dtype=np.bool)\n",
    "X_local = np.empty((Ni//No_processes+2,Nj),dtype=np.bool)\n",
    "\n",
    "comm.Scatter(X, buf )\n",
    "X_local[1:-1,:] = buf\n",
    "\n",
    "U_local_time = []\n",
    "Xtime = []\n",
    "   \n",
    "L_bulk  = (1,slice(None))\n",
    "L_ghost = (0,slice(None))\n",
    "R_bulk  = (-2, slice(None))\n",
    "R_ghost = (-1, slice(None))\n",
    "\n",
    "for i in range(Niter):\n",
    "    \n",
    "    if rank<(No_processes-1):\n",
    "        comm.Send(X_local[R_bulk], dest=rank+1)\n",
    "        comm.Recv(X_local[R_ghost],source=rank+1)\n",
    "        \n",
    "    if rank>0:\n",
    "        comm.Recv(X_local[L_ghost],source=rank-1)\n",
    "        comm.Send(X_local[L_bulk], dest=rank-1)\n",
    "    \n",
    "    X_local = life_step_2(X_local)\n",
    "\n",
    "    comm.Gather(X_local[1:-1],X )\n",
    "    if rank==0:\n",
    "        Xtime.append( X.copy() )\n",
    "\n",
    "    U_local_time.append( X_local[1:-1].copy() )\n"
   ]
  },
  {
   "cell_type": "code",
   "execution_count": null,
   "metadata": {
    "collapsed": false
   },
   "outputs": [],
   "source": []
  },
  {
   "cell_type": "markdown",
   "metadata": {},
   "source": [
    "### version with glocal periodic boundaries\n",
    "\n",
    "one can split the communication into even and odd nodes:\n",
    "\n",
    "```python\n",
    "\n",
    "if rank%2 == 0:\n",
    "    comm.Send(X_local[R_bulk], dest=(rank+1)%No_processes)\n",
    "    comm.Recv(X_local[R_ghost],source=(rank+1)%No_processes)\n",
    "\n",
    "if rank%2 == 1:\n",
    "    comm.Recv(X_local[L_ghost],source=(rank-1)%No_processes)\n",
    "    comm.Send(X_local[L_bulk], dest=(rank-1)%No_processes)\n",
    "\n",
    "if rank%2 == 1:\n",
    "    comm.Send(X_local[R_bulk], dest=(rank+1)%No_processes)\n",
    "    comm.Recv(X_local[R_ghost],source=(rank+1)%No_processes)\n",
    "\n",
    "if rank%2 == 0:\n",
    "    comm.Recv(X_local[L_ghost],source=(rank-1)%No_processes)\n",
    "    comm.Send(X_local[L_bulk], dest=(rank-1)%No_processes)\n",
    "```"
   ]
  },
  {
   "cell_type": "code",
   "execution_count": null,
   "metadata": {
    "collapsed": true
   },
   "outputs": [],
   "source": []
  },
  {
   "cell_type": "code",
   "execution_count": 24,
   "metadata": {
    "collapsed": false,
    "scrolled": true
   },
   "outputs": [],
   "source": [
    "%%px --block\n",
    "\n",
    "\n",
    "from mpi4py import MPI \n",
    "import numpy as np\n",
    "\n",
    "\n",
    "from game_of_life_utils import *\n",
    "\n",
    "#number of procesess:\n",
    "\n",
    "comm = MPI.COMM_WORLD\n",
    "No_processes = comm.Get_size()\n",
    "rank = comm.Get_rank()\n",
    "\n",
    "#constants\n",
    "\n",
    "Ni,Nj = No_processes*10,40\n",
    "Niter = 225\n",
    "\n",
    "#area:\n",
    "\n",
    "if rank==0:    \n",
    "   \n",
    "    X = np.zeros((Ni,Nj),dtype=np.bool)\n",
    "    set_ic(X,unbounded,offset = (25,28))\n",
    "    \n",
    "else: \n",
    "    X = None\n",
    "\n",
    "# subdomains:\n",
    "buf = np.empty((Ni//No_processes,Nj),dtype=np.bool)\n",
    "X_local = np.empty((Ni//No_processes+2,Nj),dtype=np.bool)\n",
    "\n",
    "comm.Scatter(X, buf )\n",
    "X_local[1:-1,:] = buf\n",
    "\n",
    "U_local_time = []\n",
    "Xtime = []\n",
    "   \n",
    "L_bulk  = (1,slice(None))\n",
    "L_ghost = (0,slice(None))\n",
    "R_bulk  = (-2, slice(None))\n",
    "R_ghost = (-1, slice(None))\n",
    "\n",
    "for i in range(Niter):\n",
    "    \n",
    "    if rank%2 == 0:\n",
    "        comm.Send(X_local[R_bulk], dest=(rank+1)%No_processes)\n",
    "        comm.Recv(X_local[R_ghost],source=(rank+1)%No_processes)\n",
    "        comm.Recv(X_local[L_ghost],source=(rank-1)%No_processes)\n",
    "        comm.Send(X_local[L_bulk], dest=(rank-1)%No_processes)\n",
    "        \n",
    "    if rank%2 == 1:\n",
    "        comm.Recv(X_local[L_ghost],source=(rank-1)%No_processes)\n",
    "        comm.Send(X_local[L_bulk], dest=(rank-1)%No_processes)\n",
    "        comm.Send(X_local[R_bulk], dest=(rank+1)%No_processes)\n",
    "        comm.Recv(X_local[R_ghost],source=(rank+1)%No_processes)\n",
    "\n",
    "   \n",
    "    X_local = life_step_2(X_local)\n",
    "\n",
    "    comm.Gather(X_local[1:-1],X )\n",
    "    if rank==0:\n",
    "        Xtime.append( X.copy() )\n",
    "\n",
    "    U_local_time.append( X_local[1:-1].copy() )\n"
   ]
  },
  {
   "cell_type": "markdown",
   "metadata": {},
   "source": [
    "### 3rd version  - using `Sendrecv`\n",
    "\n",
    "Using `Sendrecv` one can avoid potential lock-outs."
   ]
  },
  {
   "cell_type": "code",
   "execution_count": 41,
   "metadata": {
    "collapsed": false
   },
   "outputs": [],
   "source": [
    "%%px --block\n",
    "\n",
    "\n",
    "from mpi4py import MPI \n",
    "import numpy as np\n",
    "\n",
    "\n",
    "from game_of_life_utils import *\n",
    "\n",
    "#number of procesess:\n",
    "\n",
    "comm = MPI.COMM_WORLD\n",
    "No_processes = comm.Get_size()\n",
    "rank = comm.Get_rank()\n",
    "\n",
    "#constants\n",
    "\n",
    "Ni,Nj = No_processes*10,40\n",
    "Niter = 225\n",
    "\n",
    "#area:\n",
    "\n",
    "if rank==0:    \n",
    "   \n",
    "    X = np.zeros((Ni,Nj),dtype=np.bool)\n",
    "    set_ic(X,unbounded,offset = (25,28))\n",
    "    \n",
    "else: \n",
    "    X = None\n",
    "\n",
    "# subdomains:\n",
    "buf = np.empty((Ni//No_processes,Nj),dtype=np.bool)\n",
    "X_local = np.empty((Ni//No_processes+2,Nj),dtype=np.bool)\n",
    "\n",
    "comm.Scatter(X, buf )\n",
    "X_local[1:-1,:] = buf\n",
    "\n",
    "U_local_time = []\n",
    "Xtime = []\n",
    "   \n",
    "L_bulk  = (1,slice(None))\n",
    "L_ghost = (0,slice(None))\n",
    "R_bulk  = (-2, slice(None))\n",
    "R_ghost = (-1, slice(None))\n",
    "\n",
    "for i in range(Niter):\n",
    "    \n",
    "    if rank%2 == 0:\n",
    "        comm.Sendrecv(X_local[R_bulk], dest=(rank+1)%No_processes,sendtag=0,\\\n",
    "                      recvbuf=X_local[R_ghost],source=(rank+1)%No_processes)\n",
    "        comm.Sendrecv(X_local[L_bulk], dest=(rank-1)%No_processes,sendtag=0, \\\n",
    "                      recvbuf=X_local[L_ghost],source=(rank-1)%No_processes)\n",
    "       \n",
    "        \n",
    "    if rank%2 == 1:\n",
    "        comm.Sendrecv(X_local[L_bulk], dest=(rank-1)%No_processes,sendtag=0,\\\n",
    "                      recvbuf=X_local[L_ghost],source=(rank-1)%No_processes)\n",
    "        comm.Sendrecv(X_local[R_bulk], dest=(rank+1)%No_processes,sendtag=0,\\\n",
    "                      recvbuf=X_local[R_ghost],source=(rank+1)%No_processes)\n",
    "      \n",
    "\n",
    "   \n",
    "    X_local = life_step_2(X_local)\n",
    "\n",
    "    comm.Gather(X_local[1:-1],X )\n",
    "    if rank==0:\n",
    "        Xtime.append( X.copy() )\n",
    "\n",
    "    U_local_time.append( X_local[1:-1].copy() )\n"
   ]
  },
  {
   "cell_type": "markdown",
   "metadata": {},
   "source": [
    "# Comparison of parallel and single process versions\n",
    "\n",
    "Above parallel examples are set to use the same IC and glocal  board size as the single process one.\n",
    "On `rank=0` we gather the time evolution of global domain, therefore one can easily validate the parallel version. "
   ]
  },
  {
   "cell_type": "code",
   "execution_count": 56,
   "metadata": {
    "collapsed": false
   },
   "outputs": [
    {
     "data": {
      "text/plain": [
       "4"
      ]
     },
     "execution_count": 56,
     "metadata": {},
     "output_type": "execute_result"
    }
   ],
   "source": [
    "np.argsort(view['rank'])[0]"
   ]
  },
  {
   "cell_type": "code",
   "execution_count": 57,
   "metadata": {
    "collapsed": false
   },
   "outputs": [
    {
     "data": {
      "text/plain": [
       "225"
      ]
     },
     "execution_count": 57,
     "metadata": {},
     "output_type": "execute_result"
    }
   ],
   "source": [
    "len( view['Xtime'][ np.argsort(view['rank'])[0] ] ) "
   ]
  },
  {
   "cell_type": "markdown",
   "metadata": {},
   "source": [
    "- `Xtime_parallel`  will be a copy (in this notebook) of table of time snashots of global domain .\n",
    "- `Xtime` - keeps the results of a serial simulation"
   ]
  },
  {
   "cell_type": "code",
   "execution_count": 62,
   "metadata": {
    "collapsed": true
   },
   "outputs": [],
   "source": [
    "Xtime_parallel =  view['Xtime'][ np.argsort(view['rank'])[0] ] \n"
   ]
  },
  {
   "cell_type": "code",
   "execution_count": 44,
   "metadata": {
    "collapsed": false
   },
   "outputs": [
    {
     "data": {
      "image/png": "[encoded data removed]",
      "text/plain": [
       "<PIL.Image.Image image mode=L size=320x480 at 0x7F5C84D6A860>"
      ]
     },
     "metadata": {},
     "output_type": "display_data"
    },
    {
     "name": "stdout",
     "output_type": "stream",
     "text": [
      "224\n"
     ]
    }
   ],
   "source": [
    "Ni, Nj = Xtime_parallel[0].shape\n",
    "n = max(Ni,Nj)\n",
    "if n<100:\n",
    "    scale = 500//n\n",
    "else:\n",
    "    scale = 1\n",
    "    \n",
    "for i,X_ in enumerate(Xtime_parallel[::]):\n",
    "    clear_output(wait=True)\n",
    "    time.sleep(0.02)\n",
    "    display(Im.fromarray(240*X_.astype(np.uint8)).resize((scale*Nj,scale*Ni)))\n",
    "    print(i)\n",
    "   "
   ]
  },
  {
   "cell_type": "markdown",
   "metadata": {},
   "source": [
    "### validation\n",
    "\n",
    "- for each timestep we want identical results\n",
    "- below, the first number should be equal to number of timesteps\n",
    "\n"
   ]
  },
  {
   "cell_type": "code",
   "execution_count": 65,
   "metadata": {
    "collapsed": false
   },
   "outputs": [
    {
     "data": {
      "text/plain": [
       "(167, 225)"
      ]
     },
     "execution_count": 65,
     "metadata": {},
     "output_type": "execute_result"
    }
   ],
   "source": [
    "sum([np.all(X_ == Xp_) for X_,Xp_ in zip(Xtime,Xtime_parallel)]), len(Xtime)"
   ]
  },
  {
   "cell_type": "code",
   "execution_count": 64,
   "metadata": {
    "collapsed": false,
    "scrolled": false
   },
   "outputs": [],
   "source": [
    "for X_,Xp_ in zip(Xtime,Xtime_parallel):\n",
    "    print (np.all(X_ == Xp_))"
   ]
  },
  {
   "cell_type": "code",
   "execution_count": null,
   "metadata": {
    "collapsed": true
   },
   "outputs": [],
   "source": []
  },
  {
   "cell_type": "code",
   "execution_count": null,
   "metadata": {
    "collapsed": true
   },
   "outputs": [],
   "source": []
  },
  {
   "cell_type": "code",
   "execution_count": null,
   "metadata": {
    "collapsed": true
   },
   "outputs": [],
   "source": []
  }
 ],
 "metadata": {
  "kernelspec": {
   "display_name": "Python 3",
   "language": "python",
   "name": "python3"
  },
  "language_info": {
   "codemirror_mode": {
    "name": "ipython",
    "version": 3
   },
   "file_extension": ".py",
   "mimetype": "text/x-python",
   "name": "python",
   "nbconvert_exporter": "python",
   "pygments_lexer": "ipython3",
   "version": "3.5.2"
  }
 },
 "nbformat": 4,
 "nbformat_minor": 1
}
