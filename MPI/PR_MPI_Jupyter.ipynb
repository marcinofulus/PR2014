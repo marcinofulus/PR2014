{
 "cells": [
  {
   "cell_type": "markdown",
   "metadata": {
    "slideshow": {
     "slide_type": "slide"
    }
   },
   "source": [
    "# MPI in Jupyter\n",
    "\n",
    "\n",
    "MPI [slides](https://docs.google.com/presentation/d/1JkGep7kRYJeB5SL-0z10n8GmFAyaAn3mDoIbB6pK6wQ/edit?usp=sharing)\n",
    "\n",
    "We will use: \n",
    " \n",
    " - [MPI4py](http://mpi4py.readthedocs.io/en/stable/)\n",
    " - [Ipython parallel](http://ipyparallel.readthedocs.io/) \n",
    "\n",
    "However, we will limit usage of `ipyparallel` features to minimum. Most of parallel logic will be in MPI standard."
   ]
  },
  {
   "cell_type": "markdown",
   "metadata": {
    "slideshow": {
     "slide_type": "slide"
    }
   },
   "source": [
    "## The classical way\n",
    "\n",
    " - Write a file and use mpirun directly."
   ]
  },
  {
   "cell_type": "code",
   "execution_count": 28,
   "metadata": {
    "collapsed": false,
    "slideshow": {
     "slide_type": "subslide"
    }
   },
   "outputs": [
    {
     "name": "stdout",
     "output_type": "stream",
     "text": [
      "Overwriting mpi001.py\n"
     ]
    }
   ],
   "source": [
    "%%writefile mpi001.py\n",
    "\n",
    "from mpi4py import MPI\n",
    "\n",
    "comm = MPI.COMM_WORLD\n",
    "rank = comm.Get_rank()\n",
    "size = comm.Get_size()\n",
    "print \"OK, rank= \",rank,size"
   ]
  },
  {
   "cell_type": "code",
   "execution_count": 19,
   "metadata": {
    "collapsed": false,
    "slideshow": {
     "slide_type": "subslide"
    }
   },
   "outputs": [
    {
     "name": "stdout",
     "output_type": "stream",
     "text": [
      "OK, rank=  0 4\r\n",
      "OK, rank=  1 4\r\n",
      "OK, rank=  2 4\r\n",
      "OK, rank=  3 4\r\n"
     ]
    }
   ],
   "source": [
    "!mpirun -n 4 /opt/conda/envs/py27/bin/python mpi001.py"
   ]
  },
  {
   "cell_type": "markdown",
   "metadata": {
    "slideshow": {
     "slide_type": "subslide"
    }
   },
   "source": [
    "### Problems:\n",
    " - wrong python\n",
    " - where is my file ?"
   ]
  },
  {
   "cell_type": "code",
   "execution_count": 20,
   "metadata": {
    "collapsed": false,
    "scrolled": true,
    "slideshow": {
     "slide_type": "subslide"
    }
   },
   "outputs": [
    {
     "name": "stdout",
     "output_type": "stream",
     "text": [
      "Traceback (most recent call last):\r\n",
      "  File \"mpi001.py\", line 2, in <module>\r\n",
      "    from mpi4py import MPI\r\n",
      "ImportError: No module named mpi4py\r\n",
      "Traceback (most recent call last):\r\n",
      "  File \"mpi001.py\", line 2, in <module>\r\n",
      "    from mpi4py import MPI\r\n",
      "ImportError: No module named mpi4py\r\n",
      "Traceback (most recent call last):\r\n",
      "  File \"mpi001.py\", line 2, in <module>\r\n",
      "    from mpi4py import MPI\r\n",
      "ImportError: No module named mpi4py\r\n",
      "Traceback (most recent call last):\r\n",
      "  File \"mpi001.py\", line 2, in <module>\r\n",
      "    from mpi4py import MPI\r\n",
      "ImportError: No module named mpi4py\r\n"
     ]
    }
   ],
   "source": [
    "!mpirun -n 4 python2 mpi001.py"
   ]
  },
  {
   "cell_type": "code",
   "execution_count": 21,
   "metadata": {
    "collapsed": false,
    "slideshow": {
     "slide_type": "subslide"
    }
   },
   "outputs": [
    {
     "name": "stdout",
     "output_type": "stream",
     "text": [
      "  File \"mpi001.py\", line 7\r\n",
      "    print \"OK, rank= \",rank,size\r\n",
      "                     ^\r\n",
      "SyntaxError: Missing parentheses in call to 'print'\r\n",
      "  File \"mpi001.py\", line 7\r\n",
      "    print \"OK, rank= \",rank,size\r\n",
      "                     ^\r\n",
      "SyntaxError: Missing parentheses in call to 'print'\r\n",
      "  File \"mpi001.py\", line 7\r\n",
      "    print \"OK, rank= \",rank,size\r\n",
      "                     ^\r\n",
      "SyntaxError: Missing parentheses in call to 'print'\r\n",
      "  File \"mpi001.py\", line 7\r\n",
      "    print \"OK, rank= \",rank,size\r\n",
      "                     ^\r\n",
      "SyntaxError: Missing parentheses in call to 'print'\r\n"
     ]
    }
   ],
   "source": [
    "!mpirun -n 4 python mpi001.py"
   ]
  },
  {
   "cell_type": "markdown",
   "metadata": {
    "slideshow": {
     "slide_type": "slide"
    }
   },
   "source": [
    "\n",
    "\n",
    "## Use ipyparallel cluster:\n",
    "\n",
    "   First - setup an MPI profile!\n"
   ]
  },
  {
   "cell_type": "code",
   "execution_count": 8,
   "metadata": {
    "collapsed": false,
    "slideshow": {
     "slide_type": "-"
    }
   },
   "outputs": [
    {
     "name": "stdout",
     "output_type": "stream",
     "text": [
      "[0, 1, 2, 3]\n"
     ]
    }
   ],
   "source": [
    "import ipyparallel as ipp\n",
    "c = ipp.Client(profile='mpi')\n",
    "print(c.ids)\n",
    "view = c[:]\n",
    "view.activate()"
   ]
  },
  {
   "cell_type": "markdown",
   "metadata": {
    "slideshow": {
     "slide_type": "subslide"
    }
   },
   "source": [
    "### First Way:\n",
    "\n",
    " - write a file and do ```view.run(\"myfile.py\")```\n"
   ]
  },
  {
   "cell_type": "code",
   "execution_count": 14,
   "metadata": {
    "collapsed": false,
    "slideshow": {
     "slide_type": "fragment"
    }
   },
   "outputs": [
    {
     "name": "stdout",
     "output_type": "stream",
     "text": [
      "Overwriting mpi001.py\n"
     ]
    }
   ],
   "source": [
    "%%writefile mpi001.py\n",
    "\n",
    "from mpi4py import MPI\n",
    "import time\n",
    "comm = MPI.COMM_WORLD\n",
    "rank = comm.Get_rank()\n",
    "size = comm.Get_size()\n",
    "time.sleep(5)\n",
    "import os\n",
    "a = 1.23     \n",
    "print (\"OK, rank= \",rank,size,os.getpid())"
   ]
  },
  {
   "cell_type": "code",
   "execution_count": 15,
   "metadata": {
    "collapsed": true,
    "slideshow": {
     "slide_type": "subslide"
    }
   },
   "outputs": [],
   "source": [
    "ar = view.run('mpi001.py')"
   ]
  },
  {
   "cell_type": "code",
   "execution_count": 16,
   "metadata": {
    "collapsed": false,
    "slideshow": {
     "slide_type": "-"
    }
   },
   "outputs": [
    {
     "data": {
      "text/plain": [
       "<AsyncResult: execute>"
      ]
     },
     "execution_count": 16,
     "metadata": {},
     "output_type": "execute_result"
    }
   ],
   "source": [
    "ar"
   ]
  },
  {
   "cell_type": "code",
   "execution_count": 21,
   "metadata": {
    "collapsed": false,
    "slideshow": {
     "slide_type": "-"
    }
   },
   "outputs": [
    {
     "name": "stdout",
     "output_type": "stream",
     "text": [
      "[stdout:0] OK, rank=  3 4 21251\n",
      "[stdout:1] OK, rank=  2 4 21250\n",
      "[stdout:2] OK, rank=  1 4 21249\n",
      "[stdout:3] OK, rank=  0 4 21248\n"
     ]
    }
   ],
   "source": [
    "ar.display_outputs()"
   ]
  },
  {
   "cell_type": "code",
   "execution_count": 22,
   "metadata": {
    "collapsed": false,
    "slideshow": {
     "slide_type": "subslide"
    }
   },
   "outputs": [],
   "source": [
    "ar = view.execute('mpi001.py')"
   ]
  },
  {
   "cell_type": "code",
   "execution_count": 23,
   "metadata": {
    "collapsed": false,
    "slideshow": {
     "slide_type": "fragment"
    }
   },
   "outputs": [
    {
     "data": {
      "text/plain": [
       "[1.23, 1.23, 1.23, 1.23]"
      ]
     },
     "execution_count": 23,
     "metadata": {},
     "output_type": "execute_result"
    }
   ],
   "source": [
    "view['a']"
   ]
  },
  {
   "cell_type": "markdown",
   "metadata": {
    "slideshow": {
     "slide_type": "fragment"
    }
   },
   "source": [
    "this is equivalent to:\n"
   ]
  },
  {
   "cell_type": "code",
   "execution_count": 24,
   "metadata": {
    "collapsed": false,
    "slideshow": {
     "slide_type": "-"
    }
   },
   "outputs": [
    {
     "data": {
      "text/plain": [
       "[1.23, 1.23, 1.23, 1.23]"
      ]
     },
     "execution_count": 24,
     "metadata": {},
     "output_type": "execute_result"
    }
   ],
   "source": [
    "view.pull('a', block=True)"
   ]
  },
  {
   "cell_type": "code",
   "execution_count": null,
   "metadata": {
    "collapsed": false
   },
   "outputs": [],
   "source": []
  },
  {
   "cell_type": "markdown",
   "metadata": {
    "slideshow": {
     "slide_type": "slide"
    }
   },
   "source": [
    "### Second Way:\n",
    "\n",
    "  - use magics: `%%px ....`  \n",
    "     "
   ]
  },
  {
   "cell_type": "markdown",
   "metadata": {
    "slideshow": {
     "slide_type": "fragment"
    }
   },
   "source": [
    "** important!**"
   ]
  },
  {
   "cell_type": "code",
   "execution_count": 55,
   "metadata": {
    "collapsed": true,
    "slideshow": {
     "slide_type": "-"
    }
   },
   "outputs": [],
   "source": [
    "view.activate()"
   ]
  },
  {
   "cell_type": "code",
   "execution_count": 56,
   "metadata": {
    "collapsed": false,
    "slideshow": {
     "slide_type": "subslide"
    }
   },
   "outputs": [
    {
     "data": {
      "text/plain": [
       "<AsyncResult: execute>"
      ]
     },
     "execution_count": 56,
     "metadata": {},
     "output_type": "execute_result"
    }
   ],
   "source": [
    "%%px \n",
    "\n",
    "from mpi4py import MPI\n",
    "import time\n",
    "comm = MPI.COMM_WORLD\n",
    "rank = comm.Get_rank()\n",
    "size = comm.Get_size()\n",
    "time.sleep(5)\n",
    "import os\n",
    "a = 1.23\n",
    "print (\"OK, rank= \",rank,size,os.getpid())"
   ]
  },
  {
   "cell_type": "code",
   "execution_count": 57,
   "metadata": {
    "collapsed": false
   },
   "outputs": [
    {
     "name": "stdout",
     "output_type": "stream",
     "text": [
      "[stdout:0] OK, rank=  2 4 7914\n",
      "[stdout:1] OK, rank=  0 4 7912\n",
      "[stdout:2] OK, rank=  3 4 7915\n",
      "[stdout:3] OK, rank=  1 4 7913\n"
     ]
    }
   ],
   "source": [
    "%pxresult"
   ]
  },
  {
   "cell_type": "markdown",
   "metadata": {
    "slideshow": {
     "slide_type": "subslide"
    }
   },
   "source": [
    "### Worth trying:\n",
    "    \n",
    "  - `%%px --block`\n",
    "  - `%%px --targets ::2`\n",
    "  - `%autopx`"
   ]
  },
  {
   "cell_type": "code",
   "execution_count": 20,
   "metadata": {
    "collapsed": false,
    "slideshow": {
     "slide_type": "fragment"
    }
   },
   "outputs": [
    {
     "name": "stdout",
     "output_type": "stream",
     "text": [
      "[stdout:1] 4\n",
      "[stdout:2] 4\n"
     ]
    }
   ],
   "source": [
    "%%px --block --target 1:3:\n",
    "\n",
    "from mpi4py import MPI\n",
    "import numpy as np\n",
    "\n",
    "comm = MPI.COMM_WORLD\n",
    "rank = comm.rank\n",
    "print(comm.size)"
   ]
  },
  {
   "cell_type": "code",
   "execution_count": null,
   "metadata": {
    "collapsed": false
   },
   "outputs": [],
   "source": []
  },
  {
   "cell_type": "code",
   "execution_count": null,
   "metadata": {
    "collapsed": true
   },
   "outputs": [],
   "source": []
  }
 ],
 "metadata": {
  "celltoolbar": "Slideshow",
  "kernelspec": {
   "display_name": "Python 3",
   "language": "python",
   "name": "python3"
  },
  "language_info": {
   "codemirror_mode": {
    "name": "ipython",
    "version": 3
   },
   "file_extension": ".py",
   "mimetype": "text/x-python",
   "name": "python",
   "nbconvert_exporter": "python",
   "pygments_lexer": "ipython3",
   "version": "3.5.2"
  }
 },
 "nbformat": 4,
 "nbformat_minor": 1
}
