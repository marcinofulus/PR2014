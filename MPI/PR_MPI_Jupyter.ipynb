{
 "cells": [
  {
   "cell_type": "markdown",
   "metadata": {
    "slideshow": {
     "slide_type": "slide"
    }
   },
   "source": [
    "# MPI in Jupyter\n",
    "\n",
    "\n",
    "MPI [slides](https://docs.google.com/presentation/d/1JkGep7kRYJeB5SL-0z10n8GmFAyaAn3mDoIbB6pK6wQ/edit?usp=sharing)\n",
    "\n",
    "We will use: \n",
    " \n",
    " - [MPI4py](http://mpi4py.readthedocs.io/en/stable/)\n",
    " - [Ipython parallel](http://ipyparallel.readthedocs.io/) \n",
    "\n",
    "However, we will limit usage of `ipyparallel` features to minimum. Most of parallel logic will be in MPI standard."
   ]
  },
  {
   "cell_type": "markdown",
   "metadata": {
    "slideshow": {
     "slide_type": "slide"
    }
   },
   "source": [
    "## The classical way\n",
    "\n",
    " - Write a file and use mpirun directly."
   ]
  },
  {
   "cell_type": "code",
   "execution_count": 4,
   "metadata": {
    "collapsed": false,
    "slideshow": {
     "slide_type": "subslide"
    }
   },
   "outputs": [
    {
     "name": "stdout",
     "output_type": "stream",
     "text": [
      "Writing mpi001.py\n"
     ]
    }
   ],
   "source": [
    "%%writefile mpi001.py\n",
    "\n",
    "from mpi4py import MPI\n",
    "\n",
    "comm = MPI.COMM_WORLD\n",
    "rank = comm.Get_rank()\n",
    "size = comm.Get_size()\n",
    "print \"OK, rank= \",rank,size"
   ]
  },
  {
   "cell_type": "code",
   "execution_count": 12,
   "metadata": {
    "collapsed": false,
    "slideshow": {
     "slide_type": "subslide"
    }
   },
   "outputs": [
    {
     "name": "stdout",
     "output_type": "stream",
     "text": [
      "OK, rank=  0 OK, rank=  1 4\r\n",
      "OK, rank=  2 4\r\n",
      "OK, rank=  3 4\r\n",
      "4\r\n"
     ]
    }
   ],
   "source": [
    "!mpirun -n 4 /opt/conda/envs/py27/bin/python mpi001.py"
   ]
  },
  {
   "cell_type": "markdown",
   "metadata": {
    "slideshow": {
     "slide_type": "subslide"
    }
   },
   "source": [
    "### Problems:\n",
    " - wrong python\n",
    " - where is my file ?"
   ]
  },
  {
   "cell_type": "code",
   "execution_count": 20,
   "metadata": {
    "collapsed": false,
    "scrolled": true,
    "slideshow": {
     "slide_type": "subslide"
    }
   },
   "outputs": [
    {
     "name": "stdout",
     "output_type": "stream",
     "text": [
      "Traceback (most recent call last):\r\n",
      "  File \"mpi001.py\", line 2, in <module>\r\n",
      "    from mpi4py import MPI\r\n",
      "ImportError: No module named mpi4py\r\n",
      "Traceback (most recent call last):\r\n",
      "  File \"mpi001.py\", line 2, in <module>\r\n",
      "    from mpi4py import MPI\r\n",
      "ImportError: No module named mpi4py\r\n",
      "Traceback (most recent call last):\r\n",
      "  File \"mpi001.py\", line 2, in <module>\r\n",
      "    from mpi4py import MPI\r\n",
      "ImportError: No module named mpi4py\r\n",
      "Traceback (most recent call last):\r\n",
      "  File \"mpi001.py\", line 2, in <module>\r\n",
      "    from mpi4py import MPI\r\n",
      "ImportError: No module named mpi4py\r\n"
     ]
    }
   ],
   "source": [
    "!mpirun -n 4 python2 mpi001.py"
   ]
  },
  {
   "cell_type": "code",
   "execution_count": 21,
   "metadata": {
    "collapsed": false,
    "slideshow": {
     "slide_type": "subslide"
    }
   },
   "outputs": [
    {
     "name": "stdout",
     "output_type": "stream",
     "text": [
      "  File \"mpi001.py\", line 7\r\n",
      "    print \"OK, rank= \",rank,size\r\n",
      "                     ^\r\n",
      "SyntaxError: Missing parentheses in call to 'print'\r\n",
      "  File \"mpi001.py\", line 7\r\n",
      "    print \"OK, rank= \",rank,size\r\n",
      "                     ^\r\n",
      "SyntaxError: Missing parentheses in call to 'print'\r\n",
      "  File \"mpi001.py\", line 7\r\n",
      "    print \"OK, rank= \",rank,size\r\n",
      "                     ^\r\n",
      "SyntaxError: Missing parentheses in call to 'print'\r\n",
      "  File \"mpi001.py\", line 7\r\n",
      "    print \"OK, rank= \",rank,size\r\n",
      "                     ^\r\n",
      "SyntaxError: Missing parentheses in call to 'print'\r\n"
     ]
    }
   ],
   "source": [
    "!mpirun -n 4 python mpi001.py"
   ]
  },
  {
   "cell_type": "markdown",
   "metadata": {
    "slideshow": {
     "slide_type": "slide"
    }
   },
   "source": [
    "\n",
    "\n",
    "## Use ipyparallel cluster:\n",
    "\n",
    "   First - setup an MPI profile!\n"
   ]
  },
  {
   "cell_type": "code",
   "execution_count": 14,
   "metadata": {
    "collapsed": false,
    "slideshow": {
     "slide_type": "-"
    }
   },
   "outputs": [
    {
     "name": "stdout",
     "output_type": "stream",
     "text": [
      "[0, 1, 2, 3]\n"
     ]
    }
   ],
   "source": [
    "import ipyparallel as ipp\n",
    "c = ipp.Client(profile='mpi')\n",
    "print(c.ids)\n",
    "view = c[:]\n",
    "view.activate()"
   ]
  },
  {
   "cell_type": "markdown",
   "metadata": {
    "slideshow": {
     "slide_type": "subslide"
    }
   },
   "source": [
    "### First Way:\n",
    "\n",
    " - write a file and do ```view.run(\"myfile.py\")```\n"
   ]
  },
  {
   "cell_type": "code",
   "execution_count": 24,
   "metadata": {
    "collapsed": false,
    "slideshow": {
     "slide_type": "fragment"
    }
   },
   "outputs": [
    {
     "name": "stdout",
     "output_type": "stream",
     "text": [
      "Overwriting mpi001.py\n"
     ]
    }
   ],
   "source": [
    "%%writefile mpi001.py\n",
    "\n",
    "from mpi4py import MPI\n",
    "import time\n",
    "comm = MPI.COMM_WORLD\n",
    "rank = comm.Get_rank()\n",
    "size = comm.Get_size()\n",
    "time.sleep(5)\n",
    "import os\n",
    "a = 1.23 + rank     \n",
    "print (\"OK, rank= \",rank,size,os.getpid())"
   ]
  },
  {
   "cell_type": "code",
   "execution_count": 25,
   "metadata": {
    "collapsed": true,
    "slideshow": {
     "slide_type": "subslide"
    }
   },
   "outputs": [],
   "source": [
    "ar = view.run('mpi001.py')"
   ]
  },
  {
   "cell_type": "code",
   "execution_count": 35,
   "metadata": {
    "collapsed": false,
    "slideshow": {
     "slide_type": "-"
    }
   },
   "outputs": [
    {
     "data": {
      "text/plain": [
       "<AsyncResult: execute:finished>"
      ]
     },
     "execution_count": 35,
     "metadata": {},
     "output_type": "execute_result"
    }
   ],
   "source": [
    "ar"
   ]
  },
  {
   "cell_type": "code",
   "execution_count": 30,
   "metadata": {
    "collapsed": false,
    "slideshow": {
     "slide_type": "-"
    }
   },
   "outputs": [
    {
     "name": "stdout",
     "output_type": "stream",
     "text": [
      "[stdout:0] OK, rank=  3 4 38536\n",
      "[stdout:1] OK, rank=  0 4 38533\n",
      "[stdout:2] OK, rank=  1 4 38534\n",
      "[stdout:3] OK, rank=  2 4 38535\n"
     ]
    }
   ],
   "source": [
    "ar.display_outputs()"
   ]
  },
  {
   "cell_type": "code",
   "execution_count": 32,
   "metadata": {
    "collapsed": false,
    "slideshow": {
     "slide_type": "subslide"
    }
   },
   "outputs": [],
   "source": [
    "ar = view.execute('mpi001.py')"
   ]
  },
  {
   "cell_type": "code",
   "execution_count": 33,
   "metadata": {
    "collapsed": false,
    "slideshow": {
     "slide_type": "fragment"
    }
   },
   "outputs": [
    {
     "data": {
      "text/plain": [
       "[4.23, 1.23, 2.23, 3.23]"
      ]
     },
     "execution_count": 33,
     "metadata": {},
     "output_type": "execute_result"
    }
   ],
   "source": [
    "view['a']"
   ]
  },
  {
   "cell_type": "markdown",
   "metadata": {
    "slideshow": {
     "slide_type": "fragment"
    }
   },
   "source": [
    "this is equivalent to:\n"
   ]
  },
  {
   "cell_type": "code",
   "execution_count": 36,
   "metadata": {
    "collapsed": false,
    "slideshow": {
     "slide_type": "-"
    }
   },
   "outputs": [
    {
     "data": {
      "text/plain": [
       "[4.23, 1.23, 2.23, 3.23]"
      ]
     },
     "execution_count": 36,
     "metadata": {},
     "output_type": "execute_result"
    }
   ],
   "source": [
    "view.pull('a', block=True)"
   ]
  },
  {
   "cell_type": "code",
   "execution_count": null,
   "metadata": {
    "collapsed": false
   },
   "outputs": [],
   "source": []
  },
  {
   "cell_type": "markdown",
   "metadata": {
    "slideshow": {
     "slide_type": "slide"
    }
   },
   "source": [
    "### Second Way:\n",
    "\n",
    "  - use magics: `%%px ....`  \n",
    "     "
   ]
  },
  {
   "cell_type": "markdown",
   "metadata": {
    "slideshow": {
     "slide_type": "fragment"
    }
   },
   "source": [
    "** important!**"
   ]
  },
  {
   "cell_type": "code",
   "execution_count": 55,
   "metadata": {
    "collapsed": true,
    "slideshow": {
     "slide_type": "-"
    }
   },
   "outputs": [],
   "source": [
    "view.activate()"
   ]
  },
  {
   "cell_type": "code",
   "execution_count": 37,
   "metadata": {
    "collapsed": false,
    "slideshow": {
     "slide_type": "subslide"
    }
   },
   "outputs": [
    {
     "data": {
      "text/plain": [
       "<AsyncResult: execute>"
      ]
     },
     "execution_count": 37,
     "metadata": {},
     "output_type": "execute_result"
    }
   ],
   "source": [
    "%%px \n",
    "\n",
    "from mpi4py import MPI\n",
    "import time\n",
    "comm = MPI.COMM_WORLD\n",
    "rank = comm.Get_rank()\n",
    "size = comm.Get_size()\n",
    "time.sleep(5)\n",
    "import os\n",
    "a = 1.23 + rank\n",
    "print (\"OK, rank= \",rank,size,os.getpid(),a)"
   ]
  },
  {
   "cell_type": "code",
   "execution_count": 38,
   "metadata": {
    "collapsed": false
   },
   "outputs": [
    {
     "name": "stdout",
     "output_type": "stream",
     "text": [
      "[stdout:0] OK, rank=  3 4 38536 4.23\n",
      "[stdout:1] OK, rank=  0 4 38533 1.23\n",
      "[stdout:2] OK, rank=  1 4 38534 2.23\n",
      "[stdout:3] OK, rank=  2 4 38535 3.23\n"
     ]
    }
   ],
   "source": [
    "%pxresult"
   ]
  },
  {
   "cell_type": "markdown",
   "metadata": {
    "slideshow": {
     "slide_type": "subslide"
    }
   },
   "source": [
    "### Worth trying:\n",
    "    \n",
    "  - `%%px --block`\n",
    "  - `%%px --targets ::2`\n",
    "  - `%autopx`"
   ]
  },
  {
   "cell_type": "code",
   "execution_count": 40,
   "metadata": {
    "collapsed": false,
    "slideshow": {
     "slide_type": "fragment"
    }
   },
   "outputs": [
    {
     "name": "stdout",
     "output_type": "stream",
     "text": [
      "[stdout:0] 4 3\n",
      "[stdout:1] 4 0\n",
      "[stdout:2] 4 1\n",
      "[stdout:3] 4 2\n"
     ]
    }
   ],
   "source": [
    "%%px --block \n",
    "\n",
    "from mpi4py import MPI\n",
    "import numpy as np\n",
    "\n",
    "comm = MPI.COMM_WORLD\n",
    "rank = comm.rank\n",
    "print(comm.size,comm.rank)"
   ]
  },
  {
   "cell_type": "markdown",
   "metadata": {},
   "source": [
    "## Working directory in ipyparallel\n",
    "\n",
    "If one wants to work in specyfic directory, then it is possible to set it using `view.apply_sync` commands:"
   ]
  },
  {
   "cell_type": "code",
   "execution_count": 12,
   "metadata": {
    "collapsed": false
   },
   "outputs": [
    {
     "name": "stdout",
     "output_type": "stream",
     "text": [
      "[0, 1, 2, 3, 4, 5]\n"
     ]
    }
   ],
   "source": [
    "import ipyparallel as ipp\n",
    "c = ipp.Client(profile='mpi')\n",
    "print(c.ids)\n",
    "view = c[:]\n",
    "view.activate()"
   ]
  },
  {
   "cell_type": "code",
   "execution_count": 13,
   "metadata": {
    "collapsed": false
   },
   "outputs": [
    {
     "name": "stdout",
     "output_type": "stream",
     "text": [
      "['/home/users/marcin.kostur', '/home/users/marcin.kostur', '/home/users/marcin.kostur', '/home/users/marcin.kostur', '/home/users/marcin.kostur', '/home/users/marcin.kostur']\n"
     ]
    }
   ],
   "source": [
    "import os\n",
    "\n",
    "print(view.apply_sync(os.getcwd))"
   ]
  },
  {
   "cell_type": "code",
   "execution_count": 14,
   "metadata": {
    "collapsed": false
   },
   "outputs": [
    {
     "data": {
      "text/plain": [
       "<AsyncMapResult: chdir>"
      ]
     },
     "execution_count": 14,
     "metadata": {},
     "output_type": "execute_result"
    }
   ],
   "source": [
    "view.map(os.chdir, ['ProgramowanieRownolegle/MPI']*len(c.ids))"
   ]
  },
  {
   "cell_type": "code",
   "execution_count": 15,
   "metadata": {
    "collapsed": false
   },
   "outputs": [
    {
     "name": "stdout",
     "output_type": "stream",
     "text": [
      "['/home/users/marcin.kostur/ProgramowanieRownolegle/MPI', '/home/users/marcin.kostur/ProgramowanieRownolegle/MPI', '/home/users/marcin.kostur/ProgramowanieRownolegle/MPI', '/home/users/marcin.kostur/ProgramowanieRownolegle/MPI', '/home/users/marcin.kostur/ProgramowanieRownolegle/MPI', '/home/users/marcin.kostur/ProgramowanieRownolegle/MPI']\n"
     ]
    }
   ],
   "source": [
    "print(view.apply_sync(os.getcwd))"
   ]
  },
  {
   "cell_type": "code",
   "execution_count": null,
   "metadata": {
    "collapsed": true
   },
   "outputs": [],
   "source": []
  }
 ],
 "metadata": {
  "celltoolbar": "Slideshow",
  "kernelspec": {
   "display_name": "Python 3",
   "language": "python",
   "name": "python3"
  },
  "language_info": {
   "codemirror_mode": {
    "name": "ipython",
    "version": 3
   },
   "file_extension": ".py",
   "mimetype": "text/x-python",
   "name": "python",
   "nbconvert_exporter": "python",
   "pygments_lexer": "ipython3",
   "version": "3.5.2"
  }
 },
 "nbformat": 4,
 "nbformat_minor": 1
}
