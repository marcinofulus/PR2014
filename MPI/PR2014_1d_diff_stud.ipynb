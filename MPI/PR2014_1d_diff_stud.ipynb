{
 "cells": [
  {
   "cell_type": "code",
   "execution_count": 1,
   "metadata": {
    "collapsed": false
   },
   "outputs": [],
   "source": [
    "%matplotlib inline\n",
    "import matplotlib.pyplot as plt\n",
    "import numpy as np"
   ]
  },
  {
   "cell_type": "code",
   "execution_count": 3,
   "metadata": {
    "collapsed": false
   },
   "outputs": [
    {
     "name": "stdout",
     "output_type": "stream",
     "text": [
      "[0, 1]\n"
     ]
    }
   ],
   "source": [
    "import ipyparallel as ipp\n",
    "c = ipp.Client(profile='mpi')\n",
    "print(c.ids)\n",
    "view = c[:]\n",
    "view.activate()\n"
   ]
  },
  {
   "cell_type": "code",
   "execution_count": 20,
   "metadata": {
    "collapsed": false
   },
   "outputs": [],
   "source": [
    "%%px --block\n",
    "from mpi4py import MPI \n",
    "import numpy as np\n",
    "\n",
    "#number of procesess:\n",
    "\n",
    "comm = MPI.COMM_WORLD\n",
    "No_processes = comm.Get_size()\n",
    "process_rank=comm.Get_rank()\n",
    "\n",
    "#constants\n",
    "\n",
    "N = 128\n",
    "dt=0.00001\n",
    "Niter=110\n",
    "D=1\n",
    "h=1./(N-1)\n",
    "C=D*dt/h**2\n",
    "a=0\n",
    "b=0\n",
    "\n",
    "x = np.linspace(0,1.,N)\n",
    "#area:\n",
    "\n",
    "if process_rank==0:    \n",
    "\n",
    "    U=np.zeros(N)\n",
    "    U[N//2]=1./h\n",
    "\n",
    "else: \n",
    "    U=np.empty(N)\n",
    "\n",
    "#subareas:\n",
    "    \n",
    "U_local = np.empty((N//No_processes)+2)\n",
    "comm.Scatter(U, U_local[1:-1])\n",
    "\n",
    "\n",
    "#computation\n",
    "\n",
    "if process_rank==0:\n",
    "\n",
    "    U_local[0]=a\n",
    "\n",
    "elif process_rank==1:\n",
    "\n",
    "    U_local[-1]=b    \n",
    "\n",
    "\n",
    "for i in range(Niter):\n",
    "\n",
    "    if process_rank==0:\n",
    "        data0=U_local[-2]\n",
    "        comm.send(data0, dest=1)\n",
    "        U_local[-1]=comm.recv(source=1)\n",
    "        \n",
    "    elif process_rank==1:\n",
    "        U_local[0]=comm.recv(source=0)\n",
    "        data1=U_local[1]\n",
    "        comm.send(data1, dest=0)\n",
    "        \n",
    "        \n",
    "    U_local[1:-1]=U_local[1:-1]+C*(U_local[2:]+U_local[:-2]-2*U_local[1:-1])\n",
    "\n",
    "if process_rank==0:\n",
    "    U_local=U_local[1:-1]\n",
    "\n",
    "elif process_rank==1:\n",
    "    U_local=U_local[1:-1]\n",
    "\n",
    "comm.Gather(U_local, U)\n",
    "\n",
    "if process_rank==0:\n",
    "    np.savez(\"Uout\",U=U,x=x)\n",
    "\n"
   ]
  },
  {
   "cell_type": "code",
   "execution_count": 21,
   "metadata": {
    "collapsed": false
   },
   "outputs": [
    {
     "data": {
      "text/plain": [
       "[(64,), (64,)]"
      ]
     },
     "execution_count": 21,
     "metadata": {},
     "output_type": "execute_result"
    }
   ],
   "source": [
    "[u.shape for u in view['U_local']]"
   ]
  },
  {
   "cell_type": "code",
   "execution_count": 22,
   "metadata": {
    "collapsed": false
   },
   "outputs": [
    {
     "data": {
      "text/plain": [
       "'/home/users/marcin.kostur'"
      ]
     },
     "execution_count": 22,
     "metadata": {},
     "output_type": "execute_result"
    }
   ],
   "source": [
    "import os\n",
    "os.environ['HOME']"
   ]
  },
  {
   "cell_type": "code",
   "execution_count": 23,
   "metadata": {
    "collapsed": false
   },
   "outputs": [],
   "source": [
    "data = np.load(os.environ['HOME']+'/Uout.npz')"
   ]
  },
  {
   "cell_type": "code",
   "execution_count": 24,
   "metadata": {
    "collapsed": false
   },
   "outputs": [
    {
     "data": {
      "text/plain": [
       "['x', 'U']"
      ]
     },
     "execution_count": 24,
     "metadata": {},
     "output_type": "execute_result"
    }
   ],
   "source": [
    "data.files"
   ]
  },
  {
   "cell_type": "code",
   "execution_count": 25,
   "metadata": {
    "collapsed": false
   },
   "outputs": [],
   "source": [
    "U = data['U']\n",
    "x = data['x']"
   ]
  },
  {
   "cell_type": "code",
   "execution_count": 26,
   "metadata": {
    "collapsed": false
   },
   "outputs": [
    {
     "data": {
      "text/plain": [
       "(128,)"
      ]
     },
     "execution_count": 26,
     "metadata": {},
     "output_type": "execute_result"
    }
   ],
   "source": [
    "U.shape"
   ]
  },
  {
   "cell_type": "code",
   "execution_count": 27,
   "metadata": {
    "collapsed": false
   },
   "outputs": [
    {
     "data": {
      "text/plain": [
       "[<matplotlib.lines.Line2D at 0x7ff47c1e7ba8>]"
      ]
     },
     "execution_count": 27,
     "metadata": {},
     "output_type": "execute_result"
    },
    {
     "data": {
      "image/png": "[encoded data removed]",
      "text/plain": [
       "<matplotlib.figure.Figure at 0x7ff47c261f98>"
      ]
     },
     "metadata": {},
     "output_type": "display_data"
    }
   ],
   "source": [
    "plt.plot(x,U)"
   ]
  },
  {
   "cell_type": "code",
   "execution_count": null,
   "metadata": {
    "collapsed": false
   },
   "outputs": [],
   "source": []
  },
  {
   "cell_type": "code",
   "execution_count": null,
   "metadata": {
    "collapsed": true
   },
   "outputs": [],
   "source": []
  }
 ],
 "metadata": {
  "kernelspec": {
   "display_name": "Python 3",
   "language": "python",
   "name": "python3"
  },
  "language_info": {
   "codemirror_mode": {
    "name": "ipython",
    "version": 3
   },
   "file_extension": ".py",
   "mimetype": "text/x-python",
   "name": "python",
   "nbconvert_exporter": "python",
   "pygments_lexer": "ipython3",
   "version": "3.5.2"
  }
 },
 "nbformat": 4,
 "nbformat_minor": 0
}
