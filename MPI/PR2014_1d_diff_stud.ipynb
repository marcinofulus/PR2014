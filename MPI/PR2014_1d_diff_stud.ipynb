{
 "metadata": {
  "name": "",
  "signature": "sha256:9a467e78f8546dab10700a9cf0dd44c3c78c31ec1d36497e3fe0e807b6227641"
 },
 "nbformat": 3,
 "nbformat_minor": 0,
 "worksheets": [
  {
   "cells": [
    {
     "cell_type": "code",
     "collapsed": false,
     "input": [],
     "language": "python",
     "metadata": {},
     "outputs": []
    },
    {
     "cell_type": "code",
     "collapsed": false,
     "input": [
      "import os\n",
      "import tempfile\n",
      "wd = tempfile.mkdtemp()\n",
      "os.chdir(wd)\n",
      "os.getcwd()\n"
     ],
     "language": "python",
     "metadata": {},
     "outputs": [
      {
       "metadata": {},
       "output_type": "pyout",
       "prompt_number": 3,
       "text": [
        "'/tmp/tmp9trUOY'"
       ]
      }
     ],
     "prompt_number": 3
    },
    {
     "cell_type": "code",
     "collapsed": false,
     "input": [
      "!ls -lrta"
     ],
     "language": "python",
     "metadata": {},
     "outputs": [
      {
       "output_type": "stream",
       "stream": "stdout",
       "text": [
        "total 68\r\n",
        "drwxrwxrwt 274 root   root   61440 maj  3 08:44 ..\r\n",
        "drwx------   2 marcin marcin  4096 maj  3 08:44 .\r\n"
       ]
      }
     ],
     "prompt_number": 4
    },
    {
     "cell_type": "code",
     "collapsed": false,
     "input": [
      "%%writefile $wd/mpi002.py\n",
      "\n",
      "from mpi4py import MPI \n",
      "import numpy as np\n",
      "\n",
      "#number of procesess:\n",
      "\n",
      "comm = MPI.COMM_WORLD\n",
      "No_processes = comm.Get_size()\n",
      "process_rank=comm.Get_rank()\n",
      "\n",
      "#constants\n",
      "\n",
      "N=100\n",
      "dt=0.00001\n",
      "Niter=1110\n",
      "D=1\n",
      "h=1./(N-1)\n",
      "C=D*dt/h**2\n",
      "a=0\n",
      "b=0\n",
      "\n",
      "x = np.linspace(0,1.,N)\n",
      "#area:\n",
      "\n",
      "if process_rank==0:    \n",
      "\n",
      "    U=np.zeros(N)\n",
      "    U[N//2]=1./h\n",
      "\n",
      "else: U=np.empty(N)\n",
      "\n",
      "#subareas:\n",
      "    \n",
      "U_local=np.empty((N/No_processes)+2)\n",
      "comm.Scatter(U, U_local[1:-1])\n",
      "\n",
      "\n",
      "#computation\n",
      "\n",
      "if process_rank==0:\n",
      "\n",
      "    U_local[0]=a\n",
      "\n",
      "elif process_rank==1:\n",
      "\n",
      "    U_local[-1]=b    \n",
      "\n",
      "\n",
      "for i in xrange(Niter):\n",
      "\n",
      "    if process_rank==0:\n",
      "        data0=U_local[-2]\n",
      "        comm.send(data0, dest=1)\n",
      "        U_local[-1]=comm.recv(source=1)\n",
      "        \n",
      "    elif process_rank==1:\n",
      "        U_local[0]=comm.recv(source=0)\n",
      "        data1=U_local[1]\n",
      "        comm.send(data1, dest=0)\n",
      "        \n",
      "        \n",
      "    U_local[1:-1]=U_local[1:-1]+C*(U_local[2:]+U_local[:-2]-2*U_local[1:-1])\n",
      "\n",
      "if process_rank==0:\n",
      "    U_local=U_local[1:-1]\n",
      "\n",
      "elif process_rank==1:\n",
      "    U_local=U_local[1:-1]\n",
      "\n",
      "comm.Gather(U_local, U)\n",
      "\n",
      "if process_rank==0:\n",
      "    np.savez(\"Uout\",U=U,x=x)\n",
      "\n"
     ],
     "language": "python",
     "metadata": {},
     "outputs": [
      {
       "output_type": "stream",
       "stream": "stdout",
       "text": [
        "Writing /tmp/tmp9trUOY/mpi002.py\n"
       ]
      }
     ],
     "prompt_number": 5
    },
    {
     "cell_type": "code",
     "collapsed": false,
     "input": [
      "!mpirun -n 2 python mpi002.py"
     ],
     "language": "python",
     "metadata": {},
     "outputs": [],
     "prompt_number": 8
    },
    {
     "cell_type": "code",
     "collapsed": false,
     "input": [
      "data = np.load('Uout.npz')"
     ],
     "language": "python",
     "metadata": {},
     "outputs": [],
     "prompt_number": 9
    },
    {
     "cell_type": "code",
     "collapsed": false,
     "input": [
      "data.files"
     ],
     "language": "python",
     "metadata": {},
     "outputs": [
      {
       "metadata": {},
       "output_type": "pyout",
       "prompt_number": 10,
       "text": [
        "['x', 'U']"
       ]
      }
     ],
     "prompt_number": 10
    },
    {
     "cell_type": "code",
     "collapsed": false,
     "input": [
      "U = data['U']\n",
      "x = data['x']"
     ],
     "language": "python",
     "metadata": {},
     "outputs": [],
     "prompt_number": 11
    },
    {
     "cell_type": "code",
     "collapsed": false,
     "input": [
      "U.shape"
     ],
     "language": "python",
     "metadata": {},
     "outputs": [
      {
       "metadata": {},
       "output_type": "pyout",
       "prompt_number": 12,
       "text": [
        "(100,)"
       ]
      }
     ],
     "prompt_number": 12
    },
    {
     "cell_type": "code",
     "collapsed": false,
     "input": [
      "\n",
      "plot(x,U)"
     ],
     "language": "python",
     "metadata": {},
     "outputs": [
      {
       "metadata": {},
       "output_type": "pyout",
       "prompt_number": 13,
       "text": [
        "[<matplotlib.lines.Line2D at 0x7fc486a928d0>]"
       ]
      },
      {
       "metadata": {},
       "output_type": "display_data",
       "png": "[encoded data removed]",
       "text": [
        "<matplotlib.figure.Figure at 0x7fc48c121250>"
       ]
      }
     ],
     "prompt_number": 13
    },
    {
     "cell_type": "code",
     "collapsed": false,
     "input": [],
     "language": "python",
     "metadata": {},
     "outputs": []
    }
   ],
   "metadata": {}
  }
 ]
}