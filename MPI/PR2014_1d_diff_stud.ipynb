{
 "cells": [
  {
   "cell_type": "code",
   "execution_count": 1,
   "metadata": {
    "collapsed": false
   },
   "outputs": [],
   "source": [
    "%matplotlib inline\n",
    "import matplotlib.pyplot as plt\n",
    "import numpy as np"
   ]
  },
  {
   "cell_type": "code",
   "execution_count": 2,
   "metadata": {
    "collapsed": false
   },
   "outputs": [
    {
     "data": {
      "text/plain": [
       "'/tmp/tmp8rRqv6'"
      ]
     },
     "execution_count": 2,
     "metadata": {},
     "output_type": "execute_result"
    }
   ],
   "source": [
    "import os\n",
    "import tempfile\n",
    "wd = tempfile.mkdtemp()\n",
    "os.chdir(wd)\n",
    "os.getcwd()\n"
   ]
  },
  {
   "cell_type": "code",
   "execution_count": 3,
   "metadata": {
    "collapsed": false
   },
   "outputs": [
    {
     "name": "stdout",
     "output_type": "stream",
     "text": [
      "total 8\r\n",
      "drwxrwxrwt 15 root   root   4096 Aug 26 09:10 ..\r\n",
      "drwx------  2 marcin biosim 4096 Aug 26 09:10 .\r\n"
     ]
    }
   ],
   "source": [
    "!ls -lrta"
   ]
  },
  {
   "cell_type": "code",
   "execution_count": 4,
   "metadata": {
    "collapsed": false
   },
   "outputs": [
    {
     "name": "stdout",
     "output_type": "stream",
     "text": [
      "Writing /tmp/tmp8rRqv6/mpi002.py\n"
     ]
    }
   ],
   "source": [
    "%%writefile $wd/mpi002.py\n",
    "\n",
    "from mpi4py import MPI \n",
    "import numpy as np\n",
    "\n",
    "#number of procesess:\n",
    "\n",
    "comm = MPI.COMM_WORLD\n",
    "No_processes = comm.Get_size()\n",
    "process_rank=comm.Get_rank()\n",
    "\n",
    "#constants\n",
    "\n",
    "N=100\n",
    "dt=0.00001\n",
    "Niter=1110\n",
    "D=1\n",
    "h=1./(N-1)\n",
    "C=D*dt/h**2\n",
    "a=0\n",
    "b=0\n",
    "\n",
    "x = np.linspace(0,1.,N)\n",
    "#area:\n",
    "\n",
    "if process_rank==0:    \n",
    "\n",
    "    U=np.zeros(N)\n",
    "    U[N//2]=1./h\n",
    "\n",
    "else: U=np.empty(N)\n",
    "\n",
    "#subareas:\n",
    "    \n",
    "U_local=np.empty((N/No_processes)+2)\n",
    "comm.Scatter(U, U_local[1:-1])\n",
    "\n",
    "\n",
    "#computation\n",
    "\n",
    "if process_rank==0:\n",
    "\n",
    "    U_local[0]=a\n",
    "\n",
    "elif process_rank==1:\n",
    "\n",
    "    U_local[-1]=b    \n",
    "\n",
    "\n",
    "for i in xrange(Niter):\n",
    "\n",
    "    if process_rank==0:\n",
    "        data0=U_local[-2]\n",
    "        comm.send(data0, dest=1)\n",
    "        U_local[-1]=comm.recv(source=1)\n",
    "        \n",
    "    elif process_rank==1:\n",
    "        U_local[0]=comm.recv(source=0)\n",
    "        data1=U_local[1]\n",
    "        comm.send(data1, dest=0)\n",
    "        \n",
    "        \n",
    "    U_local[1:-1]=U_local[1:-1]+C*(U_local[2:]+U_local[:-2]-2*U_local[1:-1])\n",
    "\n",
    "if process_rank==0:\n",
    "    U_local=U_local[1:-1]\n",
    "\n",
    "elif process_rank==1:\n",
    "    U_local=U_local[1:-1]\n",
    "\n",
    "comm.Gather(U_local, U)\n",
    "\n",
    "if process_rank==0:\n",
    "    np.savez(\"Uout\",U=U,x=x)\n",
    "\n"
   ]
  },
  {
   "cell_type": "code",
   "execution_count": 5,
   "metadata": {
    "collapsed": false
   },
   "outputs": [],
   "source": [
    "!mpirun -n 2 python mpi002.py"
   ]
  },
  {
   "cell_type": "code",
   "execution_count": 6,
   "metadata": {
    "collapsed": false
   },
   "outputs": [],
   "source": [
    "data = np.load('Uout.npz')"
   ]
  },
  {
   "cell_type": "code",
   "execution_count": 7,
   "metadata": {
    "collapsed": false
   },
   "outputs": [
    {
     "data": {
      "text/plain": [
       "['x', 'U']"
      ]
     },
     "execution_count": 7,
     "metadata": {},
     "output_type": "execute_result"
    }
   ],
   "source": [
    "data.files"
   ]
  },
  {
   "cell_type": "code",
   "execution_count": 8,
   "metadata": {
    "collapsed": false
   },
   "outputs": [],
   "source": [
    "U = data['U']\n",
    "x = data['x']"
   ]
  },
  {
   "cell_type": "code",
   "execution_count": 9,
   "metadata": {
    "collapsed": false
   },
   "outputs": [
    {
     "data": {
      "text/plain": [
       "(100,)"
      ]
     },
     "execution_count": 9,
     "metadata": {},
     "output_type": "execute_result"
    }
   ],
   "source": [
    "U.shape"
   ]
  },
  {
   "cell_type": "code",
   "execution_count": 10,
   "metadata": {
    "collapsed": false
   },
   "outputs": [
    {
     "data": {
      "text/plain": [
       "[<matplotlib.lines.Line2D at 0x7f87cdf668d0>]"
      ]
     },
     "execution_count": 10,
     "metadata": {},
     "output_type": "execute_result"
    },
    {
     "data": {
      "image/png": "[encoded data removed]",
      "text/plain": [
       "<matplotlib.figure.Figure at 0x7f87a22c8810>"
      ]
     },
     "metadata": {},
     "output_type": "display_data"
    }
   ],
   "source": [
    "plt.plot(x,U)"
   ]
  },
  {
   "cell_type": "code",
   "execution_count": null,
   "metadata": {
    "collapsed": false
   },
   "outputs": [],
   "source": []
  }
 ],
 "metadata": {
  "kernelspec": {
   "display_name": "Python 2",
   "language": "python",
   "name": "python2"
  },
  "language_info": {
   "codemirror_mode": {
    "name": "ipython",
    "version": 2
   },
   "file_extension": ".py",
   "mimetype": "text/x-python",
   "name": "python",
   "nbconvert_exporter": "python",
   "pygments_lexer": "ipython2",
   "version": "2.7.6"
  }
 },
 "nbformat": 4,
 "nbformat_minor": 0
}
