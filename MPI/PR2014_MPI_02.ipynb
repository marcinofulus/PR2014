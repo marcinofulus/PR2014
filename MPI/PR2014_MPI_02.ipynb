{
 "cells": [
  {
   "cell_type": "code",
   "execution_count": 12,
   "metadata": {
    "collapsed": false
   },
   "outputs": [
    {
     "name": "stdout",
     "output_type": "stream",
     "text": [
      "/home/users/marcin.kostur\n",
      "WD is now: /home/users/marcin.kostur/mpi_tmpdir\n"
     ]
    }
   ],
   "source": [
    "%matplotlib inline\n",
    "import matplotlib.pyplot as plt\n",
    "import numpy as np\n",
    "import os\n",
    "print os.getenv(\"HOME\")\n",
    "wd = os.path.join( os.getenv(\"HOME\"),\"mpi_tmpdir\")\n",
    "if not os.path.isdir(wd):\n",
    "    os.mkdir(wd)\n",
    "os.chdir(wd)\n",
    "print \"WD is now:\",os.getcwd()"
   ]
  },
  {
   "cell_type": "markdown",
   "metadata": {},
   "source": [
    "## Gather - przykład"
   ]
  },
  {
   "cell_type": "code",
   "execution_count": 13,
   "metadata": {
    "collapsed": false
   },
   "outputs": [
    {
     "name": "stdout",
     "output_type": "stream",
     "text": [
      "Overwriting mpi001.py\n"
     ]
    }
   ],
   "source": [
    "%%writefile mpi001.py\n",
    "\n",
    "from mpi4py import MPI\n",
    "import numpy as np\n",
    "\n",
    "comm = MPI.COMM_WORLD\n",
    "rank = comm.rank\n",
    "\n",
    "N_local = 5\n",
    "N = N_local*comm.size\n",
    "\n",
    "if rank == 0:\n",
    "    A = np.arange(N, dtype=np.float64)\n",
    "else:\n",
    "    A = None\n",
    "A_local = np.empty(N_local)\n",
    "\n",
    "comm.Scatter( A, A_local )\n",
    "A_local = A_local+100.0\n",
    "comm.Gather( A_local, A)\n",
    "\n",
    "if rank==0:\n",
    "    print A"
   ]
  },
  {
   "cell_type": "code",
   "execution_count": 14,
   "metadata": {
    "collapsed": false
   },
   "outputs": [
    {
     "name": "stdout",
     "output_type": "stream",
     "text": [
      "[ 100.  101.  102.  103.  104.  105.  106.  107.  108.  109.]\r\n"
     ]
    }
   ],
   "source": [
    "!mpirun -n 2 python mpi001.py"
   ]
  },
  {
   "cell_type": "markdown",
   "metadata": {},
   "source": [
    "## Reduce - przykład"
   ]
  },
  {
   "cell_type": "code",
   "execution_count": 15,
   "metadata": {
    "collapsed": false
   },
   "outputs": [
    {
     "name": "stdout",
     "output_type": "stream",
     "text": [
      "Overwriting mpi001.py\n"
     ]
    }
   ],
   "source": [
    "%%writefile mpi001.py\n",
    "\n",
    "from mpi4py import MPI\n",
    "import numpy as np\n",
    "\n",
    "comm = MPI.COMM_WORLD\n",
    "rank = comm.rank\n",
    "\n",
    "A = np.random.rand(1)\n",
    "suma = np.zeros(1)\n",
    "comm.Reduce(A,suma, op = MPI.SUM)\n",
    "if rank==0:\n",
    "    print suma\n"
   ]
  },
  {
   "cell_type": "code",
   "execution_count": 16,
   "metadata": {
    "collapsed": false
   },
   "outputs": [
    {
     "name": "stdout",
     "output_type": "stream",
     "text": [
      "[ 1.12547088]\r\n"
     ]
    }
   ],
   "source": [
    "!mpirun -n 2 python mpi001.py"
   ]
  },
  {
   "cell_type": "code",
   "execution_count": null,
   "metadata": {
    "collapsed": false
   },
   "outputs": [],
   "source": []
  },
  {
   "cell_type": "code",
   "execution_count": null,
   "metadata": {
    "collapsed": false
   },
   "outputs": [],
   "source": []
  },
  {
   "cell_type": "code",
   "execution_count": null,
   "metadata": {
    "collapsed": false
   },
   "outputs": [],
   "source": []
  },
  {
   "cell_type": "code",
   "execution_count": 17,
   "metadata": {
    "collapsed": false
   },
   "outputs": [
    {
     "name": "stdout",
     "output_type": "stream",
     "text": [
      "Overwriting mpi001.py\n"
     ]
    }
   ],
   "source": [
    "%%writefile mpi001.py\n",
    "import numpy\n",
    "from mpi4py import MPI\n",
    "comm = MPI.COMM_WORLD\n",
    "\n",
    "rank = comm.Get_rank()\n",
    "rankF = numpy.array(float(rank))\n",
    "total = numpy.zeros(1)\n",
    "comm.Reduce(rankF,total, op=MPI.SUM)\n",
    "if rank==0:\n",
    "    print total"
   ]
  },
  {
   "cell_type": "code",
   "execution_count": 18,
   "metadata": {
    "collapsed": false
   },
   "outputs": [
    {
     "name": "stdout",
     "output_type": "stream",
     "text": [
      "[ 1.]\r\n"
     ]
    }
   ],
   "source": [
    "!mpirun -n 2 python mpi001.py"
   ]
  },
  {
   "cell_type": "code",
   "execution_count": 19,
   "metadata": {
    "collapsed": false
   },
   "outputs": [
    {
     "data": {
      "text/plain": [
       "2.8284271247461903"
      ]
     },
     "execution_count": 19,
     "metadata": {},
     "output_type": "execute_result"
    }
   ],
   "source": [
    "import numpy as np \n",
    "x = np.array([2,4])\n",
    "y = np.array([4,2])\n",
    "np.linalg.norm(x-y)"
   ]
  },
  {
   "cell_type": "code",
   "execution_count": null,
   "metadata": {
    "collapsed": false
   },
   "outputs": [],
   "source": []
  }
 ],
 "metadata": {
  "kernelspec": {
   "display_name": "GPU2, Python 2",
   "language": "python2",
   "name": "gpu2"
  },
  "language_info": {
   "codemirror_mode": {
    "name": "ipython",
    "version": 2
   },
   "file_extension": ".py",
   "mimetype": "text/x-python",
   "name": "python",
   "nbconvert_exporter": "python",
   "pygments_lexer": "ipython2",
   "version": "2.7.6"
  }
 },
 "nbformat": 4,
 "nbformat_minor": 0
}
