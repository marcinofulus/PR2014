{
 "metadata": {
  "name": "",
  "signature": "sha256:21c4cff053a54d58dc8a0d363c74874054e7a79266dda54e2635b0f03900757d"
 },
 "nbformat": 3,
 "nbformat_minor": 0,
 "worksheets": [
  {
   "cells": [
    {
     "cell_type": "markdown",
     "metadata": {},
     "source": [
      "## Gather - przyk\u0142ad"
     ]
    },
    {
     "cell_type": "code",
     "collapsed": false,
     "input": [],
     "language": "python",
     "metadata": {},
     "outputs": [],
     "prompt_number": 1
    },
    {
     "cell_type": "code",
     "collapsed": false,
     "input": [
      "%%writefile mpi001.py\n",
      "\n",
      "from mpi4py import MPI\n",
      "import numpy as np\n",
      "\n",
      "comm = MPI.COMM_WORLD\n",
      "rank = comm.rank\n",
      "\n",
      "N_local = 5\n",
      "N = N_local*comm.size\n",
      "\n",
      "if rank == 0:\n",
      "    A = np.arange(N, dtype=np.float64)\n",
      "else:\n",
      "    A = None\n",
      "A_local = np.empty(N_local)\n",
      "\n",
      "comm.Scatter( A, A_local )\n",
      "A_local = A_local+100.0\n",
      "comm.Gather( A_local, A)\n",
      "\n",
      "if rank==0:\n",
      "    print A"
     ],
     "language": "python",
     "metadata": {},
     "outputs": [
      {
       "output_type": "stream",
       "stream": "stdout",
       "text": [
        "Overwriting mpi001.py\n"
       ]
      }
     ],
     "prompt_number": 4
    },
    {
     "cell_type": "code",
     "collapsed": false,
     "input": [
      "!mpirun -n 2 python mpi001.py"
     ],
     "language": "python",
     "metadata": {},
     "outputs": [
      {
       "output_type": "stream",
       "stream": "stdout",
       "text": [
        "[ 100.  101.  102.  103.  104.  105.  106.  107.  108.  109.]\r\n"
       ]
      }
     ],
     "prompt_number": 5
    },
    {
     "cell_type": "markdown",
     "metadata": {},
     "source": [
      "## Reduce - przyk\u0142ad"
     ]
    },
    {
     "cell_type": "code",
     "collapsed": false,
     "input": [
      "%%writefile mpi001.py\n",
      "\n",
      "from mpi4py import MPI\n",
      "import numpy as np\n",
      "\n",
      "comm = MPI.COMM_WORLD\n",
      "rank = comm.rank\n",
      "\n",
      "A = np.random.rand(1)\n",
      "suma = np.zeros(1)\n",
      "comm.Reduce(A,suma, op = MPI.SUM)\n",
      "if rank==0:\n",
      "    print suma\n"
     ],
     "language": "python",
     "metadata": {},
     "outputs": [
      {
       "output_type": "stream",
       "stream": "stdout",
       "text": [
        "Overwriting mpi001.py\n"
       ]
      }
     ],
     "prompt_number": 128
    },
    {
     "cell_type": "code",
     "collapsed": false,
     "input": [
      "!mpirun -n 2 python mpi001.py"
     ],
     "language": "python",
     "metadata": {},
     "outputs": [
      {
       "output_type": "stream",
       "stream": "stdout",
       "text": [
        "Traceback (most recent call last):\r\n",
        "  File \"mpi001.py\", line 12, in <module>\r\n",
        "    print B\r\n",
        "NameError: name 'B' is not defined\r\n"
       ]
      }
     ],
     "prompt_number": 127
    },
    {
     "cell_type": "code",
     "collapsed": false,
     "input": [
      "np.random.rand(1)"
     ],
     "language": "python",
     "metadata": {},
     "outputs": [
      {
       "metadata": {},
       "output_type": "pyout",
       "prompt_number": 117,
       "text": [
        "array([ 0.29181427])"
       ]
      }
     ],
     "prompt_number": 117
    },
    {
     "cell_type": "code",
     "collapsed": false,
     "input": [],
     "language": "python",
     "metadata": {},
     "outputs": [],
     "prompt_number": 107
    },
    {
     "cell_type": "code",
     "collapsed": false,
     "input": [],
     "language": "python",
     "metadata": {},
     "outputs": [],
     "prompt_number": 107
    },
    {
     "cell_type": "code",
     "collapsed": false,
     "input": [
      "%%writefile mpi001.py\n",
      "import numpy\n",
      "from mpi4py import MPI\n",
      "comm = MPI.COMM_WORLD\n",
      "\n",
      "rank = comm.Get_rank()\n",
      "rankF = numpy.array(float(rank))\n",
      "total = numpy.zeros(1)\n",
      "comm.Reduce(rankF,total, op=MPI.SUM)\n",
      "if rank==0:\n",
      "    print total"
     ],
     "language": "python",
     "metadata": {},
     "outputs": [
      {
       "output_type": "stream",
       "stream": "stdout",
       "text": [
        "Overwriting mpi001.py\n"
       ]
      }
     ],
     "prompt_number": 114
    },
    {
     "cell_type": "code",
     "collapsed": false,
     "input": [
      "!mpirun -n 2 python mpi001.py"
     ],
     "language": "python",
     "metadata": {},
     "outputs": [
      {
       "output_type": "stream",
       "stream": "stdout",
       "text": [
        "[ 1.]\r\n"
       ]
      }
     ],
     "prompt_number": 115
    },
    {
     "cell_type": "code",
     "collapsed": false,
     "input": [
      "x = np.array([2,4])\n",
      "y = np.array([4,2])\n",
      "np.linalg.norm(x-y)"
     ],
     "language": "python",
     "metadata": {},
     "outputs": [
      {
       "metadata": {},
       "output_type": "pyout",
       "prompt_number": 130,
       "text": [
        "2.8284271247461903"
       ]
      }
     ],
     "prompt_number": 130
    },
    {
     "cell_type": "code",
     "collapsed": false,
     "input": [],
     "language": "python",
     "metadata": {},
     "outputs": []
    }
   ],
   "metadata": {}
  }
 ]
}