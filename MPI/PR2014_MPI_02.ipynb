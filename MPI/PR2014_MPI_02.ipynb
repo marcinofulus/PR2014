{
 "metadata": {
  "name": "",
  "signature": "sha256:7fc0b817f41f6f6e1a15a120321773f36c2228a44dfdabfac409a3f0a6f5d76d"
 },
 "nbformat": 3,
 "nbformat_minor": 0,
 "worksheets": [
  {
   "cells": [
    {
     "cell_type": "markdown",
     "metadata": {},
     "source": [
      "## Gather - przyk\u0142ad"
     ]
    },
    {
     "cell_type": "code",
     "collapsed": false,
     "input": [
      "!nvidia-smi"
     ],
     "language": "python",
     "metadata": {},
     "outputs": [
      {
       "output_type": "stream",
       "stream": "stdout",
       "text": [
        "Mon Jul 21 16:17:12 2014       \r\n",
        "+------------------------------------------------------+                       \r\n",
        "| NVIDIA-SMI 331.38     Driver Version: 331.38         |                       \r\n",
        "|-------------------------------+----------------------+----------------------+\r\n",
        "| GPU  Name        Persistence-M| Bus-Id        Disp.A | Volatile Uncorr. ECC |\r\n",
        "| Fan  Temp  Perf  Pwr:Usage/Cap|         Memory-Usage | GPU-Util  Compute M. |\r\n",
        "|===============================+======================+======================|\r\n",
        "|   0  GeForce GTX 680     Off  | 0000:02:00.0     N/A |                  N/A |\r\n",
        "| 40%   55C  N/A     N/A /  N/A |    674MiB /  4095MiB |     N/A      Default |\r\n",
        "+-------------------------------+----------------------+----------------------+\r\n",
        "                                                                               \r\n",
        "+-----------------------------------------------------------------------------+\r\n",
        "| Compute processes:                                               GPU Memory |\r\n",
        "|  GPU       PID  Process name                                     Usage      |\r\n",
        "|=============================================================================|\r\n",
        "|    0            Not Supported                                               |\r\n",
        "+-----------------------------------------------------------------------------+\r\n"
       ]
      }
     ],
     "prompt_number": 1
    },
    {
     "cell_type": "code",
     "collapsed": false,
     "input": [
      "%%writefile mpi001.py\n",
      "\n",
      "from mpi4py import MPI\n",
      "import numpy as np\n",
      "\n",
      "comm = MPI.COMM_WORLD\n",
      "rank = comm.rank\n",
      "\n",
      "N_local = 5\n",
      "N = N_local*comm.size\n",
      "\n",
      "if rank == 0:\n",
      "    A = np.arange(N, dtype=np.float64)\n",
      "else:\n",
      "    A = None\n",
      "A_local = np.empty(N_local)\n",
      "\n",
      "comm.Scatter( A, A_local )\n",
      "A_local = A_local+100.0\n",
      "comm.Gather( A_local, A)\n",
      "\n",
      "if rank==0:\n",
      "    print A"
     ],
     "language": "python",
     "metadata": {},
     "outputs": [
      {
       "output_type": "stream",
       "stream": "stdout",
       "text": [
        "Overwriting mpi001.py\n"
       ]
      }
     ],
     "prompt_number": 4
    },
    {
     "cell_type": "code",
     "collapsed": false,
     "input": [
      "!mpirun -n 2 python mpi001.py"
     ],
     "language": "python",
     "metadata": {},
     "outputs": [
      {
       "output_type": "stream",
       "stream": "stdout",
       "text": [
        "[ 100.  101.  102.  103.  104.  105.  106.  107.  108.  109.]\r\n"
       ]
      }
     ],
     "prompt_number": 5
    },
    {
     "cell_type": "markdown",
     "metadata": {},
     "source": [
      "## Reduce - przyk\u0142ad"
     ]
    },
    {
     "cell_type": "code",
     "collapsed": false,
     "input": [
      "%%writefile mpi001.py\n",
      "\n",
      "from mpi4py import MPI\n",
      "import numpy as np\n",
      "\n",
      "comm = MPI.COMM_WORLD\n",
      "rank = comm.rank\n",
      "\n",
      "A = np.random.rand(1)\n",
      "suma = np.zeros(1)\n",
      "comm.Reduce(A,suma, op = MPI.SUM)\n",
      "if rank==0:\n",
      "    print suma\n"
     ],
     "language": "python",
     "metadata": {},
     "outputs": [
      {
       "output_type": "stream",
       "stream": "stdout",
       "text": [
        "Overwriting mpi001.py\n"
       ]
      }
     ],
     "prompt_number": 128
    },
    {
     "cell_type": "code",
     "collapsed": false,
     "input": [
      "!mpirun -n 2 python mpi001.py"
     ],
     "language": "python",
     "metadata": {},
     "outputs": [
      {
       "output_type": "stream",
       "stream": "stdout",
       "text": [
        "Traceback (most recent call last):\r\n",
        "  File \"mpi001.py\", line 12, in <module>\r\n",
        "    print B\r\n",
        "NameError: name 'B' is not defined\r\n"
       ]
      }
     ],
     "prompt_number": 127
    },
    {
     "cell_type": "code",
     "collapsed": false,
     "input": [
      "np.random.rand(1)"
     ],
     "language": "python",
     "metadata": {},
     "outputs": [
      {
       "metadata": {},
       "output_type": "pyout",
       "prompt_number": 117,
       "text": [
        "array([ 0.29181427])"
       ]
      }
     ],
     "prompt_number": 117
    },
    {
     "cell_type": "code",
     "collapsed": false,
     "input": [],
     "language": "python",
     "metadata": {},
     "outputs": [],
     "prompt_number": 107
    },
    {
     "cell_type": "code",
     "collapsed": false,
     "input": [],
     "language": "python",
     "metadata": {},
     "outputs": [],
     "prompt_number": 107
    },
    {
     "cell_type": "code",
     "collapsed": false,
     "input": [
      "%%writefile mpi001.py\n",
      "import numpy\n",
      "from mpi4py import MPI\n",
      "comm = MPI.COMM_WORLD\n",
      "\n",
      "rank = comm.Get_rank()\n",
      "rankF = numpy.array(float(rank))\n",
      "total = numpy.zeros(1)\n",
      "comm.Reduce(rankF,total, op=MPI.SUM)\n",
      "if rank==0:\n",
      "    print total"
     ],
     "language": "python",
     "metadata": {},
     "outputs": [
      {
       "output_type": "stream",
       "stream": "stdout",
       "text": [
        "Overwriting mpi001.py\n"
       ]
      }
     ],
     "prompt_number": 114
    },
    {
     "cell_type": "code",
     "collapsed": false,
     "input": [
      "!mpirun -n 2 python mpi001.py"
     ],
     "language": "python",
     "metadata": {},
     "outputs": [
      {
       "output_type": "stream",
       "stream": "stdout",
       "text": [
        "[ 1.]\r\n"
       ]
      }
     ],
     "prompt_number": 115
    },
    {
     "cell_type": "code",
     "collapsed": false,
     "input": [
      "x = np.array([2,4])\n",
      "y = np.array([4,2])\n",
      "np.linalg.norm(x-y)"
     ],
     "language": "python",
     "metadata": {},
     "outputs": [
      {
       "metadata": {},
       "output_type": "pyout",
       "prompt_number": 130,
       "text": [
        "2.8284271247461903"
       ]
      }
     ],
     "prompt_number": 130
    },
    {
     "cell_type": "code",
     "collapsed": false,
     "input": [],
     "language": "python",
     "metadata": {},
     "outputs": []
    }
   ],
   "metadata": {}
  }
 ]
}