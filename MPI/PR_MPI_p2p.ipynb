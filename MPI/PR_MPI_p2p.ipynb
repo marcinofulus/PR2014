{
 "cells": [
  {
   "cell_type": "markdown",
   "metadata": {
    "slideshow": {
     "slide_type": "slide"
    }
   },
   "source": [
    "# MPI - point to point operations\n",
    "\n",
    "We will use `mpi4py` "
   ]
  },
  {
   "cell_type": "code",
   "execution_count": 1,
   "metadata": {
    "collapsed": true
   },
   "outputs": [],
   "source": [
    "import numpy as np"
   ]
  },
  {
   "cell_type": "code",
   "execution_count": 5,
   "metadata": {
    "collapsed": false
   },
   "outputs": [
    {
     "name": "stdout",
     "output_type": "stream",
     "text": [
      "[0, 1, 2, 3, 4, 5]\n"
     ]
    }
   ],
   "source": [
    "import ipyparallel as ipp\n",
    "c = ipp.Client(profile='mpi')\n",
    "print(c.ids)\n",
    "view = c[:]\n",
    "view.activate()"
   ]
  },
  {
   "cell_type": "markdown",
   "metadata": {
    "collapsed": false,
    "slideshow": {
     "slide_type": "skip"
    }
   },
   "source": [
    "Parallel eigenvalues:\n",
    "```python\n",
    "import numpy as np\n",
    "%time np.max(np.real(np.linalg.eigvals(np.random.randn(400,400))))\n",
    "```"
   ]
  },
  {
   "cell_type": "markdown",
   "metadata": {
    "slideshow": {
     "slide_type": "slide"
    }
   },
   "source": [
    "A task: find a biggest entry in a random matrix:"
   ]
  },
  {
   "cell_type": "code",
   "execution_count": 8,
   "metadata": {
    "collapsed": false
   },
   "outputs": [
    {
     "name": "stdout",
     "output_type": "stream",
     "text": [
      "CPU times: user 1.06 s, sys: 84 ms, total: 1.14 s\n",
      "Wall time: 1.14 s\n"
     ]
    },
    {
     "data": {
      "text/plain": [
       "5.1695004271475078"
      ]
     },
     "execution_count": 8,
     "metadata": {},
     "output_type": "execute_result"
    }
   ],
   "source": [
    "%time np.max(np.random.randn(5000,5000))"
   ]
  },
  {
   "cell_type": "code",
   "execution_count": 4,
   "metadata": {
    "collapsed": false,
    "slideshow": {
     "slide_type": "subslide"
    }
   },
   "outputs": [
    {
     "name": "stdout",
     "output_type": "stream",
     "text": [
      "[stdout:0] \n",
      "result = 5.10738660383\n",
      "0 :: execution time: 0.29744601249694824\n",
      "[stdout:1] \n",
      "result = 4.96081328763\n",
      "5 :: execution time: 0.29747605323791504\n",
      "[stdout:2] \n",
      "result = 4.8963510546\n",
      "2 :: execution time: 0.29653000831604004\n",
      "[stdout:3] \n",
      "result = 4.84093788152\n",
      "3 :: execution time: 0.33892011642456055\n",
      "[stdout:4] \n",
      "result = 5.7277817237\n",
      "4 :: execution time: 0.3216099739074707\n",
      "[stdout:5] \n",
      "result = 4.99959766657\n",
      "1 :: execution time: 0.32078003883361816\n"
     ]
    }
   ],
   "source": [
    "%%px --block\n",
    "from mpi4py import MPI\n",
    "import time\n",
    "import numpy as np \n",
    "comm = MPI.COMM_WORLD\n",
    "rank = comm.Get_rank()\n",
    "size = comm.Get_size()\n",
    "t = MPI.Wtime()\n",
    "print(\"result =\",np.max(np.random.randn(5000,5000//4)))\n",
    "t = MPI.Wtime() - t\n",
    "print(rank,\":: execution time:\",t)"
   ]
  },
  {
   "cell_type": "markdown",
   "metadata": {
    "collapsed": false,
    "slideshow": {
     "slide_type": "slide"
    }
   },
   "source": [
    "### Send and receive\n",
    "\n",
    "- We use `rank` to differentiate code between processors.\n",
    "- Note that mpi4py serializes arbitrary data before send."
   ]
  },
  {
   "cell_type": "markdown",
   "metadata": {
    "slideshow": {
     "slide_type": "fragment"
    }
   },
   "source": [
    "### Important!\n",
    "\n",
    "   -  In MPI for Python, the `Send()`, `Recv()` and `Sendrecv()`  can communicate memory buffers. \n",
    "   -  The variants `send()`, `recv()` and `sendrecv()` can communicate generic Python objects."
   ]
  },
  {
   "cell_type": "code",
   "execution_count": 11,
   "metadata": {
    "collapsed": false,
    "slideshow": {
     "slide_type": "subslide"
    }
   },
   "outputs": [
    {
     "name": "stdout",
     "output_type": "stream",
     "text": [
      "[stdout:0] OK, rank=  3 dane:  None\n",
      "[stdout:1] OK, rank=  0 dane:  {'a': 7, 'b': 3.14}\n",
      "[stdout:2] OK, rank=  1 dane:  {'a': 7, 'b': 3.14}\n",
      "[stdout:3] OK, rank=  2 dane:  None\n"
     ]
    }
   ],
   "source": [
    "%%px --block\n",
    "\n",
    "from mpi4py import MPI\n",
    "\n",
    "comm = MPI.COMM_WORLD\n",
    "rank = comm.Get_rank()\n",
    "\n",
    "data = None\n",
    "\n",
    "if rank == 0:\n",
    "    data = {'a': 7, 'b': 3.14}\n",
    "    comm.send(data, dest=1)\n",
    "\n",
    "elif rank == 1:\n",
    "    data = comm.recv(source=0)\n",
    "\n",
    "print(\"OK, rank= \",rank,\"dane: \",data)"
   ]
  },
  {
   "cell_type": "markdown",
   "metadata": {
    "collapsed": false,
    "slideshow": {
     "slide_type": "slide"
    }
   },
   "source": [
    "### Sending and receiving numpy arrays\n",
    "\n",
    "- we can send the whole array"
   ]
  },
  {
   "cell_type": "code",
   "execution_count": 6,
   "metadata": {
    "collapsed": false
   },
   "outputs": [
    {
     "name": "stdout",
     "output_type": "stream",
     "text": [
      "[stdout:0] OK, 3 0.0\n",
      "[stdout:1] OK, 2 0.0\n",
      "[stdout:2] OK, 1 8.0\n",
      "[stdout:3] OK, 0 8.0\n"
     ]
    }
   ],
   "source": [
    "%%px --block\n",
    "import numpy as np\n",
    "from mpi4py import MPI\n",
    "\n",
    "comm = MPI.COMM_WORLD\n",
    "rank = comm.Get_rank()\n",
    "\n",
    "a = np.zeros((2,2))\n",
    "\n",
    "if rank == 0:\n",
    "    a[:] = 2\n",
    "    comm.send(a, dest=1)\n",
    "elif rank == 1:\n",
    "    a = comm.recv(source=0)\n",
    "\n",
    "print (\"OK,\",rank,np.sum(a))\n"
   ]
  },
  {
   "cell_type": "markdown",
   "metadata": {},
   "source": [
    " - we can send a slice !"
   ]
  },
  {
   "cell_type": "code",
   "execution_count": 6,
   "metadata": {
    "collapsed": false
   },
   "outputs": [
    {
     "name": "stdout",
     "output_type": "stream",
     "text": [
      "[stdout:0] OK, 0 8.0\n",
      "[stdout:1] OK, 5 0.0\n",
      "[stdout:2] OK, 2 0.0\n",
      "[stdout:3] OK, 3 0.0\n",
      "[stdout:4] OK, 4 0.0\n",
      "[stdout:5] OK, 1 4.0\n"
     ]
    }
   ],
   "source": [
    "%%px --block\n",
    "import numpy as np\n",
    "from mpi4py import MPI\n",
    "\n",
    "comm = MPI.COMM_WORLD\n",
    "rank = comm.Get_rank()\n",
    "\n",
    "a = np.zeros((2,2))\n",
    "\n",
    "if rank == 0:\n",
    "    a[:] = 2\n",
    "    comm.send(a[0,:], dest=1)\n",
    "elif rank == 1:\n",
    "    a[0,:] = comm.recv(source=0)\n",
    "\n",
    "print(\"OK,\",rank,np.sum(a))\n"
   ]
  },
  {
   "cell_type": "code",
   "execution_count": 7,
   "metadata": {
    "collapsed": false
   },
   "outputs": [
    {
     "data": {
      "text/plain": [
       "[0, 5, 2, 3, 4, 1]"
      ]
     },
     "execution_count": 7,
     "metadata": {},
     "output_type": "execute_result"
    }
   ],
   "source": [
    "view['rank']"
   ]
  },
  {
   "cell_type": "code",
   "execution_count": 11,
   "metadata": {
    "collapsed": false
   },
   "outputs": [
    {
     "data": {
      "text/plain": [
       "array([[ 2.,  2.],\n",
       "       [ 0.,  0.]])"
      ]
     },
     "execution_count": 11,
     "metadata": {},
     "output_type": "execute_result"
    }
   ],
   "source": [
    "view['a'][5]"
   ]
  },
  {
   "cell_type": "code",
   "execution_count": 15,
   "metadata": {
    "collapsed": false
   },
   "outputs": [
    {
     "data": {
      "text/plain": [
       "array([0, 5, 2, 3, 4, 1])"
      ]
     },
     "execution_count": 15,
     "metadata": {},
     "output_type": "execute_result"
    }
   ],
   "source": [
    "np.argsort(view['rank'])"
   ]
  },
  {
   "cell_type": "code",
   "execution_count": 16,
   "metadata": {
    "collapsed": false
   },
   "outputs": [
    {
     "data": {
      "text/plain": [
       "array([[ 2.,  2.],\n",
       "       [ 0.,  0.]])"
      ]
     },
     "execution_count": 16,
     "metadata": {},
     "output_type": "execute_result"
    }
   ],
   "source": [
    "view['a'][np.argsort(view['rank'])[1]]"
   ]
  },
  {
   "cell_type": "code",
   "execution_count": 9,
   "metadata": {
    "collapsed": false
   },
   "outputs": [
    {
     "name": "stdout",
     "output_type": "stream",
     "text": [
      "[[ 2.  2.]\n",
      " [ 2.  2.]]\n",
      "[[ 2.  2.]\n",
      " [ 0.  0.]]\n"
     ]
    }
   ],
   "source": [
    "print(view['a'][view['rank'][0]])\n",
    "print(view['a'][view['rank'][1]])"
   ]
  },
  {
   "cell_type": "code",
   "execution_count": 10,
   "metadata": {
    "collapsed": false,
    "slideshow": {
     "slide_type": "subslide"
    }
   },
   "outputs": [
    {
     "name": "stdout",
     "output_type": "stream",
     "text": [
      "[stdout:0] OK, 3 0.0\n",
      "[stdout:1] OK, 2 0.0\n",
      "[stdout:2] OK, 1 4.0\n",
      "[stdout:3] OK, 0 8.0\n"
     ]
    }
   ],
   "source": [
    "%%px --block\n",
    "\n",
    "import numpy as np\n",
    "from mpi4py import MPI\n",
    "\n",
    "comm = MPI.COMM_WORLD\n",
    "rank = comm.Get_rank()\n",
    "\n",
    "a = np.zeros((2,2))\n",
    "if rank == 0:\n",
    "    a[:] = 2\n",
    "    comm.send(a[:,0], dest=1)\n",
    "elif rank == 1:\n",
    "    a[:,0] = comm.recv(source=0)\n",
    "\n",
    "print (\"OK,\",rank,np.sum(a))\n"
   ]
  },
  {
   "cell_type": "code",
   "execution_count": 11,
   "metadata": {
    "collapsed": false
   },
   "outputs": [
    {
     "name": "stdout",
     "output_type": "stream",
     "text": [
      "[[ 2.  2.]\n",
      " [ 2.  2.]]\n",
      "[[ 2.  0.]\n",
      " [ 2.  0.]]\n"
     ]
    }
   ],
   "source": [
    "print(view['a'][view['rank'][0]])\n",
    "print(view['a'][view['rank'][1]])"
   ]
  },
  {
   "cell_type": "markdown",
   "metadata": {
    "slideshow": {
     "slide_type": "slide"
    }
   },
   "source": [
    "### Communicating  memorybuffers:  `Send` and `Recv`"
   ]
  },
  {
   "cell_type": "code",
   "execution_count": 12,
   "metadata": {
    "collapsed": false
   },
   "outputs": [
    {
     "name": "stdout",
     "output_type": "stream",
     "text": [
      "[stdout:0] OK, 3 0.0\n",
      "[stdout:1] OK, 0 8.0\n",
      "[stdout:2] OK, 1 4.0\n",
      "[stdout:3] OK, 2 0.0\n"
     ]
    }
   ],
   "source": [
    "%%px --block\n",
    "\n",
    "import numpy as np\n",
    "from mpi4py import MPI\n",
    "\n",
    "comm = MPI.COMM_WORLD\n",
    "rank = comm.Get_rank()\n",
    "\n",
    "a = np.zeros((2,2))\n",
    "if rank == 0:\n",
    "    a[:] = 2\n",
    "    comm.Send(a[0,:], dest=1)\n",
    "elif rank == 1:\n",
    "    comm.Recv(a[0,:], source=0)\n",
    "\n",
    "print (\"OK,\",rank,np.sum(a))\n"
   ]
  },
  {
   "cell_type": "code",
   "execution_count": 13,
   "metadata": {
    "collapsed": false,
    "slideshow": {
     "slide_type": "subslide"
    }
   },
   "outputs": [
    {
     "ename": "CompositeError",
     "evalue": "one or more exceptions from call to method: execute\n[1:execute]: ValueError: ndarray is not contiguous\n[2:execute]: ValueError: ndarray is not contiguous",
     "output_type": "error",
     "traceback": [
      "[1:execute]: ",
      "\u001b[0;31m---------------------------------------------------------------------------\u001b[0m\u001b[0;31mValueError\u001b[0m                                Traceback (most recent call last)\u001b[0;32m<ipython-input-8-f7e06c0094a9>\u001b[0m in \u001b[0;36m<module>\u001b[0;34m()\u001b[0m",
      "\u001b[1;32m      9\u001b[0m \u001b[0;32mif\u001b[0m \u001b[0mrank\u001b[0m \u001b[0;34m==\u001b[0m \u001b[0;36m0\u001b[0m\u001b[0;34m:\u001b[0m\u001b[0;34m\u001b[0m\u001b[0m",
      "\u001b[1;32m     10\u001b[0m     \u001b[0ma\u001b[0m\u001b[0;34m[\u001b[0m\u001b[0;34m:\u001b[0m\u001b[0;34m]\u001b[0m \u001b[0;34m=\u001b[0m \u001b[0;36m2\u001b[0m\u001b[0;34m\u001b[0m\u001b[0m",
      "\u001b[0;32m---> 11\u001b[0;31m     \u001b[0mcomm\u001b[0m\u001b[0;34m.\u001b[0m\u001b[0mSend\u001b[0m\u001b[0;34m(\u001b[0m\u001b[0ma\u001b[0m\u001b[0;34m[\u001b[0m\u001b[0;34m:\u001b[0m\u001b[0;34m,\u001b[0m\u001b[0;36m0\u001b[0m\u001b[0;34m]\u001b[0m\u001b[0;34m,\u001b[0m \u001b[0mdest\u001b[0m\u001b[0;34m=\u001b[0m\u001b[0;36m1\u001b[0m\u001b[0;34m)\u001b[0m\u001b[0;34m\u001b[0m\u001b[0m",
      "\u001b[0m\u001b[1;32m     12\u001b[0m \u001b[0;32melif\u001b[0m \u001b[0mrank\u001b[0m \u001b[0;34m==\u001b[0m \u001b[0;36m1\u001b[0m\u001b[0;34m:\u001b[0m\u001b[0;34m\u001b[0m\u001b[0m",
      "\u001b[1;32m     13\u001b[0m     \u001b[0mcomm\u001b[0m\u001b[0;34m.\u001b[0m\u001b[0mRecv\u001b[0m\u001b[0;34m(\u001b[0m\u001b[0ma\u001b[0m\u001b[0;34m[\u001b[0m\u001b[0;34m:\u001b[0m\u001b[0;34m,\u001b[0m\u001b[0;36m0\u001b[0m\u001b[0;34m]\u001b[0m\u001b[0;34m,\u001b[0m \u001b[0msource\u001b[0m\u001b[0;34m=\u001b[0m\u001b[0;36m0\u001b[0m\u001b[0;34m)\u001b[0m\u001b[0;34m\u001b[0m\u001b[0m",
      "\u001b[0;32mMPI/Comm.pyx\u001b[0m in \u001b[0;36mmpi4py.MPI.Comm.Send (src/mpi4py.MPI.c:92870)\u001b[0;34m()\u001b[0m",
      "\u001b[0;32mMPI/msgbuffer.pxi\u001b[0m in \u001b[0;36mmpi4py.MPI.message_p2p_send (src/mpi4py.MPI.c:33688)\u001b[0;34m()\u001b[0m",
      "\u001b[0;32mMPI/msgbuffer.pxi\u001b[0m in \u001b[0;36mmpi4py.MPI._p_msg_p2p.for_send (src/mpi4py.MPI.c:33550)\u001b[0;34m()\u001b[0m",
      "\u001b[0;32mMPI/msgbuffer.pxi\u001b[0m in \u001b[0;36mmpi4py.MPI.message_simple (src/mpi4py.MPI.c:30349)\u001b[0;34m()\u001b[0m",
      "\u001b[0;32mMPI/msgbuffer.pxi\u001b[0m in \u001b[0;36mmpi4py.MPI.message_basic (src/mpi4py.MPI.c:29359)\u001b[0;34m()\u001b[0m",
      "\u001b[0;32mMPI/asbuffer.pxi\u001b[0m in \u001b[0;36mmpi4py.MPI.getbuffer (src/mpi4py.MPI.c:9310)\u001b[0;34m()\u001b[0m",
      "\u001b[0;32mMPI/asbuffer.pxi\u001b[0m in \u001b[0;36mmpi4py.MPI.PyObject_GetBufferEx (src/mpi4py.MPI.c:8070)\u001b[0;34m()\u001b[0m",
      "\u001b[0;31mValueError\u001b[0m: ndarray is not contiguous",
      "",
      "[2:execute]: ",
      "\u001b[0;31m---------------------------------------------------------------------------\u001b[0m\u001b[0;31mValueError\u001b[0m                                Traceback (most recent call last)\u001b[0;32m<ipython-input-8-f7e06c0094a9>\u001b[0m in \u001b[0;36m<module>\u001b[0;34m()\u001b[0m",
      "\u001b[1;32m     11\u001b[0m     \u001b[0mcomm\u001b[0m\u001b[0;34m.\u001b[0m\u001b[0mSend\u001b[0m\u001b[0;34m(\u001b[0m\u001b[0ma\u001b[0m\u001b[0;34m[\u001b[0m\u001b[0;34m:\u001b[0m\u001b[0;34m,\u001b[0m\u001b[0;36m0\u001b[0m\u001b[0;34m]\u001b[0m\u001b[0;34m,\u001b[0m \u001b[0mdest\u001b[0m\u001b[0;34m=\u001b[0m\u001b[0;36m1\u001b[0m\u001b[0;34m)\u001b[0m\u001b[0;34m\u001b[0m\u001b[0m",
      "\u001b[1;32m     12\u001b[0m \u001b[0;32melif\u001b[0m \u001b[0mrank\u001b[0m \u001b[0;34m==\u001b[0m \u001b[0;36m1\u001b[0m\u001b[0;34m:\u001b[0m\u001b[0;34m\u001b[0m\u001b[0m",
      "\u001b[0;32m---> 13\u001b[0;31m     \u001b[0mcomm\u001b[0m\u001b[0;34m.\u001b[0m\u001b[0mRecv\u001b[0m\u001b[0;34m(\u001b[0m\u001b[0ma\u001b[0m\u001b[0;34m[\u001b[0m\u001b[0;34m:\u001b[0m\u001b[0;34m,\u001b[0m\u001b[0;36m0\u001b[0m\u001b[0;34m]\u001b[0m\u001b[0;34m,\u001b[0m \u001b[0msource\u001b[0m\u001b[0;34m=\u001b[0m\u001b[0;36m0\u001b[0m\u001b[0;34m)\u001b[0m\u001b[0;34m\u001b[0m\u001b[0m",
      "\u001b[0m\u001b[1;32m     14\u001b[0m \u001b[0;34m\u001b[0m\u001b[0m",
      "\u001b[1;32m     15\u001b[0m \u001b[0mprint\u001b[0m \u001b[0;34m(\u001b[0m\u001b[0;34m\"OK,\"\u001b[0m\u001b[0;34m,\u001b[0m\u001b[0mrank\u001b[0m\u001b[0;34m,\u001b[0m\u001b[0mnp\u001b[0m\u001b[0;34m.\u001b[0m\u001b[0msum\u001b[0m\u001b[0;34m(\u001b[0m\u001b[0ma\u001b[0m\u001b[0;34m)\u001b[0m\u001b[0;34m)\u001b[0m\u001b[0;34m\u001b[0m\u001b[0m",
      "\u001b[0;32mMPI/Comm.pyx\u001b[0m in \u001b[0;36mmpi4py.MPI.Comm.Recv (src/mpi4py.MPI.c:93084)\u001b[0;34m()\u001b[0m",
      "\u001b[0;32mMPI/msgbuffer.pxi\u001b[0m in \u001b[0;36mmpi4py.MPI.message_p2p_recv (src/mpi4py.MPI.c:33765)\u001b[0;34m()\u001b[0m",
      "\u001b[0;32mMPI/msgbuffer.pxi\u001b[0m in \u001b[0;36mmpi4py.MPI._p_msg_p2p.for_recv (src/mpi4py.MPI.c:33610)\u001b[0;34m()\u001b[0m",
      "\u001b[0;32mMPI/msgbuffer.pxi\u001b[0m in \u001b[0;36mmpi4py.MPI.message_simple (src/mpi4py.MPI.c:30349)\u001b[0;34m()\u001b[0m",
      "\u001b[0;32mMPI/msgbuffer.pxi\u001b[0m in \u001b[0;36mmpi4py.MPI.message_basic (src/mpi4py.MPI.c:29359)\u001b[0;34m()\u001b[0m",
      "\u001b[0;32mMPI/asbuffer.pxi\u001b[0m in \u001b[0;36mmpi4py.MPI.getbuffer (src/mpi4py.MPI.c:9310)\u001b[0;34m()\u001b[0m",
      "\u001b[0;32mMPI/asbuffer.pxi\u001b[0m in \u001b[0;36mmpi4py.MPI.PyObject_GetBufferEx (src/mpi4py.MPI.c:8070)\u001b[0;34m()\u001b[0m",
      "\u001b[0;31mValueError\u001b[0m: ndarray is not contiguous",
      ""
     ]
    }
   ],
   "source": [
    "%%px --block\n",
    "\n",
    "import numpy as np\n",
    "from mpi4py import MPI\n",
    "\n",
    "comm = MPI.COMM_WORLD\n",
    "rank = comm.Get_rank()\n",
    "\n",
    "a = np.zeros((2,2))\n",
    "if rank == 0:\n",
    "    a[:] = 2\n",
    "    comm.Send(a[:,0], dest=1)\n",
    "elif rank == 1:\n",
    "    comm.Recv(a[:,0], source=0)\n",
    "\n",
    "print (\"OK,\",rank,np.sum(a))\n"
   ]
  },
  {
   "cell_type": "markdown",
   "metadata": {
    "slideshow": {
     "slide_type": "subslide"
    }
   },
   "source": [
    "### Contiguous memory buffers"
   ]
  },
  {
   "cell_type": "code",
   "execution_count": 14,
   "metadata": {
    "collapsed": false,
    "slideshow": {
     "slide_type": "-"
    }
   },
   "outputs": [
    {
     "data": {
      "text/plain": [
       "  C_CONTIGUOUS : True\n",
       "  F_CONTIGUOUS : False\n",
       "  OWNDATA : True\n",
       "  WRITEABLE : True\n",
       "  ALIGNED : True\n",
       "  UPDATEIFCOPY : False"
      ]
     },
     "execution_count": 14,
     "metadata": {},
     "output_type": "execute_result"
    }
   ],
   "source": [
    "a = np.zeros((2,2))\n",
    "a.flags"
   ]
  },
  {
   "cell_type": "code",
   "execution_count": 15,
   "metadata": {
    "collapsed": false,
    "slideshow": {
     "slide_type": "fragment"
    }
   },
   "outputs": [
    {
     "data": {
      "text/plain": [
       "  C_CONTIGUOUS : False\n",
       "  F_CONTIGUOUS : False\n",
       "  OWNDATA : False\n",
       "  WRITEABLE : True\n",
       "  ALIGNED : True\n",
       "  UPDATEIFCOPY : False"
      ]
     },
     "execution_count": 15,
     "metadata": {},
     "output_type": "execute_result"
    }
   ],
   "source": [
    "a[:,0].flags"
   ]
  },
  {
   "cell_type": "code",
   "execution_count": 16,
   "metadata": {
    "collapsed": false,
    "slideshow": {
     "slide_type": "fragment"
    }
   },
   "outputs": [
    {
     "data": {
      "text/plain": [
       "  C_CONTIGUOUS : True\n",
       "  F_CONTIGUOUS : True\n",
       "  OWNDATA : False\n",
       "  WRITEABLE : True\n",
       "  ALIGNED : True\n",
       "  UPDATEIFCOPY : False"
      ]
     },
     "execution_count": 16,
     "metadata": {},
     "output_type": "execute_result"
    }
   ],
   "source": [
    "a[0,:].flags"
   ]
  },
  {
   "cell_type": "code",
   "execution_count": 17,
   "metadata": {
    "collapsed": false,
    "slideshow": {
     "slide_type": "subslide"
    }
   },
   "outputs": [
    {
     "name": "stdout",
     "output_type": "stream",
     "text": [
      "[stdout:2] OK, 4.0\n"
     ]
    }
   ],
   "source": [
    "%%px --block\n",
    "\n",
    "import numpy as np\n",
    "from mpi4py import MPI\n",
    "\n",
    "comm = MPI.COMM_WORLD\n",
    "rank = comm.Get_rank()\n",
    "\n",
    "a = np.zeros((2,2))\n",
    "if rank == 0:\n",
    "    a[:] = 2\n",
    "    buf = a[:,0].copy()\n",
    "    comm.Send(buf, dest=1)   \n",
    "elif rank == 1:\n",
    "    buf = np.empty(2)\n",
    "    comm.Recv(buf, source=0)\n",
    "    a[:,0] = buf \n",
    "    print (\"OK,\",np.sum(a))\n"
   ]
  },
  {
   "cell_type": "code",
   "execution_count": 1,
   "metadata": {
    "collapsed": false
   },
   "outputs": [
    {
     "name": "stdout",
     "output_type": "stream",
     "text": [
      "[0, 1, 2, 3]\n"
     ]
    }
   ],
   "source": [
    "import ipyparallel as ipp\n",
    "c = ipp.Client(profile='mpi')\n",
    "print(c.ids)\n",
    "view = c[:]\n",
    "view.activate()"
   ]
  },
  {
   "cell_type": "code",
   "execution_count": 5,
   "metadata": {
    "collapsed": false
   },
   "outputs": [
    {
     "name": "stdout",
     "output_type": "stream",
     "text": [
      "[stdout:0] OK\n",
      "[stdout:1] OK\n",
      "[stdout:2] OK\n"
     ]
    }
   ],
   "source": [
    "%%px --block --target :3\n",
    "print(\"OK\")"
   ]
  },
  {
   "cell_type": "code",
   "execution_count": 6,
   "metadata": {
    "collapsed": false
   },
   "outputs": [
    {
     "name": "stdout",
     "output_type": "stream",
     "text": [
      "[stdout:0] OK\n",
      "[stdout:1] OK\n",
      "[stdout:2] OK\n",
      "[stdout:3] OK\n"
     ]
    }
   ],
   "source": [
    "%%px --block\n",
    "print(\"OK\")"
   ]
  },
  {
   "cell_type": "code",
   "execution_count": 9,
   "metadata": {
    "collapsed": false
   },
   "outputs": [
    {
     "name": "stdout",
     "output_type": "stream",
     "text": [
      "[stdout:3] /home/users/marcin.kostur/ProgramowanieRownolegle/MPI\n"
     ]
    }
   ],
   "source": [
    "%%px --block\n",
    "import numpy as np\n",
    "from mpi4py import MPI\n",
    "\n",
    "comm = MPI.COMM_WORLD\n",
    "rank = comm.Get_rank()\n",
    "\n",
    "a = np.zeros((2,2))\n",
    "\n",
    "if rank == 0:\n",
    "    import os\n",
    "    print(os.getcwd())\n"
   ]
  },
  {
   "cell_type": "code",
   "execution_count": null,
   "metadata": {
    "collapsed": true
   },
   "outputs": [],
   "source": []
  }
 ],
 "metadata": {
  "celltoolbar": "Slideshow",
  "kernelspec": {
   "display_name": "Python 3",
   "language": "python",
   "name": "python3"
  },
  "language_info": {
   "codemirror_mode": {
    "name": "ipython",
    "version": 3
   },
   "file_extension": ".py",
   "mimetype": "text/x-python",
   "name": "python",
   "nbconvert_exporter": "python",
   "pygments_lexer": "ipython3",
   "version": "3.5.2"
  }
 },
 "nbformat": 4,
 "nbformat_minor": 0
}
