{
 "cells": [
  {
   "cell_type": "markdown",
   "metadata": {},
   "source": [
    "## Fortran cython i numpy\n",
    "\n",
    "Porównanie różnych podejść - do rozwiązywanie równania dyfuzji jawnym algorytmem.\n",
    "\n",
    "Obliczanie operatora Laplace'a na siatce z f2py, stosując wektorowy kod w f90 działa najszybciej!\n",
    "\n"
   ]
  },
  {
   "cell_type": "code",
   "execution_count": 1,
   "metadata": {
    "collapsed": true
   },
   "outputs": [],
   "source": [
    "%matplotlib inline\n",
    "import matplotlib.pyplot as plt\n",
    "import numpy as np"
   ]
  },
  {
   "cell_type": "code",
   "execution_count": 2,
   "metadata": {
    "collapsed": false
   },
   "outputs": [],
   "source": [
    "%load_ext Cython"
   ]
  },
  {
   "cell_type": "code",
   "execution_count": 3,
   "metadata": {
    "collapsed": false
   },
   "outputs": [],
   "source": [
    "%%cython\n",
    "cimport cython\n",
    "cimport numpy as np\n",
    "\n",
    "@cython.wraparound(False)\n",
    "@cython.boundscheck(False)\n",
    "def cython_diff2d(np.ndarray[double, ndim=2] u,np.ndarray[double, ndim=2] v, double dx2, double dy2, double c):\n",
    "    cdef unsigned int i, j\n",
    "    for i in xrange(1,u.shape[0]-1):\n",
    "        for j in xrange(1, u.shape[1]-1):\n",
    "            v[i,j] = u[i,j] + c*( (u[i+1, j] + u[i-1, j]-2.0*u[i,j])/dy2 +\n",
    "                                  (u[i, j+1] + u[i, j-1]-2.0*u[i,j])/dx2 )\n",
    "\n",
    "            \n",
    "            "
   ]
  },
  {
   "cell_type": "code",
   "execution_count": 4,
   "metadata": {
    "collapsed": false
   },
   "outputs": [],
   "source": [
    "def numpy_diff2d(u,v,dx2,dy2,c):\n",
    "    v[1:-1,1:-1] =u[1:-1,1:-1] + c*((u[2:,1:-1]+u[:-2,1:-1]-2.0*u[1:-1,1:-1])/dy2 + \n",
    "                    (u[1:-1,2:] + u[1:-1,:-2]-2.0*u[1:-1,1:-1])/dx2)\n",
    "    "
   ]
  },
  {
   "cell_type": "code",
   "execution_count": 5,
   "metadata": {
    "collapsed": false
   },
   "outputs": [],
   "source": [
    "def numpy_diff2d_a(u,v,dx2,dy2,c):\n",
    "    A = (1.0-2.0*(c/dx2+c/dy2))\n",
    "    v[1:-1,1:-1] =A*u[1:-1,1:-1] + c/dy2*(u[2:,1:-1] + u[:-2,1:-1]) + \\\n",
    "                                   c/dx2*(u[1:-1,2:] + u[1:-1,:-2])\n",
    "    "
   ]
  },
  {
   "cell_type": "code",
   "execution_count": 6,
   "metadata": {
    "collapsed": false
   },
   "outputs": [],
   "source": [
    "def numpy_diff2d_b(u,v,dx2,dy2,c):\n",
    "    \n",
    "    v[1:-1,1:-1] =u[1:-1,1:-1] + c/dx2*(np.diff(u,2,axis=0)[:,1:-1] + np.diff(u,2,axis=1)[1:-1,:])\n",
    "    "
   ]
  },
  {
   "cell_type": "code",
   "execution_count": 7,
   "metadata": {
    "collapsed": false
   },
   "outputs": [],
   "source": [
    "def calc(N, Niter, func, dx2,dy2,c):\n",
    "    u = np.zeros([N, N])\n",
    "    v = np.zeros_like(u)\n",
    "    u[u.shape[0]//2,u.shape[1]//2] = 1.0/np.sqrt(dx2*dy2)\n",
    "    for i in range(Niter//2):\n",
    "        func(u,v,dx2,dy2,c)\n",
    "        func(v,u,dx2,dy2,c)\n",
    "    return u"
   ]
  },
  {
   "cell_type": "markdown",
   "metadata": {},
   "source": [
    "## Parametry symulacji"
   ]
  },
  {
   "cell_type": "code",
   "execution_count": 8,
   "metadata": {
    "collapsed": false
   },
   "outputs": [
    {
     "name": "stdout",
     "output_type": "stream",
     "text": [
      "CLF =  0.09999999999999998 0.09999999999999998\n"
     ]
    }
   ],
   "source": [
    "N = 100\n",
    "dx = 0.1\n",
    "dy = 0.1\n",
    "dx2 = dx*dx\n",
    "dy2 = dy*dy\n",
    "dt = 0.01\n",
    "D = 0.1\n",
    "c = D*dt\n",
    "print(\"CLF = \",c/dx2,c/dy2)"
   ]
  },
  {
   "cell_type": "markdown",
   "metadata": {},
   "source": [
    "## Walidacja wyników"
   ]
  },
  {
   "cell_type": "code",
   "execution_count": 9,
   "metadata": {
    "collapsed": false
   },
   "outputs": [
    {
     "data": {
      "text/plain": [
       "<matplotlib.image.AxesImage at 0x7f62fb883438>"
      ]
     },
     "execution_count": 9,
     "metadata": {},
     "output_type": "execute_result"
    },
    {
     "data": {
      "image/png": "[encoded data removed]",
      "text/plain": [
       "<matplotlib.figure.Figure at 0x7f62a6ef37f0>"
      ]
     },
     "metadata": {},
     "output_type": "display_data"
    }
   ],
   "source": [
    "u = calc(N,125,numpy_diff2d_b,dx2,dy2,c)\n",
    "plt.imshow(u)"
   ]
  },
  {
   "cell_type": "code",
   "execution_count": 10,
   "metadata": {
    "collapsed": false
   },
   "outputs": [
    {
     "data": {
      "text/plain": [
       "<matplotlib.image.AxesImage at 0x7f62f8792128>"
      ]
     },
     "execution_count": 10,
     "metadata": {},
     "output_type": "execute_result"
    },
    {
     "data": {
      "image/png": "[encoded data removed]",
      "text/plain": [
       "<matplotlib.figure.Figure at 0x7f62a6eddfd0>"
      ]
     },
     "metadata": {},
     "output_type": "display_data"
    }
   ],
   "source": [
    "u = calc(N,125,cython_diff2d,dx2,dy2,c)\n",
    "plt.imshow(u)"
   ]
  },
  {
   "cell_type": "markdown",
   "metadata": {},
   "source": [
    "znamy rozwiązanie równania dyfuzji na nieskończonym obszarze startujące z punktu \n",
    "$$ u(x,0) = \\delta (x)$$\n",
    "\n",
    "$$ u(x,t) =  \\frac{1}{4 \\, \\pi D t}e^{\\left(-\\frac{x^{2} + y^{2}}{4  D t}\\right)}$$"
   ]
  },
  {
   "cell_type": "code",
   "execution_count": 11,
   "metadata": {
    "collapsed": false
   },
   "outputs": [
    {
     "data": {
      "image/png": "[encoded data removed]",
      "text/plain": [
       "<matplotlib.figure.Figure at 0x7f62a6eddeb8>"
      ]
     },
     "metadata": {},
     "output_type": "display_data"
    }
   ],
   "source": [
    "Lx,Ly = N/2*dx,N/2*dy\n",
    "x  = np.linspace(-Lx,Lx,N)\n",
    "y  = np.linspace(-Ly,Ly,N)\n",
    "\n",
    "X,Y = np.meshgrid(x,y )\n",
    "Niter = 125\n",
    "t = dt*Niter\n",
    "P = 1/(4*np.pi*D*t)*np.exp(-(X**2+Y**2)/(4*D*t) )\n",
    "plt.contourf(X,Y,P)\n",
    "plt.axes().set_aspect('equal')"
   ]
  },
  {
   "cell_type": "code",
   "execution_count": 12,
   "metadata": {
    "collapsed": false
   },
   "outputs": [
    {
     "data": {
      "text/plain": [
       "(0.98010000000000008, 1.0000000000000002)"
      ]
     },
     "execution_count": 12,
     "metadata": {},
     "output_type": "execute_result"
    }
   ],
   "source": [
    "u = calc(N,Niter,cython_diff2d,dx2,dy2,c)\n",
    "np.sum(P)*dx2,np.sum(u)*dx2"
   ]
  },
  {
   "cell_type": "code",
   "execution_count": 13,
   "metadata": {
    "collapsed": false
   },
   "outputs": [
    {
     "data": {
      "text/plain": [
       "[<matplotlib.lines.Line2D at 0x7f62f87dcc50>]"
      ]
     },
     "execution_count": 13,
     "metadata": {},
     "output_type": "execute_result"
    },
    {
     "data": {
      "image/png": "[encoded data removed]",
      "text/plain": [
       "<matplotlib.figure.Figure at 0x7f62f87dcba8>"
      ]
     },
     "metadata": {},
     "output_type": "display_data"
    }
   ],
   "source": [
    "plt.plot(X[X.shape[0]//2,:],P[X.shape[0]//2,:],'b')\n",
    "plt.plot(X[X.shape[0]//2,:],u[X.shape[0]//2,:],'r')"
   ]
  },
  {
   "cell_type": "markdown",
   "metadata": {},
   "source": [
    "## Benchmarks"
   ]
  },
  {
   "cell_type": "code",
   "execution_count": 14,
   "metadata": {
    "collapsed": false
   },
   "outputs": [
    {
     "name": "stdout",
     "output_type": "stream",
     "text": [
      "CPU times: user 1.19 s, sys: 0 ns, total: 1.19 s\n",
      "Wall time: 1.19 s\n"
     ]
    }
   ],
   "source": [
    "%%time\n",
    "u = calc(1000,200,cython_diff2d,dx2,dy2,c)"
   ]
  },
  {
   "cell_type": "code",
   "execution_count": 15,
   "metadata": {
    "collapsed": false
   },
   "outputs": [
    {
     "name": "stdout",
     "output_type": "stream",
     "text": [
      "CPU times: user 3.44 s, sys: 3.79 s, total: 7.24 s\n",
      "Wall time: 7.23 s\n"
     ]
    }
   ],
   "source": [
    "%%time\n",
    "u = calc(1000,200,numpy_diff2d,dx2,dy2,c)"
   ]
  },
  {
   "cell_type": "code",
   "execution_count": 16,
   "metadata": {
    "collapsed": false
   },
   "outputs": [
    {
     "name": "stdout",
     "output_type": "stream",
     "text": [
      "CPU times: user 2.67 s, sys: 1.05 s, total: 3.72 s\n",
      "Wall time: 3.72 s\n"
     ]
    }
   ],
   "source": [
    "%%time\n",
    "u = calc(1000,200,numpy_diff2d_a,dx2,dy2,c)"
   ]
  },
  {
   "cell_type": "code",
   "execution_count": 17,
   "metadata": {
    "collapsed": false
   },
   "outputs": [
    {
     "name": "stdout",
     "output_type": "stream",
     "text": [
      "CPU times: user 2.15 s, sys: 1.7 s, total: 3.85 s\n",
      "Wall time: 3.85 s\n"
     ]
    }
   ],
   "source": [
    "%%time\n",
    "u = calc(1000,200,numpy_diff2d_b,dx2,dy2,c)"
   ]
  },
  {
   "cell_type": "code",
   "execution_count": 33,
   "metadata": {
    "collapsed": false
   },
   "outputs": [],
   "source": [
    "\n"
   ]
  },
  {
   "cell_type": "code",
   "execution_count": 18,
   "metadata": {
    "collapsed": false
   },
   "outputs": [],
   "source": [
    "N = 1000\n",
    "fortran_source = \"\"\"\n",
    "\n",
    "subroutine fortran_diff2d(u, v, dx2, dy2, c)\n",
    "real(8), intent(inout) :: u({0}, {1})\n",
    "real(8), intent(inout) :: v({0}, {1})\n",
    "real(8), intent(in) :: dx2, dy2, c\n",
    "v(2:{0}-1,2:{1}-1) = u(2:{0}-1,2:{1}-1)+ c*( (u(3:,2:{1}-1)+u(:{0}-2,2:{1}-1))/dy2 + &\n",
    "        (u(2:{0}-1,3:) + u(2:{0}-1,:{1}-2))/dx2)\n",
    "end subroutine \n",
    "\n",
    "\"\"\".format(N,N)\n",
    "\n",
    "fp = open(\"myfile.f90\", \"w\")\n",
    "fp.write(fortran_source)\n",
    "fp.close()\n"
   ]
  },
  {
   "cell_type": "code",
   "execution_count": 19,
   "metadata": {
    "collapsed": false
   },
   "outputs": [
    {
     "name": "stdout",
     "output_type": "stream",
     "text": [
      "\r\n",
      "\r\n",
      "subroutine fortran_diff2d(u, v, dx2, dy2, c)\r\n",
      "real(8), intent(inout) :: u(1000, 1000)\r\n",
      "real(8), intent(inout) :: v(1000, 1000)\r\n",
      "real(8), intent(in) :: dx2, dy2, c\r\n",
      "v(2:1000-1,2:1000-1) = u(2:1000-1,2:1000-1)+ c*( (u(3:,2:1000-1)+u(:1000-2,2:1000-1))/dy2 + &\r\n",
      "        (u(2:1000-1,3:) + u(2:1000-1,:1000-2))/dx2)\r\n",
      "end subroutine \r\n",
      "\r\n"
     ]
    }
   ],
   "source": [
    "!cat myfile.f90\n"
   ]
  },
  {
   "cell_type": "code",
   "execution_count": 20,
   "metadata": {
    "collapsed": false
   },
   "outputs": [],
   "source": [
    "%%capture f2py.log\n",
    "!f2py -c -m my_fortran_module myfile.f90"
   ]
  },
  {
   "cell_type": "code",
   "execution_count": 21,
   "metadata": {
    "collapsed": false
   },
   "outputs": [
    {
     "name": "stdout",
     "output_type": "stream",
     "text": [
      "total 916\r\n",
      "-rw-r--r-- 1 marcin.kostur staff   8487 Nov  2 15:37 Jacobi.ipynb\r\n",
      "-rw-r--r-- 1 marcin.kostur staff 126910 Nov  2 15:33 PR_Diffusion1d_basics.ipynb\r\n",
      "-rw-r--r-- 1 marcin.kostur staff  56835 Oct 12 13:18 PR_MPI_Diffusion2d.ipynb\r\n",
      "-rw-r--r-- 1 marcin.kostur staff  13580 Nov  2 15:32 PR_MPI_Jupyter.ipynb\r\n",
      "-rw-r--r-- 1 marcin.kostur staff   2763 Oct 13 09:19 PR_MPI_Setup_ipython_mpi_profile.ipynb\r\n",
      "-rw-r--r-- 1 marcin.kostur staff   7428 Oct 13 14:26 PR_MPI_collective.ipynb\r\n",
      "-rw-r--r-- 1 marcin.kostur staff  21641 Nov  2 15:38 PR_MPI_game_of_life.ipynb\r\n",
      "-rw-r--r-- 1 marcin.kostur staff  20814 Nov  2 15:40 PR_MPI_p2p.ipynb\r\n",
      "-rw-r--r-- 1 marcin.kostur staff  61903 Nov  2 15:39 PR_MPI_scatter_examples.ipynb\r\n",
      "-rw-r--r-- 1 marcin.kostur staff 104143 Oct 21 09:24 PR_cython_numpy_fortran_diff2d.ipynb\r\n",
      "drwxr-xr-x 2 marcin.kostur staff   4096 Nov  2 14:43 __pycache__\r\n",
      "-rwxr-xr-x 1 marcin.kostur staff 107944 Oct 21 09:24 fortran_module00013.cpython-35m-x86_64-linux-gnu.so\r\n",
      "-rwxr-xr-x 1 marcin.kostur staff 108264 Oct 21 09:24 fortran_module00014.cpython-35m-x86_64-linux-gnu.so\r\n",
      "-rwxr-xr-x 1 marcin.kostur staff 107712 Oct 21 09:24 fortran_module00015.cpython-35m-x86_64-linux-gnu.so\r\n",
      "-rw-r--r-- 1 marcin.kostur staff   1898 Nov  2 12:11 game.py\r\n",
      "-rw-r--r-- 1 marcin.kostur staff   2567 Nov  2 14:43 game_of_life_utils.py\r\n",
      "-rw-r--r-- 1 marcin.kostur staff  11805 Oct 21 12:48 ipyparallel_gpu4.ipynb\r\n",
      "-rw-r--r-- 1 marcin.kostur staff  19680 Oct 20 15:18 ipyparallel_mpi_tests.ipynb\r\n",
      "-rw-r--r-- 1 marcin.kostur staff    191 Oct 13 08:27 mpi001.py\r\n",
      "-rwxr-xr-x 1 marcin.kostur staff  96232 Nov  2 15:41 my_fortran_module.cpython-35m-x86_64-linux-gnu.so\r\n",
      "-rw-r--r-- 1 marcin.kostur staff    325 Nov  2 15:41 myfile.f90\r\n",
      "-rw-r--r-- 1 marcin.kostur staff   2848 Nov  2 15:39 slice_object_2d.ipynb\r\n",
      "-rw-r--r-- 1 marcin.kostur staff   1895 Nov  2 12:12 tet001.py\r\n"
     ]
    }
   ],
   "source": [
    "!ls -l\n",
    "\n"
   ]
  },
  {
   "cell_type": "code",
   "execution_count": 56,
   "metadata": {
    "collapsed": false
   },
   "outputs": [],
   "source": [
    "from my_fortran_module import fortran_diff2d"
   ]
  },
  {
   "cell_type": "code",
   "execution_count": 59,
   "metadata": {
    "collapsed": false
   },
   "outputs": [],
   "source": [
    "def calcF(N, Niter, func, dx2,dy2,c):\n",
    "    u = np.zeros([N, N],order='F')\n",
    "    v = np.zeros_like(u)\n",
    "    u[u.shape[0]//2,u.shape[1]//2] = 1.0/np.sqrt(dx2*dy2)\n",
    "    for i in range(Niter//2):\n",
    "        func(u,v,dx2,dy2,c)\n",
    "        func(v,u,dx2,dy2,c)\n",
    "    return u"
   ]
  },
  {
   "cell_type": "code",
   "execution_count": 60,
   "metadata": {
    "collapsed": false
   },
   "outputs": [
    {
     "name": "stdout",
     "output_type": "stream",
     "text": [
      "CPU times: user 544 ms, sys: 20 ms, total: 564 ms\n",
      "Wall time: 561 ms\n"
     ]
    }
   ],
   "source": [
    "%%time\n",
    "u = calcF(1000,200,fortran_diff2d,dx2,dy2,c)"
   ]
  },
  {
   "cell_type": "markdown",
   "metadata": {},
   "source": [
    "### Najszybsza wersja - wektorowy Fortran\n",
    "\n",
    "Warto zauważyć, że:\n",
    "\n",
    " - nie zawsze jest taka duża różnica miedzy numpy/Cython/Fortran, *sprawdź dla np. mapowania funkcji na tablicy wartości*\n",
    " - numpy jest kilka razy wolniejsze bo przy każdym działaniu stosuje wartości pośrednie\n",
    " - istnieje możliwośc obejścia z pomocą modułu numexpr, który kompiluje całe wyrażenie na tablicy numpy, *sprawdź!*\n",
    " - wektorowy Fortran najefektywniej kompiluje wyrażenia typu $u_i+u_{i+1}$\n",
    " \n",
    "Wniosek - warto stosować Fortran do pewnych operacji!\n",
    "\n",
    "## Automatyczna generacja kodu\n",
    "\n",
    "*Problem: kompilowane moduły nie mogą być ponownie ładowane.*\n",
    "\n",
    "Przeanalizujmy prostą metodę generacji kodu \n"
   ]
  },
  {
   "cell_type": "code",
   "execution_count": 22,
   "metadata": {
    "collapsed": false
   },
   "outputs": [
    {
     "data": {
      "text/plain": [
       "b'/home/users/marcin.kostur/ProgramowanieRownolegle/MPI\\n'"
      ]
     },
     "execution_count": 22,
     "metadata": {},
     "output_type": "execute_result"
    }
   ],
   "source": [
    "import subprocess\n",
    "subprocess.check_output([\"pwd\"])"
   ]
  },
  {
   "cell_type": "code",
   "execution_count": 23,
   "metadata": {
    "collapsed": false
   },
   "outputs": [],
   "source": [
    "import subprocess\n",
    "import importlib\n",
    "\n",
    "counter = 12"
   ]
  },
  {
   "cell_type": "code",
   "execution_count": 24,
   "metadata": {
    "collapsed": false
   },
   "outputs": [],
   "source": [
    "def prepare_fortran_module(N=100):\n",
    "    \n",
    "    global counter\n",
    "    fortran_source = \"\"\"\n",
    "\n",
    "subroutine fortran_diff2d(u, v, dx2, dy2, c)\n",
    "real(8), intent(in) :: u({0}, {1})\n",
    "real(8), intent(inout) :: v({0}, {1})\n",
    "real(8), intent(in) :: dx2, dy2, c\n",
    "v(2:{0}-1,2:{1}-1) = u(2:{0}-1,2:{1}-1)+ c*( (u(3:,2:{1}-1)+u(:{0}-2,2:{1}-1))/dy2 + &\n",
    "        (u(2:{0}-1,3:) + u(2:{0}-1,:{1}-2))/dx2)\n",
    "end subroutine \n",
    "\n",
    "subroutine fortran_diff2d_a(u, dx2, dy2, c)\n",
    "real(8), intent(inout) :: u({0}, {1})\n",
    "real(8), intent(in) :: dx2, dy2, c\n",
    "u(2:{0}-1,2:{1}-1) = u(2:{0}-1,2:{1}-1)+ c*( (u(3:,2:{1}-1)+u(:{0}-2,2:{1}-1))/dy2 + &\n",
    "        (u(2:{0}-1,3:) + u(2:{0}-1,:{1}-2))/dx2)\n",
    "end subroutine \n",
    "\n",
    "\"\"\".format(N,N)\n",
    "\n",
    "    fp = open(\"myfile.f90\", \"w\")\n",
    "    fp.write(fortran_source)\n",
    "    fp.close()\n",
    "    counter=counter+1\n",
    "    try:\n",
    "        output = subprocess.check_output([\"f2py\", \"-c\",\"-m\", \"fortran_module%05d\"%counter, \"myfile.f90\"])\n",
    "        m = importlib.import_module(\"fortran_module%05d\"%counter)\n",
    "    except:\n",
    "        print (\"problem z kompilacja!\")\n",
    "        return output    \n",
    "    \n",
    "    return m"
   ]
  },
  {
   "cell_type": "code",
   "execution_count": 64,
   "metadata": {
    "collapsed": false
   },
   "outputs": [],
   "source": [
    "fortran_module = prepare_fortran_module(N=1000)\n"
   ]
  },
  {
   "cell_type": "code",
   "execution_count": 65,
   "metadata": {
    "collapsed": false
   },
   "outputs": [],
   "source": [
    "fortran_diff2d, fortran_diff2d_a = fortran_module.fortran_diff2d, fortran_module.fortran_diff2d_a"
   ]
  },
  {
   "cell_type": "code",
   "execution_count": 66,
   "metadata": {
    "collapsed": false
   },
   "outputs": [],
   "source": [
    "def calcF(N, Niter, func, dx2,dy2,c):\n",
    "    u = np.zeros([N, N],order='F')\n",
    "    v = np.zeros_like(u)\n",
    "    u[u.shape[0]//2,u.shape[1]//2] = 1.0/np.sqrt(dx2*dy2)\n",
    "    for i in range(Niter//2):\n",
    "        func(u,v,dx2,dy2,c)\n",
    "        func(v,u,dx2,dy2,c)\n",
    "    return u"
   ]
  },
  {
   "cell_type": "markdown",
   "metadata": {},
   "source": [
    "teraz możemy skompilować wielokrotnie ten sam kod i załadować modluł"
   ]
  },
  {
   "cell_type": "code",
   "execution_count": 67,
   "metadata": {
    "collapsed": false,
    "scrolled": true
   },
   "outputs": [
    {
     "data": {
      "text/plain": [
       "<matplotlib.image.AxesImage at 0x7fe6bc57e5f8>"
      ]
     },
     "execution_count": 67,
     "metadata": {},
     "output_type": "execute_result"
    },
    {
     "data": {
      "image/png": "[encoded data removed]",
      "text/plain": [
       "<matplotlib.figure.Figure at 0x7fe6bc651e80>"
      ]
     },
     "metadata": {},
     "output_type": "display_data"
    }
   ],
   "source": [
    "N = 1000\n",
    "\n",
    "fortran_module = prepare_fortran_module(N=N)\n",
    "fortran_diff2d, fortran_diff2d_a = fortran_module.fortran_diff2d, fortran_module.fortran_diff2d_a\n",
    "\n",
    "u = calcF(N,1225,fortran_diff2d,dx2,dy2,c)\n",
    "plt.imshow(u)"
   ]
  },
  {
   "cell_type": "code",
   "execution_count": 71,
   "metadata": {
    "collapsed": false
   },
   "outputs": [],
   "source": [
    "def calcF_a(N, Niter, func, dx2,dy2,c):\n",
    "    u = np.zeros([N, N],order='F')\n",
    "    v = np.zeros_like(u)\n",
    "    u[u.shape[0]//2,u.shape[1]//2] = 1.0/np.sqrt(dx2*dy2)\n",
    "    for i in range(Niter):\n",
    "        func(u,dx2,dy2,c)\n",
    "    return u"
   ]
  },
  {
   "cell_type": "code",
   "execution_count": 72,
   "metadata": {
    "collapsed": false
   },
   "outputs": [
    {
     "data": {
      "text/plain": [
       "<matplotlib.image.AxesImage at 0x7fe65e352278>"
      ]
     },
     "execution_count": 72,
     "metadata": {},
     "output_type": "execute_result"
    },
    {
     "data": {
      "image/png": "[encoded data removed]",
      "text/plain": [
       "<matplotlib.figure.Figure at 0x7fe6bc4ece48>"
      ]
     },
     "metadata": {},
     "output_type": "display_data"
    }
   ],
   "source": [
    "u = calcF_a(1000,1225,fortran_diff2d_a,dx2,dy2,c)\n",
    "plt.imshow(u)"
   ]
  },
  {
   "cell_type": "code",
   "execution_count": 73,
   "metadata": {
    "collapsed": false
   },
   "outputs": [
    {
     "name": "stdout",
     "output_type": "stream",
     "text": [
      "CPU times: user 2.53 s, sys: 132 ms, total: 2.66 s\n",
      "Wall time: 2.54 s\n"
     ]
    }
   ],
   "source": [
    "%%time\n",
    "u = calc(1000,200,numpy_diff2d_a,dx2,dy2,c)"
   ]
  },
  {
   "cell_type": "code",
   "execution_count": 74,
   "metadata": {
    "collapsed": false
   },
   "outputs": [
    {
     "name": "stdout",
     "output_type": "stream",
     "text": [
      "CPU times: user 1.08 s, sys: 8 ms, total: 1.09 s\n",
      "Wall time: 1.09 s\n"
     ]
    }
   ],
   "source": [
    "%%time\n",
    "u = calc(1000,200,cython_diff2d,dx2,dy2,c)"
   ]
  },
  {
   "cell_type": "code",
   "execution_count": 75,
   "metadata": {
    "collapsed": false
   },
   "outputs": [],
   "source": [
    "fortran_diff2d = prepare_fortran_module(N=1000).fortran_diff2d"
   ]
  },
  {
   "cell_type": "code",
   "execution_count": 76,
   "metadata": {
    "collapsed": false
   },
   "outputs": [
    {
     "name": "stdout",
     "output_type": "stream",
     "text": [
      "CPU times: user 508 ms, sys: 0 ns, total: 508 ms\n",
      "Wall time: 507 ms\n"
     ]
    }
   ],
   "source": [
    "%%time\n",
    "u = calcF(1000,200,fortran_diff2d,dx2,dy2,c)"
   ]
  },
  {
   "cell_type": "code",
   "execution_count": 77,
   "metadata": {
    "collapsed": false
   },
   "outputs": [
    {
     "name": "stdout",
     "output_type": "stream",
     "text": [
      "CPU times: user 672 ms, sys: 0 ns, total: 672 ms\n",
      "Wall time: 670 ms\n"
     ]
    }
   ],
   "source": [
    "%%time\n",
    "u = calcF_a(1000,200,fortran_diff2d_a,dx2,dy2,c)\n"
   ]
  },
  {
   "cell_type": "code",
   "execution_count": 53,
   "metadata": {
    "collapsed": false
   },
   "outputs": [],
   "source": []
  }
 ],
 "metadata": {
  "kernelspec": {
   "display_name": "Python 3",
   "language": "python",
   "name": "python3"
  },
  "language_info": {
   "codemirror_mode": {
    "name": "ipython",
    "version": 3
   },
   "file_extension": ".py",
   "mimetype": "text/x-python",
   "name": "python",
   "nbconvert_exporter": "python",
   "pygments_lexer": "ipython3",
   "version": "3.5.2"
  }
 },
 "nbformat": 4,
 "nbformat_minor": 0
}
