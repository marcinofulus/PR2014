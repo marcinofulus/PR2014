{
 "cells": [
  {
   "cell_type": "markdown",
   "metadata": {
    "slideshow": {
     "slide_type": "slide"
    }
   },
   "source": [
    "# Howto create local MPI profile for ipython\n",
    "\n",
    "1\\. Run following command:\n",
    "```bash\n",
    "ipython profile create --parallel --profile=mpi\n",
    "```"
   ]
  },
  {
   "cell_type": "markdown",
   "metadata": {
    "slideshow": {
     "slide_type": "fragment"
    }
   },
   "source": [
    "2\\. Then go to the directory `~/.ipython/profile_mpi`                       \n",
    "and check for the following file `ipcluster_config.py`."
   ]
  },
  {
   "cell_type": "markdown",
   "metadata": {
    "slideshow": {
     "slide_type": "fragment"
    }
   },
   "source": [
    "3\\. Add or uncomment and modify lines:\n",
    "```python\n",
    "c.IPClusterEngines.engine_launcher_class = 'MPI'\n",
    "c.IPClusterStart.controller_launcher_class = 'MPI'   ```"
   ]
  },
  {
   "cell_type": "markdown",
   "metadata": {
    "slideshow": {
     "slide_type": "fragment"
    }
   },
   "source": [
    "4\\. Open `IPython Clusters` tab"
   ]
  },
  {
   "cell_type": "code",
   "execution_count": 11,
   "metadata": {
    "collapsed": false
   },
   "outputs": [],
   "source": [
    "%%sh\n",
    "\n",
    "cat << EOF >> ~/.ipython/profile_mpi/ipcluster_config.py\n",
    "c.IPClusterEngines.engine_launcher_class = 'MPI'\n",
    "c.IPClusterStart.controller_launcher_class = 'MPI'\n",
    "EOF\n"
   ]
  },
  {
   "cell_type": "code",
   "execution_count": 16,
   "metadata": {
    "collapsed": false
   },
   "outputs": [
    {
     "name": "stdout",
     "output_type": "stream",
     "text": [
      "c.IPClusterEngines.engine_launcher_class = 'MPI'\r\n",
      "c.IPClusterStart.controller_launcher_class = 'MPI'\r\n"
     ]
    }
   ],
   "source": [
    "!cat ~/.ipython/profile_mpi/ipcluster_config.py |grep -v \"^$\"|grep -v \"^#\""
   ]
  },
  {
   "cell_type": "code",
   "execution_count": null,
   "metadata": {
    "collapsed": true
   },
   "outputs": [],
   "source": []
  },
  {
   "cell_type": "markdown",
   "metadata": {
    "slideshow": {
     "slide_type": "skip"
    }
   },
   "source": [
    "\n",
    "\n",
    "```sh\n",
    "$ cat ipcluster_config.py |grep -v \"^$\"|grep -v \"^#\"  \n",
    "```\n"
   ]
  }
 ],
 "metadata": {
  "celltoolbar": "Slideshow",
  "kernelspec": {
   "display_name": "Python 3",
   "language": "python",
   "name": "python3"
  },
  "language_info": {
   "codemirror_mode": {
    "name": "ipython",
    "version": 3
   },
   "file_extension": ".py",
   "mimetype": "text/x-python",
   "name": "python",
   "nbconvert_exporter": "python",
   "pygments_lexer": "ipython3",
   "version": "3.5.2"
  }
 },
 "nbformat": 4,
 "nbformat_minor": 1
}
