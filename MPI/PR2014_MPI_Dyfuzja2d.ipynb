{
 "metadata": {
  "name": "",
  "signature": "sha256:8fa4399362b2d8fb6609ec74597586dca19e466aa5ded80d0a3570a01313f29e"
 },
 "nbformat": 3,
 "nbformat_minor": 0,
 "worksheets": [
  {
   "cells": [
    {
     "cell_type": "markdown",
     "metadata": {},
     "source": [
      "# R\u00f3wnanie dyfuzji - dekompozycja siatki z zastosowaniem MPI\n",
      "\n",
      "**Problem:**\n",
      "\n",
      "Chcemy rozwi\u0105za\u0107 r\u00f3wnanie dyfuzji wykorzystuj\u0105c wiele procesor\u00f3w. \n",
      "\n",
      "Dzielimy siatk\u0119 na obszary o w ka\u017cdym obszarze rozwi\u0105zujemy r\u00f3wnanie niezale\u017cnie. Po ka\u017cdym kroku czasowym wykorzystujemy komunikacj\u0119 w MPI do wymiany informacji o przylegaj\u0105cych  brzegach odpowiednich obszar\u00f3w.\n"
     ]
    },
    {
     "cell_type": "code",
     "collapsed": false,
     "input": [
      "import os\n",
      "import tempfile\n",
      "import execnet\n",
      "wd = tempfile.mkdtemp()\n",
      "os.chdir(wd)\n",
      "os.getcwd()\n",
      "rsync = execnet.RSync(wd)\n",
      "gw = execnet.makegateway('ssh=fermi')\n",
      "rsync.add_target(gw, wd)\n"
     ],
     "language": "python",
     "metadata": {},
     "outputs": [],
     "prompt_number": 1
    },
    {
     "cell_type": "code",
     "collapsed": false,
     "input": [],
     "language": "python",
     "metadata": {},
     "outputs": [],
     "prompt_number": 25
    },
    {
     "cell_type": "code",
     "collapsed": false,
     "input": [
      "%%writefile $wd/mpi002.py\n",
      "\n",
      "from mpi4py import MPI\n",
      "import numpy as np \n",
      "\n",
      "comm = MPI.COMM_WORLD\n",
      "rank = comm.Get_rank()\n",
      "\n",
      "\n",
      "def numpy_diff2d(u,dx2,dy2,c):\n",
      "\n",
      "    A = (1.0-2.0*(c/dx2+c/dy2))\n",
      "    u[1:-1,1:-1] =A*u[1:-1,1:-1] + c/dy2*(u[2:,1:-1] + u[:-2,1:-1]) + \\\n",
      "                                   c/dx2*(u[1:-1,2:] + u[1:-1,:-2])\n",
      "\n",
      "        \n",
      "N=52\n",
      "Niter=211\n",
      "dx = 0.1\n",
      "dy = 0.1\n",
      "dx2 = dx*dx\n",
      "dy2 = dy*dy\n",
      "dt = 0.01\n",
      "D = 0.1\n",
      "c = D*dt\n",
      "\n",
      "u = np.zeros([N, N])       \n",
      "\n",
      "if rank == 0:\n",
      "    u[-2,u.shape[1]/2] = 1.0/np.sqrt(dx2*dy2)\n",
      "    print \"CLF = \",c/dx2,c/dy2\n",
      "    \n",
      "for i in range(Niter):\n",
      "    \n",
      "    if rank == 0:\n",
      "                        \n",
      "        comm.Send([u[-2,:], MPI.FLOAT], dest=1)\n",
      "        comm.Recv([u[-1,:], MPI.FLOAT], source=1)     \n",
      "        \n",
      "    elif rank == 1:               \n",
      "        comm.Recv([u[0,:], MPI.FLOAT], source=0)     \n",
      "        comm.Send([u[1,:], MPI.FLOAT], dest=0)\n",
      "\n",
      "       \n",
      "    numpy_diff2d(u,dx2,dy2,c)\n",
      "        \n",
      "#np.savez(\"udata%04d\"%rank, u=u)    \n",
      "U = comm.gather(u[1:-1,1:-1])\n",
      "if rank==0:\n",
      "    np.savez(\"Udata\", U=U)    \n",
      "    "
     ],
     "language": "python",
     "metadata": {},
     "outputs": [
      {
       "output_type": "stream",
       "stream": "stdout",
       "text": [
        "Writing /tmp/tmpG9A3TE/mpi002.py\n"
       ]
      }
     ],
     "prompt_number": 2
    },
    {
     "cell_type": "code",
     "collapsed": false,
     "input": [
      "!mpirun -n 2 python mpi002.py"
     ],
     "language": "python",
     "metadata": {},
     "outputs": [
      {
       "output_type": "stream",
       "stream": "stdout",
       "text": [
        "CLF =  0.1 0.1\r\n"
       ]
      }
     ],
     "prompt_number": 3
    },
    {
     "cell_type": "code",
     "collapsed": false,
     "input": [
      "data = np.load(\"Udata.npz\")\n",
      "imshow(np.vstack(data['U']))\n",
      "data['U'].shape"
     ],
     "language": "python",
     "metadata": {},
     "outputs": [
      {
       "metadata": {},
       "output_type": "pyout",
       "prompt_number": 4,
       "text": [
        "(2, 50, 50)"
       ]
      },
      {
       "metadata": {},
       "output_type": "display_data",
       "png": "[encoded data removed]",
       "text": [
        "<matplotlib.figure.Figure at 0x472a150>"
       ]
      }
     ],
     "prompt_number": 4
    },
    {
     "cell_type": "code",
     "collapsed": false,
     "input": [
      "!pwd"
     ],
     "language": "python",
     "metadata": {},
     "outputs": [
      {
       "output_type": "stream",
       "stream": "stdout",
       "text": [
        "/tmp/tmpG9A3TE\r\n"
       ]
      }
     ],
     "prompt_number": 5
    },
    {
     "cell_type": "markdown",
     "metadata": {},
     "source": [
      "## non-contigous slice"
     ]
    },
    {
     "cell_type": "code",
     "collapsed": false,
     "input": [
      "%%writefile mpi003.py\n",
      "\n",
      "from mpi4py import MPI\n",
      "import numpy as np \n",
      "\n",
      "comm = MPI.COMM_WORLD\n",
      "rank = comm.Get_rank()\n",
      "\n",
      "\n",
      "def numpy_diff2d(u,dx2,dy2,c):\n",
      "\n",
      "    A = (1.0-2.0*(c/dx2+c/dy2))\n",
      "    u[1:-1,1:-1] =A*u[1:-1,1:-1] + c/dy2*(u[2:,1:-1] + u[:-2,1:-1]) + \\\n",
      "                                   c/dx2*(u[1:-1,2:] + u[1:-1,:-2])\n",
      "\n",
      "        \n",
      "N=52\n",
      "Niter=211\n",
      "dx = 0.1\n",
      "dy = 0.1\n",
      "dx2 = dx*dx\n",
      "dy2 = dy*dy\n",
      "dt = 0.01\n",
      "D = 0.1\n",
      "c = D*dt\n",
      "\n",
      "u = np.zeros([N, N])       \n",
      "\n",
      "if rank == 0:\n",
      "    u[u.shape[1]/2,-2] = 1.0/np.sqrt(dx2*dy2)\n",
      "    print \"CLF = \",c/dx2,c/dy2\n",
      "  \n",
      "for i in range(Niter):\n",
      "    \n",
      "    if rank == 0:\n",
      "        OUT = u[:,-2].copy()  \n",
      "        IN = np.empty_like(OUT)\n",
      "        comm.Send([OUT, MPI.FLOAT], dest=1)\n",
      "        comm.Recv([IN, MPI.FLOAT], source=1)     \n",
      "        u[:,-1] = IN\n",
      "    elif rank == 1: \n",
      "        OUT = u[:,1].copy()\n",
      "        IN = np.empty_like(OUT)               \n",
      "        comm.Recv([IN, MPI.FLOAT], source=0)     \n",
      "        comm.Send([OUT, MPI.FLOAT], dest=0)\n",
      "        u[:,0] = IN\n",
      "        \n",
      "    numpy_diff2d(u,dx2,dy2,c)\n",
      "        \n",
      "np.savez(\"udata%04d\"%rank, u=u)    \n"
     ],
     "language": "python",
     "metadata": {},
     "outputs": [
      {
       "output_type": "stream",
       "stream": "stdout",
       "text": [
        "Overwriting mpi003.py\n"
       ]
      }
     ],
     "prompt_number": 27
    },
    {
     "cell_type": "code",
     "collapsed": false,
     "input": [
      "!mpirun -n 2 python mpi003.py"
     ],
     "language": "python",
     "metadata": {},
     "outputs": [
      {
       "output_type": "stream",
       "stream": "stdout",
       "text": [
        "CLF =  0.1 0.1\r\n"
       ]
      }
     ],
     "prompt_number": 28
    },
    {
     "cell_type": "code",
     "collapsed": false,
     "input": [
      "import numpy as np \n",
      "u1 = np.load('udata0000.npz')['u']\n",
      "u2 = np.load('udata0001.npz')['u']\n",
      "imshow(np.hstack([u1[:,:-1],u2[:,1:]]))"
     ],
     "language": "python",
     "metadata": {},
     "outputs": [
      {
       "metadata": {},
       "output_type": "pyout",
       "prompt_number": 29,
       "text": [
        "<matplotlib.image.AxesImage at 0x5818d50>"
       ]
      },
      {
       "metadata": {},
       "output_type": "display_data",
       "png": "[encoded data removed]",
       "text": [
        "<matplotlib.figure.Figure at 0x5209690>"
       ]
      }
     ],
     "prompt_number": 29
    },
    {
     "cell_type": "markdown",
     "metadata": {},
     "source": [
      "## N - slices"
     ]
    },
    {
     "cell_type": "code",
     "collapsed": false,
     "input": [
      "%%writefile $wd/mpi004.py\n",
      "\n",
      "from mpi4py import MPI\n",
      "  \n",
      "import numpy as np \n",
      "\n",
      "comm = MPI.COMM_WORLD\n",
      "rank = comm.Get_rank()\n",
      "Nproc = comm.size\n",
      "\n",
      "def numpy_diff2d(u,dx2,dy2,c):\n",
      "\n",
      "    A = (1.0-2.0*(c/dx2+c/dy2))\n",
      "    u[1:-1,1:-1] = A*u[1:-1,1:-1] + c/dy2*(u[2:,1:-1] + u[:-2,1:-1]) + \\\n",
      "                                    c/dx2*(u[1:-1,2:] + u[1:-1,:-2])\n",
      "\n",
      "N = 16*128        \n",
      "Nx = N\n",
      "Ny = N/Nproc\n",
      "\n",
      "Niter=200\n",
      "dx = 0.1\n",
      "dy = 0.1\n",
      "dx2 = dx*dx\n",
      "dy2 = dy*dy\n",
      "dt = 0.01\n",
      "D = 0.2\n",
      "c = D*dt\n",
      "\n",
      "u = np.zeros([Ny, Nx])       \n",
      "\n",
      "if rank == 0:\n",
      "    u[-2,u.shape[1]/2] = 1.0/np.sqrt(dx2*dy2)\n",
      "    print \"CLF = \",c/dx2,c/dy2\n",
      "\n",
      "t0 = MPI.Wtime()\n",
      "\n",
      "for i in range(Niter):\n",
      "    \n",
      "    if Nproc>1:\n",
      "        if rank == 0:       \n",
      "            comm.Send([u[-2,:], MPI.FLOAT], dest=1)\n",
      "        if rank >0  and rank < Nproc-1:\n",
      "            comm.Recv([u[0,:], MPI.FLOAT], source=rank-1)\n",
      "            comm.Send([u[-2,:], MPI.FLOAT], dest=rank+1)    \n",
      "        if rank == Nproc - 1:               \n",
      "            comm.Recv([u[0,:], MPI.FLOAT], source=Nproc-2)     \n",
      "            comm.Send([u[1,:], MPI.FLOAT], dest=Nproc-2)\n",
      "        if rank >0  and rank < Nproc-1:\n",
      "            comm.Recv([u[-1,:], MPI.FLOAT], source=rank+1)\n",
      "            comm.Send([u[1,:], MPI.FLOAT], dest=rank-1)\n",
      "        if rank == 0:\n",
      "            comm.Recv([u[-1,:], MPI.FLOAT], source=1)   \n",
      "    \n",
      "    #print rank\n",
      "    \n",
      "    comm.Barrier()\n",
      "    numpy_diff2d(u,dx2,dy2,c)\n",
      "\n",
      "t1 = MPI.Wtime()    \n",
      "print rank,t1-t0\n",
      "    \n",
      "#np.savez(\"udata%04d\"%rank, u=u)    \n",
      "if Nproc>1:\n",
      "    U = comm.gather(u[1:-1,1:-1])\n",
      "\n",
      "    if rank==0:\n",
      "         np.savez(\"Udata\", U=U)    \n",
      "    "
     ],
     "language": "python",
     "metadata": {},
     "outputs": [
      {
       "output_type": "stream",
       "stream": "stdout",
       "text": [
        "Overwriting /tmp/tmpG9A3TE/mpi004.py\n"
       ]
      }
     ],
     "prompt_number": 20
    },
    {
     "cell_type": "code",
     "collapsed": false,
     "input": [
      "rsync.add_target(gw, wd)\n",
      "rsync.send()"
     ],
     "language": "python",
     "metadata": {},
     "outputs": [
      {
       "output_type": "stream",
       "stream": "stdout",
       "text": [
        "<SshGateway id='gw0' receive-live, 1 active channels> <= Udata.npz\n",
        "<SshGateway id='gw0' receive-live, 1 active channels> <= mpi004.py"
       ]
      },
      {
       "output_type": "stream",
       "stream": "stdout",
       "text": [
        "\n"
       ]
      }
     ],
     "prompt_number": 21
    },
    {
     "cell_type": "code",
     "collapsed": false,
     "input": [
      "!mpirun -H fermi,fermi python mpi004.py"
     ],
     "language": "python",
     "metadata": {},
     "outputs": [
      {
       "output_type": "stream",
       "stream": "stdout",
       "text": [
        "CLF =  0.2 0.2\r\n"
       ]
      },
      {
       "output_type": "stream",
       "stream": "stdout",
       "text": [
        "0 21.7091870308\r\n",
        "1 21.7180411816\r\n"
       ]
      }
     ],
     "prompt_number": 28
    },
    {
     "cell_type": "code",
     "collapsed": false,
     "input": [
      "!mpirun -n 4 python mpi004.py"
     ],
     "language": "python",
     "metadata": {},
     "outputs": [
      {
       "output_type": "stream",
       "stream": "stdout",
       "text": [
        "CLF =  0.2 0.2\r\n"
       ]
      },
      {
       "output_type": "stream",
       "stream": "stdout",
       "text": [
        "1 5.37619614601\r\n",
        "3 5.37619686127\r\n",
        "0 5.3761510849\r\n",
        "2 5.37626099586\r\n"
       ]
      }
     ],
     "prompt_number": 27
    },
    {
     "cell_type": "code",
     "collapsed": false,
     "input": [
      "data = np.load(\"Udata.npz\")\n",
      "imshow(np.vstack(data['U']))\n",
      "data['U'].shape"
     ],
     "language": "python",
     "metadata": {},
     "outputs": [
      {
       "metadata": {},
       "output_type": "pyout",
       "prompt_number": 10,
       "text": [
        "(2, 1022, 2046)"
       ]
      },
      {
       "metadata": {},
       "output_type": "display_data",
       "png": "[encoded data removed]",
       "text": [
        "<matplotlib.figure.Figure at 0x45026d0>"
       ]
      }
     ],
     "prompt_number": 10
    },
    {
     "cell_type": "code",
     "collapsed": false,
     "input": [
      "a = np.arange(0,16).reshape(4,4)"
     ],
     "language": "python",
     "metadata": {},
     "outputs": [],
     "prompt_number": 66
    },
    {
     "cell_type": "code",
     "collapsed": false,
     "input": [
      "b = a[:,2]\n",
      "c = a[2,:]"
     ],
     "language": "python",
     "metadata": {},
     "outputs": [],
     "prompt_number": 76
    },
    {
     "cell_type": "code",
     "collapsed": false,
     "input": [
      "np.may_share_memory(a,b),np.may_share_memory(a,c)"
     ],
     "language": "python",
     "metadata": {},
     "outputs": [
      {
       "metadata": {},
       "output_type": "pyout",
       "prompt_number": 77,
       "text": [
        "(True, True)"
       ]
      }
     ],
     "prompt_number": 77
    },
    {
     "cell_type": "code",
     "collapsed": false,
     "input": [
      "a.flags"
     ],
     "language": "python",
     "metadata": {},
     "outputs": [
      {
       "metadata": {},
       "output_type": "pyout",
       "prompt_number": 78,
       "text": [
        "  C_CONTIGUOUS : True\n",
        "  F_CONTIGUOUS : False\n",
        "  OWNDATA : False\n",
        "  WRITEABLE : True\n",
        "  ALIGNED : True\n",
        "  UPDATEIFCOPY : False"
       ]
      }
     ],
     "prompt_number": 78
    },
    {
     "cell_type": "code",
     "collapsed": false,
     "input": [
      "b.flags"
     ],
     "language": "python",
     "metadata": {},
     "outputs": [
      {
       "metadata": {},
       "output_type": "pyout",
       "prompt_number": 79,
       "text": [
        "  C_CONTIGUOUS : False\n",
        "  F_CONTIGUOUS : False\n",
        "  OWNDATA : False\n",
        "  WRITEABLE : True\n",
        "  ALIGNED : True\n",
        "  UPDATEIFCOPY : False"
       ]
      }
     ],
     "prompt_number": 79
    },
    {
     "cell_type": "code",
     "collapsed": false,
     "input": [
      "c.flags"
     ],
     "language": "python",
     "metadata": {},
     "outputs": [
      {
       "metadata": {},
       "output_type": "pyout",
       "prompt_number": 80,
       "text": [
        "  C_CONTIGUOUS : True\n",
        "  F_CONTIGUOUS : True\n",
        "  OWNDATA : False\n",
        "  WRITEABLE : True\n",
        "  ALIGNED : True\n",
        "  UPDATEIFCOPY : False"
       ]
      }
     ],
     "prompt_number": 80
    },
    {
     "cell_type": "code",
     "collapsed": false,
     "input": [
      "a=np.array(range(6))"
     ],
     "language": "python",
     "metadata": {},
     "outputs": [],
     "prompt_number": 39
    },
    {
     "cell_type": "code",
     "collapsed": false,
     "input": [],
     "language": "python",
     "metadata": {},
     "outputs": []
    },
    {
     "cell_type": "code",
     "collapsed": false,
     "input": [
      "b = a[2:4]"
     ],
     "language": "python",
     "metadata": {},
     "outputs": [],
     "prompt_number": 17
    },
    {
     "cell_type": "code",
     "collapsed": false,
     "input": [
      "b=666\n"
     ],
     "language": "python",
     "metadata": {},
     "outputs": [],
     "prompt_number": 18
    },
    {
     "cell_type": "code",
     "collapsed": false,
     "input": [
      "print a."
     ],
     "language": "python",
     "metadata": {},
     "outputs": [
      {
       "output_type": "stream",
       "stream": "stdout",
       "text": [
        "None\n"
       ]
      }
     ],
     "prompt_number": 20
    },
    {
     "cell_type": "code",
     "collapsed": false,
     "input": [
      "np.may_share_memory?\n"
     ],
     "language": "python",
     "metadata": {},
     "outputs": [],
     "prompt_number": 60
    },
    {
     "cell_type": "code",
     "collapsed": false,
     "input": [],
     "language": "python",
     "metadata": {},
     "outputs": []
    }
   ],
   "metadata": {}
  }
 ]
}