{
 "cells": [
  {
   "cell_type": "markdown",
   "metadata": {},
   "source": [
    "## Fortran cython i numpy\n",
    "\n",
    "Porównanie różnych podejść - do rozwiązywanie równania dyfuzji jawnym algorytmem.\n",
    "\n",
    "Obliczanie operatora Laplace'a na siatce z f2py, stosując wektorowy kod w f90 działa najszybciej!\n",
    "\n"
   ]
  },
  {
   "cell_type": "code",
   "execution_count": 13,
   "metadata": {
    "collapsed": true
   },
   "outputs": [],
   "source": [
    "%matplotlib inline\n",
    "import matplotlib.pyplot as plt\n",
    "import numpy as np"
   ]
  },
  {
   "cell_type": "code",
   "execution_count": 5,
   "metadata": {
    "collapsed": false
   },
   "outputs": [],
   "source": [
    "%load_ext Cython"
   ]
  },
  {
   "cell_type": "code",
   "execution_count": 6,
   "metadata": {
    "collapsed": false
   },
   "outputs": [],
   "source": [
    "%%cython\n",
    "cimport cython\n",
    "cimport numpy as np\n",
    "\n",
    "@cython.wraparound(False)\n",
    "@cython.boundscheck(False)\n",
    "def cython_diff2d(np.ndarray[double, ndim=2] u,np.ndarray[double, ndim=2] v, double dx2, double dy2, double c):\n",
    "    cdef unsigned int i, j\n",
    "    for i in xrange(1,u.shape[0]-1):\n",
    "        for j in xrange(1, u.shape[1]-1):\n",
    "            v[i,j] = u[i,j] + c*( (u[i+1, j] + u[i-1, j]-2.0*u[i,j])/dy2 +\n",
    "                                  (u[i, j+1] + u[i, j-1]-2.0*u[i,j])/dx2 )\n",
    "\n",
    "            \n",
    "            "
   ]
  },
  {
   "cell_type": "code",
   "execution_count": 7,
   "metadata": {
    "collapsed": false
   },
   "outputs": [],
   "source": [
    "def numpy_diff2d(u,v,dx2,dy2,c):\n",
    "    v[1:-1,1:-1] =u[1:-1,1:-1] + c*((u[2:,1:-1]+u[:-2,1:-1]-2.0*u[1:-1,1:-1])/dy2 + \n",
    "                    (u[1:-1,2:] + u[1:-1,:-2]-2.0*u[1:-1,1:-1])/dx2)\n",
    "    "
   ]
  },
  {
   "cell_type": "code",
   "execution_count": 8,
   "metadata": {
    "collapsed": false
   },
   "outputs": [],
   "source": [
    "def numpy_diff2d_a(u,v,dx2,dy2,c):\n",
    "    A = (1.0-2.0*(c/dx2+c/dy2))\n",
    "    v[1:-1,1:-1] =A*u[1:-1,1:-1] + c/dy2*(u[2:,1:-1] + u[:-2,1:-1]) + \\\n",
    "                                   c/dx2*(u[1:-1,2:] + u[1:-1,:-2])\n",
    "    "
   ]
  },
  {
   "cell_type": "code",
   "execution_count": 9,
   "metadata": {
    "collapsed": false
   },
   "outputs": [],
   "source": [
    "def numpy_diff2d_b(u,v,dx2,dy2,c):\n",
    "    \n",
    "    v[1:-1,1:-1] =u[1:-1,1:-1] + c/dx2*(np.diff(u,2,axis=0)[:,1:-1] + np.diff(u,2,axis=1)[1:-1,:])\n",
    "    "
   ]
  },
  {
   "cell_type": "code",
   "execution_count": 14,
   "metadata": {
    "collapsed": false
   },
   "outputs": [],
   "source": [
    "def calc(N, Niter, func, dx2,dy2,c):\n",
    "    u = np.zeros([N, N])\n",
    "    v = np.zeros_like(u)\n",
    "    u[u.shape[0]/2,u.shape[1]/2] = 1.0/np.sqrt(dx2*dy2)\n",
    "    for i in range(Niter/2):\n",
    "        func(u,v,dx2,dy2,c)\n",
    "        func(v,u,dx2,dy2,c)\n",
    "    return u"
   ]
  },
  {
   "cell_type": "markdown",
   "metadata": {},
   "source": [
    "## Parametry symulacji"
   ]
  },
  {
   "cell_type": "code",
   "execution_count": 15,
   "metadata": {
    "collapsed": false
   },
   "outputs": [
    {
     "name": "stdout",
     "output_type": "stream",
     "text": [
      "CLF =  0.1 0.1\n"
     ]
    }
   ],
   "source": [
    "N=100\n",
    "dx = 0.1\n",
    "dy = 0.1\n",
    "dx2 = dx*dx\n",
    "dy2 = dy*dy\n",
    "dt = 0.01\n",
    "D = 0.1\n",
    "c = D*dt\n",
    "print \"CLF = \",c/dx2,c/dy2"
   ]
  },
  {
   "cell_type": "markdown",
   "metadata": {},
   "source": [
    "## Walidacja wyników"
   ]
  },
  {
   "cell_type": "code",
   "execution_count": 17,
   "metadata": {
    "collapsed": false
   },
   "outputs": [
    {
     "data": {
      "text/plain": [
       "<matplotlib.image.AxesImage at 0x7f6fcc3b7d90>"
      ]
     },
     "execution_count": 17,
     "metadata": {},
     "output_type": "execute_result"
    },
    {
     "data": {
      "image/png": "[encoded data removed]",
      "text/plain": [
       "<matplotlib.figure.Figure at 0x7f6f718e9f90>"
      ]
     },
     "metadata": {},
     "output_type": "display_data"
    }
   ],
   "source": [
    "u = calc(N,125,numpy_diff2d_b,dx2,dy2,c)\n",
    "plt.imshow(u)"
   ]
  },
  {
   "cell_type": "code",
   "execution_count": 18,
   "metadata": {
    "collapsed": false
   },
   "outputs": [
    {
     "data": {
      "text/plain": [
       "<matplotlib.image.AxesImage at 0x7f6fcbb04c10>"
      ]
     },
     "execution_count": 18,
     "metadata": {},
     "output_type": "execute_result"
    },
    {
     "data": {
      "image/png": "[encoded data removed]",
      "text/plain": [
       "<matplotlib.figure.Figure at 0x7f6fcc390610>"
      ]
     },
     "metadata": {},
     "output_type": "display_data"
    }
   ],
   "source": [
    "u = calc(N,125,cython_diff2d,dx2,dy2,c)\n",
    "plt.imshow(u)"
   ]
  },
  {
   "cell_type": "markdown",
   "metadata": {},
   "source": [
    "znamy rozwiązanie równania dyfuzji na nieskończonym obszarze startujące z punktu \n",
    "$$ u(x,0) = \\delta (x)$$\n",
    "\n",
    "$$ u(x,t) =  \\frac{1}{4 \\, \\pi D t}e^{\\left(-\\frac{x^{2} + y^{2}}{4  D t}\\right)}$$"
   ]
  },
  {
   "cell_type": "code",
   "execution_count": 19,
   "metadata": {
    "collapsed": false
   },
   "outputs": [
    {
     "data": {
      "image/png": "[encoded data removed]",
      "text/plain": [
       "<matplotlib.figure.Figure at 0x7f6fcc388fd0>"
      ]
     },
     "metadata": {},
     "output_type": "display_data"
    }
   ],
   "source": [
    "Lx,Ly = N/2*dx,N/2*dy\n",
    "x  = np.linspace(-Lx,Lx,N)\n",
    "y  = np.linspace(-Ly,Ly,N)\n",
    "\n",
    "X,Y = np.meshgrid(x,y )\n",
    "Niter = 125\n",
    "t = dt*Niter\n",
    "P = 1/(4*np.pi*D*t)*np.exp(-(X**2+Y**2)/(4*D*t) )\n",
    "plt.contourf(X,Y,P)\n",
    "plt.axes().set_aspect('equal')"
   ]
  },
  {
   "cell_type": "code",
   "execution_count": 20,
   "metadata": {
    "collapsed": false
   },
   "outputs": [
    {
     "data": {
      "text/plain": [
       "(0.98010000000000008, 1.0000000000000002)"
      ]
     },
     "execution_count": 20,
     "metadata": {},
     "output_type": "execute_result"
    }
   ],
   "source": [
    "u = calc(N,Niter,cython_diff2d,dx2,dy2,c)\n",
    "np.sum(P)*dx2,np.sum(u)*dx2"
   ]
  },
  {
   "cell_type": "code",
   "execution_count": 21,
   "metadata": {
    "collapsed": false
   },
   "outputs": [
    {
     "data": {
      "text/plain": [
       "[<matplotlib.lines.Line2D at 0x7f6fcbb378d0>]"
      ]
     },
     "execution_count": 21,
     "metadata": {},
     "output_type": "execute_result"
    },
    {
     "data": {
      "image/png": "[encoded data removed]",
      "text/plain": [
       "<matplotlib.figure.Figure at 0x7f6fcbb17050>"
      ]
     },
     "metadata": {},
     "output_type": "display_data"
    }
   ],
   "source": [
    "plt.plot(X[X.shape[0]/2,:],P[X.shape[0]/2,:],'b')\n",
    "plt.plot(X[X.shape[0]/2,:],u[X.shape[0]/2,:],'r')"
   ]
  },
  {
   "cell_type": "markdown",
   "metadata": {},
   "source": [
    "## Benchmarks"
   ]
  },
  {
   "cell_type": "code",
   "execution_count": 22,
   "metadata": {
    "collapsed": false
   },
   "outputs": [
    {
     "name": "stdout",
     "output_type": "stream",
     "text": [
      "CPU times: user 1.11 s, sys: 4 ms, total: 1.12 s\n",
      "Wall time: 1.11 s\n"
     ]
    }
   ],
   "source": [
    "%%time\n",
    "u = calc(1000,200,cython_diff2d,dx2,dy2,c)"
   ]
  },
  {
   "cell_type": "code",
   "execution_count": 23,
   "metadata": {
    "collapsed": false
   },
   "outputs": [
    {
     "name": "stdout",
     "output_type": "stream",
     "text": [
      "CPU times: user 3.13 s, sys: 1.79 s, total: 4.92 s\n",
      "Wall time: 4.91 s\n"
     ]
    }
   ],
   "source": [
    "%%time\n",
    "u = calc(1000,200,numpy_diff2d,dx2,dy2,c)"
   ]
  },
  {
   "cell_type": "code",
   "execution_count": 24,
   "metadata": {
    "collapsed": false
   },
   "outputs": [
    {
     "name": "stdout",
     "output_type": "stream",
     "text": [
      "CPU times: user 2.02 s, sys: 492 ms, total: 2.52 s\n",
      "Wall time: 2.51 s\n"
     ]
    }
   ],
   "source": [
    "%%time\n",
    "u = calc(1000,200,numpy_diff2d_a,dx2,dy2,c)"
   ]
  },
  {
   "cell_type": "code",
   "execution_count": 25,
   "metadata": {
    "collapsed": false
   },
   "outputs": [
    {
     "name": "stdout",
     "output_type": "stream",
     "text": [
      "CPU times: user 1.89 s, sys: 816 ms, total: 2.71 s\n",
      "Wall time: 2.7 s\n"
     ]
    }
   ],
   "source": [
    "%%time\n",
    "u = calc(1000,200,numpy_diff2d_b,dx2,dy2,c)"
   ]
  },
  {
   "cell_type": "code",
   "execution_count": 33,
   "metadata": {
    "collapsed": false
   },
   "outputs": [],
   "source": [
    "\n"
   ]
  },
  {
   "cell_type": "code",
   "execution_count": 26,
   "metadata": {
    "collapsed": false
   },
   "outputs": [],
   "source": [
    "N = 1000\n",
    "fortran_source = \"\"\"\n",
    "\n",
    "subroutine fortran_diff2d(u, v, dx2, dy2, c)\n",
    "real(8), intent(inout) :: u({0}, {1})\n",
    "real(8), intent(inout) :: v({0}, {1})\n",
    "real(8), intent(in) :: dx2, dy2, c\n",
    "v(2:{0}-1,2:{1}-1) = u(2:{0}-1,2:{1}-1)+ c*( (u(3:,2:{1}-1)+u(:{0}-2,2:{1}-1))/dy2 + &\n",
    "        (u(2:{0}-1,3:) + u(2:{0}-1,:{1}-2))/dx2)\n",
    "end subroutine \n",
    "\n",
    "\"\"\".format(N,N)\n",
    "\n",
    "fp = open(\"myfile.f90\", \"w\")\n",
    "fp.write(fortran_source)\n",
    "fp.close()\n"
   ]
  },
  {
   "cell_type": "code",
   "execution_count": 27,
   "metadata": {
    "collapsed": false
   },
   "outputs": [
    {
     "name": "stdout",
     "output_type": "stream",
     "text": [
      "\r\n",
      "\r\n",
      "subroutine fortran_diff2d(u, v, dx2, dy2, c)\r\n",
      "real(8), intent(inout) :: u(1000, 1000)\r\n",
      "real(8), intent(inout) :: v(1000, 1000)\r\n",
      "real(8), intent(in) :: dx2, dy2, c\r\n",
      "v(2:1000-1,2:1000-1) = u(2:1000-1,2:1000-1)+ c*( (u(3:,2:1000-1)+u(:1000-2,2:1000-1))/dy2 + &\r\n",
      "        (u(2:1000-1,3:) + u(2:1000-1,:1000-2))/dx2)\r\n",
      "end subroutine \r\n",
      "\r\n"
     ]
    }
   ],
   "source": [
    "!cat myfile.f90\n"
   ]
  },
  {
   "cell_type": "code",
   "execution_count": 28,
   "metadata": {
    "collapsed": false
   },
   "outputs": [],
   "source": [
    "%%capture f2pylog\n",
    "!f2py -c -m my_fortran_module myfile.f90"
   ]
  },
  {
   "cell_type": "code",
   "execution_count": 29,
   "metadata": {
    "collapsed": false
   },
   "outputs": [],
   "source": [
    "from my_fortran_module import fortran_diff2d"
   ]
  },
  {
   "cell_type": "code",
   "execution_count": 30,
   "metadata": {
    "collapsed": false
   },
   "outputs": [],
   "source": [
    "def calcF(N, Niter, func, dx2,dy2,c):\n",
    "    u = np.zeros([N, N],order='F')\n",
    "    v = np.zeros_like(u)\n",
    "    u[u.shape[0]/2,u.shape[1]/2] = 1.0/np.sqrt(dx2*dy2)\n",
    "    for i in range(Niter/2):\n",
    "        func(u,v,dx2,dy2,c)\n",
    "        func(v,u,dx2,dy2,c)\n",
    "    return u"
   ]
  },
  {
   "cell_type": "code",
   "execution_count": 31,
   "metadata": {
    "collapsed": false
   },
   "outputs": [
    {
     "name": "stdout",
     "output_type": "stream",
     "text": [
      "CPU times: user 584 ms, sys: 0 ns, total: 584 ms\n",
      "Wall time: 580 ms\n"
     ]
    }
   ],
   "source": [
    "%%time\n",
    "u = calcF(1000,200,fortran_diff2d,dx2,dy2,c)"
   ]
  },
  {
   "cell_type": "markdown",
   "metadata": {},
   "source": [
    "### Najszybsza wersja - wektorowy Fortran\n",
    "\n",
    "Warto zauważyć, że:\n",
    "\n",
    " - nie zawsze jest taka duża różnica miedzy numpy/Cython/Fortran, *sprawdź dla np. mapowania funkcji na tablicy wartości*\n",
    " - numpy jest kilka razy wolniejsze bo przy każdym działaniu stosuje wartości pośrednie\n",
    " - istnieje możliwośc obejścia z pomocą modułu numexpr, który kompiluje całe wyrażenie na tablicy numpy, *sprawdź!*\n",
    " - wektorowy Fortran najefektywniej kompiluje wyrażenia typu $u_i+u_{i+1}$\n",
    " \n",
    "Wniosek - warto stosować Fortran do pewnych operacji!\n",
    "\n",
    "## Automatyczna generacja kodu\n",
    "\n",
    "*Problem: kompilowane moduły nie mogą być ponownie ładowane.*\n",
    "\n",
    "Przeanalizujmy prostą metodę generacji kodu \n"
   ]
  },
  {
   "cell_type": "code",
   "execution_count": 33,
   "metadata": {
    "collapsed": false
   },
   "outputs": [
    {
     "data": {
      "text/plain": [
       "'/home/users/marcin.kostur/ProgramowanieRownolegle/MPI\\n'"
      ]
     },
     "execution_count": 33,
     "metadata": {},
     "output_type": "execute_result"
    }
   ],
   "source": [
    "import subprocess\n",
    "subprocess.check_output([\"pwd\"])"
   ]
  },
  {
   "cell_type": "code",
   "execution_count": 34,
   "metadata": {
    "collapsed": false
   },
   "outputs": [],
   "source": [
    "import subprocess\n",
    "import importlib\n",
    "\n",
    "counter = 12"
   ]
  },
  {
   "cell_type": "code",
   "execution_count": 35,
   "metadata": {
    "collapsed": false
   },
   "outputs": [],
   "source": [
    "def prepare_fortran_module(N=100):\n",
    "    \n",
    "    global counter\n",
    "    fortran_source = \"\"\"\n",
    "\n",
    "subroutine fortran_diff2d(u, v, dx2, dy2, c)\n",
    "real(8), intent(in) :: u({0}, {1})\n",
    "real(8), intent(inout) :: v({0}, {1})\n",
    "real(8), intent(in) :: dx2, dy2, c\n",
    "v(2:{0}-1,2:{1}-1) = u(2:{0}-1,2:{1}-1)+ c*( (u(3:,2:{1}-1)+u(:{0}-2,2:{1}-1))/dy2 + &\n",
    "        (u(2:{0}-1,3:) + u(2:{0}-1,:{1}-2))/dx2)\n",
    "end subroutine \n",
    "\n",
    "subroutine fortran_diff2d_a(u, dx2, dy2, c)\n",
    "real(8), intent(inout) :: u({0}, {1})\n",
    "real(8), intent(in) :: dx2, dy2, c\n",
    "u(2:{0}-1,2:{1}-1) = u(2:{0}-1,2:{1}-1)+ c*( (u(3:,2:{1}-1)+u(:{0}-2,2:{1}-1))/dy2 + &\n",
    "        (u(2:{0}-1,3:) + u(2:{0}-1,:{1}-2))/dx2)\n",
    "end subroutine \n",
    "\n",
    "\"\"\".format(N,N)\n",
    "\n",
    "    fp = open(\"myfile.f90\", \"w\")\n",
    "    fp.write(fortran_source)\n",
    "    fp.close()\n",
    "    counter=counter+1\n",
    "    try:\n",
    "        output = subprocess.check_output([\"f2py\", \"-c\",\"-m\", \"fortran_module%05d\"%counter, \"myfile.f90\"])\n",
    "        m = importlib.import_module(\"fortran_module%05d\"%counter)\n",
    "    except:\n",
    "        print \"problem z kompilacja!\"\n",
    "        return output    \n",
    "    \n",
    "    return m"
   ]
  },
  {
   "cell_type": "code",
   "execution_count": 36,
   "metadata": {
    "collapsed": false
   },
   "outputs": [],
   "source": [
    "fortran_module = prepare_fortran_module(N=1000)\n"
   ]
  },
  {
   "cell_type": "code",
   "execution_count": 37,
   "metadata": {
    "collapsed": false
   },
   "outputs": [],
   "source": [
    "fortran_diff2d, fortran_diff2d_a = fortran_module.fortran_diff2d, fortran_module.fortran_diff2d_a"
   ]
  },
  {
   "cell_type": "code",
   "execution_count": 38,
   "metadata": {
    "collapsed": false
   },
   "outputs": [],
   "source": [
    "def calcF(N, Niter, func, dx2,dy2,c):\n",
    "    u = np.zeros([N, N],order='F')\n",
    "    v = np.zeros_like(u)\n",
    "    u[u.shape[0]/2,u.shape[1]/2] = 1.0/np.sqrt(dx2*dy2)\n",
    "    for i in range(Niter/2):\n",
    "        func(u,v,dx2,dy2,c)\n",
    "        func(v,u,dx2,dy2,c)\n",
    "    return u"
   ]
  },
  {
   "cell_type": "markdown",
   "metadata": {},
   "source": [
    "teraz możemy skompilować wielokrotnie ten sam kod i załadować modluł"
   ]
  },
  {
   "cell_type": "code",
   "execution_count": 40,
   "metadata": {
    "collapsed": false
   },
   "outputs": [
    {
     "data": {
      "text/plain": [
       "<matplotlib.image.AxesImage at 0x7f6fcbd17610>"
      ]
     },
     "execution_count": 40,
     "metadata": {},
     "output_type": "execute_result"
    },
    {
     "data": {
      "image/png": "[encoded data removed]",
      "text/plain": [
       "<matplotlib.figure.Figure at 0x7f6f718df890>"
      ]
     },
     "metadata": {},
     "output_type": "display_data"
    }
   ],
   "source": [
    "N = 1000\n",
    "\n",
    "fortran_module = prepare_fortran_module(N=N)\n",
    "fortran_diff2d, fortran_diff2d_a = fortran_module.fortran_diff2d, fortran_module.fortran_diff2d_a\n",
    "\n",
    "u = calcF(N,1225,fortran_diff2d,dx2,dy2,c)\n",
    "plt.imshow(u)"
   ]
  },
  {
   "cell_type": "code",
   "execution_count": 42,
   "metadata": {
    "collapsed": false
   },
   "outputs": [],
   "source": [
    "def calcF_a(N, Niter, func, dx2,dy2,c):\n",
    "    u = np.zeros([N, N],order='F')\n",
    "    v = np.zeros_like(u)\n",
    "    u[u.shape[0]/2,u.shape[1]/2] = 1.0/np.sqrt(dx2*dy2)\n",
    "    for i in range(Niter):\n",
    "        func(u,dx2,dy2,c)\n",
    "    return u"
   ]
  },
  {
   "cell_type": "code",
   "execution_count": 43,
   "metadata": {
    "collapsed": false
   },
   "outputs": [
    {
     "data": {
      "text/plain": [
       "<matplotlib.image.AxesImage at 0x7f6fcbc77ed0>"
      ]
     },
     "execution_count": 43,
     "metadata": {},
     "output_type": "execute_result"
    },
    {
     "data": {
      "image/png": "[encoded data removed]",
      "text/plain": [
       "<matplotlib.figure.Figure at 0x7f6fcb9e7e50>"
      ]
     },
     "metadata": {},
     "output_type": "display_data"
    }
   ],
   "source": [
    "u = calcF_a(1000,1225,fortran_diff2d_a,dx2,dy2,c)\n",
    "plt.imshow(u)"
   ]
  },
  {
   "cell_type": "code",
   "execution_count": 44,
   "metadata": {
    "collapsed": false
   },
   "outputs": [
    {
     "name": "stdout",
     "output_type": "stream",
     "text": [
      "CPU times: user 2.05 s, sys: 144 ms, total: 2.2 s\n",
      "Wall time: 2.03 s\n"
     ]
    }
   ],
   "source": [
    "%%time\n",
    "u = calc(1000,200,numpy_diff2d_a,dx2,dy2,c)"
   ]
  },
  {
   "cell_type": "code",
   "execution_count": 45,
   "metadata": {
    "collapsed": false
   },
   "outputs": [
    {
     "name": "stdout",
     "output_type": "stream",
     "text": [
      "CPU times: user 1.04 s, sys: 0 ns, total: 1.04 s\n",
      "Wall time: 1.04 s\n"
     ]
    }
   ],
   "source": [
    "%%time\n",
    "u = calc(1000,200,cython_diff2d,dx2,dy2,c)"
   ]
  },
  {
   "cell_type": "code",
   "execution_count": 46,
   "metadata": {
    "collapsed": false
   },
   "outputs": [],
   "source": [
    "fortran_diff2d = prepare_fortran_module(N=1000).fortran_diff2d"
   ]
  },
  {
   "cell_type": "code",
   "execution_count": 47,
   "metadata": {
    "collapsed": false
   },
   "outputs": [
    {
     "name": "stdout",
     "output_type": "stream",
     "text": [
      "CPU times: user 572 ms, sys: 0 ns, total: 572 ms\n",
      "Wall time: 573 ms\n"
     ]
    }
   ],
   "source": [
    "%%time\n",
    "u = calcF(1000,200,fortran_diff2d,dx2,dy2,c)"
   ]
  },
  {
   "cell_type": "code",
   "execution_count": 48,
   "metadata": {
    "collapsed": false
   },
   "outputs": [
    {
     "name": "stdout",
     "output_type": "stream",
     "text": [
      "CPU times: user 608 ms, sys: 0 ns, total: 608 ms\n",
      "Wall time: 609 ms\n"
     ]
    }
   ],
   "source": [
    "%%time\n",
    "u = calcF_a(1000,200,fortran_diff2d_a,dx2,dy2,c)\n"
   ]
  },
  {
   "cell_type": "code",
   "execution_count": 53,
   "metadata": {
    "collapsed": false
   },
   "outputs": [],
   "source": []
  }
 ],
 "metadata": {
  "kernelspec": {
   "display_name": "GPU2, Python 2",
   "language": "python2",
   "name": "gpu2"
  },
  "language_info": {
   "codemirror_mode": {
    "name": "ipython",
    "version": 2
   },
   "file_extension": ".py",
   "mimetype": "text/x-python",
   "name": "python",
   "nbconvert_exporter": "python",
   "pygments_lexer": "ipython2",
   "version": "2.7.6"
  }
 },
 "nbformat": 4,
 "nbformat_minor": 0
}
