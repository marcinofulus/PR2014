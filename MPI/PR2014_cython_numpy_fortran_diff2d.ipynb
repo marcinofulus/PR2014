{
 "metadata": {
  "name": "",
  "signature": "sha256:151496c7c32b1c00929df79bc41117b2cc68ecd24ff1cc7989a197d449c9b06d"
 },
 "nbformat": 3,
 "nbformat_minor": 0,
 "worksheets": [
  {
   "cells": [
    {
     "cell_type": "markdown",
     "metadata": {},
     "source": [
      "## Fortran cython i numpy\n",
      "\n",
      "Por\u00f3wnanie r\u00f3\u017cnych podej\u015b\u0107 - do rozwi\u0105zywanie r\u00f3wnania dyfuzji jawnym algorytmem.\n",
      "\n",
      "Obliczanie operatora Laplace'a na siatce z f2py, stosuj\u0105c wektorowy kod w f90 dzia\u0142a najszybciej!\n",
      "\n"
     ]
    },
    {
     "cell_type": "code",
     "collapsed": false,
     "input": [
      "%load_ext cythonmagic"
     ],
     "language": "python",
     "metadata": {},
     "outputs": [
      {
       "output_type": "stream",
       "stream": "stdout",
       "text": [
        "The cythonmagic extension is already loaded. To reload it, use:\n",
        "  %reload_ext cythonmagic\n"
       ]
      }
     ],
     "prompt_number": 18
    },
    {
     "cell_type": "code",
     "collapsed": false,
     "input": [
      "%%cython\n",
      "cimport cython\n",
      "cimport numpy as np\n",
      "\n",
      "@cython.wraparound(False)\n",
      "@cython.boundscheck(False)\n",
      "def cython_diff2d(np.ndarray[double, ndim=2] u,np.ndarray[double, ndim=2] v, double dx2, double dy2, double c):\n",
      "    cdef unsigned int i, j\n",
      "    for i in xrange(1,u.shape[0]-1):\n",
      "        for j in xrange(1, u.shape[1]-1):\n",
      "            v[i,j] = u[i,j] + c*( (u[i+1, j] + u[i-1, j]-2.0*u[i,j])/dy2 +\n",
      "                                  (u[i, j+1] + u[i, j-1]-2.0*u[i,j])/dx2 )\n",
      "\n",
      "            \n",
      "            "
     ],
     "language": "python",
     "metadata": {},
     "outputs": [],
     "prompt_number": 19
    },
    {
     "cell_type": "code",
     "collapsed": false,
     "input": [
      "def numpy_diff2d(u,v,dx2,dy2,c):\n",
      "    v[1:-1,1:-1] =u[1:-1,1:-1] + c*((u[2:,1:-1]+u[:-2,1:-1]-2.0*u[1:-1,1:-1])/dy2 + \n",
      "                    (u[1:-1,2:] + u[1:-1,:-2]-2.0*u[1:-1,1:-1])/dx2)\n",
      "    "
     ],
     "language": "python",
     "metadata": {},
     "outputs": [],
     "prompt_number": 20
    },
    {
     "cell_type": "code",
     "collapsed": false,
     "input": [
      "def numpy_diff2d_a(u,v,dx2,dy2,c):\n",
      "    A = (1.0-2.0*(c/dx2+c/dy2))\n",
      "    v[1:-1,1:-1] =A*u[1:-1,1:-1] + c/dy2*(u[2:,1:-1] + u[:-2,1:-1]) + \\\n",
      "                                   c/dx2*(u[1:-1,2:] + u[1:-1,:-2])\n",
      "    "
     ],
     "language": "python",
     "metadata": {},
     "outputs": [],
     "prompt_number": 21
    },
    {
     "cell_type": "code",
     "collapsed": false,
     "input": [
      "def numpy_diff2d_b(u,v,dx2,dy2,c):\n",
      "    \n",
      "    v[1:-1,1:-1] =u[1:-1,1:-1] + c/dx2*(np.diff(u,2,axis=0)[:,1:-1] + np.diff(u,2,axis=1)[1:-1,:])\n",
      "    "
     ],
     "language": "python",
     "metadata": {},
     "outputs": [],
     "prompt_number": 22
    },
    {
     "cell_type": "code",
     "collapsed": false,
     "input": [
      "def calc(N, Niter, func, dx2,dy2,c):\n",
      "    u = np.zeros([N, N])\n",
      "    v = np.zeros_like(u)\n",
      "    u[u.shape[0]/2,u.shape[1]/2] = 1.0/np.sqrt(dx2*dy2)\n",
      "    for i in range(Niter/2):\n",
      "        func(u,v,dx2,dy2,c)\n",
      "        func(v,u,dx2,dy2,c)\n",
      "    return u"
     ],
     "language": "python",
     "metadata": {},
     "outputs": [],
     "prompt_number": 23
    },
    {
     "cell_type": "markdown",
     "metadata": {},
     "source": [
      "## Parametry symulacji"
     ]
    },
    {
     "cell_type": "code",
     "collapsed": false,
     "input": [
      "N=100\n",
      "dx = 0.1\n",
      "dy = 0.1\n",
      "dx2 = dx*dx\n",
      "dy2 = dy*dy\n",
      "dt = 0.01\n",
      "D = 0.1\n",
      "c = D*dt\n",
      "print \"CLF = \",c/dx2,c/dy2"
     ],
     "language": "python",
     "metadata": {},
     "outputs": [
      {
       "output_type": "stream",
       "stream": "stdout",
       "text": [
        "CLF =  0.1 0.1\n"
       ]
      }
     ],
     "prompt_number": 24
    },
    {
     "cell_type": "markdown",
     "metadata": {},
     "source": [
      "## Walidacja wynik\u00f3w"
     ]
    },
    {
     "cell_type": "code",
     "collapsed": false,
     "input": [
      "u=calc(N,125,numpy_diff2d_b,dx2,dy2,c)\n",
      "imshow(u)"
     ],
     "language": "python",
     "metadata": {},
     "outputs": [
      {
       "metadata": {},
       "output_type": "pyout",
       "prompt_number": 25,
       "text": [
        "<matplotlib.image.AxesImage at 0x5160050>"
       ]
      },
      {
       "metadata": {},
       "output_type": "display_data",
       "png": "[encoded data removed]",
       "text": [
        "<matplotlib.figure.Figure at 0x5149f90>"
       ]
      }
     ],
     "prompt_number": 25
    },
    {
     "cell_type": "code",
     "collapsed": false,
     "input": [
      "u=calc(N,125,cython_diff2d,dx2,dy2,c)\n",
      "imshow(u)"
     ],
     "language": "python",
     "metadata": {},
     "outputs": [
      {
       "metadata": {},
       "output_type": "pyout",
       "prompt_number": 26,
       "text": [
        "<matplotlib.image.AxesImage at 0x5952fd0>"
       ]
      },
      {
       "metadata": {},
       "output_type": "display_data",
       "png": "[encoded data removed]",
       "text": [
        "<matplotlib.figure.Figure at 0x512ee50>"
       ]
      }
     ],
     "prompt_number": 26
    },
    {
     "cell_type": "markdown",
     "metadata": {},
     "source": [
      "znamy rozwi\u0105zanie r\u00f3wnania dyfuzji na niesko\u0144czonym obszarze startuj\u0105ce z punktu \n",
      "$$ u(x,0) = \\delta (x)$$\n",
      "\n",
      "$$ u(x,t) =  \\frac{1}{4 \\, \\pi D t}e^{\\left(-\\frac{x^{2} + y^{2}}{4  D t}\\right)}$$"
     ]
    },
    {
     "cell_type": "code",
     "collapsed": false,
     "input": [
      "Lx,Ly = N/2*dx,N/2*dy\n",
      "x  = np.linspace(-Lx,Lx,N)\n",
      "y  = np.linspace(-Ly,Ly,N)\n",
      "\n",
      "X,Y = np.meshgrid(x,y )\n",
      "Niter = 125\n",
      "t = dt*Niter\n",
      "P = 1/(4*np.pi*D*t)*np.exp(-(X**2+Y**2)/(4*D*t) )\n",
      "contourf(X,Y,P)\n",
      "axes().set_aspect('equal')"
     ],
     "language": "python",
     "metadata": {},
     "outputs": [
      {
       "metadata": {},
       "output_type": "display_data",
       "png": "[encoded data removed]",
       "text": [
        "<matplotlib.figure.Figure at 0x512a490>"
       ]
      }
     ],
     "prompt_number": 27
    },
    {
     "cell_type": "code",
     "collapsed": false,
     "input": [
      "u=calc(N,Niter,cython_diff2d,dx2,dy2,c)\n",
      "np.sum(P)*dx2,np.sum(u)*dx2"
     ],
     "language": "python",
     "metadata": {},
     "outputs": [
      {
       "metadata": {},
       "output_type": "pyout",
       "prompt_number": 28,
       "text": [
        "(0.98010000000000541, 0.99999999999999734)"
       ]
      }
     ],
     "prompt_number": 28
    },
    {
     "cell_type": "code",
     "collapsed": false,
     "input": [
      "plot(X[X.shape[0]/2,:],P[X.shape[0]/2,:],'b')\n",
      "plot(X[X.shape[0]/2,:],u[X.shape[0]/2,:],'r')"
     ],
     "language": "python",
     "metadata": {},
     "outputs": [
      {
       "metadata": {},
       "output_type": "pyout",
       "prompt_number": 29,
       "text": [
        "[<matplotlib.lines.Line2D at 0x558f690>]"
       ]
      },
      {
       "metadata": {},
       "output_type": "display_data",
       "png": "[encoded data removed]",
       "text": [
        "<matplotlib.figure.Figure at 0x50bde90>"
       ]
      }
     ],
     "prompt_number": 29
    },
    {
     "cell_type": "markdown",
     "metadata": {},
     "source": [
      "## Benchmarks"
     ]
    },
    {
     "cell_type": "code",
     "collapsed": false,
     "input": [
      "%%time\n",
      "u=calc(1000,200,cython_diff2d,dx2,dy2,c)"
     ],
     "language": "python",
     "metadata": {},
     "outputs": [
      {
       "output_type": "stream",
       "stream": "stdout",
       "text": [
        "CPU times: user 1.16 s, sys: 4 ms, total: 1.17 s\n",
        "Wall time: 1.17 s\n"
       ]
      }
     ],
     "prompt_number": 30
    },
    {
     "cell_type": "code",
     "collapsed": false,
     "input": [
      "%%time\n",
      "u=calc(1000,200,numpy_diff2d,dx2,dy2,c)"
     ],
     "language": "python",
     "metadata": {},
     "outputs": [
      {
       "output_type": "stream",
       "stream": "stdout",
       "text": [
        "CPU times: user 4.34 s, sys: 3.45 s, total: 7.8 s\n",
        "Wall time: 7.81 s\n"
       ]
      }
     ],
     "prompt_number": 31
    },
    {
     "cell_type": "code",
     "collapsed": false,
     "input": [
      "%%time\n",
      "u=calc(1000,200,numpy_diff2d_a,dx2,dy2,c)"
     ],
     "language": "python",
     "metadata": {},
     "outputs": [
      {
       "output_type": "stream",
       "stream": "stdout",
       "text": [
        "CPU times: user 2.42 s, sys: 848 ms, total: 3.27 s\n",
        "Wall time: 3.28 s\n"
       ]
      }
     ],
     "prompt_number": 32
    },
    {
     "cell_type": "code",
     "collapsed": false,
     "input": [
      "%%time\n",
      "u=calc(1000,200,numpy_diff2d_b,dx2,dy2,c)"
     ],
     "language": "python",
     "metadata": {},
     "outputs": [
      {
       "output_type": "stream",
       "stream": "stdout",
       "text": [
        "CPU times: user 2.5 s, sys: 1.58 s, total: 4.08 s\n",
        "Wall time: 4.09 s\n"
       ]
      }
     ],
     "prompt_number": 33
    },
    {
     "cell_type": "code",
     "collapsed": false,
     "input": [
      "\n"
     ],
     "language": "python",
     "metadata": {},
     "outputs": [],
     "prompt_number": 33
    },
    {
     "cell_type": "code",
     "collapsed": false,
     "input": [
      "N = 1000\n",
      "fortran_source = \"\"\"\n",
      "\n",
      "subroutine fortran_diff2d(u, v, dx2, dy2, c)\n",
      "real(8), intent(inout) :: u({0}, {1})\n",
      "real(8), intent(inout) :: v({0}, {1})\n",
      "real(8), intent(in) :: dx2, dy2, c\n",
      "v(2:{0}-1,2:{1}-1) = u(2:{0}-1,2:{1}-1)+ c*( (u(3:,2:{1}-1)+u(:{0}-2,2:{1}-1))/dy2 + &\n",
      "        (u(2:{0}-1,3:) + u(2:{0}-1,:{1}-2))/dx2)\n",
      "end subroutine \n",
      "\n",
      "\"\"\".format(N,N)\n",
      "\n",
      "fp = open(\"myfile.f90\", \"w\")\n",
      "fp.write(fortran_source)\n",
      "fp.close()\n"
     ],
     "language": "python",
     "metadata": {},
     "outputs": [],
     "prompt_number": 34
    },
    {
     "cell_type": "code",
     "collapsed": false,
     "input": [
      "!cat myfile.f90\n"
     ],
     "language": "python",
     "metadata": {},
     "outputs": [
      {
       "output_type": "stream",
       "stream": "stdout",
       "text": [
        "\r\n",
        "\r\n",
        "subroutine fortran_diff2d(u, v, dx2, dy2, c)\r\n",
        "real(8), intent(inout) :: u(1000, 1000)\r\n",
        "real(8), intent(inout) :: v(1000, 1000)\r\n",
        "real(8), intent(in) :: dx2, dy2, c\r\n",
        "v(2:1000-1,2:1000-1) = u(2:1000-1,2:1000-1)+ c*( (u(3:,2:1000-1)+u(:1000-2,2:1000-1))/dy2 + &\r\n",
        "        (u(2:1000-1,3:) + u(2:1000-1,:1000-2))/dx2)\r\n",
        "end subroutine \r\n",
        "\r\n"
       ]
      }
     ],
     "prompt_number": 35
    },
    {
     "cell_type": "code",
     "collapsed": false,
     "input": [
      "%%capture f2pylog\n",
      "!f2py -c -m my_fortran_module myfile.f90"
     ],
     "language": "python",
     "metadata": {},
     "outputs": [],
     "prompt_number": 36
    },
    {
     "cell_type": "code",
     "collapsed": false,
     "input": [
      "from my_fortran_module import fortran_diff2d"
     ],
     "language": "python",
     "metadata": {},
     "outputs": [],
     "prompt_number": 37
    },
    {
     "cell_type": "code",
     "collapsed": false,
     "input": [
      "def calcF(N, Niter, func, dx2,dy2,c):\n",
      "    u = np.zeros([N, N],order='F')\n",
      "    v = np.zeros_like(u)\n",
      "    u[u.shape[0]/2,u.shape[1]/2] = 1.0/np.sqrt(dx2*dy2)\n",
      "    for i in range(Niter/2):\n",
      "        func(u,v,dx2,dy2,c)\n",
      "        func(v,u,dx2,dy2,c)\n",
      "    return u"
     ],
     "language": "python",
     "metadata": {},
     "outputs": [],
     "prompt_number": 38
    },
    {
     "cell_type": "code",
     "collapsed": false,
     "input": [
      "%%time\n",
      "u=calcF(1000,200,fortran_diff2d,dx2,dy2,c)"
     ],
     "language": "python",
     "metadata": {},
     "outputs": [
      {
       "output_type": "stream",
       "stream": "stdout",
       "text": [
        "CPU times: user 584 ms, sys: 4 ms, total: 588 ms\n",
        "Wall time: 588 ms\n"
       ]
      }
     ],
     "prompt_number": 39
    },
    {
     "cell_type": "markdown",
     "metadata": {},
     "source": [
      "### Najszybsza wersja - wektorowy Fortran\n",
      "\n",
      "Warto zauwa\u017cy\u0107, \u017ce:\n",
      "\n",
      " - nie zawsze jest taka du\u017ca r\u00f3\u017cnica miedzy numpy/Cython/Fortran, *sprawd\u017a dla np. mapowania funkcji na tablicy warto\u015bci*\n",
      " - numpy jest kilka razy wolniejsze bo przy ka\u017cdym dzia\u0142aniu stosuje warto\u015bci po\u015brednie\n",
      " - istnieje mo\u017cliwo\u015bc obej\u015bcia z pomoc\u0105 modu\u0142u numexpr, kt\u00f3ry kompiluje ca\u0142e wyra\u017cenie na tablicy numpy, *sprawd\u017a!*\n",
      " - wektorowy Fortran najefektywniej kompiluje wyra\u017cenia typu $u_i+u_{i+1}$\n",
      " \n",
      "Wniosek - warto stosowa\u0107 Fortran do pewnych operacji!\n",
      "\n",
      "## Automatyczna generacja kodu\n",
      "\n",
      "*Problem: kompilowane modu\u0142y nie mog\u0105 by\u0107 ponownie \u0142adowane.*\n",
      "\n",
      "Przeanalizujmy prost\u0105 metod\u0119 generacji kodu \n"
     ]
    },
    {
     "cell_type": "code",
     "collapsed": false,
     "input": [
      "import subprocess\n",
      "subprocess.check_output([\"pwd\"])"
     ],
     "language": "python",
     "metadata": {},
     "outputs": [
      {
       "metadata": {},
       "output_type": "pyout",
       "prompt_number": 40,
       "text": [
        "'/home/marcin\\n'"
       ]
      }
     ],
     "prompt_number": 40
    },
    {
     "cell_type": "code",
     "collapsed": false,
     "input": [
      "import subprocess\n",
      "import importlib\n",
      "\n",
      "counter=12"
     ],
     "language": "python",
     "metadata": {},
     "outputs": [],
     "prompt_number": 41
    },
    {
     "cell_type": "code",
     "collapsed": false,
     "input": [
      "def prepare_fortran_module(N=100):\n",
      "    \n",
      "    global counter\n",
      "    fortran_source = \"\"\"\n",
      "\n",
      "subroutine fortran_diff2d(u, v, dx2, dy2, c)\n",
      "real(8), intent(in) :: u({0}, {1})\n",
      "real(8), intent(inout) :: v({0}, {1})\n",
      "real(8), intent(in) :: dx2, dy2, c\n",
      "v(2:{0}-1,2:{1}-1) = u(2:{0}-1,2:{1}-1)+ c*( (u(3:,2:{1}-1)+u(:{0}-2,2:{1}-1))/dy2 + &\n",
      "        (u(2:{0}-1,3:) + u(2:{0}-1,:{1}-2))/dx2)\n",
      "end subroutine \n",
      "\n",
      "subroutine fortran_diff2d_a(u, dx2, dy2, c)\n",
      "real(8), intent(inout) :: u({0}, {1})\n",
      "real(8), intent(in) :: dx2, dy2, c\n",
      "u(2:{0}-1,2:{1}-1) = u(2:{0}-1,2:{1}-1)+ c*( (u(3:,2:{1}-1)+u(:{0}-2,2:{1}-1))/dy2 + &\n",
      "        (u(2:{0}-1,3:) + u(2:{0}-1,:{1}-2))/dx2)\n",
      "end subroutine \n",
      "\n",
      "\"\"\".format(N,N)\n",
      "\n",
      "    fp = open(\"myfile.f90\", \"w\")\n",
      "    fp.write(fortran_source)\n",
      "    fp.close()\n",
      "    counter=counter+1\n",
      "    try:\n",
      "        output = subprocess.check_output([\"f2py\", \"-c\",\"-m\", \"fortran_module%05d\"%counter, \"myfile.f90\"])\n",
      "        m = importlib.import_module(\"fortran_module%05d\"%counter)\n",
      "    except:\n",
      "        print \"problem z kompilacja!\"\n",
      "        return output    \n",
      "    \n",
      "    return m"
     ],
     "language": "python",
     "metadata": {},
     "outputs": [],
     "prompt_number": 42
    },
    {
     "cell_type": "code",
     "collapsed": false,
     "input": [
      "fortran_module = prepare_fortran_module(N=1000)\n"
     ],
     "language": "python",
     "metadata": {},
     "outputs": [],
     "prompt_number": 43
    },
    {
     "cell_type": "code",
     "collapsed": false,
     "input": [
      "fortran_diff2d, fortran_diff2d_a = fortran_module.fortran_diff2d, fortran_module.fortran_diff2d_a"
     ],
     "language": "python",
     "metadata": {},
     "outputs": [],
     "prompt_number": 44
    },
    {
     "cell_type": "code",
     "collapsed": false,
     "input": [
      "def calcF(N, Niter, func, dx2,dy2,c):\n",
      "    u = np.zeros([N, N],order='F')\n",
      "    v = np.zeros_like(u)\n",
      "    u[u.shape[0]/2,u.shape[1]/2] = 1.0/np.sqrt(dx2*dy2)\n",
      "    for i in range(Niter/2):\n",
      "        func(u,v,dx2,dy2,c)\n",
      "        func(v,u,dx2,dy2,c)\n",
      "    return u"
     ],
     "language": "python",
     "metadata": {},
     "outputs": [],
     "prompt_number": 45
    },
    {
     "cell_type": "markdown",
     "metadata": {},
     "source": [
      "teraz mo\u017cemy skompilowa\u0107 wielokrotnie ten sam kod i za\u0142adowa\u0107 modlu\u0142"
     ]
    },
    {
     "cell_type": "code",
     "collapsed": false,
     "input": [
      "N=1000\n",
      "\n",
      "fortran_module = prepare_fortran_module(N=N)\n",
      "fortran_diff2d, fortran_diff2d_a = fortran_module.fortran_diff2d, fortran_module.fortran_diff2d_a\n",
      "\n",
      "u=calcF(N,1225,fortran_diff2d,dx2,dy2,c)\n",
      "imshow(u)"
     ],
     "language": "python",
     "metadata": {},
     "outputs": [
      {
       "metadata": {},
       "output_type": "pyout",
       "prompt_number": 46,
       "text": [
        "<matplotlib.image.AxesImage at 0x57c24d0>"
       ]
      },
      {
       "metadata": {},
       "output_type": "display_data",
       "png": "[encoded data removed]",
       "text": [
        "<matplotlib.figure.Figure at 0x5598cd0>"
       ]
      }
     ],
     "prompt_number": 46
    },
    {
     "cell_type": "code",
     "collapsed": false,
     "input": [
      "def calcF_a(N, Niter, func, dx2,dy2,c):\n",
      "    u = np.zeros([N, N],order='F')\n",
      "    v = np.zeros_like(u)\n",
      "    u[u.shape[0]/2,u.shape[1]/2] = 1.0/np.sqrt(dx2*dy2)\n",
      "    for i in range(Niter):\n",
      "        func(u,dx2,dy2,c)\n",
      "    return u"
     ],
     "language": "python",
     "metadata": {},
     "outputs": [],
     "prompt_number": 47
    },
    {
     "cell_type": "code",
     "collapsed": false,
     "input": [
      "u=calcF_a(1000,1225,fortran_diff2d_a,dx2,dy2,c)\n",
      "imshow(u)"
     ],
     "language": "python",
     "metadata": {},
     "outputs": [
      {
       "metadata": {},
       "output_type": "pyout",
       "prompt_number": 48,
       "text": [
        "<matplotlib.image.AxesImage at 0x57e8150>"
       ]
      },
      {
       "metadata": {},
       "output_type": "display_data",
       "png": "[encoded data removed]",
       "text": [
        "<matplotlib.figure.Figure at 0x55a3650>"
       ]
      }
     ],
     "prompt_number": 48
    },
    {
     "cell_type": "code",
     "collapsed": false,
     "input": [
      "%%time\n",
      "u=calc(1000,200,numpy_diff2d_a,dx2,dy2,c)"
     ],
     "language": "python",
     "metadata": {},
     "outputs": [
      {
       "output_type": "stream",
       "stream": "stdout",
       "text": [
        "CPU times: user 2.41 s, sys: 0 ns, total: 2.41 s\n",
        "Wall time: 2.41 s\n"
       ]
      }
     ],
     "prompt_number": 56
    },
    {
     "cell_type": "code",
     "collapsed": false,
     "input": [
      "%%time\n",
      "u=calc(1000,200,cython_diff2d,dx2,dy2,c)"
     ],
     "language": "python",
     "metadata": {},
     "outputs": [
      {
       "output_type": "stream",
       "stream": "stdout",
       "text": [
        "CPU times: user 1.13 s, sys: 0 ns, total: 1.13 s\n",
        "Wall time: 1.13 s\n"
       ]
      }
     ],
     "prompt_number": 50
    },
    {
     "cell_type": "code",
     "collapsed": false,
     "input": [
      "fortran_diff2d = prepare_fortran_module(N=1000).fortran_diff2d"
     ],
     "language": "python",
     "metadata": {},
     "outputs": [],
     "prompt_number": 51
    },
    {
     "cell_type": "code",
     "collapsed": false,
     "input": [
      "%%time\n",
      "u=calcF(1000,200,fortran_diff2d,dx2,dy2,c)"
     ],
     "language": "python",
     "metadata": {},
     "outputs": [
      {
       "output_type": "stream",
       "stream": "stdout",
       "text": [
        "CPU times: user 588 ms, sys: 0 ns, total: 588 ms\n",
        "Wall time: 585 ms\n"
       ]
      }
     ],
     "prompt_number": 52
    },
    {
     "cell_type": "code",
     "collapsed": false,
     "input": [
      "%%time\n",
      "u=calcF_a(1000,200,fortran_diff2d_a,dx2,dy2,c)\n"
     ],
     "language": "python",
     "metadata": {},
     "outputs": [
      {
       "output_type": "stream",
       "stream": "stdout",
       "text": [
        "CPU times: user 780 ms, sys: 0 ns, total: 780 ms\n",
        "Wall time: 782 ms\n"
       ]
      }
     ],
     "prompt_number": 53
    },
    {
     "cell_type": "code",
     "collapsed": false,
     "input": [],
     "language": "python",
     "metadata": {},
     "outputs": [],
     "prompt_number": 53
    }
   ],
   "metadata": {}
  }
 ]
}