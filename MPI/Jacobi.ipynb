{
 "cells": [
  {
   "cell_type": "code",
   "execution_count": 1,
   "metadata": {
    "collapsed": false
   },
   "outputs": [
    {
     "name": "stdout",
     "output_type": "stream",
     "text": [
      "[0, 1, 2, 3, 4, 5]\n"
     ]
    }
   ],
   "source": [
    "import ipyparallel as ipp\n",
    "c = ipp.Client(profile='mpi')\n",
    "print(c.ids)\n",
    "view = c[:]\n",
    "view.activate()"
   ]
  },
  {
   "cell_type": "code",
   "execution_count": 2,
   "metadata": {
    "collapsed": false
   },
   "outputs": [
    {
     "name": "stdout",
     "output_type": "stream",
     "text": [
      "[stdout:0] OK\n",
      "[stdout:1] OK\n",
      "[stdout:2] OK\n",
      "[stdout:3] OK\n",
      "[stdout:4] OK\n",
      "[stdout:5] OK\n"
     ]
    }
   ],
   "source": [
    "%%px --block \n",
    "from mpi4py import MPI\n",
    "try:\n",
    "    import numpy\n",
    "except ImportError:\n",
    "    raise SystemExit\n",
    "\n",
    "# --------------------------------------------------------------------\n",
    "\n",
    "n = 5 * MPI.COMM_WORLD.Get_size()\n",
    "\n",
    "# compute number of processes and myrank\n",
    "p = MPI.COMM_WORLD.Get_size()\n",
    "myrank = MPI.COMM_WORLD.Get_rank()\n",
    "\n",
    "# compute size of local block\n",
    "m = n//p\n",
    "if myrank < (n - p * m):\n",
    "    m = m + 1\n",
    "\n",
    "#compute neighbors\n",
    "if myrank == 0:\n",
    "    left = MPI.PROC_NULL\n",
    "else:\n",
    "    left = myrank - 1\n",
    "if myrank == p - 1:\n",
    "    right = MPI.PROC_NULL\n",
    "else:\n",
    "    right = myrank + 1\n",
    "\n",
    "# allocate local arrays\n",
    "A = numpy.empty((n+2, m+2), dtype='d', order='F')\n",
    "B = numpy.empty((n, m),     dtype='d', order='F')\n",
    "\n",
    "A.fill(1)\n",
    "A[0, :] = A[-1, :] = 0\n",
    "A[:, 0] = A[:, -1] = 0\n",
    "\n",
    "# main loop\n",
    "converged = False\n",
    "#while not converged:\n",
    "for i in range(10):\n",
    "    # compute,  B = 0.25 * ( N + S + E + W)\n",
    "    N, S = A[:-2, 1:-1], A[2:, 1:-1]\n",
    "    E, W = A[1:-1, :-2], A[1:-1, 2:]\n",
    "    numpy.add(N, S, B)\n",
    "    numpy.add(E, B, B)\n",
    "    numpy.add(W, B, B)\n",
    "    B *= 0.25\n",
    "    A[1:-1, 1:-1] = B\n",
    "    # communicate\n",
    "    tag = 0\n",
    "    MPI.COMM_WORLD.Sendrecv([B[:, -1], MPI.DOUBLE], right, tag,\n",
    "                            [A[:,  0], MPI.DOUBLE], left,  tag)\n",
    "    MPI.COMM_WORLD.Sendrecv((B[:,  0], MPI.DOUBLE), left,  tag,\n",
    "                            (A[:, -1], MPI.DOUBLE), right, tag)\n",
    "    # convergence\n",
    "    myconv = numpy.allclose(B, 0)\n",
    "    loc_conv = numpy.asarray(myconv, dtype='i')\n",
    "    glb_conv = numpy.asarray(0, dtype='i')\n",
    "    MPI.COMM_WORLD.Allreduce([loc_conv, MPI.INT],\n",
    "                             [glb_conv, MPI.INT],\n",
    "                             op=MPI.LAND)\n",
    "    converged = bool(glb_conv)\n",
    "print(\"OK\")"
   ]
  },
  {
   "cell_type": "code",
   "execution_count": 6,
   "metadata": {
    "collapsed": false
   },
   "outputs": [
    {
     "data": {
      "text/plain": [
       "array([[ 0.4308033 ,  0.        ,  0.        ,  0.        ,  0.        ,\n",
       "         0.        ,  0.4308033 ],\n",
       "       [ 0.66515636,  0.4308033 ,  0.34909916,  0.33295631,  0.34909916,\n",
       "         0.4308033 ,  0.66515636],\n",
       "       [ 0.79619503,  0.66515636,  0.60678768,  0.58583832,  0.60678768,\n",
       "         0.66515636,  0.79619503],\n",
       "       [ 0.8567028 ,  0.79619503,  0.76002121,  0.75399208,  0.76002121,\n",
       "         0.79619503,  0.8567028 ],\n",
       "       [ 0.88446808,  0.8567028 ,  0.84567165,  0.84032059,  0.84567165,\n",
       "         0.8567028 ,  0.88446808],\n",
       "       [ 0.89346218,  0.88446808,  0.88132858,  0.88274765,  0.88132858,\n",
       "         0.88446808,  0.89346218],\n",
       "       [ 0.89640236,  0.89346218,  0.89592743,  0.8973608 ,  0.89592743,\n",
       "         0.89346218,  0.89640236],\n",
       "       [ 0.89698792,  0.89640236,  0.89987755,  0.9023056 ,  0.89987755,\n",
       "         0.89640236,  0.89698792],\n",
       "       [ 0.89710331,  0.89698792,  0.90092373,  0.90334511,  0.90092373,\n",
       "         0.89698792,  0.89710331],\n",
       "       [ 0.8971138 ,  0.89710331,  0.90108109,  0.90354538,  0.90108109,\n",
       "         0.89710331,  0.8971138 ],\n",
       "       [ 0.89711475,  0.8971138 ,  0.90110111,  0.90356541,  0.90110111,\n",
       "         0.8971138 ,  0.89711475],\n",
       "       [ 0.89711475,  0.89711475,  0.90110207,  0.90356636,  0.90110207,\n",
       "         0.89711475,  0.89711475],\n",
       "       [ 0.89711475,  0.89711475,  0.90110207,  0.90356636,  0.90110207,\n",
       "         0.89711475,  0.89711475],\n",
       "       [ 0.89711475,  0.89711475,  0.90110207,  0.90356636,  0.90110207,\n",
       "         0.89711475,  0.89711475],\n",
       "       [ 0.89711475,  0.89711475,  0.90110207,  0.90356636,  0.90110207,\n",
       "         0.89711475,  0.89711475],\n",
       "       [ 0.89711475,  0.89711475,  0.90110207,  0.90356636,  0.90110207,\n",
       "         0.89711475,  0.89711475],\n",
       "       [ 0.89711475,  0.89711475,  0.90110207,  0.90356636,  0.90110207,\n",
       "         0.89711475,  0.89711475],\n",
       "       [ 0.89711475,  0.89711475,  0.90110207,  0.90356636,  0.90110207,\n",
       "         0.89711475,  0.89711475],\n",
       "       [ 0.89711475,  0.89711475,  0.90110207,  0.90356636,  0.90110207,\n",
       "         0.89711475,  0.89711475],\n",
       "       [ 0.89711475,  0.89711475,  0.90110207,  0.90356636,  0.90110207,\n",
       "         0.89711475,  0.89711475],\n",
       "       [ 0.89662647,  0.89711475,  0.90110207,  0.90356636,  0.90110207,\n",
       "         0.89711475,  0.89662647],\n",
       "       [ 0.89516258,  0.89662647,  0.90110111,  0.90356541,  0.90110111,\n",
       "         0.89662647,  0.89516258],\n",
       "       [ 0.88882637,  0.89516258,  0.90060234,  0.90354538,  0.90060234,\n",
       "         0.89516258,  0.88882637],\n",
       "       [ 0.87429333,  0.88882637,  0.89904308,  0.90245628,  0.89904308,\n",
       "         0.88882637,  0.87429333],\n",
       "       [ 0.83873463,  0.87429333,  0.89187813,  0.89891052,  0.89187813,\n",
       "         0.87429333,  0.83873463],\n",
       "       [ 0.77518272,  0.83873463,  0.87468719,  0.88465405,  0.87468719,\n",
       "         0.83873463,  0.77518272],\n",
       "       [ 0.66700363,  0.77518272,  0.83161068,  0.85178757,  0.83161068,\n",
       "         0.77518272,  0.66700363],\n",
       "       [ 0.51828098,  0.66700363,  0.75326061,  0.77874184,  0.75326061,\n",
       "         0.66700363,  0.51828098],\n",
       "       [ 0.33533573,  0.51828098,  0.62118053,  0.65669823,  0.62118053,\n",
       "         0.51828098,  0.33533573],\n",
       "       [ 0.15079021,  0.33533573,  0.44155121,  0.4740448 ,  0.44155121,\n",
       "         0.33533573,  0.15079021],\n",
       "       [ 0.        ,  0.15079021,  0.22486877,  0.24841309,  0.22486877,\n",
       "         0.15079021,  0.        ],\n",
       "       [ 0.        ,  0.        ,  0.        ,  0.        ,  0.        ,\n",
       "         0.        ,  0.        ]])"
      ]
     },
     "execution_count": 6,
     "metadata": {},
     "output_type": "execute_result"
    }
   ],
   "source": [
    "view['A'][3]"
   ]
  },
  {
   "cell_type": "code",
   "execution_count": 5,
   "metadata": {
    "collapsed": false
   },
   "outputs": [
    {
     "data": {
      "text/plain": [
       "array(0, dtype=int32)"
      ]
     },
     "execution_count": 5,
     "metadata": {},
     "output_type": "execute_result"
    }
   ],
   "source": [
    "view['glb_conv'][3]"
   ]
  },
  {
   "cell_type": "code",
   "execution_count": null,
   "metadata": {
    "collapsed": true
   },
   "outputs": [],
   "source": []
  }
 ],
 "metadata": {
  "kernelspec": {
   "display_name": "Python 3",
   "language": "python",
   "name": "python3"
  },
  "language_info": {
   "codemirror_mode": {
    "name": "ipython",
    "version": 3
   },
   "file_extension": ".py",
   "mimetype": "text/x-python",
   "name": "python",
   "nbconvert_exporter": "python",
   "pygments_lexer": "ipython3",
   "version": "3.5.2"
  }
 },
 "nbformat": 4,
 "nbformat_minor": 1
}
